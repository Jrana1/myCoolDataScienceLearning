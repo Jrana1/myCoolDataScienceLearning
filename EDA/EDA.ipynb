{
 "cells": [
  {
   "cell_type": "markdown",
   "id": "4ea0a581",
   "metadata": {},
   "source": [
    "# EDA \n",
    "Stands for Exploratory Data Analysis. This is the Preliminary step in data analysis to:\n",
    "+ Summarize main characteristics of the data.\n",
    "+ Gain better understanding of the data set.\n",
    "+ Uncover relationship between variables.\n",
    "+ Extract important variables\n"
   ]
  },
  {
   "cell_type": "markdown",
   "id": "5e0189d8",
   "metadata": {},
   "source": [
    "In this module we will try to answer **what are the characteristics that have the most impact on the car price(auto.csv)?** <br/>\n",
    "# Learning Objectives\n",
    "+ Descriptive Statistics\n",
    "+ GroupBy\n",
    "+ ANOVA(analysis of variance)\n",
    "+ Correlation\n",
    "+ Correlation-Statistics"
   ]
  },
  {
   "cell_type": "markdown",
   "id": "6868a158",
   "metadata": {},
   "source": [
    "# Descriptive Statistics\n",
    " + describe the basic feature of data.\n",
    " + Giving short summariies about the sample and measures of the data.\n",
    " "
   ]
  },
  {
   "cell_type": "markdown",
   "id": "d82d3c91",
   "metadata": {},
   "source": [
    "Easiest way to do this is by using pandas <code>describe()</code> method. It measures  some basic statistics for numerical variables. NaN values will be autometically ingnored.<code>value_counts()</code> method is used to summarize the categorical variables."
   ]
  },
  {
   "cell_type": "markdown",
   "id": "191e421d",
   "metadata": {},
   "source": [
    "# Boxplot\n",
    "This is a great way to visualize numeric data. It can visualzes various distribution of the data.\n",
    "![](https://www.researchgate.net/publication/303779929/figure/fig6/AS:372438601879567@1465807690659/The-main-components-of-a-boxplot-median-quartiles-whiskers-fences-and-outliers.png)"
   ]
  },
  {
   "cell_type": "markdown",
   "id": "16edf3ed",
   "metadata": {},
   "source": [
    "# Scatter Plot\n",
    "To see contiuous variables in our data we can use **ScatterPlot**. These data points are numbers contained in some range.\n",
    "![](https://www.learnbyexample.org/wp-content/uploads/r/typical-scatter-plot.png)"
   ]
  },
  {
   "cell_type": "markdown",
   "id": "fabea48b",
   "metadata": {},
   "source": [
    "# Grouping data\n",
    "+ Use Pandas <code>groupby()</code> methods.\n",
    "+ Group data into categories.\n",
    "+ Single or multiple variables."
   ]
  },
  {
   "cell_type": "markdown",
   "id": "3d369ee1",
   "metadata": {},
   "source": [
    "## Example"
   ]
  },
  {
   "cell_type": "code",
   "execution_count": 1,
   "id": "ff561fd1",
   "metadata": {},
   "outputs": [],
   "source": [
    "import pandas as pd"
   ]
  },
  {
   "cell_type": "code",
   "execution_count": 2,
   "id": "5756c022",
   "metadata": {},
   "outputs": [],
   "source": [
    "df = pd.DataFrame({'Animal':[\"Falcon\",\"Falcon\",\"Parrot\",\"Parrot\"],\"speed\":[380,370,24,26]})"
   ]
  },
  {
   "cell_type": "code",
   "execution_count": 3,
   "id": "1309f089",
   "metadata": {
    "scrolled": true
   },
   "outputs": [
    {
     "data": {
      "text/html": [
       "<div>\n",
       "<style scoped>\n",
       "    .dataframe tbody tr th:only-of-type {\n",
       "        vertical-align: middle;\n",
       "    }\n",
       "\n",
       "    .dataframe tbody tr th {\n",
       "        vertical-align: top;\n",
       "    }\n",
       "\n",
       "    .dataframe thead th {\n",
       "        text-align: right;\n",
       "    }\n",
       "</style>\n",
       "<table border=\"1\" class=\"dataframe\">\n",
       "  <thead>\n",
       "    <tr style=\"text-align: right;\">\n",
       "      <th></th>\n",
       "      <th>Animal</th>\n",
       "      <th>speed</th>\n",
       "    </tr>\n",
       "  </thead>\n",
       "  <tbody>\n",
       "    <tr>\n",
       "      <th>0</th>\n",
       "      <td>Falcon</td>\n",
       "      <td>380</td>\n",
       "    </tr>\n",
       "    <tr>\n",
       "      <th>1</th>\n",
       "      <td>Falcon</td>\n",
       "      <td>370</td>\n",
       "    </tr>\n",
       "    <tr>\n",
       "      <th>2</th>\n",
       "      <td>Parrot</td>\n",
       "      <td>24</td>\n",
       "    </tr>\n",
       "    <tr>\n",
       "      <th>3</th>\n",
       "      <td>Parrot</td>\n",
       "      <td>26</td>\n",
       "    </tr>\n",
       "  </tbody>\n",
       "</table>\n",
       "</div>"
      ],
      "text/plain": [
       "   Animal  speed\n",
       "0  Falcon    380\n",
       "1  Falcon    370\n",
       "2  Parrot     24\n",
       "3  Parrot     26"
      ]
     },
     "execution_count": 3,
     "metadata": {},
     "output_type": "execute_result"
    }
   ],
   "source": [
    "df"
   ]
  },
  {
   "cell_type": "code",
   "execution_count": 5,
   "id": "27a9f84f",
   "metadata": {
    "scrolled": true
   },
   "outputs": [
    {
     "data": {
      "text/html": [
       "<div>\n",
       "<style scoped>\n",
       "    .dataframe tbody tr th:only-of-type {\n",
       "        vertical-align: middle;\n",
       "    }\n",
       "\n",
       "    .dataframe tbody tr th {\n",
       "        vertical-align: top;\n",
       "    }\n",
       "\n",
       "    .dataframe thead th {\n",
       "        text-align: right;\n",
       "    }\n",
       "</style>\n",
       "<table border=\"1\" class=\"dataframe\">\n",
       "  <thead>\n",
       "    <tr style=\"text-align: right;\">\n",
       "      <th></th>\n",
       "      <th>speed</th>\n",
       "    </tr>\n",
       "    <tr>\n",
       "      <th>Animal</th>\n",
       "      <th></th>\n",
       "    </tr>\n",
       "  </thead>\n",
       "  <tbody>\n",
       "    <tr>\n",
       "      <th>Falcon</th>\n",
       "      <td>380</td>\n",
       "    </tr>\n",
       "    <tr>\n",
       "      <th>Parrot</th>\n",
       "      <td>26</td>\n",
       "    </tr>\n",
       "  </tbody>\n",
       "</table>\n",
       "</div>"
      ],
      "text/plain": [
       "        speed\n",
       "Animal       \n",
       "Falcon    380\n",
       "Parrot     26"
      ]
     },
     "execution_count": 5,
     "metadata": {},
     "output_type": "execute_result"
    }
   ],
   "source": [
    "df.groupby(['Animal']).max()"
   ]
  },
  {
   "cell_type": "markdown",
   "id": "8795b2c7",
   "metadata": {},
   "source": [
    "# Pivot table in pandas\n",
    "![](https://pandas.pydata.org/docs/_images/reshaping_pivot.png)"
   ]
  },
  {
   "cell_type": "code",
   "execution_count": 6,
   "id": "0a6a43da",
   "metadata": {},
   "outputs": [],
   "source": [
    "df = pd.DataFrame({\"A\": [\"foo\", \"foo\", \"foo\", \"foo\", \"foo\",\n",
    "\n",
    "                         \"bar\", \"bar\", \"bar\", \"bar\"],\n",
    "\n",
    "                   \"B\": [\"one\", \"one\", \"one\", \"two\", \"two\",\n",
    "\n",
    "                         \"one\", \"one\", \"two\", \"two\"],\n",
    "\n",
    "                   \"C\": [\"small\", \"large\", \"large\", \"small\",\n",
    "\n",
    "                         \"small\", \"large\", \"small\", \"small\",\n",
    "\n",
    "                         \"large\"],\n",
    "\n",
    "                   \"D\": [1, 2, 2, 3, 3, 4, 5, 6, 7],\n",
    "\n",
    "                   \"E\": [2, 4, 5, 5, 6, 6, 8, 9, 9]})"
   ]
  },
  {
   "cell_type": "code",
   "execution_count": 7,
   "id": "d78ab092",
   "metadata": {
    "scrolled": true
   },
   "outputs": [
    {
     "data": {
      "text/html": [
       "<div>\n",
       "<style scoped>\n",
       "    .dataframe tbody tr th:only-of-type {\n",
       "        vertical-align: middle;\n",
       "    }\n",
       "\n",
       "    .dataframe tbody tr th {\n",
       "        vertical-align: top;\n",
       "    }\n",
       "\n",
       "    .dataframe thead th {\n",
       "        text-align: right;\n",
       "    }\n",
       "</style>\n",
       "<table border=\"1\" class=\"dataframe\">\n",
       "  <thead>\n",
       "    <tr style=\"text-align: right;\">\n",
       "      <th></th>\n",
       "      <th>A</th>\n",
       "      <th>B</th>\n",
       "      <th>C</th>\n",
       "      <th>D</th>\n",
       "      <th>E</th>\n",
       "    </tr>\n",
       "  </thead>\n",
       "  <tbody>\n",
       "    <tr>\n",
       "      <th>0</th>\n",
       "      <td>foo</td>\n",
       "      <td>one</td>\n",
       "      <td>small</td>\n",
       "      <td>1</td>\n",
       "      <td>2</td>\n",
       "    </tr>\n",
       "    <tr>\n",
       "      <th>1</th>\n",
       "      <td>foo</td>\n",
       "      <td>one</td>\n",
       "      <td>large</td>\n",
       "      <td>2</td>\n",
       "      <td>4</td>\n",
       "    </tr>\n",
       "    <tr>\n",
       "      <th>2</th>\n",
       "      <td>foo</td>\n",
       "      <td>one</td>\n",
       "      <td>large</td>\n",
       "      <td>2</td>\n",
       "      <td>5</td>\n",
       "    </tr>\n",
       "    <tr>\n",
       "      <th>3</th>\n",
       "      <td>foo</td>\n",
       "      <td>two</td>\n",
       "      <td>small</td>\n",
       "      <td>3</td>\n",
       "      <td>5</td>\n",
       "    </tr>\n",
       "    <tr>\n",
       "      <th>4</th>\n",
       "      <td>foo</td>\n",
       "      <td>two</td>\n",
       "      <td>small</td>\n",
       "      <td>3</td>\n",
       "      <td>6</td>\n",
       "    </tr>\n",
       "    <tr>\n",
       "      <th>5</th>\n",
       "      <td>bar</td>\n",
       "      <td>one</td>\n",
       "      <td>large</td>\n",
       "      <td>4</td>\n",
       "      <td>6</td>\n",
       "    </tr>\n",
       "    <tr>\n",
       "      <th>6</th>\n",
       "      <td>bar</td>\n",
       "      <td>one</td>\n",
       "      <td>small</td>\n",
       "      <td>5</td>\n",
       "      <td>8</td>\n",
       "    </tr>\n",
       "    <tr>\n",
       "      <th>7</th>\n",
       "      <td>bar</td>\n",
       "      <td>two</td>\n",
       "      <td>small</td>\n",
       "      <td>6</td>\n",
       "      <td>9</td>\n",
       "    </tr>\n",
       "    <tr>\n",
       "      <th>8</th>\n",
       "      <td>bar</td>\n",
       "      <td>two</td>\n",
       "      <td>large</td>\n",
       "      <td>7</td>\n",
       "      <td>9</td>\n",
       "    </tr>\n",
       "  </tbody>\n",
       "</table>\n",
       "</div>"
      ],
      "text/plain": [
       "     A    B      C  D  E\n",
       "0  foo  one  small  1  2\n",
       "1  foo  one  large  2  4\n",
       "2  foo  one  large  2  5\n",
       "3  foo  two  small  3  5\n",
       "4  foo  two  small  3  6\n",
       "5  bar  one  large  4  6\n",
       "6  bar  one  small  5  8\n",
       "7  bar  two  small  6  9\n",
       "8  bar  two  large  7  9"
      ]
     },
     "execution_count": 7,
     "metadata": {},
     "output_type": "execute_result"
    }
   ],
   "source": [
    "df"
   ]
  },
  {
   "cell_type": "markdown",
   "id": "6f9124d0",
   "metadata": {},
   "source": [
    "## Aggregates values by taking the sum."
   ]
  },
  {
   "cell_type": "code",
   "execution_count": 11,
   "id": "724e6a4b",
   "metadata": {},
   "outputs": [],
   "source": [
    "import numpy as np\n"
   ]
  },
  {
   "cell_type": "code",
   "execution_count": 24,
   "id": "5b76bd84",
   "metadata": {},
   "outputs": [
    {
     "data": {
      "text/html": [
       "<div>\n",
       "<style scoped>\n",
       "    .dataframe tbody tr th:only-of-type {\n",
       "        vertical-align: middle;\n",
       "    }\n",
       "\n",
       "    .dataframe tbody tr th {\n",
       "        vertical-align: top;\n",
       "    }\n",
       "\n",
       "    .dataframe thead th {\n",
       "        text-align: right;\n",
       "    }\n",
       "</style>\n",
       "<table border=\"1\" class=\"dataframe\">\n",
       "  <thead>\n",
       "    <tr style=\"text-align: right;\">\n",
       "      <th></th>\n",
       "      <th>C</th>\n",
       "      <th>large</th>\n",
       "      <th>small</th>\n",
       "    </tr>\n",
       "    <tr>\n",
       "      <th>A</th>\n",
       "      <th>B</th>\n",
       "      <th></th>\n",
       "      <th></th>\n",
       "    </tr>\n",
       "  </thead>\n",
       "  <tbody>\n",
       "    <tr>\n",
       "      <th rowspan=\"2\" valign=\"top\">bar</th>\n",
       "      <th>one</th>\n",
       "      <td>4</td>\n",
       "      <td>5</td>\n",
       "    </tr>\n",
       "    <tr>\n",
       "      <th>two</th>\n",
       "      <td>7</td>\n",
       "      <td>6</td>\n",
       "    </tr>\n",
       "    <tr>\n",
       "      <th rowspan=\"2\" valign=\"top\">foo</th>\n",
       "      <th>one</th>\n",
       "      <td>4</td>\n",
       "      <td>1</td>\n",
       "    </tr>\n",
       "    <tr>\n",
       "      <th>two</th>\n",
       "      <td>0</td>\n",
       "      <td>6</td>\n",
       "    </tr>\n",
       "  </tbody>\n",
       "</table>\n",
       "</div>"
      ],
      "text/plain": [
       "C        large  small\n",
       "A   B                \n",
       "bar one      4      5\n",
       "    two      7      6\n",
       "foo one      4      1\n",
       "    two      0      6"
      ]
     },
     "execution_count": 24,
     "metadata": {},
     "output_type": "execute_result"
    }
   ],
   "source": [
    "table = pd.pivot_table(df, values='D', index=['A','B'],\n",
    "\n",
    "                       columns=['C'], aggfunc=np.sum,fill_value=0)\n",
    "table"
   ]
  },
  {
   "cell_type": "markdown",
   "id": "d2882b86",
   "metadata": {},
   "source": [
    "   ## we can also fill missing values using <code>fill_value</code> argument.\n",
    "   It is also possible to calculate **multiple types of aggregation** for any given value column."
   ]
  },
  {
   "cell_type": "code",
   "execution_count": 26,
   "id": "bc3292a9",
   "metadata": {
    "scrolled": true
   },
   "outputs": [
    {
     "data": {
      "text/html": [
       "<div>\n",
       "<style scoped>\n",
       "    .dataframe tbody tr th:only-of-type {\n",
       "        vertical-align: middle;\n",
       "    }\n",
       "\n",
       "    .dataframe tbody tr th {\n",
       "        vertical-align: top;\n",
       "    }\n",
       "\n",
       "    .dataframe thead th {\n",
       "        text-align: right;\n",
       "    }\n",
       "</style>\n",
       "<table border=\"1\" class=\"dataframe\">\n",
       "  <thead>\n",
       "    <tr style=\"text-align: right;\">\n",
       "      <th></th>\n",
       "      <th></th>\n",
       "      <th>D</th>\n",
       "      <th>E</th>\n",
       "    </tr>\n",
       "    <tr>\n",
       "      <th>C</th>\n",
       "      <th>A</th>\n",
       "      <th></th>\n",
       "      <th></th>\n",
       "    </tr>\n",
       "  </thead>\n",
       "  <tbody>\n",
       "    <tr>\n",
       "      <th rowspan=\"2\" valign=\"top\">large</th>\n",
       "      <th>bar</th>\n",
       "      <td>5.500000</td>\n",
       "      <td>15</td>\n",
       "    </tr>\n",
       "    <tr>\n",
       "      <th>foo</th>\n",
       "      <td>2.000000</td>\n",
       "      <td>9</td>\n",
       "    </tr>\n",
       "    <tr>\n",
       "      <th rowspan=\"2\" valign=\"top\">small</th>\n",
       "      <th>bar</th>\n",
       "      <td>5.500000</td>\n",
       "      <td>17</td>\n",
       "    </tr>\n",
       "    <tr>\n",
       "      <th>foo</th>\n",
       "      <td>2.333333</td>\n",
       "      <td>13</td>\n",
       "    </tr>\n",
       "  </tbody>\n",
       "</table>\n",
       "</div>"
      ],
      "text/plain": [
       "                  D   E\n",
       "C     A                \n",
       "large bar  5.500000  15\n",
       "      foo  2.000000   9\n",
       "small bar  5.500000  17\n",
       "      foo  2.333333  13"
      ]
     },
     "execution_count": 26,
     "metadata": {},
     "output_type": "execute_result"
    }
   ],
   "source": [
    "table = pd.pivot_table(df, values=['D','E'],index=['C','A'],aggfunc={'D':np.mean,'E':np.sum})\n",
    "table"
   ]
  },
  {
   "cell_type": "code",
   "execution_count": 27,
   "id": "3e71aa1e",
   "metadata": {
    "scrolled": true
   },
   "outputs": [
    {
     "data": {
      "text/html": [
       "<div>\n",
       "<style scoped>\n",
       "    .dataframe tbody tr th:only-of-type {\n",
       "        vertical-align: middle;\n",
       "    }\n",
       "\n",
       "    .dataframe tbody tr th {\n",
       "        vertical-align: top;\n",
       "    }\n",
       "\n",
       "    .dataframe thead tr th {\n",
       "        text-align: left;\n",
       "    }\n",
       "\n",
       "    .dataframe thead tr:last-of-type th {\n",
       "        text-align: right;\n",
       "    }\n",
       "</style>\n",
       "<table border=\"1\" class=\"dataframe\">\n",
       "  <thead>\n",
       "    <tr>\n",
       "      <th></th>\n",
       "      <th></th>\n",
       "      <th>D</th>\n",
       "      <th colspan=\"3\" halign=\"left\">E</th>\n",
       "    </tr>\n",
       "    <tr>\n",
       "      <th></th>\n",
       "      <th></th>\n",
       "      <th>mean</th>\n",
       "      <th>max</th>\n",
       "      <th>mean</th>\n",
       "      <th>min</th>\n",
       "    </tr>\n",
       "    <tr>\n",
       "      <th>A</th>\n",
       "      <th>C</th>\n",
       "      <th></th>\n",
       "      <th></th>\n",
       "      <th></th>\n",
       "      <th></th>\n",
       "    </tr>\n",
       "  </thead>\n",
       "  <tbody>\n",
       "    <tr>\n",
       "      <th rowspan=\"2\" valign=\"top\">bar</th>\n",
       "      <th>large</th>\n",
       "      <td>5.500000</td>\n",
       "      <td>9</td>\n",
       "      <td>7.500000</td>\n",
       "      <td>6</td>\n",
       "    </tr>\n",
       "    <tr>\n",
       "      <th>small</th>\n",
       "      <td>5.500000</td>\n",
       "      <td>9</td>\n",
       "      <td>8.500000</td>\n",
       "      <td>8</td>\n",
       "    </tr>\n",
       "    <tr>\n",
       "      <th rowspan=\"2\" valign=\"top\">foo</th>\n",
       "      <th>large</th>\n",
       "      <td>2.000000</td>\n",
       "      <td>5</td>\n",
       "      <td>4.500000</td>\n",
       "      <td>4</td>\n",
       "    </tr>\n",
       "    <tr>\n",
       "      <th>small</th>\n",
       "      <td>2.333333</td>\n",
       "      <td>6</td>\n",
       "      <td>4.333333</td>\n",
       "      <td>2</td>\n",
       "    </tr>\n",
       "  </tbody>\n",
       "</table>\n",
       "</div>"
      ],
      "text/plain": [
       "                  D   E              \n",
       "               mean max      mean min\n",
       "A   C                                \n",
       "bar large  5.500000   9  7.500000   6\n",
       "    small  5.500000   9  8.500000   8\n",
       "foo large  2.000000   5  4.500000   4\n",
       "    small  2.333333   6  4.333333   2"
      ]
     },
     "execution_count": 27,
     "metadata": {},
     "output_type": "execute_result"
    }
   ],
   "source": [
    "table = pd.pivot_table(df, values = ['D','E'],index = ['A','C'],aggfunc={'D':np.mean,'E':[min,max,np.mean]})\n",
    "table"
   ]
  },
  {
   "cell_type": "markdown",
   "id": "205690b8",
   "metadata": {},
   "source": [
    "# Heatmaps\n",
    "Heatmap takes a rectangular grid of data and assigns a color to the grid points. It is a great way to plot target variable over multiple variables and through this get visual clues of the relationship between these variables and the target."
   ]
  },
  {
   "cell_type": "code",
   "execution_count": 28,
   "id": "98e28c3f",
   "metadata": {},
   "outputs": [
    {
     "data": {
      "text/html": [
       "<div>\n",
       "<style scoped>\n",
       "    .dataframe tbody tr th:only-of-type {\n",
       "        vertical-align: middle;\n",
       "    }\n",
       "\n",
       "    .dataframe tbody tr th {\n",
       "        vertical-align: top;\n",
       "    }\n",
       "\n",
       "    .dataframe thead th {\n",
       "        text-align: right;\n",
       "    }\n",
       "</style>\n",
       "<table border=\"1\" class=\"dataframe\">\n",
       "  <thead>\n",
       "    <tr style=\"text-align: right;\">\n",
       "      <th></th>\n",
       "      <th>Model</th>\n",
       "      <th>Year</th>\n",
       "      <th>Encoder</th>\n",
       "      <th>Task</th>\n",
       "      <th>Score</th>\n",
       "    </tr>\n",
       "  </thead>\n",
       "  <tbody>\n",
       "    <tr>\n",
       "      <th>0</th>\n",
       "      <td>ERNIE</td>\n",
       "      <td>2019</td>\n",
       "      <td>Transformer</td>\n",
       "      <td>CoLA</td>\n",
       "      <td>75.5</td>\n",
       "    </tr>\n",
       "    <tr>\n",
       "      <th>1</th>\n",
       "      <td>T5</td>\n",
       "      <td>2019</td>\n",
       "      <td>Transformer</td>\n",
       "      <td>CoLA</td>\n",
       "      <td>71.6</td>\n",
       "    </tr>\n",
       "    <tr>\n",
       "      <th>2</th>\n",
       "      <td>RoBERTa</td>\n",
       "      <td>2019</td>\n",
       "      <td>Transformer</td>\n",
       "      <td>CoLA</td>\n",
       "      <td>67.8</td>\n",
       "    </tr>\n",
       "    <tr>\n",
       "      <th>3</th>\n",
       "      <td>BERT</td>\n",
       "      <td>2018</td>\n",
       "      <td>Transformer</td>\n",
       "      <td>CoLA</td>\n",
       "      <td>60.5</td>\n",
       "    </tr>\n",
       "    <tr>\n",
       "      <th>4</th>\n",
       "      <td>BiLSTM+ELMo</td>\n",
       "      <td>2018</td>\n",
       "      <td>LSTM</td>\n",
       "      <td>CoLA</td>\n",
       "      <td>32.1</td>\n",
       "    </tr>\n",
       "  </tbody>\n",
       "</table>\n",
       "</div>"
      ],
      "text/plain": [
       "         Model  Year      Encoder  Task  Score\n",
       "0        ERNIE  2019  Transformer  CoLA   75.5\n",
       "1           T5  2019  Transformer  CoLA   71.6\n",
       "2      RoBERTa  2019  Transformer  CoLA   67.8\n",
       "3         BERT  2018  Transformer  CoLA   60.5\n",
       "4  BiLSTM+ELMo  2018         LSTM  CoLA   32.1"
      ]
     },
     "execution_count": 28,
     "metadata": {},
     "output_type": "execute_result"
    }
   ],
   "source": [
    "import seaborn as sns\n",
    "%matplotlib inline\n",
    "glue = sns.load_dataset('glue')\n",
    "glue.head()"
   ]
  },
  {
   "cell_type": "code",
   "execution_count": 31,
   "id": "2b74ac4e",
   "metadata": {
    "scrolled": true
   },
   "outputs": [
    {
     "data": {
      "text/html": [
       "<div>\n",
       "<style scoped>\n",
       "    .dataframe tbody tr th:only-of-type {\n",
       "        vertical-align: middle;\n",
       "    }\n",
       "\n",
       "    .dataframe tbody tr th {\n",
       "        vertical-align: top;\n",
       "    }\n",
       "\n",
       "    .dataframe thead th {\n",
       "        text-align: right;\n",
       "    }\n",
       "</style>\n",
       "<table border=\"1\" class=\"dataframe\">\n",
       "  <thead>\n",
       "    <tr style=\"text-align: right;\">\n",
       "      <th>Task</th>\n",
       "      <th>CoLA</th>\n",
       "      <th>MNLI</th>\n",
       "      <th>MRPC</th>\n",
       "      <th>QNLI</th>\n",
       "      <th>QQP</th>\n",
       "      <th>RTE</th>\n",
       "      <th>SST-2</th>\n",
       "      <th>STS-B</th>\n",
       "    </tr>\n",
       "    <tr>\n",
       "      <th>Model</th>\n",
       "      <th></th>\n",
       "      <th></th>\n",
       "      <th></th>\n",
       "      <th></th>\n",
       "      <th></th>\n",
       "      <th></th>\n",
       "      <th></th>\n",
       "      <th></th>\n",
       "    </tr>\n",
       "  </thead>\n",
       "  <tbody>\n",
       "    <tr>\n",
       "      <th>BERT</th>\n",
       "      <td>60.5</td>\n",
       "      <td>86.7</td>\n",
       "      <td>89.3</td>\n",
       "      <td>92.7</td>\n",
       "      <td>72.1</td>\n",
       "      <td>70.1</td>\n",
       "      <td>94.9</td>\n",
       "      <td>87.6</td>\n",
       "    </tr>\n",
       "    <tr>\n",
       "      <th>BiLSTM</th>\n",
       "      <td>11.6</td>\n",
       "      <td>65.6</td>\n",
       "      <td>81.8</td>\n",
       "      <td>74.6</td>\n",
       "      <td>62.5</td>\n",
       "      <td>57.4</td>\n",
       "      <td>82.8</td>\n",
       "      <td>70.3</td>\n",
       "    </tr>\n",
       "    <tr>\n",
       "      <th>BiLSTM+Attn</th>\n",
       "      <td>18.6</td>\n",
       "      <td>67.6</td>\n",
       "      <td>83.9</td>\n",
       "      <td>74.3</td>\n",
       "      <td>60.1</td>\n",
       "      <td>58.4</td>\n",
       "      <td>83.0</td>\n",
       "      <td>72.8</td>\n",
       "    </tr>\n",
       "    <tr>\n",
       "      <th>BiLSTM+CoVe</th>\n",
       "      <td>18.5</td>\n",
       "      <td>65.4</td>\n",
       "      <td>78.7</td>\n",
       "      <td>70.8</td>\n",
       "      <td>60.6</td>\n",
       "      <td>52.7</td>\n",
       "      <td>81.9</td>\n",
       "      <td>64.4</td>\n",
       "    </tr>\n",
       "    <tr>\n",
       "      <th>BiLSTM+ELMo</th>\n",
       "      <td>32.1</td>\n",
       "      <td>67.2</td>\n",
       "      <td>84.7</td>\n",
       "      <td>75.5</td>\n",
       "      <td>61.1</td>\n",
       "      <td>57.4</td>\n",
       "      <td>89.3</td>\n",
       "      <td>70.3</td>\n",
       "    </tr>\n",
       "    <tr>\n",
       "      <th>ERNIE</th>\n",
       "      <td>75.5</td>\n",
       "      <td>92.3</td>\n",
       "      <td>93.9</td>\n",
       "      <td>97.3</td>\n",
       "      <td>75.2</td>\n",
       "      <td>92.6</td>\n",
       "      <td>97.8</td>\n",
       "      <td>93.0</td>\n",
       "    </tr>\n",
       "    <tr>\n",
       "      <th>RoBERTa</th>\n",
       "      <td>67.8</td>\n",
       "      <td>90.8</td>\n",
       "      <td>92.3</td>\n",
       "      <td>95.4</td>\n",
       "      <td>74.3</td>\n",
       "      <td>88.2</td>\n",
       "      <td>96.7</td>\n",
       "      <td>92.2</td>\n",
       "    </tr>\n",
       "    <tr>\n",
       "      <th>T5</th>\n",
       "      <td>71.6</td>\n",
       "      <td>92.2</td>\n",
       "      <td>92.8</td>\n",
       "      <td>96.9</td>\n",
       "      <td>75.1</td>\n",
       "      <td>92.8</td>\n",
       "      <td>97.5</td>\n",
       "      <td>93.1</td>\n",
       "    </tr>\n",
       "  </tbody>\n",
       "</table>\n",
       "</div>"
      ],
      "text/plain": [
       "Task         CoLA  MNLI  MRPC  QNLI   QQP   RTE  SST-2  STS-B\n",
       "Model                                                        \n",
       "BERT         60.5  86.7  89.3  92.7  72.1  70.1   94.9   87.6\n",
       "BiLSTM       11.6  65.6  81.8  74.6  62.5  57.4   82.8   70.3\n",
       "BiLSTM+Attn  18.6  67.6  83.9  74.3  60.1  58.4   83.0   72.8\n",
       "BiLSTM+CoVe  18.5  65.4  78.7  70.8  60.6  52.7   81.9   64.4\n",
       "BiLSTM+ELMo  32.1  67.2  84.7  75.5  61.1  57.4   89.3   70.3\n",
       "ERNIE        75.5  92.3  93.9  97.3  75.2  92.6   97.8   93.0\n",
       "RoBERTa      67.8  90.8  92.3  95.4  74.3  88.2   96.7   92.2\n",
       "T5           71.6  92.2  92.8  96.9  75.1  92.8   97.5   93.1"
      ]
     },
     "execution_count": 31,
     "metadata": {},
     "output_type": "execute_result"
    }
   ],
   "source": [
    "glue_pivot = glue.pivot(index='Model',columns='Task',values='Score')\n",
    "glue_pivot"
   ]
  },
  {
   "cell_type": "code",
   "execution_count": 32,
   "id": "3235004b",
   "metadata": {},
   "outputs": [
    {
     "data": {
      "text/plain": [
       "<AxesSubplot:xlabel='Task', ylabel='Model'>"
      ]
     },
     "execution_count": 32,
     "metadata": {},
     "output_type": "execute_result"
    },
    {
     "data": {
      "image/png": "[encoded data removed]",
      "text/plain": [
       "<Figure size 640x480 with 2 Axes>"
      ]
     },
     "metadata": {},
     "output_type": "display_data"
    }
   ],
   "source": [
    "sns.heatmap(glue_pivot)"
   ]
  },
  {
   "cell_type": "markdown",
   "id": "bf902803",
   "metadata": {},
   "source": [
    "<code>annot</code> argument works to represent cell values with text"
   ]
  },
  {
   "cell_type": "code",
   "execution_count": 33,
   "id": "91e5bab5",
   "metadata": {
    "scrolled": true
   },
   "outputs": [
    {
     "data": {
      "text/plain": [
       "<AxesSubplot:xlabel='Task', ylabel='Model'>"
      ]
     },
     "execution_count": 33,
     "metadata": {},
     "output_type": "execute_result"
    },
    {
     "data": {
      "image/png": "[encoded data removed]",
      "text/plain": [
       "<Figure size 640x480 with 2 Axes>"
      ]
     },
     "metadata": {},
     "output_type": "display_data"
    }
   ],
   "source": [
    "sns.heatmap(glue_pivot,annot=True)"
   ]
  },
  {
   "cell_type": "markdown",
   "id": "03d2a4d9",
   "metadata": {},
   "source": [
    "# Correlation\n",
    "it measures to what extent different variables are independent.<br/>\n",
    "For example\n",
    "  + Lung cancer -> Smoking\n",
    "  + Rain -> Umbrella\n",
    "**Correlation** does not imply causation.\n",
    "![](https://analystprep.com/cfa-level-1-exam/wp-content/uploads/2021/08/Img_23.png)"
   ]
  },
  {
   "cell_type": "markdown",
   "id": "b6002630",
   "metadata": {},
   "source": [
    "# Pearson Correlation\n",
    " + Measure the strength of the correlation between two features.\n",
    "    + Correlation coefficient.\n",
    "    + p-Value\n",
    " + Correlation Coefficient\n",
    "    + close to +1: Large Positive relation.\n",
    "    + close to -1: Large negative relation.\n",
    "    + close to 0: no relationship.\n",
    " + P-Value\n",
    "     + p<0.0001 Strong\n",
    "     + p<0.05 Moderate\n",
    "     + p<01 weak\n",
    "     + p>0.1 no certainty\n",
    " + Strong Correlation\n",
    "     + correlation coefficient from 1 to -1\n",
    "     + p value less then 0.001 <br/>\n",
    "To measure pearson correlation in python we can use from *scipy->stats->pearsonr(x,y)"
   ]
  },
  {
   "cell_type": "code",
   "execution_count": null,
   "id": "595fc7ce",
   "metadata": {},
   "outputs": [],
   "source": [
    "df = "
   ]
  }
 ],
 "metadata": {
  "kernelspec": {
   "display_name": "Python 3 (ipykernel)",
   "language": "python",
   "name": "python3"
  },
  "language_info": {
   "codemirror_mode": {
    "name": "ipython",
    "version": 3
   },
   "file_extension": ".py",
   "mimetype": "text/x-python",
   "name": "python",
   "nbconvert_exporter": "python",
   "pygments_lexer": "ipython3",
   "version": "3.9.13"
  }
 },
 "nbformat": 4,
 "nbformat_minor": 5
}
