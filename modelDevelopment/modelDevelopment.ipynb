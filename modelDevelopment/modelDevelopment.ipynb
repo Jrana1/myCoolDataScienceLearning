{
 "cells": [
  {
   "cell_type": "markdown",
   "id": "48229b7f",
   "metadata": {},
   "source": [
    "# Learning Objectives\n",
    " + Simple and Multiple Linear Regression.\n",
    " + Model Evaluation using Visualization.\n",
    " + Polynomial Regression and Pipelines.\n",
    " + R-squared and MSE for In-Sample Evaluation.\n",
    " + Prediction and Decision making.\n"
   ]
  },
  {
   "cell_type": "markdown",
   "id": "ed0b0132",
   "metadata": {},
   "source": [
    "## Question:\n",
    " + how to determine a fair value for a used car?"
   ]
  },
  {
   "cell_type": "markdown",
   "id": "d0c6e82b",
   "metadata": {},
   "source": [
    "## Model\n",
    "+ A model can be thought of as a mathematical equation used to predict a value given one or more other values.\n",
    "+ Relating one or more independent variables to dependent variables.\n",
    "+ Usually the more relavant data we have the more accurate our model is. \n",
    "   + for example: \n",
    "      + we have two almost identical cars. Pink cars sell for significantly less. If we miss color of the cars to prdict the price the prediction will be false."
   ]
  },
  {
   "cell_type": "markdown",
   "id": "dcc6e5e3",
   "metadata": {},
   "source": [
    "# Simple Linear Regression\n",
    "+ The predictor (independent) variable -> x\n",
    "+ The Target (dependent) variable -> y\n",
    "$$Y=b_0+b_1x$$\n",
    "  + $b_0$: the intercept\n",
    "  + $b_1$: the slope\n",
    "![](https://editor.analyticsvidhya.com/uploads/375512.jpg)"
   ]
  },
  {
   "cell_type": "markdown",
   "id": "740d5d43",
   "metadata": {},
   "source": [
    "# Fitting a simple Linear Model Estimator.\n",
    "+ X: predictor variable\n",
    "+ Y: Target variable\n"
   ]
  },
  {
   "cell_type": "code",
   "execution_count": 1,
   "id": "eadae48e",
   "metadata": {},
   "outputs": [],
   "source": [
    "import pandas as pd\n",
    "from sklearn.linear_model import LinearRegression"
   ]
  },
  {
   "cell_type": "code",
   "execution_count": 2,
   "id": "7603a41b",
   "metadata": {},
   "outputs": [],
   "source": [
    "df = pd.read_csv(\"/home/jrana/home/myCoolDataScienceLearning/datasets/auto.csv\")"
   ]
  },
  {
   "cell_type": "code",
   "execution_count": 3,
   "id": "e02af51c",
   "metadata": {},
   "outputs": [],
   "source": [
    "\n",
    "\n",
    "headers = [\"symboling\",\"normalized-losses\",\"make\",\"fuel-type\",\"aspiration\", \"num-of-doors\",\"body-style\",\n",
    "         \"drive-wheels\",\"engine-location\",\"wheel-base\", \"length\",\"width\",\"height\",\"curb-weight\",\"engine-type\",\n",
    "         \"num-of-cylinders\", \"engine-size\",\"fuel-system\",\"bore\",\"stroke\",\"compression-ratio\",\"horsepower\",\n",
    "         \"peak-rpm\",\"city-mpg\",\"highway-mpg\",\"price\"]\n",
    "\n"
   ]
  },
  {
   "cell_type": "code",
   "execution_count": 4,
   "id": "f1ca5e25",
   "metadata": {
    "scrolled": true
   },
   "outputs": [
    {
     "data": {
      "text/html": [
       "<div>\n",
       "<style scoped>\n",
       "    .dataframe tbody tr th:only-of-type {\n",
       "        vertical-align: middle;\n",
       "    }\n",
       "\n",
       "    .dataframe tbody tr th {\n",
       "        vertical-align: top;\n",
       "    }\n",
       "\n",
       "    .dataframe thead th {\n",
       "        text-align: right;\n",
       "    }\n",
       "</style>\n",
       "<table border=\"1\" class=\"dataframe\">\n",
       "  <thead>\n",
       "    <tr style=\"text-align: right;\">\n",
       "      <th></th>\n",
       "      <th>symboling</th>\n",
       "      <th>normalized-losses</th>\n",
       "      <th>make</th>\n",
       "      <th>fuel-type</th>\n",
       "      <th>aspiration</th>\n",
       "      <th>num-of-doors</th>\n",
       "      <th>body-style</th>\n",
       "      <th>drive-wheels</th>\n",
       "      <th>engine-location</th>\n",
       "      <th>wheel-base</th>\n",
       "      <th>...</th>\n",
       "      <th>engine-size</th>\n",
       "      <th>fuel-system</th>\n",
       "      <th>bore</th>\n",
       "      <th>stroke</th>\n",
       "      <th>compression-ratio</th>\n",
       "      <th>horsepower</th>\n",
       "      <th>peak-rpm</th>\n",
       "      <th>city-mpg</th>\n",
       "      <th>highway-mpg</th>\n",
       "      <th>price</th>\n",
       "    </tr>\n",
       "  </thead>\n",
       "  <tbody>\n",
       "    <tr>\n",
       "      <th>0</th>\n",
       "      <td>3</td>\n",
       "      <td>?</td>\n",
       "      <td>alfa-romero</td>\n",
       "      <td>gas</td>\n",
       "      <td>std</td>\n",
       "      <td>two</td>\n",
       "      <td>convertible</td>\n",
       "      <td>rwd</td>\n",
       "      <td>front</td>\n",
       "      <td>88.6</td>\n",
       "      <td>...</td>\n",
       "      <td>130</td>\n",
       "      <td>mpfi</td>\n",
       "      <td>3.47</td>\n",
       "      <td>2.68</td>\n",
       "      <td>9.0</td>\n",
       "      <td>111</td>\n",
       "      <td>5000</td>\n",
       "      <td>21</td>\n",
       "      <td>27</td>\n",
       "      <td>16500</td>\n",
       "    </tr>\n",
       "    <tr>\n",
       "      <th>1</th>\n",
       "      <td>1</td>\n",
       "      <td>?</td>\n",
       "      <td>alfa-romero</td>\n",
       "      <td>gas</td>\n",
       "      <td>std</td>\n",
       "      <td>two</td>\n",
       "      <td>hatchback</td>\n",
       "      <td>rwd</td>\n",
       "      <td>front</td>\n",
       "      <td>94.5</td>\n",
       "      <td>...</td>\n",
       "      <td>152</td>\n",
       "      <td>mpfi</td>\n",
       "      <td>2.68</td>\n",
       "      <td>3.47</td>\n",
       "      <td>9.0</td>\n",
       "      <td>154</td>\n",
       "      <td>5000</td>\n",
       "      <td>19</td>\n",
       "      <td>26</td>\n",
       "      <td>16500</td>\n",
       "    </tr>\n",
       "    <tr>\n",
       "      <th>2</th>\n",
       "      <td>2</td>\n",
       "      <td>164</td>\n",
       "      <td>audi</td>\n",
       "      <td>gas</td>\n",
       "      <td>std</td>\n",
       "      <td>four</td>\n",
       "      <td>sedan</td>\n",
       "      <td>fwd</td>\n",
       "      <td>front</td>\n",
       "      <td>99.8</td>\n",
       "      <td>...</td>\n",
       "      <td>109</td>\n",
       "      <td>mpfi</td>\n",
       "      <td>3.19</td>\n",
       "      <td>3.40</td>\n",
       "      <td>10.0</td>\n",
       "      <td>102</td>\n",
       "      <td>5500</td>\n",
       "      <td>24</td>\n",
       "      <td>30</td>\n",
       "      <td>13950</td>\n",
       "    </tr>\n",
       "    <tr>\n",
       "      <th>3</th>\n",
       "      <td>2</td>\n",
       "      <td>164</td>\n",
       "      <td>audi</td>\n",
       "      <td>gas</td>\n",
       "      <td>std</td>\n",
       "      <td>four</td>\n",
       "      <td>sedan</td>\n",
       "      <td>4wd</td>\n",
       "      <td>front</td>\n",
       "      <td>99.4</td>\n",
       "      <td>...</td>\n",
       "      <td>136</td>\n",
       "      <td>mpfi</td>\n",
       "      <td>3.19</td>\n",
       "      <td>3.40</td>\n",
       "      <td>8.0</td>\n",
       "      <td>115</td>\n",
       "      <td>5500</td>\n",
       "      <td>18</td>\n",
       "      <td>22</td>\n",
       "      <td>17450</td>\n",
       "    </tr>\n",
       "    <tr>\n",
       "      <th>4</th>\n",
       "      <td>2</td>\n",
       "      <td>?</td>\n",
       "      <td>audi</td>\n",
       "      <td>gas</td>\n",
       "      <td>std</td>\n",
       "      <td>two</td>\n",
       "      <td>sedan</td>\n",
       "      <td>fwd</td>\n",
       "      <td>front</td>\n",
       "      <td>99.8</td>\n",
       "      <td>...</td>\n",
       "      <td>136</td>\n",
       "      <td>mpfi</td>\n",
       "      <td>3.19</td>\n",
       "      <td>3.40</td>\n",
       "      <td>8.5</td>\n",
       "      <td>110</td>\n",
       "      <td>5500</td>\n",
       "      <td>19</td>\n",
       "      <td>25</td>\n",
       "      <td>15250</td>\n",
       "    </tr>\n",
       "  </tbody>\n",
       "</table>\n",
       "<p>5 rows × 26 columns</p>\n",
       "</div>"
      ],
      "text/plain": [
       "   symboling normalized-losses         make fuel-type aspiration num-of-doors  \\\n",
       "0          3                 ?  alfa-romero       gas        std          two   \n",
       "1          1                 ?  alfa-romero       gas        std          two   \n",
       "2          2               164         audi       gas        std         four   \n",
       "3          2               164         audi       gas        std         four   \n",
       "4          2                 ?         audi       gas        std          two   \n",
       "\n",
       "    body-style drive-wheels engine-location  wheel-base  ...  engine-size  \\\n",
       "0  convertible          rwd           front        88.6  ...          130   \n",
       "1    hatchback          rwd           front        94.5  ...          152   \n",
       "2        sedan          fwd           front        99.8  ...          109   \n",
       "3        sedan          4wd           front        99.4  ...          136   \n",
       "4        sedan          fwd           front        99.8  ...          136   \n",
       "\n",
       "   fuel-system  bore  stroke compression-ratio horsepower  peak-rpm city-mpg  \\\n",
       "0         mpfi  3.47    2.68               9.0        111      5000       21   \n",
       "1         mpfi  2.68    3.47               9.0        154      5000       19   \n",
       "2         mpfi  3.19    3.40              10.0        102      5500       24   \n",
       "3         mpfi  3.19    3.40               8.0        115      5500       18   \n",
       "4         mpfi  3.19    3.40               8.5        110      5500       19   \n",
       "\n",
       "  highway-mpg  price  \n",
       "0          27  16500  \n",
       "1          26  16500  \n",
       "2          30  13950  \n",
       "3          22  17450  \n",
       "4          25  15250  \n",
       "\n",
       "[5 rows x 26 columns]"
      ]
     },
     "execution_count": 4,
     "metadata": {},
     "output_type": "execute_result"
    }
   ],
   "source": [
    "df.columns=headers\n",
    "df.head()"
   ]
  },
  {
   "cell_type": "code",
   "execution_count": 5,
   "id": "27f91dcc",
   "metadata": {},
   "outputs": [],
   "source": [
    "lm = LinearRegression()"
   ]
  },
  {
   "cell_type": "markdown",
   "id": "51fd9887",
   "metadata": {},
   "source": [
    "## we define the predictor variable and target variable"
   ]
  },
  {
   "cell_type": "code",
   "execution_count": 13,
   "id": "28daeacb",
   "metadata": {},
   "outputs": [
    {
     "data": {
      "text/plain": [
       "(highway-mpg    float64\n",
       " dtype: object,\n",
       " dtype('float64'))"
      ]
     },
     "execution_count": 13,
     "metadata": {},
     "output_type": "execute_result"
    }
   ],
   "source": [
    "X=df[['highway-mpg']].replace('?','23').astype('float')\n",
    "Y=df[\"price\"].replace('?',23).astype('float')\n",
    "X.dtypes,Y.dtypes"
   ]
  },
  {
   "cell_type": "markdown",
   "id": "8622ccc8",
   "metadata": {},
   "source": [
    "## then use <code>lm.fit()</code> to fit the model in order to find $b_0$ and $b_1$"
   ]
  },
  {
   "cell_type": "code",
   "execution_count": 14,
   "id": "acb0a0c0",
   "metadata": {},
   "outputs": [
    {
     "data": {
      "text/plain": [
       "LinearRegression()"
      ]
     },
     "execution_count": 14,
     "metadata": {},
     "output_type": "execute_result"
    }
   ],
   "source": [
    "lm.fit(X,Y)"
   ]
  },
  {
   "cell_type": "markdown",
   "id": "372c6c14",
   "metadata": {},
   "source": [
    "## now we can obtain a prediction"
   ]
  },
  {
   "cell_type": "code",
   "execution_count": 15,
   "id": "3441f167",
   "metadata": {},
   "outputs": [],
   "source": [
    "Yhat=lm.predict(X)"
   ]
  },
  {
   "cell_type": "code",
   "execution_count": 17,
   "id": "4cd55ec7",
   "metadata": {},
   "outputs": [
    {
     "data": {
      "text/plain": [
       "(37799.95748208101, array([-807.70452865]))"
      ]
     },
     "execution_count": 17,
     "metadata": {},
     "output_type": "execute_result"
    }
   ],
   "source": [
    "b_0=lm.intercept_\n",
    "b_1=lm.coef_\n",
    "b_0,b_1"
   ]
  },
  {
   "cell_type": "markdown",
   "id": "ba4caafa",
   "metadata": {},
   "source": [
    "## now we can say\n",
    "$$Price=b_0+b_1\\cdot highway-mpg$$"
   ]
  },
  {
   "cell_type": "markdown",
   "id": "b8e45c29",
   "metadata": {},
   "source": [
    "# Multiple Linear Regression\n",
    "+ One continuous target (Y) variable.\n",
    "+ Two or more predictor (X) variables.\n",
    "$$ Y=b_0+b_1\\cdot x_1 + b_2 \\cdot x_2 + b_3 \\cdot x_3+b_4 \\cdot x_4 $$\n",
    "    + $b_0$: intercept $(X=0)$\n",
    "    + $b_1$: coff or parameter of $x_1$"
   ]
  },
  {
   "cell_type": "code",
   "execution_count": null,
   "id": "b5f9a2c8",
   "metadata": {},
   "outputs": [],
   "source": [
    "X=df['A','B']\n",
    "Y=df['C']\n",
    "lm.fit(X,Y)\n",
    "lm.predict(['A','B'])"
   ]
  },
  {
   "cell_type": "markdown",
   "id": "6d1cbabc",
   "metadata": {},
   "source": [
    "# Model Evaluation using Visualization"
   ]
  },
  {
   "cell_type": "markdown",
   "id": "d4c9180b",
   "metadata": {},
   "source": [
    "## Regression plot\n",
    "it gives us a good estimate of:\n",
    "+ The Relationship between two variables\n",
    "+ The strength of the correlation.\n",
    "+ The direction of the relationship(positive or negative)"
   ]
  },
  {
   "cell_type": "code",
   "execution_count": 18,
   "id": "cd720dbf",
   "metadata": {},
   "outputs": [],
   "source": [
    "import seaborn as sns\n",
    "import matplotlib.pyplot as plt\n"
   ]
  },
  {
   "cell_type": "code",
   "execution_count": 20,
   "id": "974abec1",
   "metadata": {},
   "outputs": [],
   "source": [
    "df['highway-mpg']=df['highway-mpg'].replace('?',23).astype('float')\n",
    "df['price']=df['price'].replace('?',23).astype('float')"
   ]
  },
  {
   "cell_type": "code",
   "execution_count": 21,
   "id": "18e43c09",
   "metadata": {
    "scrolled": true
   },
   "outputs": [
    {
     "data": {
      "text/plain": [
       "(0.0, 48172.091523090836)"
      ]
     },
     "execution_count": 21,
     "metadata": {},
     "output_type": "execute_result"
    },
    {
     "data": {
      "image/png": "[encoded data removed]",
      "text/plain": [
       "<Figure size 640x480 with 1 Axes>"
      ]
     },
     "metadata": {},
     "output_type": "display_data"
    }
   ],
   "source": [
    "sns.regplot(x=\"highway-mpg\",y=\"price\",data=df)\n",
    "plt.ylim(0,)"
   ]
  },
  {
   "cell_type": "markdown",
   "id": "c468d13d",
   "metadata": {},
   "source": [
    "## Residual Plot\n",
    " + the residual plot represents the error between the actual values.\n",
    " + Examine the actual values and predicted valeus.\n",
    " + we expect to see the result to have zero mean\n",
    " + if distributed evenly around the x axis with similar variance and there is no cuvature it suggests that a linear plot is appropriate.\n",
    " "
   ]
  },
  {
   "cell_type": "code",
   "execution_count": 22,
   "id": "607cf102",
   "metadata": {
    "scrolled": true
   },
   "outputs": [
    {
     "name": "stderr",
     "output_type": "stream",
     "text": [
      "/home/jrana/anaconda3/lib/python3.9/site-packages/seaborn/_decorators.py:36: FutureWarning: Pass the following variables as keyword args: x, y. From version 0.12, the only valid positional argument will be `data`, and passing other arguments without an explicit keyword will result in an error or misinterpretation.\n",
      "  warnings.warn(\n"
     ]
    },
    {
     "data": {
      "text/plain": [
       "<AxesSubplot:xlabel='highway-mpg', ylabel='price'>"
      ]
     },
     "execution_count": 22,
     "metadata": {},
     "output_type": "execute_result"
    },
    {
     "data": {
      "image/png": "[encoded data removed]",
      "text/plain": [
       "<Figure size 640x480 with 1 Axes>"
      ]
     },
     "metadata": {},
     "output_type": "display_data"
    }
   ],
   "source": [
    "sns.residplot(df['highway-mpg'],df['price'])"
   ]
  },
  {
   "cell_type": "markdown",
   "id": "d7c66e74",
   "metadata": {},
   "source": [
    "there is a curvature."
   ]
  },
  {
   "cell_type": "markdown",
   "id": "91597903",
   "metadata": {},
   "source": [
    "## Distribution plot\n",
    "+ it counts the predicted value versus the actual value\n",
    "+ this plot is extremly useful for visualizing models with more than one independent variable or feature."
   ]
  },
  {
   "cell_type": "code",
   "execution_count": 24,
   "id": "157ab8a8",
   "metadata": {},
   "outputs": [
    {
     "name": "stderr",
     "output_type": "stream",
     "text": [
      "/home/jrana/anaconda3/lib/python3.9/site-packages/seaborn/distributions.py:2619: FutureWarning: `distplot` is a deprecated function and will be removed in a future version. Please adapt your code to use either `displot` (a figure-level function with similar flexibility) or `kdeplot` (an axes-level function for kernel density plots).\n",
      "  warnings.warn(msg, FutureWarning)\n",
      "/home/jrana/anaconda3/lib/python3.9/site-packages/seaborn/distributions.py:2619: FutureWarning: `distplot` is a deprecated function and will be removed in a future version. Please adapt your code to use either `displot` (a figure-level function with similar flexibility) or `kdeplot` (an axes-level function for kernel density plots).\n",
      "  warnings.warn(msg, FutureWarning)\n"
     ]
    },
    {
     "data": {
      "text/plain": [
       "<AxesSubplot:xlabel='price', ylabel='Density'>"
      ]
     },
     "execution_count": 24,
     "metadata": {},
     "output_type": "execute_result"
    },
    {
     "data": {
      "image/png": "[encoded data removed]",
      "text/plain": [
       "<Figure size 640x480 with 1 Axes>"
      ]
     },
     "metadata": {},
     "output_type": "display_data"
    }
   ],
   "source": [
    "axl = sns.distplot(df['price'],hist=False,color='r',label='actual-value')\n",
    "sns.distplot(Yhat,hist=False,color='b',label='fitted-value',ax=axl)"
   ]
  },
  {
   "cell_type": "markdown",
   "id": "1595e093",
   "metadata": {},
   "source": [
    "# Polynomial Regression and Pipelines\n",
    "if linear model is not a best fit for our data?\n",
    "+ go for polynomial regression\n",
    "+ transform data into a polynomial \n",
    "+ then use linear regression to fit the parameters"
   ]
  },
  {
   "cell_type": "markdown",
   "id": "36267d9a",
   "metadata": {},
   "source": [
    "## Polynomial Regression\n",
    " + this method is beneficial for describing curvilinear relationships.\n",
    " + curvilinear relationships can be obtained by squaring or setting higher-order terms of the predictor variables.\n",
    " ![](data:image/png;base64,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)"
   ]
  },
  {
   "cell_type": "markdown",
   "id": "7ef9d8d6",
   "metadata": {},
   "source": [
    "## Calculate plynomial of $3^{rd}$ order"
   ]
  },
  {
   "cell_type": "code",
   "execution_count": 25,
   "id": "52273287",
   "metadata": {},
   "outputs": [],
   "source": [
    "import numpy as np"
   ]
  },
  {
   "cell_type": "code",
   "execution_count": 27,
   "id": "2aabc5c5",
   "metadata": {},
   "outputs": [
    {
     "name": "stdout",
     "output_type": "stream",
     "text": [
      "        3         2\n",
      "-1.495 x + 196.5 x - 8627 x + 1.334e+05\n"
     ]
    }
   ],
   "source": [
    "f=np.polyfit(df['highway-mpg'],df['price'],3)\n",
    "p=np.poly1d(f)\n",
    "print(p)"
   ]
  },
  {
   "cell_type": "markdown",
   "id": "9a8ad567",
   "metadata": {},
   "source": [
    "## we may have multi-dimensional polynomial linear regression and polynomial can get complicated. in this case <code>np.polyfit()</code>  does not work. As a result we can use Preprossing library from sci-kit-learn."
   ]
  },
  {
   "cell_type": "code",
   "execution_count": null,
   "id": "1b3a3a58",
   "metadata": {},
   "outputs": [],
   "source": [
    "from sklearn.preprocessing import PolynomialFeatures\n",
    "pr = PolynomialFeatures(degree=2,include_bias=False)\n",
    "x_polly=pr.fit_transform(x[['horsepower','curb-weight']])"
   ]
  },
  {
   "cell_type": "markdown",
   "id": "3cf938bd",
   "metadata": {},
   "source": [
    "## for example we can normalize each feature simultaneously"
   ]
  },
  {
   "cell_type": "code",
   "execution_count": null,
   "id": "0814f7b4",
   "metadata": {},
   "outputs": [],
   "source": [
    "from sklearn.preprocessing import StandardScaler\n",
    "SCALE = StandardScaler()\n",
    "SCALE.fit(x_data[['hoursepower','highway-mpg']])\n",
    "x_scale=SCALE.transform(x_data[['hoursepower','highway-mpg']])"
   ]
  },
  {
   "cell_type": "markdown",
   "id": "f5e7cd93",
   "metadata": {},
   "source": [
    "# Pipeline\n",
    "we can simplify the whole process using Pipeline"
   ]
  },
  {
   "cell_type": "code",
   "execution_count": null,
   "id": "2d451035",
   "metadata": {},
   "outputs": [],
   "source": [
    "from sklearn.preprocessing import PolynomialFeatures\n",
    "from sklearn.linear_model import LinearRegression\n",
    "from sklearn.preprocessing import StandardScaler\n",
    "from sklearn.pipeline import Pipeline\n",
    "input=[('scale',StandardScaler()),('polynomial',PolynomialFeatures(degree=2)),('model',LinearRegression()) ]\n",
    "pipe=Pipeline(input)\n",
    "pipe.train(X['A','B'],y)\n",
    "pipe.predict()"
   ]
  },
  {
   "cell_type": "markdown",
   "id": "fe216b19",
   "metadata": {},
   "source": [
    "## work flow\n",
    "x -> Normalization -> Polynomial transform -> Linear Regression"
   ]
  },
  {
   "cell_type": "markdown",
   "id": "20112360",
   "metadata": {},
   "source": [
    "# Measures for In-Sample Evaluation\n",
    "A way to numerically determine how good the model fits on dataset. Two important measures to determine the fit of a model.\n",
    "+ Mean Squared Error(MSE)\n",
    "+ R-Squared($R^2$)"
   ]
  },
  {
   "cell_type": "markdown",
   "id": "3484e3ab",
   "metadata": {},
   "source": [
    "## MSE\n",
    "![](https://www.researchgate.net/publication/221515860/figure/fig1/AS:339586132791298@1457975051470/Mean-Squared-Error-formula-used-to-evaluate-the-user-model.png)<br/>\n",
    "In python we can measure the **MSE** as follows"
   ]
  },
  {
   "cell_type": "code",
   "execution_count": null,
   "id": "33c79b4e",
   "metadata": {},
   "outputs": [],
   "source": [
    "from sklearn.matrics import mean_squared_error\n",
    "mean_squared_error(df['price'],predicted_price)"
   ]
  },
  {
   "cell_type": "markdown",
   "id": "b50de547",
   "metadata": {},
   "source": [
    "## R-Squared\n",
    "+ this is coefficient of Determination \n",
    "+ is a measure to determine how close the data is to the fitted regression line.\n",
    "+ it is the percentage of variation of the target variable(Y) that is explained by the linear model\n",
    "$$R^2=\\left(1-\\frac{\\text{MSE of regression line}}{\\text{MSE of the avg of the data}}\\right)$$\n",
    "+ generally the values of **MSE** are between 0 and 1.\n",
    "+ we can calculate the $R^2$ in python"
   ]
  },
  {
   "cell_type": "code",
   "execution_count": null,
   "id": "d0d31c7f",
   "metadata": {},
   "outputs": [],
   "source": [
    "X=df['A']\n",
    "Y=df['B']\n",
    "lm=fit(X,Y)\n",
    "lm.score(X,Y) # will give R**2 value. if R**2 is negative then overfitting"
   ]
  }
 ],
 "metadata": {
  "kernelspec": {
   "display_name": "Python 3 (ipykernel)",
   "language": "python",
   "name": "python3"
  },
  "language_info": {
   "codemirror_mode": {
    "name": "ipython",
    "version": 3
   },
   "file_extension": ".py",
   "mimetype": "text/x-python",
   "name": "python",
   "nbconvert_exporter": "python",
   "pygments_lexer": "ipython3",
   "version": "3.9.13"
  }
 },
 "nbformat": 4,
 "nbformat_minor": 5
}
