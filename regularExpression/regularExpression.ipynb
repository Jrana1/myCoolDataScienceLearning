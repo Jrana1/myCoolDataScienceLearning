{
 "cells": [
  {
   "cell_type": "markdown",
   "id": "b925e0dc",
   "metadata": {},
   "source": [
    "<h1 style=\"color:blue;text-align:center\">Regular Expression in Python</h1>"
   ]
  },
  {
   "cell_type": "markdown",
   "id": "3a2e4c6f",
   "metadata": {},
   "source": [
    "## re module is used for Regular Expression in Python"
   ]
  },
  {
   "cell_type": "code",
   "execution_count": 4,
   "id": "7aefa69d",
   "metadata": {},
   "outputs": [],
   "source": [
    "import re"
   ]
  },
  {
   "cell_type": "code",
   "execution_count": 1,
   "id": "8e416f19",
   "metadata": {},
   "outputs": [
    {
     "name": "stdout",
     "output_type": "stream",
     "text": [
      "\thello\n"
     ]
    }
   ],
   "source": [
    "print(\"\\thello\")"
   ]
  },
  {
   "cell_type": "code",
   "execution_count": 2,
   "id": "776c2f98",
   "metadata": {},
   "outputs": [
    {
     "name": "stdout",
     "output_type": "stream",
     "text": [
      "\\thello\n"
     ]
    }
   ],
   "source": [
    "print(r\"\\thello\")"
   ]
  },
  {
   "cell_type": "markdown",
   "id": "9d41b99f",
   "metadata": {},
   "source": [
    "## 'r' indicates here row string. in this case no special characters will be considered"
   ]
  },
  {
   "cell_type": "code",
   "execution_count": 14,
   "id": "aafd410a",
   "metadata": {},
   "outputs": [],
   "source": [
    "st = '''\n",
    "         hello my name is rana. this is my phone number 015730994238. \n",
    "         you can also call me in this number (113)42-123-9233\n",
    "'''\n",
    "pattern= '\\(\\d{3}\\)\\d{2}-\\d{3}-\\d{4}|\\d{12}'"
   ]
  },
  {
   "cell_type": "code",
   "execution_count": 15,
   "id": "b96f53b5",
   "metadata": {},
   "outputs": [
    {
     "data": {
      "text/plain": [
       "['015730994238', '(113)42-123-9233']"
      ]
     },
     "execution_count": 15,
     "metadata": {},
     "output_type": "execute_result"
    }
   ],
   "source": [
    "re.findall(pattern,st)"
   ]
  },
  {
   "cell_type": "code",
   "execution_count": 19,
   "id": "a3bb024f",
   "metadata": {},
   "outputs": [],
   "source": [
    "pattern='Note-\\d:([^\\n]*)'\n",
    "st='''\n",
    "          hello my name is rana. this is my phone number 015730994238. you can also call me in this number (113)42-123-2323 \n",
    "Note-1: overview $23.8\n",
    "jflajfl flajf lajfal fla flaf lajfla falj flajf afj afjaf aölf\n",
    "Note-2: 2nd overview $1.9332\n",
    "'''"
   ]
  },
  {
   "cell_type": "code",
   "execution_count": 21,
   "id": "910f6c64",
   "metadata": {},
   "outputs": [
    {
     "data": {
      "text/plain": [
       "['23.8', '1.9332']"
      ]
     },
     "execution_count": 21,
     "metadata": {},
     "output_type": "execute_result"
    }
   ],
   "source": [
    "re.findall('\\$(\\d*\\.\\d+)',st)"
   ]
  },
  {
   "cell_type": "markdown",
   "id": "023dfa50",
   "metadata": {},
   "source": [
    "+  Extract all twitter handles from following text. Twitter handle is the text that appears after https://twitter.com/ and is a single word. Also it contains only alpha numeric characters i.e. A-Z a-z , o to 9 and underscore _**"
   ]
  },
  {
   "cell_type": "code",
   "execution_count": 22,
   "id": "58b829ef",
   "metadata": {},
   "outputs": [
    {
     "data": {
      "text/plain": [
       "['elonmusk', 'teslarati', 'dummy_tesla', 'dummy_2_tesla']"
      ]
     },
     "execution_count": 22,
     "metadata": {},
     "output_type": "execute_result"
    }
   ],
   "source": [
    "pattern='https://twitter.com/([^,\\n]+)'\n",
    "text = '''\n",
    "Follow our leader Elon musk on twitter here: https://twitter.com/elonmusk, more information \n",
    "on Tesla's products can be found at https://www.tesla.com/. Also here are leading influencers \n",
    "for tesla related news,\n",
    "https://twitter.com/teslarati\n",
    "https://twitter.com/dummy_tesla\n",
    "https://twitter.com/dummy_2_tesla\n",
    "'''\n",
    "re.findall(pattern,text)"
   ]
  },
  {
   "cell_type": "markdown",
   "id": "99c84e52",
   "metadata": {},
   "source": [
    "<h2 > <span style=\"background-color:yellow\">Most useful website to build and play with RegEx</span></h2>-> <a href=\"https://regex101.com/\"> click here</a>"
   ]
  },
  {
   "cell_type": "markdown",
   "id": "eca6ee84",
   "metadata": {},
   "source": [
    "\n",
    "\n",
    "+ Extract Concentration Risk Types. It will be a text that appears after \"Concentration Risk:\", In below example, your regex should extract these two strings\n",
    "\n",
    " + Credit Risk\n",
    "\n",
    " + Supply Rish\n"
   ]
  },
  {
   "cell_type": "code",
   "execution_count": 23,
   "id": "a850370f",
   "metadata": {},
   "outputs": [
    {
     "data": {
      "text/plain": [
       "[' Credit Risk', ' Supply Risk']"
      ]
     },
     "execution_count": 23,
     "metadata": {},
     "output_type": "execute_result"
    }
   ],
   "source": [
    "text = '''\n",
    "Concentration of Risk: Credit Risk\n",
    "Financial instruments that potentially subject us to a concentration of credit risk consist of cash, cash equivalents, marketable securities,\n",
    "restricted cash, accounts receivable, convertible note hedges, and interest rate swaps. Our cash balances are primarily invested in money market funds\n",
    "or on deposit at high credit quality financial institutions in the U.S. These deposits are typically in excess of insured limits. As of September 30, 2021\n",
    "and December 31, 2020, no entity represented 10% or more of our total accounts receivable balance. The risk of concentration for our convertible note\n",
    "hedges and interest rate swaps is mitigated by transacting with several highly-rated multinational banks.\n",
    "Concentration of Risk: Supply Risk\n",
    "We are dependent on our suppliers, including single source suppliers, and the inability of these suppliers to deliver necessary components of our\n",
    "products in a timely manner at prices, quality levels and volumes acceptable to us, or our inability to efficiently manage these components from these\n",
    "suppliers, could have a material adverse effect on our business, prospects, financial condition and operating results.\n",
    "'''\n",
    "pattern = 'Concentration of Risk:([^\\n]+)' # todo: type your regex here\n",
    "\n",
    "re.findall(pattern, text)"
   ]
  },
  {
   "cell_type": "markdown",
   "id": "37af4526",
   "metadata": {},
   "source": [
    "+ Companies in europe reports their financial numbers of semi annual basis and you can have a document like this. To exatract quarterly and semin annual period you can use a regex as shown below"
   ]
  },
  {
   "cell_type": "code",
   "execution_count": 27,
   "id": "a4670486",
   "metadata": {},
   "outputs": [
    {
     "data": {
      "text/plain": [
       "['4.85 ', '8 ']"
      ]
     },
     "execution_count": 27,
     "metadata": {},
     "output_type": "execute_result"
    }
   ],
   "source": [
    "\n",
    "text = '''\n",
    "Tesla's gross cost of operating lease vehicles in FY2021 Q1 was $4.85 billion.\n",
    "BMW's gross cost of operating vehicles in FY2021 S1 was $8 billion.\n",
    "'''\n",
    "\n",
    "pattern = 'FY[0-9]+ \\D[1234][^\\$]+\\$([^a-z]+)' # todo: type your regex here\n",
    "matches = re.findall(pattern, text)\n",
    "matches"
   ]
  }
 ],
 "metadata": {
  "kernelspec": {
   "display_name": "Python 3 (ipykernel)",
   "language": "python",
   "name": "python3"
  },
  "language_info": {
   "codemirror_mode": {
    "name": "ipython",
    "version": 3
   },
   "file_extension": ".py",
   "mimetype": "text/x-python",
   "name": "python",
   "nbconvert_exporter": "python",
   "pygments_lexer": "ipython3",
   "version": "3.9.13"
  }
 },
 "nbformat": 4,
 "nbformat_minor": 5
}
