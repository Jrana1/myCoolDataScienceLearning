{
 "cells": [
  {
   "cell_type": "markdown",
   "metadata": {},
   "source": [
    "<div style=\"text-align:center\">\n",
    "    <h1 style=\"color:green;font-size:40px\">An Introduction To Python Pandas</h1\n",
    "</div>"
   ]
  },
  {
   "cell_type": "markdown",
   "metadata": {},
   "source": [
    "## pandas can work on data which is stored in \n",
    "    - Spreadsheets\n",
    "    - Databases\n",
    "## what can be done with pandas\n",
    "    - data explore\n",
    "    - data clean\n",
    "    - data process\n",
    "## In pandas a data table is called a DataFrame\n",
    "   ![](https://pandas.pydata.org/docs/_images/01_table_dataframe.svg)"
   ]
  },
  {
   "cell_type": "markdown",
   "metadata": {},
   "source": [
    "## Load pandas in a project\n",
    "   -convention to name pandas as **pd**"
   ]
  },
  {
   "cell_type": "code",
   "execution_count": 1,
   "metadata": {
    "scrolled": true
   },
   "outputs": [],
   "source": [
    "import pandas as pd"
   ]
  },
  {
   "cell_type": "markdown",
   "metadata": {},
   "source": [
    "## Create a simple dataFrame"
   ]
  },
  {
   "cell_type": "code",
   "execution_count": 2,
   "metadata": {},
   "outputs": [],
   "source": [
    "df=pd.DataFrame( { \"Name\":[\"Max\",\"John\",\"Rana\"],\"Age\":[23,52,21],\"Sex\":[\"male\",\"female\",\"male\"] } )"
   ]
  },
  {
   "cell_type": "markdown",
   "metadata": {},
   "source": [
    "## Each column in a DataFrame is Series in Pandas\n",
    " ![](https://pandas.pydata.org/docs/_images/01_table_series.svg)\n",
    "<p>for example someone is interested in working with <span style=\"color:blue\">Age</span>. A single column of a pandas DataFrame is a pandas Series</p>"
   ]
  },
  {
   "cell_type": "code",
   "execution_count": 4,
   "metadata": {},
   "outputs": [
    {
     "data": {
      "text/plain": [
       "0    23\n",
       "1    52\n",
       "2    21\n",
       "Name: Age, dtype: int64"
      ]
     },
     "execution_count": 4,
     "metadata": {},
     "output_type": "execute_result"
    }
   ],
   "source": [
    "df[\"Age\"]"
   ]
  },
  {
   "cell_type": "markdown",
   "metadata": {},
   "source": [
    "## We can also create a Series from scratch."
   ]
  },
  {
   "cell_type": "code",
   "execution_count": 6,
   "metadata": {
    "scrolled": true
   },
   "outputs": [
    {
     "data": {
      "text/plain": [
       "0    23\n",
       "1    12\n",
       "2    14\n",
       "3    21\n",
       "4    13\n",
       "5    93\n",
       "6    28\n",
       "7    92\n",
       "Name: Marks, dtype: int64"
      ]
     },
     "execution_count": 6,
     "metadata": {},
     "output_type": "execute_result"
    }
   ],
   "source": [
    "marks = pd.Series([23,12,14,21,13,93,28,92],name=\"Marks\")\n",
    "marks"
   ]
  },
  {
   "cell_type": "markdown",
   "metadata": {},
   "source": [
    "\n",
    "## Basic statistics of the numerical data can be shown using `describe()` method."
   ]
  },
  {
   "cell_type": "code",
   "execution_count": 7,
   "metadata": {
    "scrolled": true
   },
   "outputs": [
    {
     "data": {
      "text/plain": [
       "count     8.000000\n",
       "mean     37.000000\n",
       "std      34.690468\n",
       "min      12.000000\n",
       "25%      13.750000\n",
       "50%      22.000000\n",
       "75%      44.000000\n",
       "max      93.000000\n",
       "Name: Marks, dtype: float64"
      ]
     },
     "execution_count": 7,
     "metadata": {},
     "output_type": "execute_result"
    }
   ],
   "source": [
    "marks.describe()"
   ]
  },
  {
   "cell_type": "markdown",
   "metadata": {},
   "source": [
    " + REMEMBER  \n",
    "      + Import the package, aka import pandas as pd\n",
    "\n",
    "      + A table of data is stored as a pandas DataFrame\n",
    "\n",
    "      + Each column in a DataFrame is a Series\n",
    "\n",
    "      + You can do things by applying a method to a DataFrame or Series\n",
    "      \n",
    "     \n",
    "\n",
    "\n"
   ]
  },
  {
   "cell_type": "markdown",
   "metadata": {},
   "source": [
    "## How to Read and Write tabular Data\n",
    "pandas provides `read_csv()`method to read a **CSV** file and store as a **DataFrame**. It can also work with other data format. for example..\n",
    "![](https://pandas.pydata.org/docs/_images/02_io_readwrite.svg)"
   ]
  }
 ],
 "metadata": {
  "kernelspec": {
   "display_name": "Python 3 (ipykernel)",
   "language": "python",
   "name": "python3"
  },
  "language_info": {
   "codemirror_mode": {
    "name": "ipython",
    "version": 3
   },
   "file_extension": ".py",
   "mimetype": "text/x-python",
   "name": "python",
   "nbconvert_exporter": "python",
   "pygments_lexer": "ipython3",
   "version": "3.9.13"
  }
 },
 "nbformat": 4,
 "nbformat_minor": 2
}
