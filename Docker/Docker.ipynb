{
 "cells": [
  {
   "cell_type": "markdown",
   "id": "4411b20c",
   "metadata": {},
   "source": [
    "<h1 style=\"color:blue;text-align:center\">Docker Essentials: A Developer Introduction</h1>"
   ]
  },
  {
   "cell_type": "markdown",
   "id": "7d9a8737",
   "metadata": {},
   "source": [
    "# Objectives\n",
    " + What are containers and their benefits.\n",
    " + How to find and run Docker containers from the Dorcker Hub.\n",
    " + How to create your first Docker container and understand the layering and union file system.\n",
    " + The best practice when developing Dockerfiles.\n",
    " + How to solve problems of orchestration, scaling, high availability, and service discovery.\n",
    " "
   ]
  },
  {
   "cell_type": "markdown",
   "id": "56a87a3f",
   "metadata": {},
   "source": [
    "# What are Containers?\n",
    " + A group of processes run in isolation.\n",
    "   + All processes must be able to run on the shared kernel.\n",
    " + Each container has its own set of 'namespaces'(isolated view).\n",
    "   + **PID**- process ID\n",
    "   + **USER**- user and group IDS.\n",
    "   + **UTS**- hostname and domain name.\n",
    "   + **NS**- mount points.\n",
    "   + **NET**- Network devices, stacks, ports\n",
    "   + **IPC**- inter-process-communications, message queues\n",
    " + **cgroups**- controls limits and monitoring of resources "
   ]
  },
  {
   "cell_type": "markdown",
   "id": "a68ba0c0",
   "metadata": {},
   "source": [
    "<div>\n",
    "    <img src=\"s5.png\" width=300 height=300>\n",
    "    <img src=\"s6.png\" width=300 height=300>\n",
    "    <img src=\"s7.png\" width=300 height=300>\n",
    "</div>"
   ]
  },
  {
   "cell_type": "markdown",
   "id": "ccfb05a2",
   "metadata": {},
   "source": [
    "<h1 style=\"color:blue;text-align:center\">VM vs Container</h1>"
   ]
  },
  {
   "cell_type": "markdown",
   "id": "074310e3",
   "metadata": {},
   "source": [
    "<img src=\"s1.png\" width=600 height=600>"
   ]
  },
  {
   "cell_type": "markdown",
   "id": "21701913",
   "metadata": {},
   "source": [
    "+ container run on top of the base kernel and they use linux namespace they are fast as they do not use a full OS.\n",
    "+ we get the benefit of VM(isolation) without the cost of heaviness.\n",
    "+ container can be run on top of VM."
   ]
  },
  {
   "cell_type": "markdown",
   "id": "c8eb7004",
   "metadata": {},
   "source": [
    "# What is Docker?\n",
    "+ At its core, Docker is tooling to manage containers.\n",
    "  + simplified existing technology to enable it for the masses.\n",
    "+ Enable developers to use containers for their applications.\n",
    "  +Package dependencies with container: \"build once, run anywhere\"."
   ]
  },
  {
   "cell_type": "markdown",
   "id": "cf5055c6",
   "metadata": {},
   "source": [
    "# Advantages of Docker\n",
    "+ No more \"works on my machine\".\n",
    "+ Lightweight and fast.\n",
    "+ Better resource utilization.\n",
    "  + can fit far more containers than VMs into a host.\n",
    "+ Standard developer to operations interface.\n",
    "+ Ecosystem and tooling."
   ]
  },
  {
   "cell_type": "markdown",
   "id": "5209bc26",
   "metadata": {},
   "source": [
    "<p style=\"color:green;border:2px solid black;padding:10px\">Containers are just a process (or a group of processes) running in isolation, which is achieved with Linux namespaces and control groups. Linux namespaces and control groups are features that are built into the Linux kernel. Other than the Linux kernel itself, there is nothing special about containers.\n",
    "What makes containers useful is the tooling that surrounds them. The labs in this course use Docker, which has been the understood standard tool for using containers to build applications. <span style=\"color:blue\">Docker provides developers and operators with a friendly interface to build, ship, and run containers on any environment.</span>\n",
    "In the first part of this lab, run your first container, and learn how to inspect it. You will be able to witness the namespace isolation that you acquire from the Linux kernel.</p>"
   ]
  },
  {
   "cell_type": "markdown",
   "id": "c1c121b7",
   "metadata": {},
   "source": [
    "# Docker Images\n",
    "+ Tar file containing a container's filesystem and metadata\n",
    "+ reasons that we create images is, we can share and redistribute our images to other users or other environments"
   ]
  },
  {
   "cell_type": "markdown",
   "id": "dc42a5d5",
   "metadata": {},
   "source": [
    "# Docker Registry\n",
    "+ we can push our images or pull images from registry\n",
    "+ default registry: **Docker Hub**\n",
    "    + public and free for public images.\n",
    "    + many pre-packaged images are available\n",
    "+ **private registry**\n",
    "    + self-host or cloud provider options\n",
    "    + docker registry is also available as a docker image\n",
    "    + <code style=\"color:red\"> docker run registry</code> command is used to run a private registry"
   ]
  },
  {
   "cell_type": "markdown",
   "id": "8cb51afd",
   "metadata": {},
   "source": [
    "# Creating a Docker image- with Docker build\n",
    "  + create a **Dockerfile**\n",
    "     + List of instructions for how to construct the container.\n",
    "  + <code style=\"color:red\">docker build -f Dockerfile</code> with this command docker engine will build a docker image"
   ]
  },
  {
   "cell_type": "markdown",
   "id": "d332d227",
   "metadata": {},
   "source": [
    "<img src=\"s2.png\" width=600 height=600>"
   ]
  },
  {
   "cell_type": "markdown",
   "id": "c08fd90e",
   "metadata": {},
   "source": [
    "+ each line correspond to a layer.\n",
    "+ every layer is build on to of the layers before. if we make a change in line 2, line 2 can resue the line 3 & 4(from casch) and only rebuild the layer 2."
   ]
  },
  {
   "cell_type": "markdown",
   "id": "11d2d07c",
   "metadata": {},
   "source": [
    "<img src=\"s4.png\" width=600 height=700>"
   ]
  },
  {
   "cell_type": "markdown",
   "id": "0b8a0a7f",
   "metadata": {},
   "source": [
    "# Creating a custom images"
   ]
  },
  {
   "cell_type": "code",
   "execution_count": null,
   "id": "541be815",
   "metadata": {
    "scrolled": true
   },
   "outputs": [
    {
     "name": "stdout",
     "output_type": "stream",
     "text": [
      " * Serving Flask app \"__main__\" (lazy loading)\n",
      " * Environment: production\n",
      "\u001b[31m   WARNING: This is a development server. Do not use it in a production deployment.\u001b[0m\n",
      "\u001b[2m   Use a production WSGI server instead.\u001b[0m\n",
      " * Debug mode: off\n"
     ]
    },
    {
     "name": "stderr",
     "output_type": "stream",
     "text": [
      " * Running on all addresses.\n",
      "   WARNING: This is a development server. Do not use it in a production deployment.\n",
      " * Running on http://192.168.0.103:5000/ (Press CTRL+C to quit)\n"
     ]
    }
   ],
   "source": [
    "from flask import Flask\n",
    "\n",
    "app = Flask(__name__)\n",
    "\n",
    "@app.route(\"/\")\n",
    "def hello():\n",
    "    return \"hello world!\"\n",
    "\n",
    "if __name__ == \"__main__\":\n",
    "    app.run(host=\"0.0.0.0\")\n"
   ]
  },
  {
   "cell_type": "markdown",
   "id": "a863b4bc",
   "metadata": {},
   "source": [
    "# contains of the Dockerfile for creating image"
   ]
  },
  {
   "cell_type": "markdown",
   "id": "b9ff96de",
   "metadata": {},
   "source": [
    "<code style=\"color:red\">FROM python:3.6.1-alpine\n",
    "RUN pip install --upgrade pip\n",
    "RUN pip install flask\n",
    "CMD [\"python\",\"app.py\"]\n",
    "COPY app.py /app.py</code>"
   ]
  },
  {
   "cell_type": "markdown",
   "id": "c382da5d",
   "metadata": {},
   "source": [
    "Let's understand the commands in the Dockerfile line by line.\n",
    "\n",
    "       \n",
    "+ FROM python:3.6.1-alpine\n",
    "   + This is the starting point for your Dockerfile. Every Dockerfile typically starts with a FROM line that is the starting image to build your layers on top of. In this case, you are selecting the python:3.6.1-alpine base layer because it already has the version of Python and pip that you need to run your application. The alpine version means that it uses the alpine distribution, which is significantly smaller than an alternative flavor of Linux. A smaller image means it will download (deploy) much faster, and it is also more secure because it has a smaller attack surface.\n",
    "\n",
    "        Here you are using the 3.6.1-alpine tag for the Python image. Look at the available tags for the official Python image on the Docker Hub. It is best practice to use a specific tag when inheriting a parent image so that changes to the parent dependency are controlled. If no tag is specified, the latest tag takes effect, which acts as a dynamic pointer that points to the latest version of an image.\n",
    "\n",
    "        For security reasons, you must understand the layers that you build your docker image on top of. For that reason, it is highly recommended to only use official images found in the Docker Hub, or noncommunity images found in the Docker Store. These images are vetted to meet certain security requirements, and also have very good documentation for users to follow. You can find more information about this Python base image and other images that you can use on the Docker store.\n",
    "\n",
    "        For a more complex application, you might need to use a FROM image that is higher up the chain. For example, the parent Dockerfile for your Python application starts with FROM alpine, then specifies a series of CMD and RUN commands for the image. If you needed more control, you could start with FROM alpine (or a different distribution) and run those steps yourself. However, to start, it's recommended that you use an official image that closely matches your needs.\n",
    "+ RUN pip install flask\n",
    "  + The RUN command executes commands needed to set up your image for your application, such as installing packages, editing files, or changing file permissions. In this case, you are installing Flask. The RUN commands are executed at build time and are added to the layers of your image.\n",
    "        CMD [\"python\",\"app.py\"]\n",
    "\n",
    "      CMD is the command that is executed when you start a container. Here, you are using CMD to run your Python applcation.\n",
    "\n",
    "       There can be only one CMD per Dockerfile. If you specify more than one CMD, then the last CMD will take effect. The parent python:3.6.1-alpine also specifies a CMD (CMD python2). You can look at the Dockerfile for the official python:alpine image.\n",
    "\n",
    "       You can use the official Python image directly to run Python scripts without installing Python on your host. However, in this case, you are creating a custom image to include your source so that you can build an image with your application and ship it to other environments.\n",
    "+ COPY app.py /app.py\n",
    "\n",
    "    + This line copies the app.py file in the local directory (where you will run docker image build) into a new layer of the image. This instruction is the last line in the Dockerfile. Layers that change frequently, such as copying source code into the image, should be placed near the bottom of the file to take full advantage of the Docker layer cache. This allows you to avoid rebuilding layers that could otherwise be cached. For instance, if there was a change in the FROM instruction, it will invalidate the cache for all subsequent layers of this image. You'll see this little later in this lab.\n",
    "\n",
    "        It seems counter-intuitive to put this line after the CMD [\"python\",\"app.py\"] line. Remember, the CMD line is executed only when the container is started, so you won't get a file not found error here.\n",
    "\n",
    "        And there you have it: a very simple Dockerfile. See the full list of commands that you can put into a Dockerfile. Now that you've defined the Dockerfile, you'll use it to build your custom docker image.\n",
    "\n",
    " \n"
   ]
  },
  {
   "cell_type": "code",
   "execution_count": null,
   "id": "4dfb5d29",
   "metadata": {},
   "outputs": [],
   "source": [
    "! sudo docker image build -t python-hello-world . # to create an image\n",
    "!  docker run -p 5001:5000 -d python-hello-world # run the docker image\n",
    "! sudo docker image ls # show all images\n",
    "! sudo docker container ls # show all container\n",
    "! docker container logs [container id] \n",
    "! docker stop [container id] # stop a running container\n",
    "! docker  rm [container id]  # remove container\n",
    "! docker system prune. # removes containers that are already stopped"
   ]
  },
  {
   "cell_type": "markdown",
   "id": "186ea5b8",
   "metadata": {},
   "source": [
    "The -p flag maps a port running inside the container to your host. In this case, you're mapping the Python app running on port 5000 inside the container to port 5001 on your host. Note that if port 5001 is already being used by another application on your host, you might need to replace 5001 with another value, such as 5002."
   ]
  },
  {
   "cell_type": "markdown",
   "id": "e2c35541",
   "metadata": {},
   "source": [
    "# push to a central registry"
   ]
  },
  {
   "cell_type": "markdown",
   "id": "8535c9b5",
   "metadata": {},
   "source": [
    "\n",
    "\n",
    "    Navigate to Docker Hub and create a free account if you haven't already.\n",
    "\n",
    "    For this lab, you will use the Docker Hub as your central registry. Docker Hub is a free service to publicly store available images. You can also pay to store private images.\n",
    "\n",
    "    Most organizations that use Docker extensively will set up their own registry internally. To simplify things, you will use  Docker Hub, but the following concepts apply to any registry.\n",
    "\n",
    "    Log in to the Docker registry account by entering docker login on your terminal:\n",
    "\n",
    "    $ docker login\n",
    "    Login with your Docker ID to push and pull images from Docker Hub. If you don't have a Docker ID, head over to https://hub.docker.com to create one.\n",
    "    Username: \n",
    "\n",
    "    Tag the image with your username.\n",
    "\n",
    "    The Docker Hub naming convention is to tag your image with [dockerhub username]/[image name]. To do this, tag your previously created image python-hello-world to fit that format.\n",
    "\n",
    "    $ docker tag python-hello-world [dockerhub username]/python-hello-world\n",
    "\n",
    "    After you properly tag the image, use the docker push command to push your image to the Docker Hub registry:\n",
    "\n",
    "    $ docker push jzaccone/python-hello-world\n",
    "    The push refers to a repository [docker.io/jzaccone/python-hello-world]\n",
    "    2bce026769ac: Pushed \n",
    "    64d445ecbe93: Pushed \n",
    "    18b27eac38a1: Mounted from library/python \n",
    "    3f6f25cd8b1e: Mounted from library/python \n",
    "    b7af9d602a0f: Mounted from library/python \n",
    "    ed06208397d5: Mounted from library/python \n",
    "    5accac14015f: Mounted from library/python \n",
    "    latest: digest: sha256:508238f264616bf7bf962019d1a3826f8487ed6a48b80bf41fd3996c7175fd0f size: 1786\n",
    "\n",
    "    Check your image on Docker Hub in your browser.\n",
    "\n",
    "    Navigate to Docker Hub and go to your profile to see your uploaded image.\n",
    "\n",
    "    Now that your image is on Docker Hub, other developers and operators can use the docker pull command to deploy your image to other environments.\n",
    "\n",
    "    Remember: Docker images contain all the dependencies that they need to run an application within the image. This is useful because you no longer need to worry about environment drift (version differences) when you rely on dependencies that are installed on every environment you deploy to. You also don't need to follow more steps to provision these environments. Just one step: install docker, and that's it.\n"
   ]
  },
  {
   "cell_type": "markdown",
   "id": "d825b610",
   "metadata": {},
   "source": [
    "<h1 style=\"color:blue;text-align:center\">Some useful <span style=\"color:green\">Docker</span> commands</h1>"
   ]
  },
  {
   "cell_type": "code",
   "execution_count": null,
   "id": "198dfd89",
   "metadata": {},
   "outputs": [],
   "source": [
    "sudo docker run docker/whalesay cowsay Hello-World \n",
    " # print docker logo on terminal\n",
    "sudo docker run nginx\n",
    "## start container of the image nginx. if the image not present it will \n",
    " ## pull the image from the docker hub only once.\n",
    "docker ps -a \n",
    "# show all the running container(running or stopped)\n",
    "docker ps\n",
    "# only running container\n",
    "docker stop [container name or container id] # to stop a running container\n",
    "docker rm [container name or container id] # remove previously stopped \n",
    "# container \n",
    "docker images # show all the images\n",
    "docker rmi [container name or container id] # delete image. but the \n",
    "# container of that image should be stopped before it could be deleted.\n",
    "docker run --tty --interactive kalilinux/kali-rolling\n",
    "# start kali linux\n",
    "docker run -it --name my-fedora-container fedora\n",
    "# start fedora\n",
    "sudo docker run -it fedora python3\n",
    "## will start fedora and run \"python3\" command in fedora\n",
    "sudo docker run -it fedora python3\n",
    "sudo docker run -it fedora ls -la # will run fedora and execute ls -la \n",
    "# command inside fedora"
   ]
  },
  {
   "cell_type": "markdown",
   "id": "a5431787",
   "metadata": {},
   "source": [
    "   ![](s8.png)\n"
   ]
  },
  {
   "cell_type": "markdown",
   "id": "1681c223",
   "metadata": {},
   "source": [
    "**default tag is latest->latest version**"
   ]
  },
  {
   "cell_type": "markdown",
   "id": "328005fb",
   "metadata": {},
   "source": [
    "<img src=\"s9.png\" widhth=100 height=100>"
   ]
  },
  {
   "cell_type": "markdown",
   "id": "25f500e1",
   "metadata": {},
   "source": [
    "<img src=\"s10.png\" widhth=100 height=100>"
   ]
  },
  {
   "attachments": {},
   "cell_type": "markdown",
   "id": "5ce56046",
   "metadata": {},
   "source": [
    "![image.png](s11.png)"
   ]
  },
  {
   "cell_type": "markdown",
   "id": "879420b0",
   "metadata": {},
   "source": [
    "***in previous command the created databases will be deleted when we rm the container. to keep them persistent we can use the second option***"
   ]
  },
  {
   "cell_type": "code",
   "execution_count": null,
   "id": "87c71374",
   "metadata": {},
   "outputs": [],
   "source": [
    "sudo docker inspect fedora # show details infos about the container\n",
    "sudo docker logs python-hello-world # show the logs"
   ]
  },
  {
   "cell_type": "markdown",
   "id": "225e0e02",
   "metadata": {},
   "source": [
    "<div>\n",
    "    <img src=\"s12.png\" width=400 height=400>\n",
    "    <img src=\"s13.png\" width=400 height=400>\n",
    "    <img src=\"s14.png\" width=400 height=400>\n",
    "</div>"
   ]
  },
  {
   "cell_type": "markdown",
   "id": "2dd57532",
   "metadata": {},
   "source": [
    "![](15.png)"
   ]
  },
  {
   "cell_type": "markdown",
   "id": "abea98ad",
   "metadata": {},
   "source": [
    "![](s15.png)"
   ]
  }
 ],
 "metadata": {
  "kernelspec": {
   "display_name": "Python 3 (ipykernel)",
   "language": "python",
   "name": "python3"
  },
  "language_info": {
   "codemirror_mode": {
    "name": "ipython",
    "version": 3
   },
   "file_extension": ".py",
   "mimetype": "text/x-python",
   "name": "python",
   "nbconvert_exporter": "python",
   "pygments_lexer": "ipython3",
   "version": "3.9.13"
  }
 },
 "nbformat": 4,
 "nbformat_minor": 5
}
