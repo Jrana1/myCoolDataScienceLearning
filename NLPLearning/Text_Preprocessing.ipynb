{
  "nbformat": 4,
  "nbformat_minor": 0,
  "metadata": {
    "colab": {
      "provenance": []
    },
    "kernelspec": {
      "name": "python3",
      "display_name": "Python 3"
    },
    "language_info": {
      "name": "python"
    }
  },
  "cells": [
    {
      "cell_type": "markdown",
      "source": [
        "# Text Preprocessing"
      ],
      "metadata": {
        "id": "X8sWmb9ZrOIw"
      }
    },
    {
      "cell_type": "code",
      "execution_count": 2,
      "metadata": {
        "id": "vp4h6DDNq1h7"
      },
      "outputs": [],
      "source": [
        "import pandas as pd"
      ]
    },
    {
      "cell_type": "markdown",
      "source": [
        "## import dataset"
      ],
      "metadata": {
        "id": "z-41whXFyY2d"
      }
    },
    {
      "cell_type": "code",
      "source": [
        "url='https://raw.githubusercontent.com/Ankit152/IMDB-sentiment-analysis/master/IMDB-Dataset.csv'\n",
        "df = pd.read_csv(url)\n",
        "df.head()"
      ],
      "metadata": {
        "colab": {
          "base_uri": "https://localhost:8080/",
          "height": 206
        },
        "id": "M4vAr-lTvOFc",
        "outputId": "52c73fd5-41c8-4371-f88e-8129665b6565"
      },
      "execution_count": 5,
      "outputs": [
        {
          "output_type": "execute_result",
          "data": {
            "text/plain": [
              "                                              review sentiment\n",
              "0  One of the other reviewers has mentioned that ...  positive\n",
              "1  A wonderful little production. <br /><br />The...  positive\n",
              "2  I thought this was a wonderful way to spend ti...  positive\n",
              "3  Basically there's a family where a little boy ...  negative\n",
              "4  Petter Mattei's \"Love in the Time of Money\" is...  positive"
            ],
            "text/html": [
              "\n",
              "  <div id=\"df-19b47f38-5e69-4a8f-9c09-93d9c1da2d95\" class=\"colab-df-container\">\n",
              "    <div>\n",
              "<style scoped>\n",
              "    .dataframe tbody tr th:only-of-type {\n",
              "        vertical-align: middle;\n",
              "    }\n",
              "\n",
              "    .dataframe tbody tr th {\n",
              "        vertical-align: top;\n",
              "    }\n",
              "\n",
              "    .dataframe thead th {\n",
              "        text-align: right;\n",
              "    }\n",
              "</style>\n",
              "<table border=\"1\" class=\"dataframe\">\n",
              "  <thead>\n",
              "    <tr style=\"text-align: right;\">\n",
              "      <th></th>\n",
              "      <th>review</th>\n",
              "      <th>sentiment</th>\n",
              "    </tr>\n",
              "  </thead>\n",
              "  <tbody>\n",
              "    <tr>\n",
              "      <th>0</th>\n",
              "      <td>One of the other reviewers has mentioned that ...</td>\n",
              "      <td>positive</td>\n",
              "    </tr>\n",
              "    <tr>\n",
              "      <th>1</th>\n",
              "      <td>A wonderful little production. &lt;br /&gt;&lt;br /&gt;The...</td>\n",
              "      <td>positive</td>\n",
              "    </tr>\n",
              "    <tr>\n",
              "      <th>2</th>\n",
              "      <td>I thought this was a wonderful way to spend ti...</td>\n",
              "      <td>positive</td>\n",
              "    </tr>\n",
              "    <tr>\n",
              "      <th>3</th>\n",
              "      <td>Basically there's a family where a little boy ...</td>\n",
              "      <td>negative</td>\n",
              "    </tr>\n",
              "    <tr>\n",
              "      <th>4</th>\n",
              "      <td>Petter Mattei's \"Love in the Time of Money\" is...</td>\n",
              "      <td>positive</td>\n",
              "    </tr>\n",
              "  </tbody>\n",
              "</table>\n",
              "</div>\n",
              "    <div class=\"colab-df-buttons\">\n",
              "\n",
              "  <div class=\"colab-df-container\">\n",
              "    <button class=\"colab-df-convert\" onclick=\"convertToInteractive('df-19b47f38-5e69-4a8f-9c09-93d9c1da2d95')\"\n",
              "            title=\"Convert this dataframe to an interactive table.\"\n",
              "            style=\"display:none;\">\n",
              "\n",
              "  <svg xmlns=\"http://www.w3.org/2000/svg\" height=\"24px\" viewBox=\"0 -960 960 960\">\n",
              "    <path d=\"M120-120v-720h720v720H120Zm60-500h600v-160H180v160Zm220 220h160v-160H400v160Zm0 220h160v-160H400v160ZM180-400h160v-160H180v160Zm440 0h160v-160H620v160ZM180-180h160v-160H180v160Zm440 0h160v-160H620v160Z\"/>\n",
              "  </svg>\n",
              "    </button>\n",
              "\n",
              "  <style>\n",
              "    .colab-df-container {\n",
              "      display:flex;\n",
              "      gap: 12px;\n",
              "    }\n",
              "\n",
              "    .colab-df-convert {\n",
              "      background-color: #E8F0FE;\n",
              "      border: none;\n",
              "      border-radius: 50%;\n",
              "      cursor: pointer;\n",
              "      display: none;\n",
              "      fill: #1967D2;\n",
              "      height: 32px;\n",
              "      padding: 0 0 0 0;\n",
              "      width: 32px;\n",
              "    }\n",
              "\n",
              "    .colab-df-convert:hover {\n",
              "      background-color: #E2EBFA;\n",
              "      box-shadow: 0px 1px 2px rgba(60, 64, 67, 0.3), 0px 1px 3px 1px rgba(60, 64, 67, 0.15);\n",
              "      fill: #174EA6;\n",
              "    }\n",
              "\n",
              "    .colab-df-buttons div {\n",
              "      margin-bottom: 4px;\n",
              "    }\n",
              "\n",
              "    [theme=dark] .colab-df-convert {\n",
              "      background-color: #3B4455;\n",
              "      fill: #D2E3FC;\n",
              "    }\n",
              "\n",
              "    [theme=dark] .colab-df-convert:hover {\n",
              "      background-color: #434B5C;\n",
              "      box-shadow: 0px 1px 3px 1px rgba(0, 0, 0, 0.15);\n",
              "      filter: drop-shadow(0px 1px 2px rgba(0, 0, 0, 0.3));\n",
              "      fill: #FFFFFF;\n",
              "    }\n",
              "  </style>\n",
              "\n",
              "    <script>\n",
              "      const buttonEl =\n",
              "        document.querySelector('#df-19b47f38-5e69-4a8f-9c09-93d9c1da2d95 button.colab-df-convert');\n",
              "      buttonEl.style.display =\n",
              "        google.colab.kernel.accessAllowed ? 'block' : 'none';\n",
              "\n",
              "      async function convertToInteractive(key) {\n",
              "        const element = document.querySelector('#df-19b47f38-5e69-4a8f-9c09-93d9c1da2d95');\n",
              "        const dataTable =\n",
              "          await google.colab.kernel.invokeFunction('convertToInteractive',\n",
              "                                                    [key], {});\n",
              "        if (!dataTable) return;\n",
              "\n",
              "        const docLinkHtml = 'Like what you see? Visit the ' +\n",
              "          '<a target=\"_blank\" href=https://colab.research.google.com/notebooks/data_table.ipynb>data table notebook</a>'\n",
              "          + ' to learn more about interactive tables.';\n",
              "        element.innerHTML = '';\n",
              "        dataTable['output_type'] = 'display_data';\n",
              "        await google.colab.output.renderOutput(dataTable, element);\n",
              "        const docLink = document.createElement('div');\n",
              "        docLink.innerHTML = docLinkHtml;\n",
              "        element.appendChild(docLink);\n",
              "      }\n",
              "    </script>\n",
              "  </div>\n",
              "\n",
              "\n",
              "<div id=\"df-047e7bc0-d1b7-4dc0-baec-934fbbde822f\">\n",
              "  <button class=\"colab-df-quickchart\" onclick=\"quickchart('df-047e7bc0-d1b7-4dc0-baec-934fbbde822f')\"\n",
              "            title=\"Suggest charts.\"\n",
              "            style=\"display:none;\">\n",
              "\n",
              "<svg xmlns=\"http://www.w3.org/2000/svg\" height=\"24px\"viewBox=\"0 0 24 24\"\n",
              "     width=\"24px\">\n",
              "    <g>\n",
              "        <path d=\"M19 3H5c-1.1 0-2 .9-2 2v14c0 1.1.9 2 2 2h14c1.1 0 2-.9 2-2V5c0-1.1-.9-2-2-2zM9 17H7v-7h2v7zm4 0h-2V7h2v10zm4 0h-2v-4h2v4z\"/>\n",
              "    </g>\n",
              "</svg>\n",
              "  </button>\n",
              "\n",
              "<style>\n",
              "  .colab-df-quickchart {\n",
              "      --bg-color: #E8F0FE;\n",
              "      --fill-color: #1967D2;\n",
              "      --hover-bg-color: #E2EBFA;\n",
              "      --hover-fill-color: #174EA6;\n",
              "      --disabled-fill-color: #AAA;\n",
              "      --disabled-bg-color: #DDD;\n",
              "  }\n",
              "\n",
              "  [theme=dark] .colab-df-quickchart {\n",
              "      --bg-color: #3B4455;\n",
              "      --fill-color: #D2E3FC;\n",
              "      --hover-bg-color: #434B5C;\n",
              "      --hover-fill-color: #FFFFFF;\n",
              "      --disabled-bg-color: #3B4455;\n",
              "      --disabled-fill-color: #666;\n",
              "  }\n",
              "\n",
              "  .colab-df-quickchart {\n",
              "    background-color: var(--bg-color);\n",
              "    border: none;\n",
              "    border-radius: 50%;\n",
              "    cursor: pointer;\n",
              "    display: none;\n",
              "    fill: var(--fill-color);\n",
              "    height: 32px;\n",
              "    padding: 0;\n",
              "    width: 32px;\n",
              "  }\n",
              "\n",
              "  .colab-df-quickchart:hover {\n",
              "    background-color: var(--hover-bg-color);\n",
              "    box-shadow: 0 1px 2px rgba(60, 64, 67, 0.3), 0 1px 3px 1px rgba(60, 64, 67, 0.15);\n",
              "    fill: var(--button-hover-fill-color);\n",
              "  }\n",
              "\n",
              "  .colab-df-quickchart-complete:disabled,\n",
              "  .colab-df-quickchart-complete:disabled:hover {\n",
              "    background-color: var(--disabled-bg-color);\n",
              "    fill: var(--disabled-fill-color);\n",
              "    box-shadow: none;\n",
              "  }\n",
              "\n",
              "  .colab-df-spinner {\n",
              "    border: 2px solid var(--fill-color);\n",
              "    border-color: transparent;\n",
              "    border-bottom-color: var(--fill-color);\n",
              "    animation:\n",
              "      spin 1s steps(1) infinite;\n",
              "  }\n",
              "\n",
              "  @keyframes spin {\n",
              "    0% {\n",
              "      border-color: transparent;\n",
              "      border-bottom-color: var(--fill-color);\n",
              "      border-left-color: var(--fill-color);\n",
              "    }\n",
              "    20% {\n",
              "      border-color: transparent;\n",
              "      border-left-color: var(--fill-color);\n",
              "      border-top-color: var(--fill-color);\n",
              "    }\n",
              "    30% {\n",
              "      border-color: transparent;\n",
              "      border-left-color: var(--fill-color);\n",
              "      border-top-color: var(--fill-color);\n",
              "      border-right-color: var(--fill-color);\n",
              "    }\n",
              "    40% {\n",
              "      border-color: transparent;\n",
              "      border-right-color: var(--fill-color);\n",
              "      border-top-color: var(--fill-color);\n",
              "    }\n",
              "    60% {\n",
              "      border-color: transparent;\n",
              "      border-right-color: var(--fill-color);\n",
              "    }\n",
              "    80% {\n",
              "      border-color: transparent;\n",
              "      border-right-color: var(--fill-color);\n",
              "      border-bottom-color: var(--fill-color);\n",
              "    }\n",
              "    90% {\n",
              "      border-color: transparent;\n",
              "      border-bottom-color: var(--fill-color);\n",
              "    }\n",
              "  }\n",
              "</style>\n",
              "\n",
              "  <script>\n",
              "    async function quickchart(key) {\n",
              "      const quickchartButtonEl =\n",
              "        document.querySelector('#' + key + ' button');\n",
              "      quickchartButtonEl.disabled = true;  // To prevent multiple clicks.\n",
              "      quickchartButtonEl.classList.add('colab-df-spinner');\n",
              "      try {\n",
              "        const charts = await google.colab.kernel.invokeFunction(\n",
              "            'suggestCharts', [key], {});\n",
              "      } catch (error) {\n",
              "        console.error('Error during call to suggestCharts:', error);\n",
              "      }\n",
              "      quickchartButtonEl.classList.remove('colab-df-spinner');\n",
              "      quickchartButtonEl.classList.add('colab-df-quickchart-complete');\n",
              "    }\n",
              "    (() => {\n",
              "      let quickchartButtonEl =\n",
              "        document.querySelector('#df-047e7bc0-d1b7-4dc0-baec-934fbbde822f button');\n",
              "      quickchartButtonEl.style.display =\n",
              "        google.colab.kernel.accessAllowed ? 'block' : 'none';\n",
              "    })();\n",
              "  </script>\n",
              "</div>\n",
              "    </div>\n",
              "  </div>\n"
            ]
          },
          "metadata": {},
          "execution_count": 5
        }
      ]
    },
    {
      "cell_type": "markdown",
      "source": [
        "# Lowercasing string"
      ],
      "metadata": {
        "id": "2Cz0fD4cyrGY"
      }
    },
    {
      "cell_type": "code",
      "source": [
        "df['review']=df['review'].str.lower()\n",
        "df.head(3)"
      ],
      "metadata": {
        "colab": {
          "base_uri": "https://localhost:8080/",
          "height": 143
        },
        "id": "yl05irFqycr2",
        "outputId": "6402a4bd-54fa-43f8-d235-f5f796ba4d35"
      },
      "execution_count": 10,
      "outputs": [
        {
          "output_type": "execute_result",
          "data": {
            "text/plain": [
              "                                              review sentiment\n",
              "0  one of the other reviewers has mentioned that ...  positive\n",
              "1  a wonderful little production. <br /><br />the...  positive\n",
              "2  i thought this was a wonderful way to spend ti...  positive"
            ],
            "text/html": [
              "\n",
              "  <div id=\"df-6738ab0d-2ff2-44f1-b457-d69814aac95a\" class=\"colab-df-container\">\n",
              "    <div>\n",
              "<style scoped>\n",
              "    .dataframe tbody tr th:only-of-type {\n",
              "        vertical-align: middle;\n",
              "    }\n",
              "\n",
              "    .dataframe tbody tr th {\n",
              "        vertical-align: top;\n",
              "    }\n",
              "\n",
              "    .dataframe thead th {\n",
              "        text-align: right;\n",
              "    }\n",
              "</style>\n",
              "<table border=\"1\" class=\"dataframe\">\n",
              "  <thead>\n",
              "    <tr style=\"text-align: right;\">\n",
              "      <th></th>\n",
              "      <th>review</th>\n",
              "      <th>sentiment</th>\n",
              "    </tr>\n",
              "  </thead>\n",
              "  <tbody>\n",
              "    <tr>\n",
              "      <th>0</th>\n",
              "      <td>one of the other reviewers has mentioned that ...</td>\n",
              "      <td>positive</td>\n",
              "    </tr>\n",
              "    <tr>\n",
              "      <th>1</th>\n",
              "      <td>a wonderful little production. &lt;br /&gt;&lt;br /&gt;the...</td>\n",
              "      <td>positive</td>\n",
              "    </tr>\n",
              "    <tr>\n",
              "      <th>2</th>\n",
              "      <td>i thought this was a wonderful way to spend ti...</td>\n",
              "      <td>positive</td>\n",
              "    </tr>\n",
              "  </tbody>\n",
              "</table>\n",
              "</div>\n",
              "    <div class=\"colab-df-buttons\">\n",
              "\n",
              "  <div class=\"colab-df-container\">\n",
              "    <button class=\"colab-df-convert\" onclick=\"convertToInteractive('df-6738ab0d-2ff2-44f1-b457-d69814aac95a')\"\n",
              "            title=\"Convert this dataframe to an interactive table.\"\n",
              "            style=\"display:none;\">\n",
              "\n",
              "  <svg xmlns=\"http://www.w3.org/2000/svg\" height=\"24px\" viewBox=\"0 -960 960 960\">\n",
              "    <path d=\"M120-120v-720h720v720H120Zm60-500h600v-160H180v160Zm220 220h160v-160H400v160Zm0 220h160v-160H400v160ZM180-400h160v-160H180v160Zm440 0h160v-160H620v160ZM180-180h160v-160H180v160Zm440 0h160v-160H620v160Z\"/>\n",
              "  </svg>\n",
              "    </button>\n",
              "\n",
              "  <style>\n",
              "    .colab-df-container {\n",
              "      display:flex;\n",
              "      gap: 12px;\n",
              "    }\n",
              "\n",
              "    .colab-df-convert {\n",
              "      background-color: #E8F0FE;\n",
              "      border: none;\n",
              "      border-radius: 50%;\n",
              "      cursor: pointer;\n",
              "      display: none;\n",
              "      fill: #1967D2;\n",
              "      height: 32px;\n",
              "      padding: 0 0 0 0;\n",
              "      width: 32px;\n",
              "    }\n",
              "\n",
              "    .colab-df-convert:hover {\n",
              "      background-color: #E2EBFA;\n",
              "      box-shadow: 0px 1px 2px rgba(60, 64, 67, 0.3), 0px 1px 3px 1px rgba(60, 64, 67, 0.15);\n",
              "      fill: #174EA6;\n",
              "    }\n",
              "\n",
              "    .colab-df-buttons div {\n",
              "      margin-bottom: 4px;\n",
              "    }\n",
              "\n",
              "    [theme=dark] .colab-df-convert {\n",
              "      background-color: #3B4455;\n",
              "      fill: #D2E3FC;\n",
              "    }\n",
              "\n",
              "    [theme=dark] .colab-df-convert:hover {\n",
              "      background-color: #434B5C;\n",
              "      box-shadow: 0px 1px 3px 1px rgba(0, 0, 0, 0.15);\n",
              "      filter: drop-shadow(0px 1px 2px rgba(0, 0, 0, 0.3));\n",
              "      fill: #FFFFFF;\n",
              "    }\n",
              "  </style>\n",
              "\n",
              "    <script>\n",
              "      const buttonEl =\n",
              "        document.querySelector('#df-6738ab0d-2ff2-44f1-b457-d69814aac95a button.colab-df-convert');\n",
              "      buttonEl.style.display =\n",
              "        google.colab.kernel.accessAllowed ? 'block' : 'none';\n",
              "\n",
              "      async function convertToInteractive(key) {\n",
              "        const element = document.querySelector('#df-6738ab0d-2ff2-44f1-b457-d69814aac95a');\n",
              "        const dataTable =\n",
              "          await google.colab.kernel.invokeFunction('convertToInteractive',\n",
              "                                                    [key], {});\n",
              "        if (!dataTable) return;\n",
              "\n",
              "        const docLinkHtml = 'Like what you see? Visit the ' +\n",
              "          '<a target=\"_blank\" href=https://colab.research.google.com/notebooks/data_table.ipynb>data table notebook</a>'\n",
              "          + ' to learn more about interactive tables.';\n",
              "        element.innerHTML = '';\n",
              "        dataTable['output_type'] = 'display_data';\n",
              "        await google.colab.output.renderOutput(dataTable, element);\n",
              "        const docLink = document.createElement('div');\n",
              "        docLink.innerHTML = docLinkHtml;\n",
              "        element.appendChild(docLink);\n",
              "      }\n",
              "    </script>\n",
              "  </div>\n",
              "\n",
              "\n",
              "<div id=\"df-8b25de33-7105-4468-a573-5ebb55620888\">\n",
              "  <button class=\"colab-df-quickchart\" onclick=\"quickchart('df-8b25de33-7105-4468-a573-5ebb55620888')\"\n",
              "            title=\"Suggest charts.\"\n",
              "            style=\"display:none;\">\n",
              "\n",
              "<svg xmlns=\"http://www.w3.org/2000/svg\" height=\"24px\"viewBox=\"0 0 24 24\"\n",
              "     width=\"24px\">\n",
              "    <g>\n",
              "        <path d=\"M19 3H5c-1.1 0-2 .9-2 2v14c0 1.1.9 2 2 2h14c1.1 0 2-.9 2-2V5c0-1.1-.9-2-2-2zM9 17H7v-7h2v7zm4 0h-2V7h2v10zm4 0h-2v-4h2v4z\"/>\n",
              "    </g>\n",
              "</svg>\n",
              "  </button>\n",
              "\n",
              "<style>\n",
              "  .colab-df-quickchart {\n",
              "      --bg-color: #E8F0FE;\n",
              "      --fill-color: #1967D2;\n",
              "      --hover-bg-color: #E2EBFA;\n",
              "      --hover-fill-color: #174EA6;\n",
              "      --disabled-fill-color: #AAA;\n",
              "      --disabled-bg-color: #DDD;\n",
              "  }\n",
              "\n",
              "  [theme=dark] .colab-df-quickchart {\n",
              "      --bg-color: #3B4455;\n",
              "      --fill-color: #D2E3FC;\n",
              "      --hover-bg-color: #434B5C;\n",
              "      --hover-fill-color: #FFFFFF;\n",
              "      --disabled-bg-color: #3B4455;\n",
              "      --disabled-fill-color: #666;\n",
              "  }\n",
              "\n",
              "  .colab-df-quickchart {\n",
              "    background-color: var(--bg-color);\n",
              "    border: none;\n",
              "    border-radius: 50%;\n",
              "    cursor: pointer;\n",
              "    display: none;\n",
              "    fill: var(--fill-color);\n",
              "    height: 32px;\n",
              "    padding: 0;\n",
              "    width: 32px;\n",
              "  }\n",
              "\n",
              "  .colab-df-quickchart:hover {\n",
              "    background-color: var(--hover-bg-color);\n",
              "    box-shadow: 0 1px 2px rgba(60, 64, 67, 0.3), 0 1px 3px 1px rgba(60, 64, 67, 0.15);\n",
              "    fill: var(--button-hover-fill-color);\n",
              "  }\n",
              "\n",
              "  .colab-df-quickchart-complete:disabled,\n",
              "  .colab-df-quickchart-complete:disabled:hover {\n",
              "    background-color: var(--disabled-bg-color);\n",
              "    fill: var(--disabled-fill-color);\n",
              "    box-shadow: none;\n",
              "  }\n",
              "\n",
              "  .colab-df-spinner {\n",
              "    border: 2px solid var(--fill-color);\n",
              "    border-color: transparent;\n",
              "    border-bottom-color: var(--fill-color);\n",
              "    animation:\n",
              "      spin 1s steps(1) infinite;\n",
              "  }\n",
              "\n",
              "  @keyframes spin {\n",
              "    0% {\n",
              "      border-color: transparent;\n",
              "      border-bottom-color: var(--fill-color);\n",
              "      border-left-color: var(--fill-color);\n",
              "    }\n",
              "    20% {\n",
              "      border-color: transparent;\n",
              "      border-left-color: var(--fill-color);\n",
              "      border-top-color: var(--fill-color);\n",
              "    }\n",
              "    30% {\n",
              "      border-color: transparent;\n",
              "      border-left-color: var(--fill-color);\n",
              "      border-top-color: var(--fill-color);\n",
              "      border-right-color: var(--fill-color);\n",
              "    }\n",
              "    40% {\n",
              "      border-color: transparent;\n",
              "      border-right-color: var(--fill-color);\n",
              "      border-top-color: var(--fill-color);\n",
              "    }\n",
              "    60% {\n",
              "      border-color: transparent;\n",
              "      border-right-color: var(--fill-color);\n",
              "    }\n",
              "    80% {\n",
              "      border-color: transparent;\n",
              "      border-right-color: var(--fill-color);\n",
              "      border-bottom-color: var(--fill-color);\n",
              "    }\n",
              "    90% {\n",
              "      border-color: transparent;\n",
              "      border-bottom-color: var(--fill-color);\n",
              "    }\n",
              "  }\n",
              "</style>\n",
              "\n",
              "  <script>\n",
              "    async function quickchart(key) {\n",
              "      const quickchartButtonEl =\n",
              "        document.querySelector('#' + key + ' button');\n",
              "      quickchartButtonEl.disabled = true;  // To prevent multiple clicks.\n",
              "      quickchartButtonEl.classList.add('colab-df-spinner');\n",
              "      try {\n",
              "        const charts = await google.colab.kernel.invokeFunction(\n",
              "            'suggestCharts', [key], {});\n",
              "      } catch (error) {\n",
              "        console.error('Error during call to suggestCharts:', error);\n",
              "      }\n",
              "      quickchartButtonEl.classList.remove('colab-df-spinner');\n",
              "      quickchartButtonEl.classList.add('colab-df-quickchart-complete');\n",
              "    }\n",
              "    (() => {\n",
              "      let quickchartButtonEl =\n",
              "        document.querySelector('#df-8b25de33-7105-4468-a573-5ebb55620888 button');\n",
              "      quickchartButtonEl.style.display =\n",
              "        google.colab.kernel.accessAllowed ? 'block' : 'none';\n",
              "    })();\n",
              "  </script>\n",
              "</div>\n",
              "    </div>\n",
              "  </div>\n"
            ]
          },
          "metadata": {},
          "execution_count": 10
        }
      ]
    },
    {
      "cell_type": "markdown",
      "source": [
        "# Removing HTML Tags from the text"
      ],
      "metadata": {
        "id": "OkzQSqF52cDx"
      }
    },
    {
      "cell_type": "code",
      "source": [
        "import re\n",
        "def removeHTMLTags(text):\n",
        "    pattern = r'<.*?>'\n",
        "    return (re.sub(pattern,'',text))"
      ],
      "metadata": {
        "id": "bFEZHVRq2jNS"
      },
      "execution_count": 13,
      "outputs": []
    },
    {
      "cell_type": "code",
      "source": [
        "df['review']=df['review'].apply(removeHTMLTags)\n",
        "df.head(3)"
      ],
      "metadata": {
        "colab": {
          "base_uri": "https://localhost:8080/",
          "height": 143
        },
        "id": "A1A5_-sX3Z7t",
        "outputId": "13fd629d-3eaf-473e-d48d-eefb117ac592"
      },
      "execution_count": 14,
      "outputs": [
        {
          "output_type": "execute_result",
          "data": {
            "text/plain": [
              "                                              review sentiment\n",
              "0  one of the other reviewers has mentioned that ...  positive\n",
              "1  a wonderful little production. the filming tec...  positive\n",
              "2  i thought this was a wonderful way to spend ti...  positive"
            ],
            "text/html": [
              "\n",
              "  <div id=\"df-18d0cdc7-b4c4-4a4e-9471-9a2c50fdd778\" class=\"colab-df-container\">\n",
              "    <div>\n",
              "<style scoped>\n",
              "    .dataframe tbody tr th:only-of-type {\n",
              "        vertical-align: middle;\n",
              "    }\n",
              "\n",
              "    .dataframe tbody tr th {\n",
              "        vertical-align: top;\n",
              "    }\n",
              "\n",
              "    .dataframe thead th {\n",
              "        text-align: right;\n",
              "    }\n",
              "</style>\n",
              "<table border=\"1\" class=\"dataframe\">\n",
              "  <thead>\n",
              "    <tr style=\"text-align: right;\">\n",
              "      <th></th>\n",
              "      <th>review</th>\n",
              "      <th>sentiment</th>\n",
              "    </tr>\n",
              "  </thead>\n",
              "  <tbody>\n",
              "    <tr>\n",
              "      <th>0</th>\n",
              "      <td>one of the other reviewers has mentioned that ...</td>\n",
              "      <td>positive</td>\n",
              "    </tr>\n",
              "    <tr>\n",
              "      <th>1</th>\n",
              "      <td>a wonderful little production. the filming tec...</td>\n",
              "      <td>positive</td>\n",
              "    </tr>\n",
              "    <tr>\n",
              "      <th>2</th>\n",
              "      <td>i thought this was a wonderful way to spend ti...</td>\n",
              "      <td>positive</td>\n",
              "    </tr>\n",
              "  </tbody>\n",
              "</table>\n",
              "</div>\n",
              "    <div class=\"colab-df-buttons\">\n",
              "\n",
              "  <div class=\"colab-df-container\">\n",
              "    <button class=\"colab-df-convert\" onclick=\"convertToInteractive('df-18d0cdc7-b4c4-4a4e-9471-9a2c50fdd778')\"\n",
              "            title=\"Convert this dataframe to an interactive table.\"\n",
              "            style=\"display:none;\">\n",
              "\n",
              "  <svg xmlns=\"http://www.w3.org/2000/svg\" height=\"24px\" viewBox=\"0 -960 960 960\">\n",
              "    <path d=\"M120-120v-720h720v720H120Zm60-500h600v-160H180v160Zm220 220h160v-160H400v160Zm0 220h160v-160H400v160ZM180-400h160v-160H180v160Zm440 0h160v-160H620v160ZM180-180h160v-160H180v160Zm440 0h160v-160H620v160Z\"/>\n",
              "  </svg>\n",
              "    </button>\n",
              "\n",
              "  <style>\n",
              "    .colab-df-container {\n",
              "      display:flex;\n",
              "      gap: 12px;\n",
              "    }\n",
              "\n",
              "    .colab-df-convert {\n",
              "      background-color: #E8F0FE;\n",
              "      border: none;\n",
              "      border-radius: 50%;\n",
              "      cursor: pointer;\n",
              "      display: none;\n",
              "      fill: #1967D2;\n",
              "      height: 32px;\n",
              "      padding: 0 0 0 0;\n",
              "      width: 32px;\n",
              "    }\n",
              "\n",
              "    .colab-df-convert:hover {\n",
              "      background-color: #E2EBFA;\n",
              "      box-shadow: 0px 1px 2px rgba(60, 64, 67, 0.3), 0px 1px 3px 1px rgba(60, 64, 67, 0.15);\n",
              "      fill: #174EA6;\n",
              "    }\n",
              "\n",
              "    .colab-df-buttons div {\n",
              "      margin-bottom: 4px;\n",
              "    }\n",
              "\n",
              "    [theme=dark] .colab-df-convert {\n",
              "      background-color: #3B4455;\n",
              "      fill: #D2E3FC;\n",
              "    }\n",
              "\n",
              "    [theme=dark] .colab-df-convert:hover {\n",
              "      background-color: #434B5C;\n",
              "      box-shadow: 0px 1px 3px 1px rgba(0, 0, 0, 0.15);\n",
              "      filter: drop-shadow(0px 1px 2px rgba(0, 0, 0, 0.3));\n",
              "      fill: #FFFFFF;\n",
              "    }\n",
              "  </style>\n",
              "\n",
              "    <script>\n",
              "      const buttonEl =\n",
              "        document.querySelector('#df-18d0cdc7-b4c4-4a4e-9471-9a2c50fdd778 button.colab-df-convert');\n",
              "      buttonEl.style.display =\n",
              "        google.colab.kernel.accessAllowed ? 'block' : 'none';\n",
              "\n",
              "      async function convertToInteractive(key) {\n",
              "        const element = document.querySelector('#df-18d0cdc7-b4c4-4a4e-9471-9a2c50fdd778');\n",
              "        const dataTable =\n",
              "          await google.colab.kernel.invokeFunction('convertToInteractive',\n",
              "                                                    [key], {});\n",
              "        if (!dataTable) return;\n",
              "\n",
              "        const docLinkHtml = 'Like what you see? Visit the ' +\n",
              "          '<a target=\"_blank\" href=https://colab.research.google.com/notebooks/data_table.ipynb>data table notebook</a>'\n",
              "          + ' to learn more about interactive tables.';\n",
              "        element.innerHTML = '';\n",
              "        dataTable['output_type'] = 'display_data';\n",
              "        await google.colab.output.renderOutput(dataTable, element);\n",
              "        const docLink = document.createElement('div');\n",
              "        docLink.innerHTML = docLinkHtml;\n",
              "        element.appendChild(docLink);\n",
              "      }\n",
              "    </script>\n",
              "  </div>\n",
              "\n",
              "\n",
              "<div id=\"df-656910ab-ea5b-4aef-884f-4925c0dd6af6\">\n",
              "  <button class=\"colab-df-quickchart\" onclick=\"quickchart('df-656910ab-ea5b-4aef-884f-4925c0dd6af6')\"\n",
              "            title=\"Suggest charts.\"\n",
              "            style=\"display:none;\">\n",
              "\n",
              "<svg xmlns=\"http://www.w3.org/2000/svg\" height=\"24px\"viewBox=\"0 0 24 24\"\n",
              "     width=\"24px\">\n",
              "    <g>\n",
              "        <path d=\"M19 3H5c-1.1 0-2 .9-2 2v14c0 1.1.9 2 2 2h14c1.1 0 2-.9 2-2V5c0-1.1-.9-2-2-2zM9 17H7v-7h2v7zm4 0h-2V7h2v10zm4 0h-2v-4h2v4z\"/>\n",
              "    </g>\n",
              "</svg>\n",
              "  </button>\n",
              "\n",
              "<style>\n",
              "  .colab-df-quickchart {\n",
              "      --bg-color: #E8F0FE;\n",
              "      --fill-color: #1967D2;\n",
              "      --hover-bg-color: #E2EBFA;\n",
              "      --hover-fill-color: #174EA6;\n",
              "      --disabled-fill-color: #AAA;\n",
              "      --disabled-bg-color: #DDD;\n",
              "  }\n",
              "\n",
              "  [theme=dark] .colab-df-quickchart {\n",
              "      --bg-color: #3B4455;\n",
              "      --fill-color: #D2E3FC;\n",
              "      --hover-bg-color: #434B5C;\n",
              "      --hover-fill-color: #FFFFFF;\n",
              "      --disabled-bg-color: #3B4455;\n",
              "      --disabled-fill-color: #666;\n",
              "  }\n",
              "\n",
              "  .colab-df-quickchart {\n",
              "    background-color: var(--bg-color);\n",
              "    border: none;\n",
              "    border-radius: 50%;\n",
              "    cursor: pointer;\n",
              "    display: none;\n",
              "    fill: var(--fill-color);\n",
              "    height: 32px;\n",
              "    padding: 0;\n",
              "    width: 32px;\n",
              "  }\n",
              "\n",
              "  .colab-df-quickchart:hover {\n",
              "    background-color: var(--hover-bg-color);\n",
              "    box-shadow: 0 1px 2px rgba(60, 64, 67, 0.3), 0 1px 3px 1px rgba(60, 64, 67, 0.15);\n",
              "    fill: var(--button-hover-fill-color);\n",
              "  }\n",
              "\n",
              "  .colab-df-quickchart-complete:disabled,\n",
              "  .colab-df-quickchart-complete:disabled:hover {\n",
              "    background-color: var(--disabled-bg-color);\n",
              "    fill: var(--disabled-fill-color);\n",
              "    box-shadow: none;\n",
              "  }\n",
              "\n",
              "  .colab-df-spinner {\n",
              "    border: 2px solid var(--fill-color);\n",
              "    border-color: transparent;\n",
              "    border-bottom-color: var(--fill-color);\n",
              "    animation:\n",
              "      spin 1s steps(1) infinite;\n",
              "  }\n",
              "\n",
              "  @keyframes spin {\n",
              "    0% {\n",
              "      border-color: transparent;\n",
              "      border-bottom-color: var(--fill-color);\n",
              "      border-left-color: var(--fill-color);\n",
              "    }\n",
              "    20% {\n",
              "      border-color: transparent;\n",
              "      border-left-color: var(--fill-color);\n",
              "      border-top-color: var(--fill-color);\n",
              "    }\n",
              "    30% {\n",
              "      border-color: transparent;\n",
              "      border-left-color: var(--fill-color);\n",
              "      border-top-color: var(--fill-color);\n",
              "      border-right-color: var(--fill-color);\n",
              "    }\n",
              "    40% {\n",
              "      border-color: transparent;\n",
              "      border-right-color: var(--fill-color);\n",
              "      border-top-color: var(--fill-color);\n",
              "    }\n",
              "    60% {\n",
              "      border-color: transparent;\n",
              "      border-right-color: var(--fill-color);\n",
              "    }\n",
              "    80% {\n",
              "      border-color: transparent;\n",
              "      border-right-color: var(--fill-color);\n",
              "      border-bottom-color: var(--fill-color);\n",
              "    }\n",
              "    90% {\n",
              "      border-color: transparent;\n",
              "      border-bottom-color: var(--fill-color);\n",
              "    }\n",
              "  }\n",
              "</style>\n",
              "\n",
              "  <script>\n",
              "    async function quickchart(key) {\n",
              "      const quickchartButtonEl =\n",
              "        document.querySelector('#' + key + ' button');\n",
              "      quickchartButtonEl.disabled = true;  // To prevent multiple clicks.\n",
              "      quickchartButtonEl.classList.add('colab-df-spinner');\n",
              "      try {\n",
              "        const charts = await google.colab.kernel.invokeFunction(\n",
              "            'suggestCharts', [key], {});\n",
              "      } catch (error) {\n",
              "        console.error('Error during call to suggestCharts:', error);\n",
              "      }\n",
              "      quickchartButtonEl.classList.remove('colab-df-spinner');\n",
              "      quickchartButtonEl.classList.add('colab-df-quickchart-complete');\n",
              "    }\n",
              "    (() => {\n",
              "      let quickchartButtonEl =\n",
              "        document.querySelector('#df-656910ab-ea5b-4aef-884f-4925c0dd6af6 button');\n",
              "      quickchartButtonEl.style.display =\n",
              "        google.colab.kernel.accessAllowed ? 'block' : 'none';\n",
              "    })();\n",
              "  </script>\n",
              "</div>\n",
              "    </div>\n",
              "  </div>\n"
            ]
          },
          "metadata": {},
          "execution_count": 14
        }
      ]
    },
    {
      "cell_type": "markdown",
      "source": [
        "## Removing URLs"
      ],
      "metadata": {
        "id": "YNr25J126ZJ0"
      }
    },
    {
      "cell_type": "code",
      "source": [
        "pattern ='https?:\\S+|www\\.\\S+'\n",
        "tmp=df[df['review'].str.contains(pattern)]['review']\n",
        "for st in tmp:\n",
        "    print(st,end='\\n\\n')"
      ],
      "metadata": {
        "colab": {
          "base_uri": "https://localhost:8080/"
        },
        "id": "N2VnR2mw6X5V",
        "outputId": "2a5d57ad-8a3b-4c85-9e60-4b7e4aa8fd5a"
      },
      "execution_count": 25,
      "outputs": [
        {
          "output_type": "stream",
          "name": "stdout",
          "text": [
            "mario lewis of the competitive enterprise institute has written a definitive 120-page point-by-point, line-by-line refutation of this mendacious film, which should be titled a convenient lie. the website address where his debunking report, which is titled \"a skeptic's guide to an inconvenient truth\" can be found at is :www.cei.org. a shorter 10-page version can be found at: www.cei.org/pdf/5539.pdf once you read those demolitions, you'll realize that alleged \"global warming\" is no more real or dangerous than the y2k scare of 1999, which gore also endorsed, as he did the pseudo-scientific film the day after tomorrow, which was based on a book written by alleged ufo abductee whitley strieber. as james \"the amazing\" randi does to psychics, and philip klass does to ufos, and gerald posner does to jfk conspir-idiocy theories, so does mario lewis does to al gore's movie and the whole \"global warming\" scam.\n",
            "\n",
            "following directly from where the story left off in part one, the second half which sets about telling the inevitable downfall and much more grim side of the man's legacy is exactly as such. in direct contrast to the first feature, part two represents a shift from che the pride and glory of a revolutionised country, to chestruggling liberator of a country to which he has no previous ties. the change of setting isn't just aesthetic; from the autumn and spring greys of the woodlands comes a change of tone and heart to the feature, replacing the optimism of the predecessor with a cynical, battered and bruised reality aligned to an all new struggle. yet, as che would go on to say himselfsuch a struggle is best told exactly as thata struggle. while part one certainly helped document that initial surge to power that the revolutionary guerrilla acquired through just that, part two takes a much more refined, callous and bleak segment of che's life and ambition, and gives it an assertive portrayal that is both poignant and tragic in a tangible, easy to grasp manner.while the movie's tone in some regards does stray off and differ quite drastically from part one however, there still remains that same documented approach taken a month ago that avoids melodrama and fabrication as much as possible. this somewhat distant, cold approach to telling che's story and struggle will no doubt turn some viewers off; indeed, i still remain reserved about whether or not the feature itself should have been named after one manif anything, the entirety of che, taken as a whole, delivers a tale that goes beyond mere biography and instead documents a man's struggle alongside those who helped carry him along the way. by no means does soderbergh try to paint a humanistic portrait here akin to what hirschbiegel did with der untergang half a decade ago (excuse the ironic contrast); che is a slow moving, reserved and meditative approach to telling a history lesson that just happens to be narrated by the one man who arguably- conducted the whole thing.yet by moving from the lush green landscapes of cuba and retreating to the bleak, decaying backdrop of bolivia for part two, the story does inevitably take on a distinctly contrasting tone that doesn't feel too disjointed from its predecessor, but does enough to give it its own reference points. here, the basic structure of part one is echoed backthere's the initial struggle, the battles, the fallen comrades and the recruiting of those to replace them, all the while we see some glimpses of the man behind the movement. yet, as anyone with the vaguest idea of the actual history behind the feature will know, part two is destined to end on a much more underwhelming, and disquieting note. this difference, in combination with the similarities to part one, make a compelling and memorable whole; by all means, both could be digested one their own (and kudos to soderbergh for achieving as such) and enjoyed as they are, but taken as one statement, che delivers exactly what it sets out to achieve.indeed, everything that made part one the treat that it was one month prior is still evident here from the subtle yet engrossing performances from the central cast to the slow building, realistically structured combat scenesthe drama inherent to the characters on screen is just as vague and indiscernible, but with a feature such as this, part two once again proves that avoiding such elements don't necessarily hurt a film when there is enough plot and reflection on other elements to keep the viewer engaged. in fact, upon writing this review i was at odds as to whether or not to simply add a paragraph or two to my initial review for part one, and title the review as a whole, yet i felt that to do so would only serve to disillusion those who may sit down to watch the entirety of both films consecutively.with that said, i cannot rightfully decree whether or not che holds up to the task of engaging an audience for its sprawling four hour plus runtime, but upon viewing both segments i can at least attest to each part's ability to do just that. with a reflective, intricate screenplay combined with endlessly mesmerising photography and nuanced performances that do justice to the movie's characters without drawing attention to themselves, che part two is every bit as compelling and rewarding as its predecessor, but this time with a tragic but uplifting, reaffirming conclusion fit for the history pages of film.- a review by jamie robert ward (http://www.invocus.net)\n",
            "\n",
            "this quasi j-horror film followed a young woman as she returns to her childhood village on the island of shikoku to sell the family house and meet up with old friends. she finds that one, the daughter of the village priestess, drowned several years earlier. she and fumiko (another childhood friend) then learn that sayori's mother is trying to bring her back to life with black magic. already the bonds between the dead and living are getting weak and the friends and villagers are seeing ghosts. nothing was exceptional or even very good about this movie. unlike stellar j-horror films, the suspense doesn't really build, the result doesn't seem overly threatening and the ending borders on the absurd.this movie is like plain white rice cooked a little too long so that it is bordering on mushy. sometimes you get this at poor asian restaurants or cook your own white rice a little too long. you end up eating it, because you need it with the meal, because what is chinese or japanese food without rice, but it almost ruins the meal because of the gluey, gooey tastelessness of it all. 3/10 http://blog.myspace.com/locoformovies\n",
            "\n",
            "i really think i should make my case and have every(horror and or cult)movie-buff go and see this movie...i did!it-is-excellent: very atmospheric and unsettling and scary...incridible how they could make such a gem of a film with the very low(read-\"no\"!)-budget they had....synopsis taken from website: \"one morning, an old man wanders out into the woods in search of his runaway cat. he finds instead a child without parents and a murder with no corpse...\"on this website(imdb) there is no trailer, but i will leave a link here to the site of the movie itself where there is a trailer which is quite unsettling so please go and check it out...www.softfordigging.com\n",
            "\n",
            "this show has to be my favorite out of all the 80's horror tv shows. like tales from the darkside, also from the same creators, this show is a rare gem. if you agree with me, please sign this petition i started, to get the word out for monsters and get it out on dvd. here is the petition address: www.petitiononline.com/19784444/petition.html some of my favorite episodes would have to be glim glim, and rain dance. i also loved the opening intro with the monster family. that used to creep me out! one of the things i would have to ask the dvd creators to include would be the organ sound heard right before where the commercial break would be. i don't know if any of you remember that part but that's one of the main things that brings back memories to me. i mean, come on! war of the worlds the tv series already has been released on dvd, so i say monsters, and also tales from the darkside, and friday the 13th the series should be released too! we the fans need to speak our minds! we need this awesome show on dvd so please spread the word!!!\n",
            "\n",
            "the basic plot of 'marigold' boasts of a romantic comedy wherein the film industry is kept as a backdrop. an american actress marigold, played by ali carter gets stuck in india. worse that, she is out of money. she then decides to play a small role in a bollywood musical, so that she can earn enough money to get back to her nation. here she gets to meet indian choreographer prem, played by salman khan. basically, the movie fails at the script level. just by calling a film a hollywood venture doesn't guarantee quality cinema. marigold stands out as the best example. the art direction is weak and outdated. musically, marigold turns out to be a dud. shankar-ehsaan-loy's is far from being acknowledged as a decent hear. actingwise, salman delivers of his most amateurish performances till date. ali larter is good and has immense screen presence. performance wise too, she is good.one can also find good reviews regarding this movie at http://www.comingsoon.net/films.php?id=36310\n",
            "\n",
            "i, too, found \"oppenheimer\" to be a brilliant series and one of the finest offerings ever on american pbs. david suchet was particularly effective as edward teller, as i recall, and the overall conception was spectacularly good. the only reason that the series doesn't rate a full 10/10 is for the low-budget production values in some areas. actual content is absolutely first-rate in my recollection.the oppenheimer miniseries will be released in the uk on july 31st! it will be a region 2/pal set, but it would seem that a region 1/ntsc set should be soon in the offing.if you have a universal player in the us, you can order the series right now from amazon uk.http://tinyurl.com/znyyqhuzzah!!\n",
            "\n",
            "the angry red planet (quickie review) like \"the man from planet x,\" this is a bizarre science fiction tale culled from an era where fantasy and science fiction were still damn near the same thing. meaning, we have some highly laughable special effects and rampant pseudo-science masquerading as science fiction. and yes, it's another \"classic\" released in a high quality transfer with a crisp picture and sharp sound--by midnite movies.so, the main reason to watch this film? oh, it's definitely the whole time our space crew is on mars. (what, you thought \"angry red planet\" referred to neptune?) prior to that is some rather poor quality space crew boarding a space ship, inside of which they smoke and toss around sexist chauvinistic banter aimed at the \"puny female\" member of the crew. it'd be somewhat offensive by today's standards if it weren't so damn funny. but mars is the real reason we're watching this thing. the film is generally black and white, but mars, well mars is screaming bloody red. it's filmed in this bizarre red plasticy sheen giving the angry red planet quite an interesting look of overexposed redness. it's really quite a sightas are the (ha ha) aliens viewers are to witness. the best being the \"ratbatspidercrab.\" you think that's a joke? that's what they call it in the movie! it's a gigantic chimera (small puppet) of a thing combining traits of rats, bats, spiders, and crabs. it bounds along all puppety and scares the sh*t out of our \"heroic crew.\" there are other weird, and poorly imagined, aliens to be seen, but that one takes the cake. eventually, after their harrowing experience on mars, the sexist crew boards their \"ship\" and returns to whatever planet it was they came from.this ain't for everyone. science fiction film buffs & curiosity seekers, and some general film buffs. fans of mystery science theater 3000 will have a field day with this one (if they never got to it on the show).2/10 modern score, 6/10 nostalgia score, 4/10 overall.(www.residenthazard.com)\n",
            "\n",
            "i really love this movie , i saw it for the first time when i was working a video store. when i went to buy it they told me it was out of print and i couldn't order it so i just today thought i would look. and then i found it they put it out in spain on dvd under the name \"algo mas que amigos\" and you can buy there it is in english and spanish on the dvd....hope this helps ..... i know how hard it is to find movies that we love that they haven't released to the u.s market. best of luck..oh for more info here is one place to look.... http://www.zonadvd.com i think it going for 10 dollars usd on ebay as well.\n",
            "\n",
            "i think that mario van peebles movie posse is a very important film. it is an excellent entry point film to a side of history many are not aware of. this is a story of early black settlers, cow boys and infantrymen returning from the spanish-american war with a cache of gold. the main character peebles is haunted by memories of his murdered father. the racism applied to the new black settlers and infantryman is explored in this film with excellent casting including melvin van peebles (marios father), billy zane, stephen baldwin and a wonderful performance by big daddy kane. one senses that peeples strived to use as many notable black (and some not so notable - smile) actors as possible : ) perhaps too many, some notable persons (issac hayes, pamela grier) are only scene in cameo, others briefly such as tone loc. the sentiment and efforts of peebles efforts to expose these actors will be understood by some. the large cast (a feat for any director) work well and do a good job of telling the story in the classic \"revenge and fight vs justice\" western.most noteworthy was the wonderful narrative role of veteran actor woody strode (from once upon a time in the west), who's own life was a barrier-breaker, within the context of a previous era not yet completed faded from memory. no other actor could have done this role better. read the mini-bio on woody strode here as a primer: http://imdb.com/name/nm0834754/bio the film does a good job of balancing action with a bit of sardonic humour. the dialog was excellent if a bit contemporary! and as others have mentioned the profanity was not accurate to that period. the sex scene was a bit much -- not really needed. there are some historical inaccuracies such as the seeming electronic branding of the cattle etc. but posse is a good effort to hopefully open the door for more historical and creative works reflective of other untold stories and events. the actual photos of real cowboys at the end credits was very nice touch.\n",
            "\n",
            "christmas in august is a perfect movie. a flawless movie about all the flaws of humanity. on the outside it may look like a movie about death, but is in fact a movie about life. i simply cannot recommend this movie enough. and be not afraid, dear readers, it is not a depressing film. as stated, it's a movie about the brightness of life coached under the guise of death. you will laugh. you will cry. you will realize that life is fragile and short. and you will leave the viewing with a better understanding of how precious life is.10 out of 10(go to www.nixflix.com for a more detailed review of this movie and reviews of other foreign films)\n",
            "\n",
            "this dvd is barely 30 minutes long, and has dull interviews that reveal that the average slipknotian has an iq of around 30. but these aspects are the least problematic here.the real trouble is that slipknot is one of the least talented metal bands to ever sell over 100,000 units of their crap. (the only reason i say \"one of the\" instead of \"the\" is because system of a down are even worse.) much like ed gein's girlfriends, this band's music is pieced together from age-old metal clichés, which are to be found in both their image and their ultra-dull music. in fact, their image is kind of fun; their videos are like snippets from cheesy horror films hence they fulfill at least some purpose as entertainment.their music, however, consists of nothing of quality - whatsoever: just a bunch of gimmicky, heard-them-a-million-times-before played-solely-at-the-guitar-neck riffs that are in no way related to each other and yet are randomly grouped together to form \"songs\" that have no cohesion, no highlights, no nothing. but if the riffs are truly bad, then the vocals are even worse: slipknot's singer has a stereotypical hence uninteresting \"evil\" growl - the kind 90% of all metal bands today have - but that is nothing compared to when this deluded hick starts trying to sing! still, what could one expect? rule no.39 of the \"nu metal\" handbook says quite clearly: \"you will alternately growl and sing. ignore the fact that the two styles don't mix well, because most of your fans are so tone-deaf they will love you even if you **** into the microphone.\" slipknot are at their absolute worst when their \"singer\" starts belching out \"melodies\".but back to their image. it's stolen, copied, ripped off, nicked, borrowed, taken without asking from none other than mr.bungle. you've never heard of them? of course you haven't. you only listen to nu-metal, and mr.bungle is quite far from that, and beyond any categorization anyway. they too wore masks - grotesque, horror ones, similar to those of slipknot, i might add - in the late 80s and early 90s. this band, whose frontman is mike patton from faith no more, never hit it big because their music wasn't directed toward the average music fans (to put it mildly).so, basically slipknot aren't even original in the image department. they have nothing at all new to offer hence will be forgotten in several years: once the masks become boring to the legions of their zit-faced fans, which is when slipknot will be forced to compete in the music market solely with their generic music.speaking of mike patton, it's interesting that a number of nu-metal bands often site his singing as a major influence. predictably - and thankfully - patton is not flattered by this and has denied being in any way proud to have been an influence for one of the worst metal sub-genres ever...having said that, enjoy this short dvd and the cheap thrills it might provide to the untrained ear and bored eye... and then polish those slipknot posters, because in a few years no-one will be taking care of them, the poor dears.having seen corey in the documentary \"get thrashed\", i finally understand why he wears a mask: he is a blue-eyed baby-faced ginger, looking like dave mustaine's younger brother! not exactly scary.for more of my music-world rants, go to: http://rateyourmusic.com/collection/fedor8/1please punish me hard, very hard, by clicking \"no\" below. that'll teach me...\n",
            "\n",
            "the chasers war on everything. 5 words that i love to watch. the chasers war on everything is an excellent australian comedy. as the name suggests they wage war on everything. they seem to love hitting the politions most of all.the chaser is one of the best comedies i have seen and is the top of the line in australia. it is on the australian broadcasting corparation (abc) which is where some of the best comedies are.it has won the australian film industry (afi) awards but did not win the best comedy at the logies. last year (2006) the chaser was aired on abc on friday nights when everyone was out so no one could watch it. well they have been moved to wednesday nights at 9pm (a heaps better timeslot) and the best thing is if i miss an episode or even just want to see it again i can download it from www.abc.net.au/chaser.\n",
            "\n",
            "love trap is not a short, it's quite obviously a full length feature film with a running time of 105 minutes.while i'm writing this, i might as well talk a bit more about love trap. i'm frequently asked what makes love trap different... this is how i respond to that question: 1) it introduces characters - one in particular - that have never been seen before in film, period.2) it reveals more truth about love, and delves more deeply into the very concept of love, than any other u.s. film ever made, in my humble opinion.3) structurally, as in the way the story is told, it is unlike any love story you've ever seen.4) it offers extremely timely insights on various cultural issues, both within and outside the black community.over time, people will come to see love trap as about as wholly an original work as possible in this era, delightfully refreshing, authentic and honest. it is a rare morality play full of food for thought.please visit www.lovetrapmovie.com for complete and accurate info about this film.\n",
            "\n",
            "pendragon pictures' new film \"h g wells' war of the worlds\", the first faithful adaptation of the original novel, has been in development for about 5 years. a theatrical release was intended for earlier this year (march, 2005) but this never happened. the dvd was rushed out to coincide with the release of spielberg's version, which hits theatres june 29.i liked this film, with certain reservations.how faithful is the adaptation? it's not quite 100% faithful to wells' book, but 90 - 95% faithful is good enough for me. at least several scenes were totally new, such as ogilvy the astronomer's confrontation with a farmer, and the unnamed writer/narrator awkwardly having tea with his cousin. but on the whole, this film follows the book very closely -- certainly much more than the classic 1953 version by george pal.its greatest fault is that it was obviously made on a very cheap budget. the majority of it seems to have been shot blue-screen and composited with digitally rendered backgrounds. this is particularly annoying during most of the interior shots, and scenes of crowded city streets. the overviews of 1898 london look like something from a video game. numerous scenes in horse-carriages were faked -- i guess they couldn't afford to rent a horse. the only scenes shot for \"real\" seem to be those in open fields or forests.but within those budget restrictions, they managed to do quite a lot. artistically, the film looks right. the martians and their tripods are quite well done, and very true to wells' descriptions. i was particularly impressed with the heat ray. although the thunder child sequence, which should have been one of the film's highlights, is very disappointing. it's a great shame that they couldn't afford more actual sets, or better quality animation.the acting and direction won't win any oscars. for the most part, they are competent, not bad, but not outstanding. the music is quite good also, though not on a par with any of the major hollywood composers.i'm actually glad this didn't get a theatrical release, because the budget limitation would have made it look much worse on a big screen. as it stands, i would rate this similarly to a bbc-tv adaptation of classic literature.a few nitpicks: most of the scenes are presented with various colored filters (mostly red). this may have been an artistic choice, but it is used very inconsistently, and seems more like a sloppy job of mastering the dvd. and the writer/narrator's obviously fake moustache mutates from scene to scene.bottom line -- is it worth seeing? if you can look past the technical and budgetary limitations, and get into the story, i think you will enjoy this, especially if you've actually read the original h g wells novel. if, however, you are easily put off by cheap production values, you'd best pass on this (unless you're a mst3k fan). be warned, however that the film runs a full 3 hours, so i don't recommend watching it all in one sitting.btw: an entirely different version of war of the worlds (aka \"invasion\") came out on dvd the same month that spielberg's hit the theatres: http://imdb.com/title/tt0449040/. this was also made on a budget, but is updated to the present day like the spielberg film - but it's much better! and to top it off, jeff wayne is making an animated film of his best-selling album from 1978, but that won't be out until 2007.\n",
            "\n",
            "heya denver fans! the animation is a cartoon's classic & one of my favorite too (and yes, it was broadcast in europe as well. including my tiny central-european country, slovenia! =:) oh, how i miss the 80's cartoons!! honestly, they were way better than today's children shows. more imaginative, creative, full of fun with good morals, more substance, great storyline and excellent character voices. computer animated shows of today lack all of these features. so all of you, who agree and want to bring back all the shows so that the kids of today's generation would see the entertainment that these cartoons brought to us, please log on the side posted bellow and sign a petition for a rerun of the 80's best cartoons! http://www.thepetitionsite.com /1/we-want-an-80s-child-cartoon-kids-show-channelcarpe denver! =) lejla\n",
            "\n",
            "this show is totally worth watching. it has the best cast of talent i have seen in a very long time. the premise of the show is unique and fresh ( i guess the executives at abc are not used too that, as it was not another reality show). however this show was believable with likable characters and marvelous story lines. i am probably not in the age group they expect to like the show, as i am in my forty's, but a lot of my friends also loved it (late 30's - mid 40's) and are dying for quality shows with talented cast members. i do not think this show was given enough time to gain an audience. i believe that given more time this show would have done very well. once again abc is not giving a show with real potential a real chance. with so many shows given chance after chance and not nearly worth it! they need to give quality shows a real chance and the time to really click and gain an audience. i really loved the characters and looked forward to watching each episode. i have been watching the episodes on abc videos and the show keeps getting better and better. although i think they owe us one more episode (number 13?). we want to watch what we can! bombard abc with emails and letters and see if its possible to save this show from extinction. it certainly worked for jerico. some things are just worth saving and this show is definitely one of them. sign the online petition to abc at: http://www.petitiononline.com/gh1215/petition.html\n",
            "\n",
            "as with all the other reviewers, this movie has been a constant in my mind after 30 years. i recall going to the library researching all that i could on this story. i even wrote to the pbs station for more information. despite all this, all i was able to find out was that it was a story printed in a newspaper in the early part of the 1900s.fastward to 2002, after years of searching ebay for on a weekly basis and there it was, a vhs copy of the movie. there was one other bidder but i was determined to win this movie. the losing bidder wrote me asking for a copy which i gave her. despite owning a copy, i still searched and searched finally finding a site that sold a dvd copy of the movie. you can find it at: http://www.johntopping.com/harvey%20perr/war%20widow/war_widow.html\n",
            "\n",
            "chop shop, the second feature from ramin bahrani, is a rare breed. it is an american film that tells a story not usually found in american cinema, the story of the of a minority living in poverty. it is a work of simple beauty. shot on location in queens, new york in the shadows of shea stadium, chop shop is neo-realism to the core. featuring a cast of non-actors, it has more in common with vittorio de sica's classic bicycle thieves than anything made in the united states. there is no score or soundtrack, all the music and sounds are diagetic. watching it feels like watching a great foreign film, it takes us to another world because it is so uncommon to see. however this other world is not post-world war ii rome or istanbul or new delhi, it is contemporary new york city.bahrani tells the story of alejandro (alejandro polanco), better known as ale. he is a 12-year-old latin-american kid with no parents or family unit to watch after him. he lives in a tiny room upstairs in the auto shop that he also works at. he shares the same bed with his teenage sister isamar (isamar gonzales). neither of them have made it passed second grade. ale, though young, is tough and mature. he acts as the head of the small family. he hooks his sister up with a job, and he himself does anything he can to make a buck when not working at the chop shop. he sells bootleg dvds on the streets and candy in subways. he searches for scrap auto parts and sells them to the many auto shops lining the street where he lives.alejandro is heartbroken when he learns his sister is working nights as a prostitute. he himself becomes progressively disinterested in abiding by the law. he begins to steal, first car parts and later wallets. like antonio, the desperate protagonist in bicycle thieves, we cannot blame ale for becoming a thief. it is merely survival. ale and isamar save up in hopes of buying a food vending van for $4,500. they see the van as their way out, and there is much optimism. however, as is usually the case in neo-realism, we know this will only lead to disappointment.polanco's riveting performance is what gives legitimacy to chop shop's realism. here is a 12-year-old character that needs to be believably independent and vulnerably naive. whether he is directing cars to the shop, selling movies and snickers bars or playing with his sister in their scanty room, it is authentic.chop shop is a sobering reminder that not all american children grow up in a land of opportunity. ale's lifestyle is what many in middle-class white america consider 'third world'. they act cognizant the poverty and deprivation in foreign lands while sipping their coffee and reading the new york times on sunday morning, but make themselves blind to it on their own streets. once you watch chop shop, you will think differently of the kids peddling candy on the subway.more reviews at www.mediasickness.com\n",
            "\n",
            "i don't hand out \"ones\" often, but if there was ever a film that deserved this sort of attention, it's \"gas!\" this is self-indulgent crap that reaches for some of the ambiance of m*a*s*h and falls completely flat on its face in the attempt.i see what corman was going for - malcolm marmorstein and elliott gould tried to reproduce gould's deathless role in the original movie version of m*a*s*h with a similar plot (in the movie \"whiffs\" - look it up here in imdb, http://www.imdb.com/title/tt0073891/ for more information).marmorstein and gould got closer to the brass ring with \"whiffs\" than corman did with \"gas!\" but didn't quite get there. neither one of those films even got close to the success of m*a*s*h.what's wrong with \"gas!\"? what isn't? no one comes close to really acting at a level above junior high school theatrics. the production values stink. someone else here mentioned the magically regenerating headlights on a getaway car, and there's more of that lack of attention to detail. nothing works the way it's supposed to in this film, and nobody cares.\"gas!\" actually put me to sleep. it's not a sure cure for insomnia, but really close. on the cinematic sleep induction scale, \"gas!\" falls somewhere between \"last year at marienbad\" and george clooney's remake of \"solaris\" (which itself was remarkable for being more boring than the mosfilm original, despite that studio's seeming unfamiliarity with the idea of keeping the audience's attention by judicious editing).judicious editing would have decimated \"gas!\" to about twenty minutes. the result would be pointless, but no more so than the original film.certain films are so bad that they have a compelling quality that makes them worth watching anyway. this isn't one of them. don't waste your time. it's not even amusingly bad.\n",
            "\n",
            "well then. i just watched an crap-load of movies--all with varying degrees of quality. i wasn't too sure about which one i wanted to review first. then it hit me like a sack-a-rats: rodentz. warn people about rodentz. this monstrosity stars nobody and is painfully dull to sit through. and it's about mutant rats killing people. yeah... real freaking' original. \"food of the gods,\" or \"willard\" anyone? those were better than this, and that doesn't say much...**possible spoiler**okay here's the story: inna laboratory the scientist and his plucky assistant are experimenting on rats and their laboratory is in a crappy neighborhood and crappy building and the plucky assistant's moronic friends show up drunk and everyone becomes food for the crazed rats and just about everybody dies and, oh yeah, there's one giant rat that looks crappy, but it gets killed, the end. there, all in once sentence! spoiler, you say? ppfff!! i beg to differ! the second we all realize that there's a giant rat, we all know it's gonna die eventually!!**end spoiler**here's the breakdown:the good: --well, i watched it for free, but for everyone else... hmmm, no. there's nothing good here. didn't hurt it, didn't help: --um... well. the gore was decent. --very average cinematography. --cg rats not as bad as they could've been in some shots...the bad: --...and in other shots, the cg rats were pathetically cheap-looking. look, if your film has a low budget, maybe you shouldn't rely on cg. lesson to take to heart. --the acting is extremely poor.--the characters are beyond uninteresting--we have a mish-mash of clichés and none of them are even done that well. --booooooooooooring.--been done before--plenty of times. --stupid story, just stupid.--giant rat looks like fat man in poorly conceived bear costume--that was kind of funny--but not funny enough to give this film any worth.--retarded, unrealistic, and boring dialog. --all the college student rat chow people are drinking tequila from huge plastic milk jugs--and yet they don't appear to be drunk for anything longer than a few seconds. way to stick with continuity, guys.the ugly: --this film is bad. simply terrible. worse than you might imagine. it's not even laughably bad like, for instance, \"scarecrow\" (2002) or \"house of the dead.\" now those movies are crap you can enjoy. even if they do make you stupider.memorable scene: --the lame action-movie ending, complete with uninjured heroes and explosion. because it didn't feel at all like the rest of this monstrosity--but still sucked.acting: 2/10 story: 1/10 atmosphere: 2/10 cinematography: 4/10 character development: 0/10 special effects/make-up: 4/10 nudity/sexuality: 1/10 (i was tending to my son occasionally during the film, so i may have missed it, but was supposedly in there) violence/gore: 4/10 dialogue: 2/10 music: 1/10 (average for the time) writing: 1/10 direction: 2/10cheesiness: 7/10 crappiness: 9/10overall: 1/10watch it only if you love rat and vermin-based horror films. wait... check that. don't watch it. it's crap.(www.residenthazard.com)\n",
            "\n",
            "first things first: i'm not a conservative. and even though i would never refer to myself as a liberal or a democrat, i was opposed to the war in iraq from day one. i think it's safe to say john cusack and i would probably see eye-to-eye on politics, in fact, i'm sure we'd become drinking buddies if we ever got to talking about how great adam curtis' bbc docs are. my point is this: don't discredit this review by thinking i'm not a part of the choir cusack is preaching to in war, inc. there's no question wi's politics are tailored to appeal to my demographic, but the problem is, the tailoring is substandard and the the film cusack co- wrote, produced and stars in, fits worse than a cheap suit.as they say \"the road to hell is paved with good intentions.\" cusack, his co-writers, director joshua seftel and even the actors involved, no doubt had every intention of making an anti- war film every bit as biting and funny as robert altman's m*a*s*h, unfortunately for the viewer, they ended up with one as unfunny and unintelligent as michael moore's canadian bacon.the current state of us politics, foreign policy and the war \"effort\" is already absurd and, as a result, tragic, pathetic and, regrettably comical -- just watch the daily show and see for yourself. the bottom line is: you can't write material as funny as what the bush administration provides us on a daily basis, so why try to compete?the main problem with wi is that it feels it was put together in a hurry. to get it done, cusack basically cannibalized grosse pointe blank (one of his best films), changed the setting and crammed in a shopping list of ideas lifted from the collected works of naomi klein. most of these ideas are rammed down your throat in the first twenty minutes of the film and what makes them so obnoxious is none of the jokes or gags or deliberately obvious references to halliburton, the neo-cons and the us occupation of iraq, are imaginative, clever or funny. the writers are so blinded by their \u0010own dogma they felt that by simply referencing these issues the film would be funny and subversive. the trouble is...it isn't. by now these ideas are yesterday's news and unless you've been living under or rock or are so blinded by ignorance, denial and sheer stupidity (read: a right-wing christian), these jokes insultingly simple.perhaps wi would work if it was more nuanced, subversive, offensive and fattened up with detailed research/insights into the occupation. as it is, the jokes and sight gags are all surface and are so bad, with so little finesse, subtlety or satirical wickedness, they did little more than make me groan. homer simpson once said \"it's funny 'cause it's true\" and the daily show proves this every night; war, inc. however proves that just because it's true doesn't make it funny. the bottom line: hyperbole isn't required when it comes to lampooning us/neo-conservative politics...it's already a big enough joke.http://eattheblinds.blogspot.com/\n",
            "\n",
            "i saw that movie, and i was shocked! robert carlyle isn't hitler he is a man who sadly tries to be hitler. the movie lies, it doesn't reflect the truth. in the scene were hitler hit the guy with his gun. hitler never had hit anybody, he wouldn't hit people with his fist, but with the fists of soldiers. understand?? another thing is: it is too obvious, that hitler is that evil, he was more clever, than shown in this movie. no german would have accepted him as the leader, because the can see that he is evil. so the real hitler haven't shown his evil side to the people.have any of you yankees watched the movie \"der untergang\" or \"the dawnfall\"? this is a great movie, with amazing actors. and its a german movie. i think, this theme of nazi-germany, should not be realized as a movie by people who don't know anything of germany. people! watch \"der untergang\": http://www.imdb.com/title/tt0363163/its a great movie about a very sad period of time for human beings around the world.\n",
            "\n",
            "the one thing that can be said about running out of time is that it's an immensely clever film. it's interesting to note that the film's writers are french, which may explain the movie's \"out of the norm\" vibe, as it doesn't really fit in with what is commonly called \"hong kong cinema\".the movie concerns a thief who plans revenge on some criminal types using the assistance of an equally clever cop. but first he has to convince the cop to join his personal crusade, and so begins a series of games where the thief manuevers the cop into his plan.quite a clever movie.7 out of 10(go to www.nixflix.com for a more detailed review of this movie or full-length reviews of other foreign films)\n",
            "\n",
            "laid up and drugged out, as a kidney stone wended its merry way through my scarred urinary tract, with absolutely nothing better to do than let the painkillers swoon me into semi-oblivion, i happened to catch this movie on cable. i wouldn't want anyone to think that i paid to view it in a cinema, or rented it, or  heaven forfend!  that i watched it straight.having played this sensationally gruesome video game and avidly trod the doomed rooms and dread passageways of the house, battling chariot (type 27), the hanged man (type 041), and other impossible sentinels, my curiosity was piqued as to how the game would transfer to the movie screen.it doesn't.the banal plot revolves around a group of \"crazy kids\"  a la scooby doo  attending a remote island for a world-shaking \"rave\"  whatever that is. (you kids today with your hula-hoops and your mini-skirts and your pat boone) after bribing a boat captain thousands in cash to ferry them there (a stupidity which begs its own network of rhetoric), they find the \"rave\" deserted.passing mention is made of a \"house\"  presumably the titular house of the dead  but most of the action takes place on fake outdoor sets and other locales divorced from any semblance of haunted residence.a fallen video camera acts as flashback filler, showing the island in the throes of a  party?! is that it? oh, so this \"rave\" thingy is just a \"party\"? in the grand tradition of re-euphemizing \"used cars\" as \"pre-owned\", or \"shell shock\" as \"post-traumatic stress disorder\", the word \"party\" is now too square for you drug-addled, silicone-implanted, metrosexual jagoffs? it is learned that the party was broken up by rampaging zombies. intelligent thought stops herei don't think the pinheads who call themselves screenwriters and directors understand the mythos behind zombie re-animation. zombies can't die  they're already un-dead. they do not bleed, they know no pain. unless their bodies are completely annihilated, they will continue being animated. at least, that's what my jamaican witch priestess tells me.which means that a .45 shot into their \"hearts\" is not going to stop them, nor will a machete to the torso. and a shotgun blast to the chest will certainly not bring forth gouts of blood. at least in the video game's logic, the shooter pumps so many rounds into each monster that it is completely decimated, leaving a fetid mush that cannot re-animate itself.yet each actor-slash-model gets their matrix-circular-camera moment, slaying zombies on all fronts with single bullets and karate chops to the sternum. seriously, these zombies are more ineffective than the stormtroopers from \"return of the jedi\", who get knocked out when ewoks trip them.i suppose the film's writer, mark altman, having penned the not-too-shabby \"free enterprise\", felt compelled to insert a captain kirk reference, in the character of jurgen prochnow, who must have needed milk money desperately to have succumbed to appearing in this aromatic dung-swill. there is also a reference to prochnow's primo role in the magnificent \"das boot\", when one of the untrained b-actors mentions that he \"looks like a u-boat captain\". \". i wonder how many of this movie's target audience of square-eyed swine picked up on any of the snide references to other films, as when prochnow declares, \"say hello to my little friend\", presaging his machine gun moment. aimed at a demographic who have not the wherewithal to comprehend the sisyphean futility of the video-game concept (i.e. the game ends when you die  you cannot win), this is merely a slasher film for the mindless and mindless at heart. accordingly, everyone dies in due course, except for a heterosexual pair of attractive white people.a better use for this film's scant yet misused budget might have been to send the cast through acting school, although ona grauer's left breast did a good job, as did her right breast  and those slomo running scenes: priceless! i especially liked the final scene with ona trying to act like she's been stabbed, but looking like she's just eaten ice cream too fast.attempting to do something more constructive with my time, i pulled out my digitally-restored, 35th anniversary, special edition, widescreen anamorphic dvd of \"manos: the hands of fate.\" ah, yes!  the drugs were suitably brain-numbing - now here was some quality film-making(movie maniacs, visit: www.poffysmoviemania.com)\n",
            "\n",
            "over acted, heavy handed, full of speeches, preachy, on the nose, and over stylized in a way only mtv could be guilty of, stop-loss is agit-prop garbage. i expected a lot more with talented young actors such as joseph gordon-levitt and ryan philippe, but screenwriter/director kimberly peirce does a hatchet job of portraying the ill effects of war on american youth. i'm sure she did some work researching the iraq war and the young men fighting in it, but you'd never guess it from watching stop-loss. in many ways this mess reminded me of catherine hardwicke's lords of dogtown, an equally inept, overly stylized, tv movie-like waste of solid subject matter.http://eattheblinds.blogspot.com/\n",
            "\n",
            "once upon a time there was a science fiction author named h. beam piper who wrote a classic book named \"little fuzzy\" which was about a man discovering a race of adorable little fuzzy humanoids on another planet. mr. piper died in 1964, but hollywood and many of today's authors starting looting his grave before his cadaver got cold. this is the book where they got the idea for ewoks from.skullduggery is such a blatant ripoff of \"little fuzzy\" i can wonder why i'm the only who's ever noticed?but don't take my word for it. here's a link to project guntenberg where you can download a copy of \"little fuzzy\" for free: http://www.gutenberg.org/ebooks/18137\n",
            "\n",
            "in these modern times (as subject known quite well to the director of the short film that this german count is going to talk about), politically correct films are the \"leitmotiv\" of the modern young filmmakers' projects. \"shoulder arms\" directed by herr charlie chaplin during wwi (the film was released only a few weeks before the armistice) is an obvious example of why the early cinema pioneers were a very bold people, certainly! to direct a humorous film inspired in the terrible, bloody first world war was a complicated matter that only few directors with those dangerous and daring ideas could be allowed to do to venture upon such delicate enterprise and with success was reserved only to geniuses.as this german count said, \"shoulder arms\" was made during wwi, that time in where definitely the whole world lost its innocence (fortunately not the german fat heiresses of this aristocrat) and it is a hilarious, inventive social satire about that and any war. the film it is full of great gags and entertaining film continuity for a story in where that tramp will live though risky and courageous adventures in the front whether a hero for the allies or not.to mock the war trenches, the unhealthiness, the frontal attacks and the germans (how you dare!!... by the way, there are a lot of inaccuracies in the film  the german soldiers by that time had moustaches and longer beards not to mention that the kaiser lacks many medals in his uniform) in an elegant, funny and delicate way it is even today a film miracle impossible of being surpassed. keeping in mind those terrible wartime circumstances, the difficult task is only possible thanks to a lot of creativity and talent. obviously herr charlie chaplin had very much of it.and now, if you'll allow me, i must temporarily take my leave because this german count must go back to the schloss trenches.herr graf ferdinand von galitzien http://ferdinandvongalitzien.blogspot.com/\n",
            "\n",
            "this is an interesting left turn for reel 13 indies. two harbors is a b&w 75 minute film from minnesota that features non-actors and is about two people finding a connection through a search for alien life. i applaud the boldness of the reel 13 programmers of thinking out-of-the-box when selecting this film. i just wish they had picked a stronger film to be bold with. as a matter of fact, i wonder if the choice had more to do with the uniqueness of the film than with the actual quality of the film itself (not that two harbors is completely without merit, but i'll get to that a little later). as is common with independent films, two harbors is limited in terms of location. there are only two real locations  a large junk dealership market and a very teeny trailer, which is the home of the middle-aged main character, vic, played by alex cole. writer/director james vculek uses the market setting to provide exposition about vic, who is one of the dealers there. he has various people walk up to vic and start very long conversations that provides us with just two pieces of information  vic sells space toys (he prefers to call them \"outer space action figures\") and he is a caustic asshole. this is emblematic of one of the two key problems with two harbors - all the chatting. i've said it before and i'll say it again  we are dealing with a visual medium and filmmakers need to work harder to tell their stories visually. there are exceptions, of course, but generally, endless patter is not so engaging on film  particularly if the dialogue is being used as exposition. pretty much all the conversations in the film are long and unnecessarily verbose. a notable example would be a few scenes which feature vic trying to play himself off as a boy scout leader in order to get a discount at a store. he argues with the clerk back and forth and these scenes don't even advance the plot one iota. this is the kind of thing that makes even a 75 minute film feel long.the other problem with two harbors is the acting. i may be a bit of a curmudgeon when it comes to performance in film, but i really don't feel like there's a good excuse for not having good actors in your films. there are plenty of good actors out there, many of which willing to work on low-budget projects  even in minnesota. many filmmakers eschew the importance of acting ability as being secondary to their visuals, but that is naïve. in narrative film-making, next to the story, nothing is more important than the acting/performances. if you don't believe the people enacting your story, your audience is lost.originally, i thought vculek was using non-actors, but as the film went on, i decided that they were probably community theater-type actors. it wasn't that they were uncomfortable on camera. it's that they were overly theatrical (i.e. big). granted, the best of the actors were the two leads  cole and catherine e. johnson as cassie, a lonely young girl that gets caught up in vic's extra-terrestrial hunt. they seemed to have the most training, but they were still a little rough around the edges. the eccentricities they displayed seemed to be surface only - not coming from a real, organic place within. ms. johnson, in particular, is an interesting case. she definitely has a presence  a midwestern charm about her, but that charisma belies the multitude of issues her character is supposed to have. she struggles to portray the idiosyncrasies that stem from a supposed life of solitude and (slave?) labor, relying on stock gestures like eye rolls, lip biting and stammering to suggest her discomfort with the outside world.i mentioned in the first paragraph that two harbors is not completely without merit and here's what i mean. without giving too much away, there is a fade to white an hour into the film. after that, the story takes a stunning turn, which allows the last fifteen minutes to be evocative and downright powerful  it's like a sucker punch to the gut, but in a good way. it's almost a huge relief to feel something after so long with these characters. the last five minutes of the film don't have any dialogue at all and the result is the best part of the film  subtle, detailed (cole does his best work of the film) and most importantly, cinematic. then, with the closing credits comes the most staggering revelation of all  that it's based on a true story, which got me to thinking. with all the dialogue, the minimal locations and the lack of cinematic qualities, it occurred to me that with two kick ass actors and a tightening re-write, two harbors might make a really kick-ass stage play  maybe even a one-act. if there are any bold theater producers out there reading this, i definitely recommend seeing if you can get a hold of the film and contact the filmmaker, reel 13 or whomever. there might be something to this story after all(for more information on this or any other reel 13 film, check out their website at www.reel13.org)\n",
            "\n",
            "alone in the dark is uwe boll's kick in the nuts to hollywood after house of the dead's punch in the face.if anything it proves just how much of a master manipulator boll is. after forcing artisan out of business over the flop that was house of the dead, one can only assume the normally credible lion's gate films only released aitd under contractual obligation after acquiring artisan's assets. because aitd is an even bigger example of complete lack of coherent film-making ability, plot exposition and just plain stealing poorly from other movies because it was supposed to look cool instead of because it fitted within the movie's framework.but then that's the point, isn't it. boll isn't trying to make a coherent film because he isn't trying to direct alone in the dark. he's just trying to manipulate hollywood.alone in the dark, like house of the dead, dungeon siege, far cry, bloodrayne and the other 3 or 4 projects that are \"announced\" or in \"pre-production\".these aren't movies to be directed, but investment portfolios. every single one of them rushed into production under the pretence that the tax law boll and his investors are exploiting may be closed within the next 2 to 3 years. the more bomb projects he can release within that time-frame, the more money he and his investors can gain. why bother making a good movie when a bad movie's making you a mint anyway? the result is movies like the awfulness of alone in the dark.alone in the dark, like all his other movies are just a cynical exploitation of hollywood's current trend for lazy film-making.and to those who support boll by calling him misunderstood or the next ed wood, congratulations, by making a cult figure out of the man, you're just making it easier for him to get investors but giving him notoriety.for more information, read here: http://www.cinemablend.com/feature.php?id=209 http://www.cinemablend.com/forum/showthread.php?s=&threadid=21699 as an aside, just don't ask me how he's getting his cast-lists together. unless the actors are in on the investment-scam somehow, that mystery has still to be uncovered.\n",
            "\n",
            "i run a group to stop comedian exploitation and i just spent the past 2 months hearing horror stories from comedians who attempted to audition for, \"last comic standing.\" if they don't have a good agent, then they don't even get a chance to audition so more than 80% of the comedians who turn up are rejected before they can show anyone that they have talent! if they do make it to an audition, i was told that it's \"pre-determined\" if they get a second chance. so what the tv audience sees is not the best comics in the us.if the comics do make it to the show, then most of them don't get imdb credits. i know this because i did the credits for all 6 seasons of, \"last comic standing\" and i don't get paid for doing the producers' job. it's really a disgrace. a month ago, i asked, \"last comic standing 7\" on facebook why the producers aren't giving imdb credits and i was banned from their facebook page!!! i am not a comedian so i do not have a personal stake in this. i just want people to know the truth. i don't like seeing anyone getting exploited and that's why i've been helping the comedians. comedians get exploited on hbo, bet, tvone and other cable networks but nbc is a big three network so those in charge should be ashamed of themselves for allowing this exploitation to happen.please watch this video of a comedian who was victimized: http://www.youtube.com/watch?v=rmb4-hyet_y\n",
            "\n",
            "hi all i am a chess enthusiast since the age of about 6. i supposed i am quite obsessed by chess, but hopefully not as much as the central character in this film.in this film, the central character reflects a real chess player called curt von bardeleben who committed suicide in 1924. he is famous for a game he played against steinitz, where a beautiful combination was played by steinitz. instead of resigning, he simply walked out of the tournament hall, never to return.the social ineptness of the central character is unfortunately a treat of some of the more serious grandmasters you sometimes get in chess tournaments. chess i suppose is a very big sacrifice, and you can sometimes end up imbalanced in other areas of life. a major example of this is the chess legend bobby fischer. although a genius, he was also very disturbed in many ways.in the film, a world championship match is depicted, as between an italian grandmaster and luzhin. the format is a knockout, which actually the world governing body of fide has sometimes employed as a format itself - going from 128 players to just 2 in the final. but this was a group knockout - which also depicts a realistic format, where the winners of each group play against each other.the position before adjournment makes for a fascinating chess puzzle in itself. in fact, i have done a youtube video about it, for you to explore the winning combination in detail - enjoy! http://uk.youtube.com/watch?v=xzptdtphwdm best wishes tryfon\n",
            "\n",
            "quote by nicolas martin (nicmart) from houston, tx: \"fine film, but dvd \"reformatted for tv\", 8 april 2002 - this is a charming and emotive film. on the other hand, the dvd i purchased has been \"reformatted to fit your tv\" by the clods at columbia tristar. there is no excuse for not providing the film in widescreen format, except that hollywood treats all films like the moronic, disposable trash that it is so used to producing. what a shame.\"what a (criminal!) shame indeed. however, there is another version out though. see here for details http://www.dvdbeaver.com/film/dvdcompare2/kingofmasks.htmwonderful performances by the two main actors (the king and doggie) btw.\n",
            "\n",
            "it is fitting that the title character in sydney white is defined from the beginning of the film by her awkwardness because the film, like the character, tends to begin every scene with a well-meant but inappropriate statement, then backtracks inadvertently making it worse and leaving the viewer in total confusion.this scenario gets old quick. now imagine a hour and a half of this, throw on the most predictable storyline imaginable; add some vague snow white and the seven dwarfs references and amanda bynes blinking in wide-eyed puzzlement and you have sydney white...for more of my review http://www.helium.com/items/1433421-sydney-white-review\n",
            "\n",
            "this is on my top list of all-time favourite films! it is a fantastic and insightful film. it was historically interesting and great to watch! i thought the acting from emily blunt was fantastic and rupert friend was a fantastic albert, the best actor was chosen for albert. the costumes were gorgeous and the settings and scenes such as the opera house, were amazing and detailed. i just loved it, all of it! i loved the childhood scenes were she's getting 'bullied' by john conroy. and where her mother says she has to walk stairs with an adult. one again the writers have done it! they produced this fantastic script! it thoroughly deserves the awards they got. (oscar and bafta wining sandy powell, for costume design. a bafta for best make-up and hair, an oscar in best achievement in art direction, best achievement in costume design, best achievement in makeup. broadcast film critics association awards for best costume design, also nominated for best actress emily blunt. cdg for excellence in costume design for film - period. hampton's international film awards for an audience award for best narrative film. pfcs for best costume design.sudbury cinefest, doesn't say what for. vfcc for best actress, emily blunt.) overall 10 wins and 11 nominations! that pretty good! http://www.imdb.com/title/tt0962736/awards have a look yourself, its really interesting! personally rupert friend should have got an award.\n",
            "\n",
            "why does the poster & artwork say \"clubbed is one of the best uk indie films i have seen in a very long time. screen international\" when it was a quote of the french distributor reported by screen international (an influential film trade publication). see www.screendaily.com/screendailyarticle.aspx?intstoryid=39811 which reads:\"pretty pictures has acquired all french-speaking rights to neil thompson's clubbed ....james velaise, president of pretty pictures, said: \"clubbed is one of the best uk indie films i have seen in a very long time.\"\"isn't this rather misleading? the distributor is bound to say it's good. are the other quotes real?\n",
            "\n",
            "in trying to keep up with the hipness of youthful audiences as the 70s approached, oacd,ycsf was the product of odder and odder material selected for musicalization. here it's past life regression, esp and hypno-therapy... pretty loopy! the real problem with the concept (music or not) are the extraordinarily low dramatic stakes; just where can a movie go, and what can happen, when a man falls in love with a previous incarnation of a girl he can't stand? it can't go any place new, but strangely, it can't even go any place old! indeed, if it could, audiences would still have no interest in the union of yves montand (playing a much older, arrogant, french ass) and streisand. (a much younger girl). we never become invested in them, their situations or outcomes. montand is miscast and his strong accent makes many of his lyrics unintelligible.it's all been given a shallow 60s veneer that makes it eminently disposable; despite efforts here and there from minelli that are respectable. it's not even adapted from a non-musical story that met with any previous success... that's just too passe! streisand occasionally has some funny business to offer, as when she's trying not to fall asleep on her roof and improvises an energetic dance. but she over-relies on her ingratiating (translation: irritating) kooky, jewish girl shtick. she can however sing very well, at both the \"gentle\" and \"powerhouse\" ends of the range. amidst a score of musical dross, she gets 3 or 4 amazing songs* of much higher caliber than anything fanny or dolly had to offer. 'he isn't you' is a sweet trifle as sublime as lorenz hart's 'my funny valentine,' but the movie isn't able to realize any impact from it; because the lyrics don't seem to be referring to anything in the movie, and nothing remotely suggests a great love is blossoming between chabot and melinda.the only cut we can view is a poor hatchet job of a much bigger film. strong research shows a longer, better-explained and more decorative, but not necessarily a better film at: http://barbra-archives.com/films/clear_day_streisand_2.html. you can be sure there's be more babs in that version but more importantly, there'd be more thoughtful work from minelli.in the end montand sends babs off to sing the title song, after she discovers he's a total dick who feeds her a self-esteem homily to allow himself off the hook. and she takes the bait. so, uh... hooray for that.(*hurry it's lovely up here, love with all the trimmings, he isn't you, & the title song)\n",
            "\n",
            "this is a great show, and will make you cry, this group people really loved each other in real life and it shows time and time again. email me and let's chat. i have been to australia and they real do talk like this.i want you to enjoy five mile creek and pass on these great stories of right and wrong, and friendship to your kids. i have all 40 episodes on dvd-r that i have collected over the last 5 years. see my five mile creek tribute at www.mikeandvicki.com and hear the extended theme music. let's talk about them.these people are so cool!\n",
            "\n",
            "again, like many other tv shows, a certain actor/actresses in thrust into the limelight, in this case miranda cosgrove, having built up her reputation in previous movies/series (especially by nickelodeon and dan schneider. she is now the star of the show, gets to sing the soundtrack ( which she did not write and thus gets even more fame from that). wonderful? it creates as much imbalance in popularity vs her other co-stars, especially nathan kress, who is continually thrust into minor rolls in each episode, except idont want to fight. cosgrove's music would never have met the charts without this show and her singing the main theme song (which was not written by her) and other covers such as about you now and stay my baby. let's not forget that she lip sync/sings her song live too. is that how you create vocalist nowadays?back to the show, cosgrove reveals more physically by acting scenes in a bikini, hawaiian hula type bra and mentioned bra many times through out. bras and seen in many cases (though not of the other actresses). wedgies are mentioned, panties have been mentioned once. og let us not forget \"oh my god\" a come phrase (are any of the scriptwriters/actors christian?) granted that the show is not meant to be just for kids, i'm surprised at the multitude of mentions of the female undergarment, especially in the first episode, where the phrase \"pointy boobs\" were mentioned. i'm not sure whether kids would thus refrain from saying that at home/in school afterwards. it's not that i'm against the mentioning or showing of female undergarments (which girls will wear), but for a show from nickelodeon, the people in charge should have realised that kids would get the exposure to such stuff. i doubt that other nickelodeon shows have such content in them.as mentioned is other reviews, the laughter track is extremely annoying and unnecessary in many parts--for example, when the character sam cries, how on earth is that a time to laugh? it distracts people from getting the joke and is used almost in every sentence.as mentioned, cosgrove is made the star of the show and thus gains the utmost fame and support from die hard fans, who even scolded a hotel staff when she is told to keep her noise level down (see http://www.youtube.com/watch?v=kk0gtfuk98u). jennette mccurdy is the second star of the show but she faces competition from cosgrove in the music industry (compare the popularity of her new single vs cosgrove's covers). as noted, the third co-star nathan kress is the least noted of the lot. he is portrayed as a atypical boy who suffers the brunt of bullying by a girl and other boys but somehow a wizard at technology. his height in early episodes make him a cute actor but unusual given his character's crush on carly/cosgrove. beyond that, kress isn't breaking into the music industry and as cosgrove's fame grows with each episode, kress falls behind. i would bet that he is the least paid of all the three actors.the content of the show is of course fictional, but also lets one wonder how it fits into a comedy series at certain times (thus the laughter track is used).it also contains several continuity errors (how can your father be and air force colonel on a submarine? us special forces have their own branches, and the air force doesn't use us submarines--that is for seals). a unique feature is that of allowing viewers to submit their own videos to be shown during or after the episodes, but again the videos somehow do not meet the theme of comedy.once again, it is a show that is riddled with mentions of the female undergarments, exposure of skin, and over used laughter tracks. it is a series which thrusts a teen actress so far into the crowd such that her songs/actions are excessive supported by her fans, leaving her co stars behind.\n",
            "\n",
            "near the closing stages of baby mama, one of the central characters goes on to describe the basic outline of everything that came before and summarises that it 'was all just a mess'; i really couldn't say it any better than that. and while the feature does have its odd ray of hope every now and again, the vast majority of what is present is too neutered to be considered relevant and too unremarkable to be worth anyone's time. a lacklustre cast, mundane script and vague, caricature characters ensure that baby mama certainly isn't taxing on the ol' noggin, but it never makes up for this through its proposed sense of humour. consisting mainly of very routine, cliché jokes based around an odd couple (rich and poor) trying to live with each other as they prepare to bring a baby into the world, the film is far too esoteric to deliver laughs outside its very thin demographic.as a story on finding love, it's not that bad, but playing this plot line as a side-story of sorts to work alongside the comedy-orientated odd couple tangent, characterisation is notably weak, resulting in a lukewarm romance that never bubbles. as characters themselves, both central figures are mildly amusing when put together in small spaces, but when left alone quickly unravel and bare their emptiness; so while we may eventually come to find the character's interactions with each other amusing at times, the comedy never branches beyond distant chuckles; we don't feel for the characters and don't find them inherently interesting, but rather their dynamic. unfortunately however, although this dynamic works best, or at least better than the individual personas, as mentioned above, it rarely stems outside of the typical confines of the odd-couple formula.kate (tina fey) is a successful business woman who has hired working class, dumb-blonde angie (amy poehler) to be her unlikely surrogate, and after angie decides to leave hopeless husband carl (dax shepard), both eventually have to learn to live together despite their obvious differences. yes, it's the typical odd-couple premise, and one that we have already seen in this year's what happens in vegas, yet what baby mama lacks that the aforementioned movie had is both chemistry between performers and semi-layered characters. kate and angie both fail to ever show much of a personality outside of their two dimensional outline and as such both performers are neglected to play out roles that demand chemistry to produce out of thin air. in fact, the movie's only real engaging performance and character comes from the underused talents of romany malco who gets lumbered with playing a door-man. of the few times that i laughed during baby mama, most of those moments were because of this man, and the remainder usually fell to shepard.it's a rare thing of course to find a movie which embodies its script's themes in the way which its world is shot and presented to us through the camera, and yet director michael mccullers goes from page to screen effectively enough. yet, for a film about babies, multi-million dollar business and cultural stereotyping, this isn't necessarily a good thing. baby mama is grade-a, hammy, plastic tinsel-town with capital bore topped with sugar. so not only did i feel emotionally distant to the characters because of their two-dimensional nature, but i simply didn't care for the world they inhabited. the dialogue, along with sets, costumes, and the script's general themes are painted in pastel blues and pinks so much that all shades of humanity are lost in the director's incessant need to make his movie feel like a neutered fantasy; these aren't characters and that isn't our world in any way so why should i care? at the end of the day however, a romantic comedy's ultimate gauge of success or failure comes down purely to its chemistry between its love interests, and the frequency of its laughs; baby mama has little going on in any of these departments. of course to say that the film is without any value at all would be unfair. i'm sure female audiences in a similar boat as lead character kate may get a slight kick out of the proceedings, but anyone else will probably just feel numb and probably bored. in this respect baby mama avoids being unbearable, but never convinces in being anything remarkable or worthy of a look to anyone outside of its immediate audience; a comedic dud and a romantic mismatch, baby mama is too light-headed to be interesting and too shallow to be entertaining.- a review by jamie robert ward (http://www.invocus.net)\n",
            "\n",
            "this 1955 heist film follows tony le stephanois, recently released from prison for theft, as he undertakes the robbery of his life. he teams up with his old heist buddies and they bring in an expert safe-cracker, cesar from milan (played by jules dassin, who also directed. he only directed because he had been blacklisted as a communist in the u.s. and couldn't work in hollywood.) the brilliance of this film is the 1/2 hour during the robbery. during all this time, there is no dialogue and no music, only the muted sounds of digging through the floor or drilling the safe. this increases the suspense and draws you in. they get away with several hundred million francs worth of jewels, but a jewel offered to a dancer by cesar brings their haul to the attention of a trio of brutal brothers. they set out to get the stash for themselves and bring misfortune in their wake. great heist/gangster movie, but i prefer j.-p. melville's films in this genre.this movie is like some lemonade i had last night. i had gone to a caribbean restaurant and the lemonade was made with sugar cane juice instead of sugar. it also had a lot of ice and was heavy on the lemons, leaving it fairly sour (which i like). the sugar cane juice imparted a subtle, slightly more mellow taste to it than actual sugar, and the ice made sure it was cold and refreshing as i sucked it down. 7.5/10 http://blog.myspace.com/locoformovies\n",
            "\n",
            "twins effect is a poor film in so many respects. the only good element is that it doesn't take itself seriously. other than that, this is not really a movie, but rather a merchandising tool for the film's two stars, popular pop idols in their native hong kong.the film itself is poorly constructed and acted. the direction offers up some silly martial arts, which is odd since the action director (and supposedly co-director) is donnie yen. like many hong kong films geared for the teen audience, the major fanbase of \"actors\" like the twins (the two girls who stars in this film) and ekin cheng, there is so much bad music to prod the audience into believing certain scenes are funny, clever, etc.the final conclusion: it's all for naught. even as a fan of hong kong movies, this is a poor film. not funny enough, not serious enough, and just generally too bubble gum fake for its own good.3 out of 10.(go to http://www.nixflix.com for a more in-depth review of this movie and other foreign films)\n",
            "\n",
            "i posted on imdb on this series recently, giving a snail mail address at the commercial arm of the bbd where one would write to appeal release. i wrote to that address, mentioning sam waterson and his popularity prominently. i just received the following reply: from: emilyfussell@hotmail.com subject: oppenheimer date: may 14, 2006 1:44:00 pm mdt to: kk2840@earthlink.net dear kate, i work for the bbfc, the british equivalent to the mpaa, and we classify dvds and videos as well as films in this country. anyway, i am currently in the process of giving a certificate to the 1980 miniseries 'oppenheimer.' while researching the work on the imdb, i noticed your post and thought you might like to know that the work is about to be released (hence the need for a certificate). i don't know which company is distributing it, but keep your eyes peeled! kind regards, emily +++++++++++++++++ hooray! i also want to contact netflix re purchasing this. kate killebrew kk2840@earthlink.net i emailed the bbc recently regarding whether their terrific series oppenheimer had ever been released on video or dvd. i have not been able to find it. i received the following reply. if you do write the bbc, be sure to mention that sam waterston is very popular in the us. you can also enter \"oppenheimer (1980)\" on amazon.com, and find a box to check to request release by the owner (bbc) and be notified when it's released. kate killebrew kk2840@earthlink.nethere's the reply from the bbc:dear katethank you for your e-mail regarding 'oppenheimer'.i was interested to read that you would like a copy of this programme which you have enjoyed. i have checked the bbc shop and on-line retailers and can find no record of it being available. we are unaware of plans at present to release this programme on dvd. however, if you would like to make a suggestion, can i suggest you put it in writing to the commercial arm of the bbc:commissioning editor bbc worldwide ltd woodlands 80 wood lane london w12 0ttmay i thank you again for taking the time to contact the bbc.regardselaine hunter bbc information ______________________________________-----original message-----{comments:} i am trying to find a copy of the terrific bbc production \"oppenheimer', a six part series made in 1980 with sam waterston from a book/script by peter prince. i watched parts of it then on pbs american playhouse, but can't find it on video anywhere.http://www.bbc.co.uk/\n",
            "\n",
            "the fox and the child is the latest film from march of the penguins filmmaker frenchman luc jacquet. the movie, which boasts just one human being in its cast, young actress bertille noël-bruneau, tells the story of the rather rare, though seemingly believable relationship between a child and a wild fox.part-nature documentary, and part-fairy tale, the film focuses on l'infant, the child, who on her way to school one day comes across the path of a wild fox in a picturesque setting, possibly france, though the exact location is never mentioned. over the coming weeks the child revisits the place where she found her fox hopeful that one of said days she will see said fox, who she begins to call lily, once again. and so it goes on. days turn to weeks, and then the summer disappears, turning to fall and then winter, promting some superb cinematography of the sweeping, white winter landscape. eventually, spring comes around again, and the young child finds her fox, and indeed does strike up a friendship with the animal. and so on.i had little to no expectation for the fox and the child. i had seen march of the penguins and was simply in awe at the film-making contained in that movie. luc jacquet is a hugely talented, and indeed rare film-maker, and i was expecting some superb, breathtaking cinematography, sweeping vistas and brilliant footage of the wildlife. this was delivered in spades. but here jacquet has a screen writing credit, and not knowing anything about the movie prior to the screening, i expected something a little different than what had previously been seen in 'march'. a fictional story.the child and the fox and the story is simple. a young, seemingly lonely child lives in a house in the middle of nowhere and walks to school, seemingly on her own, every day, seemingly without a care in the a seemingly perfect world. without the hint of an adult in sight. brilliant. so she strikes up a friendship with a fox.with a film like this, you have to dismiss your own opinion of the movie and put yourselves in the shoes of the target audience. this is a film which is aimed directly at children from the age of, i'd say, six and up. or to families who fancy a trip to the cinema with their breed one wet sunday afternoon. not a 31-year-old male who gets his kicks from films like the recent, brilliant wanted and the like. but, me being the newbie london critic, i put myself in the shoes of an excited eight-year old girl for the 95 or so minutes of the fox and the child. now, i have a few problems with this film. as a 31-year-old lad, and loyal lover of all things cinematic, i loved the wildlife and landscape photography. it's visually stunning. the direction of the animal characters is brilliantly executed -- as good as you will find on any of attenborough's efforts. as an impressionable, short attention spanning eight year old, i loved about the first half hour -- then i lost interest. it's a little repetitive and in places quite harrowing and bloody scary for a younger child, particularly the rather dark ending. as a 31-year-old male -- i was a little frightened in places. wuss.so, it's not a child's film. it's not really an adult film and i felt a little let down. is it a good family film. depends. it's educational maybe, and the film carries a message. it's definitely not a film i would pay the hard earned green to go see and i'm racking my brains to try and recommend it to a certain type of film goer. it's hard, but i know some will go see and fall in love this film. it's very european in feel and certainly if you are a fan of wildlife themed flicks, give it a try. unsure? well i'd wait for the dvd for a wet sunday afternoon in then. -- paul heath, http://www.thehollywoodnews.com, july 2008.\n",
            "\n",
            "as i've hopped from film to film at the sxsw film festival, this film from the opening night has stayed with me. curious, because it is a dark comedy with quite an absurdist premise.a family of hyper-stressed fundamentalists in a small community of like minds is changed by an auto accident. three of the four have the same near-death experience in which they are fully opened, as each receives a reversal of the concept of original sin (i won't spoil this scene with the specifics). the fourth, a middle school cheerleader, is not just the only one physically hurt, but also is unchanged and is now witness to what has become her crazy, apparently spiritually bankrupt, family. every new moment brings a new outrageousness as they have become innocently naked and frank in every way, horrifying her and then the community.forgiving the franklins has the most beautiful sexual awaking scene between a husband and wife that i have ever seen, to the sarah brightman song \"deliver me,\" a song that can now bring tears to my eyes.the cast is terrific. robertson dean as the dad, vince pavia as the son and aviva as the cheerleader daughter are excellent, mari blackwell plays peggy, the mom's questioning neighbor and best friend perfectly, a much more nuanced, fleshed out, real character than what might have been (everyone in middle america knows a peggy). and theresa willis positively glows as betty, the mom. there are lots of risks taken by the actors playing the three changed characters, and these risks pay off.i hope this film gets a wide release - if so, i plan to see it again.very accurate review at: http://www.fosteronfilm.com/phil/forgiving.htm\n",
            "\n",
            "as is well-known among long haired youngsters who are incredibly interested in this herr graf's silent rants, during summertime aristocrats like to travel to exclusive and distinguished places in order to avoid the heat as well hordes of coarse people taking their ease. such bizarre travels around the world also happen in \"three ages\", a charming and elegant piece of silent work directed by old hands, namely herr buster keaton and herr eddie cline.obviously this german count liked most the first segment focused on the stone age due to the affinity that this aristocrat feels about that ancient time. preferring that to the second segment which takes place during the glory of rome (it should have included the cause of the fall of the roman empire, that is to say, barbarians, or the same thing, germans). of course, the third segment takes place during modern times but this teutonic aristocrat thinks that even 100 years ago should qualify as modern.the leitmotiv that moves herr keaton and his companions to travel and endure the strange and hilarious happenings during three different ages, is the search for love, a very complicated subject to understand for aristocrats who prefer the search for money and self interest. every time that \"three ages\" is shown in the schloss theatre, it is always a pleasure to watch a funny, witty silent film (even for a serious german count), an oeuvre full of gags and gadgets, puns, pratfalls and acrobatics, visual and astounding technical tricks, an absolute silent delicatessen that is perfect to allow one to endure the various and coarse summertime severities.and now, if you'll allow me, i must temporarily take my leave because this german count must flirt with an old teutonic heiress who doesn't look her age.herr graf ferdinand von galitzien http://ferdinandvongalitzien.blogspot.com/\n",
            "\n",
            "in this episode, locke and eko go searching for the \"?\" symbol that we saw during the lock-down on a previous episode. michael, having shot ana lucia and libby, struggles with his actions as libby inches closer to death.the most interesting thing about this episode (i think). is during the commercial break. locke and eko find a hatch under the plane that killed boone in season one, and a new training video ends with \"copyright, the hanso foundation, 1989\" in a following commercial break, a rather bizarre and nondescript commercial advertises \"the hanso foundation\" (a planted commercial), and the website advertised (www.sublymonal.com) leads the visitor through a world of information about life on the outside of lost's storyline. a must see for all fans!\n",
            "\n",
            "sandra bullock paints a believable picture as the troubled detective, though seeing her as a cynical man-eating victim-turned-persecutor requires a leap of faith (or two). the two creepy troubled kids are portrayed adequately by ryan gosling and michael pitt. i do have quite a bit of trouble getting ben chaplin into the equation (same problem arose when watching 'the truth about cats & dogs' (http://us.imdb.com/title/tt0117979/). i mean, when you put an englishman into an all-american movie, shouldn't there at least be a reason to put him there? shouldn't there be some story leading up to the fact that an englishman is serving as a detective on an american police force? shouldn't there be some dialog pointing out and explaining that rather obvious fact? or even some jokes about him being that english? he looks out of place here, as he looked out of place in 'the truth about cats & dogs'. producers really should take notice, it distracts and annoys the audience (at least me). nothing wrong with chaplin's acting, it's just a matter of making an actor who is 'out of place' believable and not putting him somewhere without a good reason or a storyline. the movie itself: well, thrillers, especially those dealing with solving a complicated crime, require some suspension of disbelief. this one's no different; actually, it requires quite a bit more effort than usual. in order to make bullock smart enough to crack the case despite of all the pressures requiring her to let go of it, some unrealistic assumptions are being made about the evidence, and i'm sure a lot of people who watched it had a few moments of 'come on, this is highly unlikely under the circumstances' or even 'hey, you can't brush evidence aside like that to wrap this movie up!'. like i said: reasonably entertaining and watchable. just don't use this as required viewing for detective exams. there are no shortcuts there.\n",
            "\n",
            "the centurions is one of the best cartoons ever and it needs to be put on tv and dvd so people can have younger generations enjoy such a good show that is far better than the garbage they have made in the last 14 years. i have a petition online that is at the website address http://www.petitiononline.com/6600f/petition.html that originally was trying to get this show on five days a week but is now trying to get this show onto dvd since the tv station it was focused on has bad public relations. we all need to convince the people who own this show to put it on dvd so it can be seen by future generations. also since now hasbro toys owns the toy line of this show we might want to try to convince them to make a live action movie of it just like they have done with transformers and sometime this year g.i.joe. we need good cartoons like this one to come back and be enjoyed by the younger generations. please do sign this petition so we can one day have dvds of the guys who are famous for yelling \"power extreme!\"\n",
            "\n",
            "'rise of the footsoldier' follows the unrelentingly cruel journey of gangster carlton leach and his associates through drugs, violence, sex, violence, guns, violence and did i mention violence?protagonist carlton leach (ricci harnett), member of the i.c.f (inner city firm); a group of football hooligans turned professional gangsters, guides the audience through the events leading to the 1995 'range rover killings', in which three gang members fell victim to particularly vicious professional 'hits'. leach's success as a doorman and talent for locating aptly violent friends to control unruly punters at a local nightclub launches him into the company of notorious drug dealers and gangsters, profitably benefiting from the 80s/90s rave scene and drug culture.opening with brutally realistic shots of the dead men, the viewer is left thirsty to understand what happened, but left wholly unsatisfied. the next 2 hours meander through a series of countless character introductions. each of these basically establishes yet another typical 'hard man', shows him assaulting usually undeserving victims, before probably coming to an even nastier end. what little emotional understanding the audience is allowed to form for a few of the characters (for example a family man blamed for missing drugs) is quickly destroyed when they are either anti-climactically killed, or their storyline left unresolved. the hints of a plot introduced in the beginning are inadequately concluded with vague impressions of how the murders occurred, as the events are slotted into place with little reward for persevering with the hazy muddle of previous events. this film has been made with a standard formula in mind, for an audience who prefer violence and 'ard nut' slang to an actual storyline. 'rise of the footsoldier' borrows too much from 'football factory', leaving out the good bits, demonstrating no moral ramifications of hooligan subculture or establishing empathy with the protagonist. the violence, although brilliantly shot, seems excessive and implausible because no one is around long enough for the audience to form an emotional attachment. the implication that the gangs are untouchable by the police is fair enough, but machete-wielding doormen regularly committing blatant murder in public places pushes the imagination of even the most willing viewer. the audience are left bewildered as to the relevance of many key events and developed characters that had no knock on effect on the eventual conclusion. attempted 'gritty-realism' is further destroyed with a substance called 'truth serum', which the turkish mafia use to coax honest answers from unwilling individuals. this is not the genre in which to invent psychologically unrealistic drugs, and renders the interrogation almost absurd.the actual scenes of violence (before becoming repetitive) hold some tension, spliced with rapid flashes of colour or the end of a film reel. seamlessly choreographed brawls coupled with obligatory but effective shaky hand-held camera work saves the film, but unfortunately the plot (or lack there of) limits it to a niche demographic.in essence, the events this film is based on aren't deservedly represented, and an adequately sequential storyline is sacrificed for stereotypical characters and an unoriginal plot. this film has a place in the market, but if you like a bit of brain with your brutality this one isn't for you. http://www.obsessedwithfilm.com/\n",
            "\n",
            "they say that it is always better in horror movies to leave things to the imagination of the viewer- to hide certain details from the audience in order to tickle their sense of imagination, dip into their fears and let that give birth to their darkest thoughts.that was not the case when i watched bakjwi, under the american title thirst. now playing at select theaters near you. seems like the film makers did not want to spare you any details. there will be blood in this film and you will try to look away.for rest of review please visit http://without-terebi.blogspot.com/2009/08/thirst-aka-bakjwi.html thanks and hope you enjoyed reading above.\n",
            "\n",
            "overall, i thought it a very nice movie - i hate to use the word 'nice' as it's rather dry but it was very beautiful to look at and the central performances by rupert friend and emily blunt were very strong. what i liked most was that despite the gleaming aesthetics of the costumes and the settings, all gilded and shiny, this aspect never took over the heart of the film which was good, strong writing (thank you julian fellowes :d); nothing too flamboyant or saturated with pomp, i.e not sensationalised greatly (when victoria is dragged out of bed to be informed she is now queen, well you couldn't get a less glamorous hand over of the crown). it was paced gently and every line in the film held its worth.undoubtedly the portrayal of the love between victoria and albert, though somewhat fairytale-ish on the face it, was in fact a slow burning candle and friend and blunt did well to show how effortlessly these two people 'fitted' together despite the union being initially arranged (my fave bit was when they come home after hunting and victoria simply hugs her new husband from behind; so much said without any words, that's what film is all about). blunt held her own beautifully as well, she has a face that demands your attention and i can't not mention the costumes that she wears - every one simply gorgeous. if i was blunt i would have trouble parting with any of them! the rest of the ensemble cast all played their roles well, harriet walter as queen adelaide being a highlight.the only qualm i have, is that it lacked a sense of urgency, or an event that could have made the movie a little more exciting? (it was rather tame) i don't know, i wanted 'something' to happen that would have victoria draw out some strength and prove her worth a little more. when she and albert argued, i loved it, i could have done with some more pivotal dramatic moments, though that may be just me.lastly, at the risk of sounding all patriotic, it did renew a sort of pride and awe in the crown and what it takes to be in such a position, especially in one so young. this may be in part to the fact that this film's snap shot of victoria's young life is immediately apt to what i have been writing for one character of mine in 'the sword & the scion' but nevertheless, it did flag up those feelings (for those following my book, can you guess what character victoria so aptly reflects?) it might have been in part to the film displaying how ridiculous the government were back in those times as they didn't seem to give two hoots about the poor and dispossessed of the nation, which only in turns renews appreciation that queen victoria and prince albert were so active in this domestic domain. it made the government appear rather useless - nothing much has changed then i suppose.blog on films and books: http://sempergratis.blogspot.com\n",
            "\n",
            "i've seen a movie thats sort of like this, were a transsexual drugs woman and he then picks there nose with a knife and rips there nose to peaces. he then slices there tongue and eats it.the most gruesome part of the movie is were he cuts there left eye out and starts dancing with it. he then starts to eat the woman naked.(i'm not sure what the movies called but i know it's a cult movie and that it was made in germany).anyway the nose picker is fairly crap.its a crap movie and the picture and volume quality is very rubbish.please don't waste you're time buying and watching this movie its totally crap.i prefer day of the woman also known as i spit on your grave (its one of the best cult movies ever) check out this link http://www.imdb.com/title/tt0077713/\n",
            "\n",
            "i am so upset that abc is giving up on yet another show that has the chance to be a real winner. this show is so good, the writing and storyline were great, an actual original idea for a show instead of another boring reality show. the casting was spectacular! not only were the characters and actors right on, but these are a very talented set of actors. the concept and idea is really a new and cool idea for a tv show, many of us share this whole idea of \"connections\". i really love the characters of steven, laura, whitney and damien. but to be honest there is not one person connected to this show that i did not like, even those that only were in for a few episodes (sheri appleby for example). the acting and characters are so easy to like and so talented!!. i wish abc had given this show more of a chance, and not interrupted the show midway, also it was not advertised enough. truly unfair!! to everyone!!. this show showed great promise. i for one will let abc know how i feel and will keep sending emails to keep this show alive. please join me, i know we can do it. it worked for jerico. (by the way where is episode 13? i want that last show!). please support this show and send emails to abc,we can do it!!! this show is well worth it!!! petition online to save six degrees: http://www.petitiononline.com/gh1215/petition.html we can do it!! sign this petition asap!!!\n",
            "\n",
            "i just saw a terrible film called the sleeping dictionary. one reviewer on four word film review (www.fwfr.com) got it right right when he wrote, \"from a to zzzzzzzzz.\" the story is about an english colonialist jerk that comes to malaysia to \"civilize the savages\" so to speak and ends up falling in love with his sleeping dictionary. a sleeping dictionary is a native malaysian prostitute fluent in english that services englishmen colonialists and teaches them her native language in return for ... well the movie never really makes that clear, but i can only assume he gives her money or something. needless to say, the movie focuses a lot more on the \"sleeping\" part than on the \"dictionary\" part of the job description. things get complicated for our young hero when the forbidden love affair gets compounded by her culture, his soap opera domestic situation, and his own boundless stupidity in every major decision he makes throughout the film.so yes, the movie has some major flaws, but on the other hand, it delivered exactly the two things i rented it for in the first place: a beautifully photographed exotic location, and an even more beautifully photographed and exotic woman that plays the sleeping dictionary, jessica alba. my friend told me that this crappy movie was her at her most beautiful and damn was he right. she's not a great actress, and doesn't quite pass for malaysian, and its pretty obvious that they use a body double for the nudity, but who cares? jessica alba has that rare face and figure that's more than just sexy, but also beautiful in the way that a vivaldi violin concerto or a rembrandt painting is.(p.s. sorry to all you feminists out there who discourage objectifying women, the \"male gaze,\" etc. etc., but i hope you can understand that i mean no disrespect.)\n",
            "\n",
            "as a serious horror fan, i get that certain marketing ploys are used to sell movies, especially the really bad ones. so i wouldn't call it naiveté that i assumed this was softcore horror ripping off cannibal / zombi / jungle holocaust. unfortunately, i was completely wrong as this is very hardcore. i should have realized that when i saw the odd \"no actual or identifiable minor was used\" warning. notice the identifiable part as though he is daring us to catch him? a group of scientists, half of whom are pretty women in bikinis, are led by a sea captain with a penchant for 69ing on the beach, in search for a mutated native killing villagers. due to a nuclear bomb detonated on a supposedly evacuated island, the radiation turned this last man into a rapist/ killer.writer/ actor george eastman is the only one trying here and succeeds in keeping his clothes on. the sex scenes are whacked out. women walk around nude exuding a strange overconfidence and one even asks for rape when her husband turns her down. well, two chicks slapping each other naturally turns into a lesbo scene because women are horndogs. i saw the chick toss another chicks salad and finger herself.if there is anything you should know about this film, it is that. because the rest of this insane movie is just the same. oh, who am i kidding? there is a ton more to tell here. like the white \"duchess\" that pays for 2 black guys to tag team her in a parlor. or the \"duchess\" taking off her top to use as a bandage when the captain cuts himself. when he refuses her advances, she starts crying. so being the good gentleman he is, he reluctantly lets her pleasure him in front of the other crew members. i was honestly waiting for the pizza guy to show up and the \"duchess\" to ask if there is any other way to pay him.and all of this happens before they depart for the island to conduct their research. wait, i thought this was a zombie flick? but the zombie doesn't enter until the 73min mark, but by that time everyone else has been \"entered\" plenty. i found myself hitting fast forward a few scenesor several. this is my first splatter porn flick and i don't think it does that subgenre any justice. i guess it is the woman in me talking when i say that i would like more plot and less sweaty, slobbering, hairy sex. funny thing is this could have worked as a decent horror film as the idea of atomic bombing mutating a bitter man and killing his family, was a good one. even eastman's character shakes his head and walks away from a couple copulating. it makes me wonder if it was the character or the writer himself that was disgusted.i don't feel like going into the sound or film quality because you should have already guessed it was bad. this production was shot back to back with 3 other movies including erotic nights of the living dead, which sports most of the same cast. eastman has said this was done because everyone wanted a vacation and a paycheck. nevermind, i feel like talking about the sound suddenly. the sound was weird during the sex scenes because while the cast is speaking italian, it seems as though they recorded english voiceovers and played that over their dialogue. so while 2 people are boning, i can clearly hear someone in the background say, \"no! yes! wonderful! wait!\" there was a slightly amusing italian score that couldn't save this movie. the sfx were minimal at best and consisted of some blood in only a few scenes. and i would like to point out that there were no violent rape scenes as the bright warning label said on the dvd cover (ahem, another marketing ploy), so no fear there. only fear the bad movie.presented in widescreen 1.85:1 aspect ratio. i watched the region 1 not rated version running at 113min released in 2005 by exploitation digital. there is apparently a xxx version by alfa digital, which is the same running time, so i doubt anything is different. prices vary, but you shouldn't pay more than $25.00 for a copy. or as i would recommend, pay nothing and pretend it doesn't exist.favorite quote: shipmate, \"civilians are bad luck. women are bad luck. they're scientists too? they must really be monsters.\" dvd extras: original trailer with hardcore shots & kills to make it look more interesting than it is, trailers for ss hell camp, emmanuelle, & enotld, and a very informative interview with eastman.bottom line: lame porno, but even weaker as a horror film. either get real porn or watch real horror.rating: 3/10 by molly celaschi www.horroryearbook.com\n",
            "\n",
            "gojoe takes a little getting used to at first, but the final result is very satisfying. the tale, about a murderous samurai who seeks to redeem himself by opposing an effeminate, but dangerous samurai, is worth more than a watch. there is a lot at stake here, from physical survival to soulful salvation. the movie may seem a bit similar to other anime-inspired samurai film at first, but it does eventually delve into more mature/adult territory soon after.not to be missed. gojoe is one of the better samurai movies to come around post-kurosawa.8 out of 10(go to www.nixflix.com for a more detailed review of the movie and reviews of other foreign films)\n",
            "\n",
            "this movie is a horrible distortion of lies and exaggerations that were put together by the most shameless lunatics to ever work on a tv movie. the story is wrong and a complete lie. there is nothing in this movie that accurately portrays senator mccarthy. it's just a horrible scam and it amazes me that anyone associated with this production ever got another job in the industry. the marxist-leninists who wrote this trash did so in order to attack a man who has been vindicated by history and their fear that anyone would dare to destroy communism. unfortunately for these communist nut jobs, ronald reagan took over where mccarthy left off and they couldn't stop him, thus the end of the soviet union and its' cohorts.never, ever watch this film if you're looking for truth regarding sen. mccarthy. read ann coulter's book, \"treason\" for a better look at the truth about sen. mccarthy.it will also help if you read about what really happened to senator mccarthy by reading http://www.thenewamerican.com/tna/1996/vo12no18/vo12no18_mccarthy.htm\n",
            "\n",
            "i didn't see this movie when it originally came out, but there has been a couple songs sharing the title and the term still gets used from time to time and i figured there must be something to the flick, so i dug it up and gave a view. now i would like the approximate hour and forty five minutes of my life back(it seemed much longer). there was nothing particularly bad about the movie, the acting was good, no large plot holes, of course there wasn't much plot to have holes in. there just wasn't a lot to the movie. there was some chemistry between the two but nothing compelling about their relationship; nothing interesting about their story. near the end when he attempts to chase down the train to catch his fleeing romance, neither my wife nor i wanted him to catch her. honestly we figured they were better off with out each other and if they did get back together we really didn't care. so what's that say about this love story when even a 25 year old sappy romantic like my wife had no emotional investment in the relationship. i should have left this one in the \"missed\" category.logan lamech www.eloquentbooks.com/lingeringpoets.html\n",
            "\n",
            "i have read the other user comments and i am happy someone has compared it to the original by kamal called perumarzhakalam released in 2004.the original had a tight story and no loopholes as described above about the indian govt not having proper records, or even bad shoots and bloopers.the story is great and a touchy one and well described by others. but sadly nagesh taking credit for it as his own story is a sad thing and amounts to nothing other than plagiarism.i guess he has been affected by bollywood's so called \"inspired\" syndrome.he must at least give credit where it is due.i liked some of his older movies, but now i suspect if any of them were originals after all.here is a link in imdb for the original masterpiece. http://www.imdb.com/title/tt0425350/#comment i recommend everyone to see the original, even with subtitles if needed, to know what class direction and class acting is all about.\n",
            "\n",
            "i loved the way earth is made. its photography is unbelievable, editing it must have been an interesting challenge and patrick stewart's voice over is perfect. in addition its music and sound editing make watching earth a profound experience you don't want to miss. you really are on a journey to where you would probably never-ever end up by yourself. and although, at first, i was quite surprised by the laughter of the audience as we see animals in their daily fight for survival, i could not help laughing myself sometimes. nature simply seems too impressive to comprehend.but, rather than the need to laugh, i left the cinema with a profound question:\"howcome 200 years of industrial revolution can destroy natural systems that have been here for thousands and thousands of years?\"with this question in mind, you'll understand how i felt somewhat bitter and powerless after seeing earth. i felt the immediate need to change the world, to help all these animals in their struggle, to undo the changes we have gone through the last centuries and to stop the global heating at once (all that not being a ngo activist at all!)...so i immediately visited the website mentioned at the end of the film to see what i could do to save our -still- fantastic planet (and the polar bear) from its depressing fate... (www.loveearth.com)i was a little disappointed to find no direct answers to my questions there. yet it was very interesting to find out more about the film and the struggle its crew went through.i hope that cutting on my energy-use will do. i don't know how else to shorten the distance polar bears have to swim to reach land before they drown or attack animals they cannot beat in their exhausted state...an inspiring film it is, but i didn't leave the cinema feeling very happy.\n",
            "\n",
            "the original 1965 japanese film \"gamera\" http://pro.imdb.com/title/tt0059080/ was essentially an updating of the darker, less kid-oriented gojira (godzilla)for 1960s sensibilities. gamera, of course, is a giant, flying, flame-throwing turtle who literally consumes energy - not quite as big as some versions of godzilla, but generally similar in most ways. this version of the original film was edited and recut by the notorious sandy frank. and just like the americanized version of godzilla (\"godzilla king of the monsters\"), \"gammera the invincible\" gets more than just the spelling wrong. the american scenes are not nearly as ludicrous and annoying as those added to the great gojira, but don't really add much to the story either because there is little follow up on them. the film starts off promising, there are a few scenes worth of character development, and there are enough personalities to create some tension outside of the main plot. once gamera appears, however, the film begins to descend into a fairly run-of-the mill kaiju film.the acting is good enough- even the american add-ons are ok. the directing is pretty good for this period and genre, and the special effects are not bad at all for their time (all miniatures). some of the sets and backdrops are actually very good. the biggest problem here, of course, is that there is little to nothing original about this film. gamera, however, develops a much more unique personality in his later films - most of which are worth watching if you are a kaiju fan.\n",
            "\n",
            "my wife and i never got into the movie.we thought it was way to sloooowwww and to many subtitles.i understood they needed them for vietnam,but took to long to get out of asia.she wanted it off i said it's going to get better.it never did yes they had a tough time trying to get to america,but i wanted to see him looking and finding his dad.not at the end but forming a relationship.did i mention it was slllloooowwwwww.i love to watch a movie to feel good not sad at the end.i know they don't make many good movies now days.i think action movies are the only ones to watch.i have been renting a lot from netflix and now blockbuster,maybe 20% are worth seeing.i don't kneed realism or facts just a movie thats fun and makes you feel good.gary\n",
            "\n",
            "webs is a pretty odd movie, albeit slightly watchable. richard grieco plays an electrician who gets suck into a parallel earth overrun by mutant spiders, or something like that. the film itself was made with a modest budget, which explains the limited locales, and the somewhat tedious screenplay that manages to do very little with quite an interesting premise. basically a 90 minute episode of the tv show \"sliders\", and nothing more.4 out of 10(go to www.nixflix.com for a more detailed review and reviews of other films in the genre)\n",
            "\n",
            "despite the rave reviews this flick has garnered in new zealand, any hype surrounding the production is sadly undeserved. apart from a clichés-only plot, the movie is let down by some weak acting, accents, and overall lack of tension.whilst having the overall look of a big budget (for nz), the feel is decidedly small-town kiwi...has anyone not seen the brothers ?? ( http://imdb.com/title/tt0250274/ ) those who have will pick the similarities straightaway....i've heard comments that scenes like the boys playing basketball etc were shot to poke fun at the clichéd \"boys talking crap\", but it comes across as forced...i believe oscar keightley sees himself as deeply ironic, but again his delivery always seems merely vaguely self conscious.those who have any doubts left at all that samoans-living-in-nz culture has been deeply , hopefully not permanently ,affected by american speech , culture, and everything inbetween will certainly have their minds made up at the end of this movie.robbie magasiva always looks good on screen , but is let down by the script..it always rubs me up the wrong way when a \"comedy\" has scenes that are set up in such an obvious way, you are left feeling like having a good groan at the clichéd punchline - see the wanna be white boy...i know someone who found this movie hilarious -however, that person has the brains of a tadpole, and would struggle to spell her name if offered a million dollars....that kinda sums up the mentality of this flick , ok but not great , fun but not funny.....wake up nz - this is not a 5 star movie despite all the glowing (middle class white guilt ?? :-) ) reviews....my advice ? if you watch it, get drunk first!!!\n",
            "\n",
            "felix unger (jack lemmon) has just been dumped by his wife, because he is one of the most annoying , neurotic people in the world. suicide is his way out, but he just can't seem to get it to work, so he heads over to his friends house. oscar madison (walther matthau) is also recently divorced and living it up in bachelor heaven. smoking, gambling, hitting on chicks, eating out and never cleaning is paradise to him. well, with the suicide attempts oscar decides to let felix move in. at first, it is a match made in heaven, felix cooks and cleans and helps oscar pay his alimony on time, but soon oscar is jonesing for women and felix (who in today's world would probably be gay) isn't ready to move on. they invite a couple of british birds over and they find felix so tender that soon they and felix are weeping and chatting about his family life, leaving oscar denied. this is it, he explodes and throws him out, but felix isn't as helpless as it seems, and soon he has the upper hand. my favorite quote \"you leave me little notes on my pillow. told you 158 times i can't stand little notes on my pillow. \"we're all out of cornflakes. f.u.\" took me three hours to figure out f.u. was felix ungar!\" based on a neil simon play (who also wrote the screenplay), this has a certain theatre feel to it. set and the repartee and looks feel quite play-like (for better or worse). lemmon and mathau have excellent comedic chemistry and have appeared in the grumpier old men movies and out to sea, reprising the same finicky/slob roles, but with different names (to avoid royalty issues, i'm sure).this movie is like strawberries dipped in chocolate. the chocolate is smooth, sweet and rich, the strawberry is tart, juicy and bright red (unless you get those nasty greenish ones). they are almost polar opposites, but together, the contrasts highlight each other and make a wonderful dessert. 7/10 http://blog.myspace.com/locoformovies\n",
            "\n",
            "one of the more satisfying western all'italiana, johnny yuma has the freshness of many wai made during the heyday of the genre and is highly recommended for fans of the genre or offbeat, intelligent cinema.johnny yuma is, in most respects, not terribly original, but this actually does not count against it. the success of a genre film depends on how well it meets the audience's expectations as well as provides surprising variations on these expected elements. earlier, pleasing experiences are recreated but with subtle (or major) twist that provide continuing interest. the quality of the execution is also, obviously, important. a tired retread will be less successful than a sincere attempt to entertain or move the audience.given these criteria, johnny yuma succeeds. there are numerous reprises of elements from earlier films. the setting is the brutal, twisted semi-feudal twilight world of shared by many of the best \"gothic family\" westerns made 1964-1968 such as tempo di massacre (1966). the plot is a combination of the basic fistful of dollars (1964) plot and the ringo films, a fact not surprising as screenwriter fendiando di leo was involved in both. di leo was one of the best screenwriters in the popular cinema coming out of cinecitta in the 1960s-70s and his work helped provide much of the thematic continuities and coherency to the genre (along with a couple of other personalities in a few distinct circles of actors, directors, and screenwriters). in the fod plot, the protagonist arrives in town, stirs up a tense situation, then undergoes a near-death followed by a resurrection (in some films, like quella sporca storia nel west (1968) it is quite literally a crucifixion). the catholic undertone to the narrative and the symbolism is intriguing, especially given the implicit populist/explicit socialist leanings of the filmmakers and their films. the ringo plot, developed more fully by screenwriter ernesto gastaldi in a series of films starring guliano gemma, a egoistic protagonist chooses the interest of a community over his own through the medium of a relationship with a member of that community (with a healthy dash ironic uncertainty).the relationship between carradine and johnny is clearly based on that of manco/mortimer from a fistful of dollar (1965). the two scene of the exchange of the gun belts provides a clever dialog and understanding between the two. numerous films, including da uomo a uomo (1968) or even el chuncho, quién sabe? (1967), use this relationship between an older and younger man (father/son, older/younger brother, anglo adviser/adversary and peasant revolutionary) as a central dynamic to the plot.additionally, there is the focus on deception and misdirection, mazes and mirrors, that recur throughout the best early wai. the canons and pueblos of almeria become literal mazes through which protagonist and antagonist play shifting games of cat and mouse.what distinguishes johnny yuma from other wai is the quality of director romolo guerriri's use of visual/psychological space together arrangement with the script's intelligent mechanisms to forward the plot. dialogue was never very important to the wai and often absurdly unintelligible (thought there are exceptions, such as the cynical commentaries in django (1966) or faccia a faccia (1967).psychological depth of character is created almost entirely through iconic imagery, it's juxtapositions, and it's description of the overall narrative situation. see how the presence of the deadly samantha is felt during the beating scene  watching from the roof or from the background of the action. or how johnny strips samantha and pedro of their security and confidence in their power through his stealthy invasions of their ranch, hotel, even bedroom (this, again, is a theme from fod). finally, note how there is a focus on the search for information. like many elements, this is borrowed from fod which was ultimately based on the hard-boiled mystery novel red harvest. it is through incidental contacts, wanted posters, overheard conversations, glances out of windows, watches left in the dust, or mistaken identities and movements through the ripples created by the actions of pedro and samantha within this surreal and absurd reality that the narrative tacks forward to it's conclusion.the movie was notable in it's time for what were perceived of as excesses in violence. of course, these films were hardly more violent than many american westerns. what was different was the psychological intensity of the violence and the causes to which it was attributed, which is to say that it was not the violence but it's meaning that had changed. johnny yuma is distinct and interesting in it's use and portrayal of violence and this is another interesting aspect of the film.what i personally find most interesting about most of this genre is the link it provides to the anonymous, nameless audiences in italy and spain to whom these recurrent narratives held some significance and interest. the artifact may have no intrinsic worth in and of itself  some flint debitage from a prehistoric site, a shard of cruse pottery, or a moldering piece of leather and rusted metal  but it is reference to some nameless presence, lives, that were significant simply because they existed. while johnny yuma has intrinsic worth, much of it's interest for me derives from this connection and mystery.top spaghetti western list http://imdb.com/mymovies/list?l=21849907average sws http://imdb.com/mymovies/list?l=21849889for fanatics only (bottom of the barrel) http://imdb.com/mymovies/list?l=21849890\n",
            "\n",
            "this overrated, short-lived series (a measly two seasons) is about as experimental and unique as a truck driver going to a strip bar. i am not quite sure what they mean by \"ground-breaking\" and \"original\" when they fawn all over lynch and his silly little tv opus. what exactly is their criteria of what is original? sure, compared to the \"bill cosby show\" or \"hill street blues\" it's original. definitely. next to \"law & order\" tp spews originality left and right.fans of tp often say that the show was canceled because too many viewers weren't smart enough, open enough for the show's supposed \"weirdness\", its alleged wild ingenuity, or whatever. as a fan of weirdness myself, i have to correct that misconception. there is nothing too off-the-wall about tp; it is a merely watchable, rather silly whodunit that goes around in circles, spinning webs in every corner but (or because of it) ultimately going nowhere. the supposed weirdness is always forced; the characters don't behave in a strange way as much as they behave in an idiotic way half the time. there's a difference...whenever i watch the \"weird dream\" sequence in \"living in oblivion\" in which the dwarf criticizes the director (buscemi) for succumbing to the tired old let's-use-a-midget-in-a-dream-scene cliché, i think of lynch. you want weird? \"eraserhead\" is weird - in fact, it's beyond weird, it's basically abstract. you want a unique tv show? watch \"the prisoner\". you want a strange-looking cast? felini's and leone's films offer that. tp looks like an overly coiffed tv crime drama in which all the young people look like fashion models. the cast gives tp a plastic look. kens & barbies en masse.in fact, one of the producers of tp said that lynch was looking for \"unique faces\" for the series. unique faces? like lara flynn boyle's? sheryll fenn's? like those effeminate-faced \"hunks\" straight out of men's catalogs (or gay magazines)? don't get me wrong; there is nothing wrong with getting an attractive cast, especially with beauties like fenn (the way madonna would look if she were 1000 times prettier), but then don't go around saying you're making a \"weird show with weird-looking people\". and i have never understood lynch's misguided fascination with kyle maclachlan (i should get a medal for bothering to spell his name right). he is not unlikable, but lacks charisma, seeming a little too bland and polished. his character's laughable \"eccentricities\" were not at all interesting, merely one of lynch's many attempts to force the weirdness, trying hard to live up to his reputation - him having completely lost his edge but that time. everything lynch made post-\"elephant man\" was very much sub-par compared to his first two movies. what followed were often mediocre efforts that relied on lynch's relatively small but fanatical fan base to keep him in the public eye by interpreting meanings into his badly put-together stories that don't hold any water on closer scrutiny. in other words, lynch is every intellectual-wannabe's darling. so laura palmer was killed by her dad...? he was obsessed by the devil or some such nonsense. that's the best this \"great mind\" could come up with... you've got b-movie horror films that end with more originality. lynch is neither bright nor hard-working enough to come up with a terrific story.go to http://rateyourmusic.com/~fedor8, and check out my \"tv & cinema: 150 worst cases of nepotism\" list.\n",
            "\n",
            "anyone who visited drive-ins in the 1950s, 60s, and 70s, must have seen a film or two by american international pictures, a distributor that resembled 1980s giant cannon films. wherever movie-goers ventured, aip would be right there to supply the latest en vogue titles - in the 50s came horror movies like 'voodoo woman' and 'the undead;' in the 60s were frankie avalon-annette funicello beach comedies and biker flicks like 'the glory stompers;' and into the 70s, aip churned out grindhouse-level trash like 'cannibal girls' and 'sugar hill.''dillinger,' released in 1973, is one of the more 'highbrow' aip efforts that capture the true spirit of drive-in film-making; it is one of those uneven, over-the-top flicks that satisfied the masses' thirst for entertainment, craftsmanship and common sense be damned. on the whole, 'dillinger' is typical for its era: entertaining and worth a couple of hours, but certainly not memorable. heavy on action and short on both acting and historical fact, 'dillinger' was a fair effort by screenwriter-director john milius ('magnum force') but certainly left room for improvement in his extensive career.the 109-minute 'dillinger' - epic for aip's scope - follows the quest of fbi midwest chief melvin purvis, played by academy award winner ben johnson. purvis was the investigator who sought revenge for four fbi agents killed in a 1933 kansas city ambush that helped gangster frank nash to escape justice. at large were the men who supposedly plotted that breakout, including expert bankrobber john dillinger (warren oates), pretty boy floyd (steve kanaly), and psychopath baby face nelson (richard dreyfuss). dillinger eventually joined forces with floyd and nelson, taking along homer van meter (harry dean stanton) and harry pierpont (geoffrey lewis). he also hooked up with billie frechette (michelle phillips), a prostitute of french and indian extraction. while taking place over several months in 1933-4, 'dillinger' is basically a chase film, with purvis's entourage looking to run down and kill off the men wanted by j. edgar hoover.'dillinger' has a documentary feel, listing dates and places while johnson supplies loose narrative as purvis. milius keeps an honest depression look, using authentic fashion, cars, weapons, and buildings; he also sprinkles around black-and-white photography and stock footage of gangster shootouts. the film is never boring, moving at a quick, if haphazard, pace. the action scenes are dillinger's strongpoint, edited competently by fred feitshans jr in his last professional effort. thousands of blank ammunition rounds must have been used to make this film, not to mention pounds of explosives. this film is certainly not for the squeamish, with people getting shot and dropping dead all over the place. the violence, while gratuitous, brings some understanding of the mayhem that organized crime dumped on american life.this film never transcends its exploitation status, however, because the needed writing just isn't there. john milius, somewhat overrated as a filmmaker, places way too much emphasis on action. the action scenes (mostly blood-filled shootouts) are impressive and comparable with any major crime film of its era, including 1967's 'bonnie and clyde.' but we simply don't get to know much about dillinger and his gang members as people; the vital relationship that develops between dillinger and frechette is barely touched upon, with the pair meeting in a bar during one scene and cavorting as lovers just ten minutes afterward. melvin purvis also seems to wander in and out of the storyline, becoming a prominent figure only when milius needs to keep the film from unraveling. all too often, the film takes on a shoot-'em-up persona when its characters could have been explored in detail.aside from this, the picture's main crime is ignorance of historical fact. while many say that 'dillinger' is just a film, it's films such as this one that create fables and make them permanent. those with knowledge of gangster history will point out that john dillinger was not the last of his ring to die, as milius's screenplay and the film's documentary style encourage us to believe. in fact, dillinger died before baby face nelson and homer van meter; he also was said not to be carrying a gun on the night of his death, nor did he have billie frechette in tow. while these inaccuracies might make for high drama, there is no reason why milius couldn't have stayed with the facts and written a great story around them.warren oates's performance as dillinger is quite good, although he sometimes looks unconvincing. oates is humorous and nicely portrays how dillinger became consumed by his larger-than-life image in the american press; however, we never really feel the menace he invoked in his lifetime. ben johnson gives some life to purvis, suave but rather flat. michelle phillips brings emotion to the billie frechette character and it's really too bad that milius's screenplay didn't flesh out her relationship with dillinger. we never learn what drew her to a cold-blooded killer, other than the stereotype of an easy-going girl who is attracted to men of danger. the supporting roles with kanaly, dreyfuss, stanton, lewis, and a briefly-appearing cloris leachman, are acceptable for such talent.as a piece of 1970s exploitation, 'dillinger' appears doomed to retail bargain bins, which is exactly where i picked up mgm's dvd release for $4.99. the film is nicely presented in widescreen (a must for drive-in flicks) with subtitles in french and spanish. dillinger's theatrical trailer is supplied as a lone extra. largely forgotten except by gangster movie fans and drive-in enthusiasts, the film doesn't really call for much else in way of supplementary material. for fans of the genre, it's certainly worth checking out.** out of 4roving reviewer - www.geocities.com/paul_johnr\n",
            "\n",
            "as we all know the sub-genre of sex comedies is pretty crowded. simply being excessively raunchy isn't enough anymore. i've seen and heard so many disgusting jokes and actions that a sex comedy really needs to have other positive points to appeal to me these days.coming into the 40 year old virgin i knew basically what to expect; i did see the commercials after all; \"is it true that if you don't use it, you lose it?\" what i didn't expect to find is a heart and honest attempts at character development. there's still the weird \"off-the-wall\" characters that we see so much in adam sandler movies and there's still enough inappropriate language to sink noah's ark but somehow the movie has a worthwhile love story and yes even a message.the main character andy is (unfortunately for me) a person i can relate to. in the first shot i see that he even shares my love for mystery science theater 3000 (he has a poster for the movie on his wall) and throughout the movie we get to see his really neat collection of antiquities. andy also has plenty of video games and a working knowledge of films and technology. andy doesn't want to buy a car because he prefers his bike. most importantly of all; andy is a nice person, he doesn't swear and he respect women so much that he stays away from them. combine all these factors and everybody begins to think he's a serial murderer. it's like my life story.the other characters each have funny little stories to go along with their slightly exaggerated personalities and they all work on a certain level but not the way andy does. i felt that it was sort of distracting in a way since andy and his girlfriend trish are really the only truly human characters in the entire movie.i suppose since i mentioned one flaw i might as well bring the other noticeable one to light. the story is clever but too predictable and as far as romances go; it's quite simple. it deals with andy's relationship with trish for a long time and we all know what's going to happen in the end. sure its final detour is a bit different than we may expect but you know what's going to happen in the end, and i assure you it does. these are definitely small stains on the movie but there's so much good here that i can easily ignore it's few faults.when i say \"good\" i mean \"bad\" of course. this is a sex comedy and it wants to be bad. for the most part i think it succeeded. there are so many hilarious scenes such as andy trying to get rid of an erection after refusing to have sex with trish. or the scene where andy goes with his trish's daughter to a sexual education class where he ends up asking more questions than anybody else. ah and we must not forget the soon to be classic chest waxing sequence \"ooh! como se llama!\" an interesting little note about that scene; the actor steve carell actually did wax his belly and the pain shown is real. of course they only did one take but it was still a very brave thing to do on his part.actually since we're talking about steve carell, i'd like to say that he has now risen on my list of respected comedians which is sort of odd since i didn't even know who he was prior to seeing this film. i was just so impressed by his writing, acting and timing that i now really want to keep an eye out for his future roles. this man has talent it the 40 year old virgin proves that.to be honest i had doubts about this film but early word was positive and i knew it was something i was eventually going to see. i'm glad that i did too since it's probably one of the funniest movies i've seen in a long time and it doubles as something you feel is worth watching. it's not simply a series of sex gags lumped together rather it's a series of sex gags entwined with a very worthwhile character and a truly touching romance. now excuse me while i go puke my guts out; i can't believe i just wrote that...my review from frider waves: http://friderwaves.com/index.php?page=virgin\n",
            "\n",
            "enjoyed 'den brysomme mannen' http://ow.ly/pttp (my wife didn't, so i watched it in bits over a few days.)reviewers mainly confused - most agree it's allegorical, but not of what; 'heaven', 'hell', 'socialism', 'capitalism'? that most people don't wish to escape, and it's, essentially, forbidden goes with most of those options.so, presumably you're supposed to project your favourite preoccupation/prejudice/fear onto it. so i'd say it's about an a-epicurean life. a live desaturated of colour, literally in the film, figuratively in the interpretation.\n",
            "\n",
            "nb: spoilers within. this great movie is \"about\" so many things, all of them successfully: sci-fi time travel, unstable psychologies, dystopian society, the what-is-real syndrome, gradual undermining of belief systems, worldwide bioterrorism, and a nascent love story.the ramifications of the story's twisted time line stir up loads of heated debate - witness the discussions within this site; or, as an extreme, check out the dissertation at www.mjyoung.net/time/monkeys.html. whew! such temporal emphasis speaks mostly to the brilliant plot, coming from the magnificent work of writers david and janet peoples, not to mention the inspiration of chris marker's \"la jetee.\" without a doubt, this is one of the most successful, fascinating time-travel movies ever conceived. but there are many other levels speaking here.the movie's real genius is to focus on the nasty side effects of time-travel in the mind of james cole (bruce willis, doing the best work of his career here). his journey progresses from gung-ho vaccine-hunting warrior to gradually unhinged victim  and back again. the other broad sweep of the story increasingly emphasizes the personal tale between james and dr. kathryn railly (the wonderful madeleine stowe). i love the simultaneous shifting/opposing viewpoints of these two characters. for me it all comes to a head in the fleabag hotel room scene. by this point, james  once gripped by an unshakable determination  now slumps in utter doubt about his own reality; while dr. railly  the cool and rational scientist  has finally become wildly convinced, after absorbing james's proofs, of his horrific predictions. her desperation to get through to james and hang on to the mission shows how far she's come.gilliam makes us care about these characters, especially through the crescendo of tension threading their lives. the balance held between emotional roller-coaster and mounting sci-fi puzzle/thriller is exquisite. and the denouement at the airport is heart-poundingly intense because we see it coming so clearly through james's dreams. it is here, just after james has decided to quit the whole mess  and is fighting his insanity more than ever  that he steps back up to the plate and does what is necessary for mankind. see jose and the gun (just before this, the references to hitchcock's \"vertigo\" and identity switching/confusion are brilliant.) this is a movie to be hashed out between thinking people; it not only holds up under repeated viewings, it demands them. \"twelve monkeys\" is intelligent, provocative, bizarre, funny, and suspenseful stuff.the supporting cast is excellent, especially brad pitt stealing all of his scenes and showing great flexibility as jeffery goines, crazed and spoiled, but ever the survivor. and there is david morse as dr. peters (interesting how the movie simply leaves to the viewer his wicked motivation) and christopher plummer as dr. goines. but the biggest accolades belong to terry gilliam, surpassing here - just barely - his outstanding \"brazil.\" (lots of parallels, of course, especially the lonely combatant trying to escape his crumbling surroundings: lunacy within, lunacy without.) every frame of this movie has his unique stamp and tone. the soundtrack is terrific, too.this is one of the great achievements of the 90s, a true favorite of mine, and sure to hold up for a long time to come.\n",
            "\n",
            "this film is not deserved of the next few minutes i will spend criticizing it, but i know many people, like myself, rely on imdb.com to assist in deciding on films. for that reason alone, i am writing this.\"live feed\" is like an asian version of 1976's \"the incredible torture show\" (aka \"blood sucking freaks\") http://www.imdb.com/title/tt0077247/. torture, dismemberment, murder, cannibalism... sure, it's all here along with a third-grade script, pathetic acting, and a perverted failure of an attempt at black comedy.the film takes place in china, yet everyone speaks english. there is an abundance of girls in the film who are horrified by the butchering of dogs in a marketplace, yet are sexually excited about entering a porno parlor. one gal who is disgusted by the filth in a restroom stall moments later is still there having at it with her friends boyfriend (how he even got in there might be the only engaging thing about this whole film.) the film is absolutely awful, even for a b-movie. even if you were to download it for free, it would be an insult to your hard drive.\n",
            "\n",
            "i read a viciously hidden remarks on a previous comments stating that this film showed a bunch of gay guys romping around their gayness.this couldn't be more misleading. \"eighteen\" is not a gay film. it has only three gay characters in it and one of them is the victim of prejudice of people like the one who wrote the comments, despite his confession of fairness.pip's grandfather was not gay. the tender scene of the soldier and his sergeant is male bonding at the crucial moment of death. but some people gets appalled by a kiss and welcome scene of guts flying out of a man killed by a bomb.the focus of the film is the straight relationship of pip and that sweet girl and their facing their social obligation and parenthood.ralph rewes www.r1313.info\n",
            "\n",
            "http://video.google.com/videoplay?docid=211772166650071408&hl=en distribution was tried.we opted for mass appeal.we want the best possible viewing range so, we forgo profit and continue our manual labor jobs gladly to entertain you for working yours.view texas tale, please write about it... if you like it or not, if you like alex or not, if you like stuie, texas or texas tale... just write about it.your opinion rules.\n",
            "\n",
            "bug juice changed my life. i know it sounds strange, odd , weird. but it did. i am from england, bug juice never aired there but five years ago i went on vacation with my family and saw it on the disney channel. once i saw this tv series i was hooked i wanted to go.it took a lot of convincing to my parents to allow my brother and i to go to waziyatah. i have been going since i was 12 and it was my forth year this summer. if you are a teenager reading this come to this camp it changes your life. you make life long friends at wazi. it doesn't matter who you are or if someone at home doesn't like you everyone likes you at camp. you have so much fun. if you want to have a look go on to www.wazi.com and check it out for yourself. it is so much fun i love it there it is my home away from home\n",
            "\n",
            "there is a complete copy now available at the internet archive - watch it or download it today!http://www.archive.org/details/the_mascot_completeone of the greatest animated shorts ever made. starewicz is endlessly inventive and his techniques still astound animation fans 70 years later. we may have computer-generated techniques now, but all he had in 1934 was an imagination that wouldn't take \"no\" for an answer. whatever he wanted to see on the screen, he created. and he wanted to see some truly bizarre stuff - every imaginable piece of scrap is called up for service: old shoes, chicken bones, utensils, broken glasses, dolls, monkeys, rats....seems like there was nothing that was off limits.a truly eerie, even unsettling film that should be seen by anyone with even a passing interest in animation. this film must be seen to be believed!\n",
            "\n",
            "after having watched darwin's nightmare, one must have the impression of tanzania being a living hell, with its population being quasi-slaves delivering the finest fish to the well-fed europeans while leaving the fish bones to the starving population. in exchange for the fish they get western-made weapons, which the mainly unemployed population eagerly awaits to use, because being a soldier is their only source of income.so everything is all dark with trade as the incarnation of evil and source of all misery? not quite. fortunately darwin's nightmare shows the dark sides only and completely spares the positive aspects. in fact, the documentary hardly tells anything about the economic and ecologic importance the victoriaperch has for the region.for the countries around lake victoria the victoriaperch is the second to third most important source of income. the wages in the fishing industry are way above average. tanzania has banned huge trawlers to secure the jobs of thousands of fishermen. the adjacent states have met agreements to keep fishing on a sustainable level. cities at the lake are benefiting from the taxes the fishers have to pay for each kilogram caught fish and the taxes on the factories' exports and profits. furthermore tanzania has banned exporting the local traditional fish, which still play an important role feeding the local population.by ignoring those positive signs the documentary deters the badly needed western consumers and investors and thus threatens to aggravate the african's situation.for further reading i can recommend two articles the german alternative-wing newspaper wrote on the subject: http://www.taz.de/pt/2006/09/02/a0013.1/textdruck http://www.taz.de/pt/2005/03/17/a0151.1/text\n",
            "\n",
            "the person who wrote the review \"enough with the sweating and spitting already\" has no grasp of what cultural, literary, or psycho- critique is. he dismisses zizek's interpretations because they don't seem \"in line\" with what the director originally intended. so what? the importance of a director's (or author's) intention is not important in critical theory. this is known as the author's \"intentional fallacy\" and should be avoided.http://en.wikipedia.org/wiki/intentional_fallacy a text or movie can be analyzed through a number of theories, many of which disagree with one another, as well as completely ignore the author's intention. this is the most fundamental idea of critical theory.because of this, whoever wrote that wall of text wasted a lot of time and effort on insulting zizek. in reality, anyone who studies theory would immediately discredit this guys opinion (i suggest you should too) as it is completely off point.that being said... if you are at all interested in freudian, laconian, or kristevian discourse, this movie is a must. it connects these theories with popular film, making them much more palpable and enjoyable than simply reading or thinking about them.\n",
            "\n",
            "i think james cameron might be becoming my favorite director because this is my second review of his movies. anyway, everyone remembers the rms titanic. it was big, fast, and \"unsinkable\"... until april 1912. it was all over the news and one of the biggest tragedies ever. well james cameron decided to make a movie out of it but star two fictional characters to be in the spotlight instead of the ship. well, onto the main review but let me remind you that this is all opinion and zero fact and the only fact that will be present is an event from the film.so our two main characters are jack (leonardo dicaprio) and rose (kate winslet). they're not annoying too much but watch this and you'll find out why they could become annoying ( http://tinyurl.com/ojhoyn ). the main villain i guess is bad luck, fate, hand of god (no blasphemy intended), or just plain caledon hockley (billy zane). combine all of the above and what do you get?! oh yes! we get a love story on a sinking boat. the supporting characters are the following: my personal favorite, mr. andrews (victor garber)(idk he was so nice), lovejoy(david warner), murdoch(ewan stewart), lightoller (jonathan phillips), captain smith(bernard hill), molly brown(kathy bates), and many more. we also got the present day treasure hunter, brock lovett (bill paxton). they add something to the story, something good. the action in here is awesome, especially in the second half, the drama as also good. in the end you can have your eyes dropping rainstorms or silent tears. the story is simple and it works. a treasure hunter seeks the heart of the ocean and instead finds a drawing of a woman wearing the said diamond. she calls and tells her tale on the rms titanic. two lovers separated by social class and ultimately, the fate of the ship. everything about the story works and there are very few flaws. i give titanic, an 86% awesome\n",
            "\n",
            "unlike http://www.imdb.com/title/tt0098238/ this movie provides no background information. we are shown a snapshot of the fall of danton, his mock process and execution but, unless one studied the revolution quite extensively, it is difficult to understand where characters come from ( fouquier-tinville, philippeau, desmoulins, robespierre... ) and thus to appreciate them for what they are: danton and joe blobb could be the same person to the viewer. for example robespierre & desmoulins were close friends since their youth, and this explains how robespierre acts. those who know the facts, though, will easily orient themselves and appreciate this good movie with actors delivering solid acting, no useless subplots and good reconstruction of the times. desmoulins and danton are the best characters, but all do a good job, even the 'demented' saint-just portrayed as sort of psychopath. 'terreur' was a period of massacres whose importance hasn't been fully documented and that -for the most part- were driven by ambition, greed and the settling of personal disputes, fed to ignorant sans-culottes as the next epochal step against tyranny.\n",
            "\n",
            "dark wolf (quick review) let's get right to it: this is a repugnant piece of rotting roadkill with cow sh*t on it. it's just an awful movie. it's an urban werewolf movie with some of the worst acting imaginable and a story as weak as any gangly nerd from an 80's high school drama film. what's worse is that poor kane hodder was duped into playing the gigantic evil werewolf. kane f*cking hodder. someone's trying to ensure that playing jason voorhees is the height of his film career...anyway, former playmate jaime bergman is also in the movie and she eventually becomes a werewolf, too. it's kind of a crappy cop drama with the world's worst looking werewolf in it. but it does have moments of near-rampant nudity. but that's about all. want to know more? okay, the werewolf is generally an ugly-looking black blur zipping around the screen. and when we're privileged enough to actually see a transformation sequence, we're presented with something that resembles a full-motion video from a video game made during the early stages of the playstation. the first playstation. the cg animation is really that primitive. only good for horror hardcore fanatics that want to see small moments of nudity surrounded by rampant visual vomit. 2/10www.residenthazard.com\n",
            "\n",
            "the secret of kells is one of the most unique, beautiful, and eye- popping animated films i have ever seen. before watching this film, i was convinced that nothing could give up a run for its money and that it was a shoo-in to win in this category, but i found in kells a serious contender.the secret of kells tell the story of a young orphan named brendan, who lives with his uncle, the abbot of kell. the abbot is a loving guardian, but perhaps a bit too strict and much more concerned with fortifying the wall around the town from a coming attack by vikings than he is at nurturing the boy's imagination. when the legendary brother aidan (who looks surprisingly like willie nelson) shows up and takes the boy under his wing, brendan goes on a journey into the woods and meets a lovely forest nymph named aisling who takes a liking to him (and saves his life more than once). with aisling's help, he attempts to save the town and help brother aidan complete the mystical book whichlegend has itcan turn dark into light.see my full review of the secret of kells at: http://theoscarsblog.blogspot.com/2010/02/movie-review-secret-of- kells.html\n",
            "\n",
            "i'm a big fan of the first critters movie. the second episode is good,but it's not as good as the first critters. the third episode is a little bit boring,but lovely. and what is this?? what a crap! it's stupid and really,really boring. it's the worst of the series. i can't watch it again,because i felt asleep at the first watch. and ug's evil side...eeewww...that's one of the most horribble moments of the movie. in the first 50 minutes,we can't see the little,furry monsters,that's the reason why the audience fell asleep at the beginning of the movie.it could have been much better.2/10\n",
            "\n",
            "ted nicolaou made a lot of great horror and fantasy films. i am looking for all his films to see. i could not find this one for 3 year, until i unexpectedly found it in youtube. to tell the truth i wanted to see more ghosts and less talks here. it looks like in 1999-2001 ted had a crisis , maybe in money. his features of this time look more like real low budget thrash z garbage movies. but i do not claim him to be a bad director this time . everything happens. the ending has some nice creepy details and suspense but the whole film was long dull dialogues .only for real ted's fans.www.myspace.com/neizvestnostlab\n",
            "\n",
            "ok i went to this website before i watched this movie, read the comments, got pumped, - cause they where all pretty good for a b-flick - watched it and was completely disappointed. the main characters wannabe lone rebel straight out of the mid-west act was sickening to the stomach, and don't even get me started on the two cops, i mean there's a bloody door right there in plain view, check it out! the plot was completely predictable, the editing was rather limited, i swear the editor was even dozing off near the end when he was cutting this movie, and the direction was clouded by bad cinematography. now please don't get me wrong, i love b-flicks, some are really good.want to watch a good b rated flick???dave recommends\" high tension \"http://imdb.com/title/tt0338095/\n",
            "\n",
            "i've rented and watched this movie for the 1st time on dvd without reading any reviews about it. so, after 15 minutes of watching i've noticed that something is wrong with this movie; it's terrible! i mean, in the trailers it looked scary and serious!i think that eli roth (mr. director) thought that if all the characters in this film were stupid, the movie would be funny...(so stupid, it's funny...? wrong!) he should watch and learn from better horror-comedies such as:\"fright night\", \"the lost boys\" and \"the return of the living dead\"! those are funny!\"cabin fever\" is the reason why i registered to www.imdb.com so i can release my thoughts of discontent about it.i've decided to watch the movie a second time >aaargh!how bad can a script and a director be??? this bad. here are the awful scenes in chronological order:in the early scenes we see henry, who doesn't realize his dog lying on the ground with its tongue hanging out of its mouth and dead-glazed stare is dead!the movie doesn't explain anything about the blonde long-haired kid who like to bite people.and my answer to marcy's unanswered question (\"what's wrong with the woods?\") is \"nothing\". the script has that bearded guy warn them about the woods just for \"suspense\".then the \"smartest\" of the 5-pack, bert, almost gives us an example of how to start a forest fire. he meets now-infected henry who begs for help and from here on the movie wants to break the record in using the \"f-word\". bert starts to freak out because henry looks awfully ill. bert:\"don't make me shoot you!\" (he forgets to add: \"...with my bb gun!\")bert heads back to the cabin but how about that? he meets marcy and jeff who were having sex, but now suddenly decide to go out for a walk! marcy wisely takes out the unguarded campfire bert had started earlier (a moment of clarity for a change?) bert doesn't mention a word about henry because the fool thinks he has killed him with his bb gun.later, as the five estupidos sit around their campfire, another weirdo shows up with his dog. (maybe that's what the warning about the woods is all about? it's filled with weirdos...and their dogs!?) they let him sit with them only because he has a huge bag filled with cannabis. (their brains are completely intoxicated! no wonder why they are all so dumb!) this is the last time we'll see this forgettable character...alive!henry shows up at their cabin, (note: he was lying all the time a few yards from their cabin!!!) looking worse, almost like a zombie, covered in goo! he says he needs a doctor. but the young einsteins refuse to help the poor sucker. he gets into their unlocked truck which of course also has its key in the ignition. henry almost seems smart enough to drive the hell away from there but instead starts puking blood all over the dashboard, seats and windows. the fantastic five come out running, armed with: a bb gun, a knife, a baseball bat (*huh? ever tried playing baseball in the middle of the woods???), a poker, and a (insecticide?) spray-can, ready to combat the single, unarmed and terribly sick man. (clever script!) bert manages to kill the car with one single shot of his bb gun, which is only possible in the mind of director eli roth. \"what else am i supposed to do?\" bert yells in his defense. jeff and paul try to knock henry down with their bat and poker but miss and crash the truck's windows instead. henry walks up to the dumb girls who say: \"he's coming towards us!\" (thanks for the info, dumb broads, i can see that! but i don't think he wants to do you any harm!) marcy sprays in his eyes, making henry yelp! and our \"hero\" paul touches henry's arm with a burning log from the campfire, which they recklessly left burning while they were inside the cabin! (where has all that wisdom gone? i guess the cannabis had started to take its toll!:-) henry turns into the human torch and runs away, screaming.the following day, bert and jeff head out for a mechanic. and marcy decides to \"go for help\" all by herself, in the woods, as paul stays behind with karen...doesn't that sound idiotic? marcy could have stayed with karen and paul because jeff and bert were already \"going for help\"!i skip my comments now to how we suddenly see marcy in a canoe rowing over a huge and winding river! how did she get a canoe? does she even know where she's going!? anyway, she goes to the riverbank and finds a very big and seemingly abandoned cabin and, like in most horror movies, walks inside the cabin saying:\"hello? is anyone there?\" bert suddenly pops up from behind a furniture and scares her (and me at first). and along comes jeff, as well. how did they get here!? did they swim across the river??? do you see how brainless the script is!?deputy winston meets paul at the cabin. he somehow doesn't notice the blood on their truck. this happens around 35 minutes of viewing and i have decided to stop torturing myself anymore and popped the dvd out. (before i take my own eyes out!...now, that's funny!)if you liked this movie, do yourself a favor and watch \"fright night\", \"the lost boys\", or \"the return of the living dead\". then you'll see they are more entertaining than this...thing. even the \"toxic avenger part 2\", which is also a lousy film, is way more funnier than \"cabin fever\".\n",
            "\n",
            "i've had a lot of experience with women in russia, and this movie portrays what a lot of them are like, unfortunately. they are very cunning, ruthless, and greedy, as well as highly unfair. from the robotic sex, the hustling for gifts, to the lies and betrayal, i've experienced it all in russia.i know what i'm talking about. and here are my qualifications: here are the photojournals of my three trips to russia in search of a bride. it includes thousands of pics of many hot russian girls i met, black comedy, scams i was privy to, and the story of my mugging and appearance on russian national tv.http://www.happierabroad.com/photojournals.htmit's like reality tv. you will love it. i spent a ton of time putting it together. so check it out. the russian woman that nicole kidman plays is a lot like the julia and katya in my photojournals.my 3 bride seeking trips in russia happen to be very exciting and would sell, so why don't they make a movie out of my bride seeking adventures in russia? however, there is one factual impossibility in this film, and that is the way which the guy orders his bride from a catalog and having her arrive at an airport. it doesn't work that way at all, so i don't understand why the media likes to perpetuate this. there isn't a single russian bride introduction website that works this way, and i challenge anyone to find one that does. the fact is, you can only order the russian lady's contact info (email, address, phone number, etc.) from the website. from there, you correspond and then visit her, and if you want to bring her to your country, you start the immigration process at your ins office, and wait months after that. that's how it works in real life. you can't just order her to arrive at your airport. us immigration would never allow such a thing to happen.wumaster - i got everything i wanted by going abroad! you can too! http://www.happierabroad.com\n",
            "\n",
            "true stories make the best stories don't they? there's always something enjoyable about a story, be it novel or movie or whatever, simply by the fact that it's real makes the story all the more fascinating. this movie is based on a true story of two young american men, one a government employee and falcon enthusiastchris boyce (timothy hutton)and the otherandrew daulton lee (sean penn)is a drug dealer. these two begin selling government, mostly cia, secrets in 1975 to the soviet union.the film focuses on the human aspect of the two men, as well as their growing personal problems (especially penn's character with ever-worsening drug addictions), rather than glorifying their status as traitors to america, which would, no doubt, hurt the film's credibility in the us. boyce gradually becomes more cautious and eventually frustrated and paranoid as their dealings drag on and they dig ever deeper into treacherous territory. daulton becomes more dependent and addicted to cocaine and heroin as he becomes more frightened, and more desperate to maintain control over a situation he has no control overon top of which, he already has problems with the law. the torment of boyce and daulton's families because of the way they lead their lives is also well portrayed and adds well to the idea that espionage against one's country, even if thought to be done justly, leads only to major problems and the ruination of livesincluding the degradation of the friendship and trust between the two main characters.here's the breakdown:the good:--hutton and penn each did extensive research on the characters to capture their individual look and feel, so they're portrayed with extensive depth and realism.--the acting is excellent.--the atmosphere of paranoia builds quite well.--the story is fascinating, and of course, as one based on actual events, it has some added kick.--nice sets.--the soviets working with the boyce and daulton are portrayed very well, and not stereotyped or given evil consciences just for the sake of making them look bad.didn't hurt it, didn't help:--the music is alright, nothing perfect though.--sound effects are occasionally a little iffysuch was the case with a lot of films from the seventies through the eighties.the bad:--chris boyce (timothy hutton) has a relationship with a woman that we hardly know. because of boyce's trouble brewing with the us and soviet governments, her life can be put in jeopardybut this isn't as expanded upon as it feels it should've been. minor problem, though.the ugly:--the apparent simplicity required to sell government secrets is a little unnerving. nothing like a constant state of unreadiness to keep the masses feeling as unsafe as possible.memorable scene:--seeing the first cia report accidentally sent to the wrong place with the reason being, \"rough night.\"this was another film that suffered massive delays due to the controversial content of the story. studios and producers didn't see how a movie about two american traitors could ever be accepted by american audiences. luckily, it's filmed and portrayed with a high degree of class and quality. of course, it helps that the traitorous anti-heroes aren't portrayed heroicallymore like a couple young men who've made gross errors in judgment in their lives. as such, it becomes a very human drama, and one portrayed very well and very believably.acting: 9/10 story: 10/10 atmosphere: 8/10 cinematography: 8/10 character development: 9/10 special effects/make-up: 8/10 (little quantity, high quality) nudity/sexuality: 2/10 (one scene in a strip club) violence/gore: 7/10 (no gore, just some violence) music: 7/10 direction: 9/10cheesiness: 0/10 crappiness: 0/10overall: 8/10if you like films about espionage and spies, then you can't go wrong here. if you like dramatic films with a strong focus on the humanity of the characters, then this may also work for you. highly recommended.www.residenthazard.com\n",
            "\n",
            "\"it's like hard to like describe just how like exciting it is like to make a relationship like drama like with all the like pornographic scenes thrown like in for like good measure like, and to stir up like contro- like -versy and make us more like money and like stuff.\" - ellen, the lost quote.\"kissing, like, on the, like, mouth and stuff\" is like the best like artistic endeavor like ever made. watching like ellen's hairy arms and like chris masturbating was like the height of my years-long movie-viewing experience and stuff. but before i like begin like breaking new u.s.-20-something-airhead records with the my \"likes\", let me like just briefly list like the high- like -lights of this visual like feast: 1. chris doing the deed with his genitals. and not just that: the way the camera (guided so elegantly by ellen and patrick) rewards the viewer with a full-screen shot of chris's fat white-trash stomach after he finishes the un-catholic deed - that was truly thrilling. i can in all honesty say that i've never seen such grace. chris, you should do more such scenes in your next movies, because that is exactly what we needed as a continuation of what that brilliant, brilliant man, lars von trier and his \"idiots 95\", started. a quick w*** and then a hairy, fat, white belly: what more can any movie-goer ask for?! needless to say, i can sit all day and watch chris ejaculate (in spite of the fact that i'm straight)... such poetry in motion. such elegance, such style. no less than total, divine inspiration went into filming that sequence - plus a solid amount of zen philosophy. even barbra streisand could not get any more spiritual than this.2. ellen's hairy, thick arms. the wobbly-camera close-ups, so skillfully photographed by our two directors of photography (i can't emphasize this enough), ellen and patrick, often caused confusion regarding the proper identification of the sex in question. there were several scenes when we would see a part of a body (a leg, arm or foot), yet it was often a guessing game: does that body-part belong to a man or a woman? naturally, chris and his fellow artists, ellen, patrick and whatsername, cast themselves on purpose, because their bodies were ideal for creating this gender-based confusion. it was at times hard to guess whether one is seeing a female or male leg. patrick is so very thin and effeminate in his movements, so hairless and pristine, whereas ellen and the other girl are so very butch, what with their thick legs and arms. brilliant. 3. brilliant - especially the way that neatly ties in with the theme of role reversal between the sexes: so utterly original and mind-blowing. ellen behaves like a man, wants sex all the time, while her ex patrick wants to talk - like a girl. spiffing.4. ellen's search for a leftist mate. \"he must love 'the simpsons', which is quite leftist.\" i am glad that the makers of this movie decided to break the long tradition of offering us intelligent leftists. ellen is such a refreshing - and realistic - change. the number of \"likes\" that she and her liberal friends manage to utter in less than 80 minutes is truly phenomenal (3,849, to be exact). they have managed to realistically transfer their real-life ineptness onto the big screen with a minimum of effort, and i applaud them for that.5. the close-ups of toes. plenty of stuff here for foot-fetishists, which i think is a very liberal, highly commendable way of reaching out to sexual minorities. after all, shoe- and foot- fetishists are offered so little in modern cinema, so it's nice to see that someone out there cares.kotm, or rather, klotlmas, offers more than meets the eye. it is not just a modest little film about shallow people engaging in hollow relationships while indulging in meaningless conversations. no, it's much more than that. it's about the light that guides all silly creatures; the guiding light that dominates the futile lives of various pseudo-artistic wannabes who just dropped out of film school, and plan to assault our senses with dim-witted drivel that will hopefully play well at pretentious festivals like sundance and cannes, enabling them to gain the necessary exposure hence some real cash for a change, with which they will later hire the likes of sean penn and george clooney in promoting the saving of this planet and the resolving of all political problems this world faces. what better way to do that than by making porn at the very start? if chris and ellen did the camera here, as is clearly stated in the end-credits, then who held the camera while the two of them were in front of it? they probably hired some passers-by and shoved the camera into their hands...go to http://rateyourmusic.com/~fedor8, and check out my \"tv & cinema: 150 worst cases of nepotism\" list.\n",
            "\n",
            "this story has held a special place in my heart for the last thirty-one years. as a boy, i enjoyed stories of mountain men and the wilderness. books like \"call of the wild\", \"white fang\", \"the frontiersman\" and \"my side of the mountain\", influenced me tremendously. i wanted so much to live like a mountain man, but nothing inspired me more to do so, than when i saw this movie on television in 1975. i wanted to be just like \"trapper\". however, as i got older i found i was just too domesticated to live like that. nonetheless, i still romanticize about living that kind of life. i agree with some other reviews of this movie that the storyline has the simplicity that is quite prevalent in \"disneyisque\" type movies, but if you can look past the mechanics in which it was made and see the heart of the story, the true themes, then i think you find yourself pleasantly touched. i make it a point to watch this movie once a year. after thirty-one years, i still get a chill running through me when i see torrent of snow rushing down the mountainside and hear the echoing, haunting laugh of the trapper.-good luck old-timer and stay free-ps if you want to read more about the true story, i found this link on the mad trapper of rat river:http://www.mysteriesofcanada.com/nwt/madtrapper.htm\n",
            "\n",
            "i just saw this movie on hbo, and it was really good...a tragic love story indeed! i really appreciated the fact that the guy at the heart of the story had lost the use of his legs in an accident. it's rare to see a love story involving someone who is physically handicapped. the love that developed between that character and the woman who comes into his life nicely portrayed how i'd like to think love can heal someone's heart. laura leighton...all of 27 when she made this movie...was great as the woman so full of life she's able to revive this guy's heart. unfortunately, since his family is wealthy and her's is not, \"problems\" develop.it's playing on hbo some more times this month. check out the schedule here - http://www.hbo.com/apps/schedule/ scheduleservlet?action_detail=detail&focus_id=598947\n",
            "\n",
            "continuing with the exclusive film programme about complicated relationships in some european courts, last night in the schloss theatre was shown \"anna boleyn\", a film directed by the great teutonic film director herr ernst lubitsch. the film depicts the terrible story of the queen consort of the british king henry viii. she was executed by her husband ( well, not exactly, the king ordered the executioners to do his dirty work) not to mention that this marriage caused an important political and religious historical event, the english reformation.the film stars dame henny porten, germany's first screen superstar during those early years and herr emil jannings, germany's fattest actor in that silent era. both play their characters in a suitable way; dame porten as an innocent aristocrat who becomes progressively interested in the power that the court offers her and herr jannings as the unscrupulous, whimsical and womanizing british monarch, a character very suitable for this german actor who overacts appropriately, given the extravagance and excessive personality of the character himself.in the early film period herr lubitsch was known for his outstanding costume films, colossal productions with big budgets ( \"anna boleyn\" cost about 8 million marks, a fortune even for this german count ) taking great care in magnificent decors as can be seen during the coronation procession in westminster abbey scene which employed 4.000 extras ( idle germans of that time were used, causing revolutionary workers to create a fuss when german president friedrich ebert visited the set during filming).besides the spectacle, one of the most important aspect of this and every film of herr lubitsch, even during his epic period, is the complex relationship between the main characters. we experience a game of different interests, double meanings, and the complicated art of flirting but what is treated lightly at first ends in tragedy. the importance of those historical facts is brought to bear in an effective way but lubitsch is really more interested in the changing relationship between henry viii and anna boleyn.and now, if you'll allow me, i must temporarily take my leave because this german count must take care that one of his fat and rich heiress doesn't lose her head for this teutonic aristocrat.herr graf ferdinand von galitzien http://ferdinandvongalitzien.blogspot.com/\n",
            "\n",
            "not to mention easily pierce brosnon's best performance. of course greg kinnear is always great. really, when has he really been bad? i think this film is incredibly underrated! the use of colors in this movie is something very different in today's film world where every other movie has the payback blue filter. i also love the way they used the song by asia. proving that even what was once thought of as kinda cheesy can be really cool placed correctly.i was making my first feature when this came out. being that my film was a hit-man movie, i had to check out anything in the genre that was released. after seeing it, i'm sure it had some effect on me through the process. it was pretty cool when my film got on the imdb that it would recommend this film if you liked mine. how any of the others relate i have no idea, making an even more interesting coincidence.http://www.imdb.com/title/tt1337580/\n",
            "\n",
            "call me old fashioned, but i like movies with plots. i thought \"stoner comedy\" was just a way to more specifically describe a comedy in which lots of weed is smoked and the people watching it are more apt to enjoy it high. \"grandma's boy,\" however, has decided this is a full-blown niche and that stoners represent a piece of the comedy pie that need to be reached. apparently, allen covert (star and producer) and the happy madison gang were right, but that doesn't make \"grandma's boy\" any less boring and unfunny. they might be completely stoned -- but the characters are mostly half-baked.alex (covert, a longtime supporting player for adam sandler, first-time star) is a mid-30s professional video game tester whose roommate has gotten them evicted. he could look for a new apartment, but then we don't have a movie. after trying a couple friends, he ends up living with good ole grandma lilly (doris roberts of \"everybody loves raymond\"). she wakes him up a 6 am and has him do chores and soon he's falling asleep on the job and so the new video game sequel might not get done on deadline.like most people, alex deals with his frustration and eradicates boredom by either playing video games or getting high or both. his friends/co-workers all do the same thing. most of them are virgins that live at home in addition to loving video games. they're all awkward and all with the exception of nick swardson and joel moore (only at times) their characters aren't funny. funny if you're blazed ... sure, i suppose, but i can't say from experience.maybe all we loser guys like is getting high, playing video games and awkwardly ogling women with specific attention on their breasts, but even so, it shouldn't be the driving force of an entire film. neither should old women getting high on accident (saw that one coming) or being the but of gross-out sex jokes -- but that's what happens when a film isn't about anything. no conflict occurs until the last 20 minutes outside of the slight problems of being out of pot, alex trying to get the hot girl (linda cardellini) to like him and the guys scrambling to finish their levels for the video game deadline.characters can be the saving grace for these meandering stoner flicks, but aside from a lovable doris roberts, the aforementioned swardson as the virgin friend who lives with his parents and calls them his roommates and joel moore's skill at making robot noises, there's little character ingenuity. covert is a run-of-the-mill main character with no comedic dimensions, his dealer friend dante is an inept actor and waste of screen time and jonah hill and kevin nealon are written so far into the periphery it doesn't matter.if you like movies about nothing and watching them in a state of mind and body that enhance that nothingness, \"grandma's boy\" will likely be just what you're looking for. those who need a little more talent and wit to get on board with a comedy will be left unaffected. the most i can say for \"grandma's boy\" is that it's watchable despite its pointlessness. it won't feel like a total waste of time but you'll wish you did do drugs so you could at least have made the most of the hour and a half.~steven cvisit my site at www.moviemusereviews.com\n",
            "\n",
            "the united states was still fighting world war ii (the movie was released in between ve day and vj day). any studio worth its salt was either making fighting movies where fearless american soldiers beat the enemy, or americans in general were singing and dancing. technicolor musicals were what america thrived on in the depressing days when everything was rationed. most musicals of the day were simply a bunch of musical numbers strung together with the best available plot slipped in to fill time til the next musical number! i get the feeling now that the people reviewing this movie were all born after 1970. depressing how quickly we forget.this film could've been called \"the search for jose iturbi\" but now everyone wonders why. allow me to explain. from 1929--his arrival in america--until his death in 1980, iturbi was one of the finest pianists to grace a concert stage. he agreed to do a few movies in 1942, but hollywood had been after him for nearly a decade at that time. not only an excellent pianist, but a successful conductor as well, iturbi was very much a household word for more than 40 years. the scene where iturbi and 17 other pianists play one of liszt's rhapsodies was planned early on--and hasn't anyone ever noticed the other pianists were all children? joe pasternak, who produced that movie & many other mgm musicals, credited iturbi with interesting america's youth in classical music. grayson's wanting an audition with iturbi in the movie was not unlike real life at the time. everyone wanted iturbi back then. the joke among soldiers was that \"gi\" meant \"get iturbi\" (he did a lot of concerts at military bases).gene kelly was a great dancer and frank sinatra an excellent singer, but at the time this movie was made sinatra was barely 30 and had only been under contract to columbia records for four years. kelly was already well-known as a dancer, but iturbi had by then been a world-wide sensation for 20+ years.and as to the lack of a plot, americans didn't need plot. they were tired of war, they were sick with fear for their loved ones, and worried about the future. they needed happiness and hope and the assurance that things would work out fine in the end. they needed music and smiles and joy and romance. this movie and others like it delivered just what was needed.enough lecturing. mouse dancing aside, the best scene in the movie occurs between sinatra and iturbi with each of them \"ignorantly\" complimenting the other's music.if you have any interest in jose iturbi, the spaniard who conquered more of america than de soto, cortez, and de leon put together, please drop by my website, www.joseiturbi.com, where you can find a plot summary, excerpts from movie reviews \"of the day\" and pictures from this and certain other mgm musicals of the 1940's, as well as a biography and discography of iturbi.trout\n",
            "\n",
            "pufnstuf is what it is. i saw this in the cinema at age 4 and i have very fond, and vivid, memories of it. seeing this as as adult allows one to catch the references that are way over the heads of the target audience - like the bit where jimmy's grey witch wig is ripped off and witch hazel (cass) sneers \"i knew she had brown roots!\". it is of course heavily influenced by the flower power culture of the time, and in some ways quite progressive. the track different, for example sends a clear message to the young viewers about being yourself, not running with the pack, and cherishing what is is about yourself that is different. this could be an anthem to the gay community, it should be, great track.martha raye, cass elliot and billie hayes are all great as witches, and the living island cast give it their all in the confines of their character suits (includes billy barty, felix silla and other famous names). there is a lot of over acting in this film - there's really nothing subtle, and when little jack wild has to emote his concern for the kidnapped residents of living island it's really little more than yelling. this is drama and comedy spread on with a trowel. while i think of it - i never could stand the flute though.i love the soundtrack, especially the above mentioned different but also zap the world, pufnstuf and even jack wild's touching if i could. what's more, it is now out on cd from the tasteful people at el records in london. see here for more: www.cherryred.co.uk/el/artists/pufnstuf.htm\n",
            "\n",
            "\"little man\", now on dvd, is a wayans brothers flop. it's the tale of a smaller than a midget criminal played by marlon wayans, who hides a diamond in a lady's purse after a heist. he and his partner tracy morgan cook up the genius plan to disguise marlon as a baby and plant him at the lady's home. he then goes through all sorts of \"home alone\" or \"child's play\" like mayhem to get the jewel back and be treated like a baby. i was surprised by how low the humor was in this film. the jokes have been done in other places so many times, that they aren't cute or funny. i almost think the movie might have been funnier if they didn't use cgi and used the small actor who marlon's face was pasted over. in watching the deleted scenes (minus cgi) this actor was funny in a mini-me like way, but they chose a different route. a few cameos and tracy morgan make some funny scenes..spend your rental fee $ on borat if you want some real laughs these days.http://mcmusicnotes.blogspot.com\n",
            "\n",
            "to call a film boring is not something i would usually count as a valid criticism. however, when a film is crassly made of spare parts from other films that weren't that good to begin with, and it is slow as molasses with no real payoff, i think it's fair to call a spade a spade. and the ghost is a very boring film.a movie that is about as original as its' name, the ghost tells the story of a young girl with amnesia being haunted by a ghost that holds the secret to her past. only, it's a whole lot more complicated and less interesting than one would think.the plot line is almost incomprehensible for most of the picture and the hook, the amnesia element, only makes things worse. it seems that no one, including the screenwriter and director have any clue what the hell is happening at any given moment. instead they chose to do what roughly amounts to the filmic equivalent of a sitcom clip show. there are scenes taken directly from ringu, dark water, shutter, the grudge series, and a smattering of pulse for good measure. making matters worse, the half dozen female leads all dress and read their lines alike, making them impossible to tell apart.there is just nothing to grasp onto with this film. the story isn't all that well thought out. the amnesia gimmick is lazy. the mystery element is un-involving and handled with little grace. the characters never deduce anything, all the information is just handed out through the lead remembering her past whenever it is convenient for the plot.the cinematography, full of reflections and shots of water at least attempts to add to the subtext, a thematic link with the amnesia and the final twist (which i won't reveal) is nice, but often overwrought. even the score feels borrowed and cliché.worst of all, the inciting action for the curse isn't very interesting and the final twist is predictable and lame. \"wait, you mean that one character who has 15 minutes of screen time but appeared to have nothing to do with the plot comes back in the end? no!\" audiences are too savvy for this kind of tripe. anyone who has seen any of the films that this rips off will find very little to even keep them awake with this feature. i used to think shimizu was the bottom of the barrel for this kind of crap (remaking his grudge film no less than 5 times) but even his second rate work like reincarnation, a film i couldn't even bring my self to finish, is miles ahead of this.for more reviews please visit www.collider.com\n",
            "\n",
            "ok, so the fx are not high budget. but this story is based on actual events. not something thrown together to make a couple of rich actors, even richer!! as most movies that are based on books, there are somethings that just don't fit. only a couple of people have stated that this movie was based on real events, not a knock-off as most people believe it is!! this movie is in no way related too twister! other than both movies are about tornadoes.for those of you who have problems with the science of the tornadoes and storms in the movie, there are a couple of things you need to remember... the actual \"night of the twisters\" was june 3, 1980. so this movie was released 16 years after the actual events. try think how far storm research has advanced in that time. it happened in a larger town; grand island, nebraska is the third largest city in the state. even though the movie calls the town something else, and says it's a small town. for the real story check out: http://www.gitwisters.com/\n",
            "\n",
            "- contains 1 spoiler, market with: ***** -not presenting itself as yet another remake of \"the interview\", five fingers actually is. alas, besides maybe the hardship of physical torture, it never adds anything to it's predecessor's accomplishment in terms of suspense, plot or performances. in fact, five fingers never gets anywhere near its level. what i found to be in particular painful to watch wasn't the torture itself, but the way martijn (ryan philippe) acted out his ordeal. to me it looked as if philippe tried too hard to get his accent right and it made his performance glibly amateur which in turn even dragged down the performance of an otherwise great colm meaney. phillipe's accent btw, being far from anything near dutch, sounded more like eastern european. besides the acting of philippi(which to my surprise turned from poor to actually decent towards the end) there is the matter of the flashbacks with the hackneyed dutch scenery. (if these scenes were set in switzerland they would have had the cast eat cheese on mountaintops with endless pastures with grazing cows wearing expensive timepieces). scenery aside, the way these flashbacks pushed the plot didn't work for me at all. it made it being served like french fries at a drive-in and caused the build-up of suspense to flatline.admittedly the movie did become more enjoyable as phillipe's acting improved but i couldn't help being annoyed every now and then with scenes that were just too implausible. e.g.: ************ start spoilerat some point (after days) philippe is almost tenderly washed by the female terrorist. this only to be followed by the brute severing of yet another finger. why give the guy a wash if he's in for a torture? and the severing of that last finger seemed to only serve the title of this flick anyway, i mean, he was practically begging to have it knifed off. didn't make sense************ end spoilerwhat ultimately kept me watching was the performance of fishburn who once again proved to be a brilliant actor but who also had the best part of the script to work with.all in all one is just far better off seeing \"the interview\" with that other matrix-icon: hugo weaving. and when you do, i'm confident you won't find this review that disagreeable.3.5/10\"the interview\", 1998 www.imdb.com/title/tt0120714/\n",
            "\n",
            "currently playing at the 2007 german film festival in australia http://www.goethe.de/ins/au/lp/prj/ff07/enindex.htm thanks to peanutqueen and especially ariesgemini for her rundown on the actors in this ensemble cast.in australia these movies were sub-titled in english and while french movies here often get a mainstream release, german movies are still to gather that sort of commercial audience. but like bmws and mercedes when germans get it right i really like their films. like pq the time here went so quickly, lots of laughs from the audience as each of the 9 men and 9 women moved down the speed dating line 5 minutes at a time.while many films are overlong this one i could have watched much more of. it had the sort of characters and character development for a series. given time i will re-read ariesgemini100 review and reference the actors i liked and their other work with a view to keeping an eye out from them. i agree....most of these actors will go onto bigger and better things. some very good character actors in this fine film. i did see it in the program listed as a mockumentary. mock or otherwise it felt very real. and quite romantic in it's way.viva la deutcsh!\n",
            "\n",
            "ecstasy (1933) (usa 1940) starring hedy lamarr (as hedy kiesler)the world's first glimpse of a 19 year-old hedy lamarr occurs in the early moments of this 1930's treasure as she sweeps across the screen in an angelic wedding gown. this was to be the start of a legendary career. this was our glorious introduction to the most beautiful woman ever to grace the silver screen.it is eva's (lamarr) wedding night and her older husband seems uninterested in her romantic advances. she retreats to the lonely bed and, in a beautiful scene, she fiddles with her wedding ring as the realization of her marital mistake overcomes her. the husband seems more interested in neatness and order than he does in love. gustav machaty uses gorgeous camera angles and pristine shot framing to capture lamarr's considerable talent and beauty. with no words spoken in the early part of the film, she is able to grasp our sympathy, our hearts and our support. it is that combination that prepared the 1930's audiences for what they were about to see as the film unfolded. 'ecstasy' was considered shocking for its time... some thought it to be scandalous.she returns home to her father's estate and files for divorce. the next day, she wakes with a complete sense of freedom and happiness. she just has to go outside and feel the freedom of the countryside and fresh air. eva goes for a horseback ride and happens across a beautiful lake. and in one of the most famous scenes in film history, hedy lamarr became the first person to ever appear nude in a major film. her frolic in the woods and her skinny-dipping adventure in the lake were legendarily scandalous. but the audiences couldn't stay away. as with many of today's movies, the controversy made it a must-see film.eva's mischievous adventure introduces her to a handsome young man who helps her find her horse, who had run off with her clothes. after an awkward meeting, they eventually fall for each other. their first romantic rendezvous was almost as controversial as the nude scene, with its blatant waves of eroticism. however, machaty does beautiful work in these romantic moments. machaty creates one delightful moment, when eva literally seems to sink into her new lover, using a gorgeous early camera trick.it cannot be overstated how brave this performance was on lamarr's part. many might have presumed it was career suicide. instead, it gained her worldwide fame and caught the eye louis b mayer, who signed her to a contract with mgm. there are some truly erotic moments in this film, even by today's raunchy standards. it is impossible to imagine how they were received in the 1930's. again, machaty was very clever with his imagery, leaving a lot to the imagination. but we all understand very well what we are seeing and it is supremely well done.the meeting of eva's former husband and her current lover is perhaps inevitable. however, the consequences of that meeting are not. the film takes a few unexpected turns in its final act and it all makes for a great story and a lovely debut on the grand stage of movie stardom for hedy lamarr.i highly recommend this once controversial, now tame film and urge you to seek it out in its restored form on dvd. it is easily worthwhile, if only for the pleasure of seeing hedy lamarr. but the story is compelling too and the direction is ahead of its time. 'ecstasy' is a memorable early treasure.www.tccandler.com - tc candler's movie reviews!!!\n",
            "\n",
            "i have tried watching this show on several different occasions and each time found it to be utterly pale of humor.the reason, to mention one thing, is that it is solely based on ridiculing anything the republicans have done. in short it is basically democratic party political opinions touted as humor.all mr. stewart does is wisecrack about anything the republicans have done and the audience wets themselves in gales of forced laughter.my guess is that the left is so devoid of any real substance that they have to define themselves in terms of how much they all hate republicans.-ld_____________________________my faith: http://www.angelfire.com/ny5/jbc33/\n",
            "\n",
            "this is a horrific re-make of the french movie ma vie en rose (http://imdb.com/title/tt0119590/). the only scenario that i can imagine in which anyone (sinise?! bates?! butler?! what were they thinking!?!) agreed to be associated with it is maclaine seeing the original, being rightly impressed, and enlisting a friend (with no writing credits -- or talent! -- to his name) to translate the themes for american audiences -- whom they both agreed are stupid, stupid, stupid. then she enlisted other friends to sign up, and they did so as friends -- certainly not on the merits of this pathetically contrived, everything-but-the-kitchen-sink script.i'm not a knee-jerk fan of french film, but ma vie en rose is a subtle, thoughtful, and thought provoking treatment of sensitive cultural issues. i would love to see it get wider exposure among english-speaking audiences -- and if that means an american re-make, so be it. but puh-leeze! a little respect for the issues and the intelligence of the audience -- and better direction for the actors, who couldn't seem to decide if they were working for tennessee williams or jerry lewis!\n",
            "\n",
            "id just like to say that the film was good and touching. the film explains to you the real meaning of being saved or born again and is very well set out. the acting was quite good but could do with some improvements. the story board is catchy and when my church had youth service and we watched it,8 people gave there life to christ. id just like to say too anyone who is reading this, give your life to christ and repent from your sin. please visit www.lifeofacristian.piczo.com thank you andrewthe word of god will not turn void. so get saved and repent from your sin!\n",
            "\n",
            "my website (www.theflickguy.org) lists this pick as the worst movie of all time. here is an excerpt: \"if i were strapped down to a chair and forced to watch this movie over and over again, i couldn't imagine hell being any worse. jim varney plays a three-handed crazy guy bent on destroying the world (apparently starting with cinema). now let's face it, no one expects a whole lot from a varney movie, but this agonizing drivel had me dry-heaving for 92 minutes. not a laugh. not one. this is not kamp or gitchy, this is not even mindless. it is evil. do not rent this, it may destroy your dvd player. do not even buy the vhs from a 29-cent clearance bin to use as a blank tape. it is the worst film of all time. period. i mean it. really.\"\n",
            "\n",
            "for those of you who don't remember movies -- http://www.imdb.com/title/tt0080120/ -- this came out in '79 ( i guess enough time has gone by so naturally nunzio figured he could just redo this and say he wrote it - yea, right! ).the acting in this is way overboard - the \"tough guys\" walk around with their shoulders hunched forward to give the impression they are bigger than they really are, also the \"hero' seems to have a passion for snorting, and rolling his eyes in a bug-eyed kind of way to express angst/anger to the celluloid eye.there is a sort of racial message here, from the sicilian perspective (mind you this is about 3rd generation down the line... the original \"wogs\" arrived in oz after the war and during my childhood - yep i'm an aussie. so the \"wogg-iness\" has been diluted a lot - they even sound like true-blue aussies - not a flicker of the \"dago accent\" anywhere ( there, there's another slang for ya, nun! )maori's with sunnies (sunglasses) at 4am - must be cool to be sun-blinded in the middle of the night and it looks like redfern... this is at this movie's tedious end. nunzio tried to copy the flavor of the warriors but, left too many holes in the story. how about coincidences ?the warriors had a gang of baseball guys wielding bats, with white face makeup chase the heroes to a train station and fight them - nunzios gang get chased on a railway station by a gang of stick wielding guys wearing whitish face masks. the warriors were mistakenly accused of shooting/murdering another gang-member -- nunzios gang are mistakenly accused of raping the sister of the big maori gang boss. the warriors are lured into a room by a gang of girls who attack them - nunzios crowd want to crash at a friends house, which is populated by, yep, a gang of girls -- there are almost too many copies from the warriors to keep on about here.i am saddened that people don't want to see other moves from oz because of this tripe - how about mad max - commander and master of the world? not all movies are made by actors who are so bad, they have to fund their own movies. as far as the other actors in this show are concerned, they seem to have taken their cue from \"the nun\" as they all are as bad as each other - don't bother with this movie! i can't get my money back - so save yours!\n",
            "\n",
            "every once in a while you stumble across a movie that takes you by surprise and this is one of them. on the surprise scale this would rate as sharing a hot tub with jessica alba whilst a band consisting of elvis, jimi hendrix, john lennon, phil lynott and keith moon play you music for the night. the reason why this film will surprise you is that for the meagre budget they had (£8,000) and that this was done by a bunch of mates who just wanted to try it out they have produced something very slick and looks easily 100 times more than its budget.the plot is simple a crew of mercenaries carrying a dangerous prisoner through space come under attack and are forced to crash land on a nearby desolate planet. after some checks not only does the planet not exist according to star charts but they are not alone as it seems and something very unfriendly begins to pick them of one by one. it sounds like very standard sci-fi fare mixing elements of aliens. predator and pitch black but it takes all these and makes them into something that feels fresh and original.the location shooting in this is fantastic, utilising balmeddie beach in aberdeen to the maximum and you genuinely feel that you are one an alien world. the seemingly never ending sand dunes and clever lighting effects give it a very bleak feel , you truly think the crew are stranded on an alien world. also the action sequences are superb, the opening assault on the freighter a great showcase of what special effects can be achieved on a budget and the firefights as well as the stunning finale all showcase the inventiveness of the film.as for the team of mercenaries the cast excels themselves. for a low budget independent movie the casting here was done via local media outlets and they seem to have picked some possible stars for the future. local body builder mike mitchell whilst not a natural actor slots into his role as the arnie-esq leader of the mercenaries. from the rest of the cast there are two stand out performances patrick wright as second in command mcneal and scott ironside as the rough and ready engineer vince. both have some the best lines in the movie and scott injects a good bit of humour into the movie with his performance. patrick gives a well rounded performance as the cool as ice second in command.director mark stirton can be very proud of what he has achieved and shows that scottish cinema need not all be 'kilts and ceilidhs' or 'slums and drugs' scottish films can be fresh, inventive and most of all a lot of god damn fun. this film is scottish (with a north east flavour) to the core and praise to the actors and directors for keeping the accents intact which adds to the charm of the piece. although the budget limitations show from time to time (the only fault i could find) that is to be expected. this film, its cast and crew deserve all the success they get and then some more. i for one wish mark and his crew every success and theirs is a career to keep a very close eye on.rating - 9/10 the first scottish sci-fi is bold, fresh and inventive a real triumph.movie reviews, news and opinion like no other plus the kick ass bi-weekly pod-casts.www.fightrunner.co.uk contact@fightrunner.co.uk\n",
            "\n",
            "nope, i am just not going to get with it here. i refuse to go along with the program. don't you supposed that perhaps this movie is just a tad over-rated? look at the reader comments and their star ratings: most are 6/10, 7/10 or better. i think this is an instance when the ratings may say more about the people rendering them than the movie itself, which is unique. how many other sex fantasies about simulated bestiality complete with horse couplings have become mainstream hits as catalog dvd titles? i watched this movie with a pervading sense of anticipation, expecting fireworks, and instead got someone popping a gucci shopping bag. it looked great, but once the thrill had been spent even the twist ending didn't do much to save it.the film's background story says it all: director films about 25 minutes of borderline hardcore fake bestial sex for another movie, is informed the footage will not be appropriate, sets it aside, waits two or three years for a smattering of critical acclaim to build up, then constructs an entire feature around that 25 minutes, filming roughly 70 minutes of otherwise unrelated, excruciatingly boring footage and inserting the 25 minute chunk in as a dream sequence. that the 25 minutes of film in question is strikingly odd, original and shocking in a deliberate, calculated manner goes without saying. but we aren't here to evaluate that 25 minutes alone, we must consider the entire film, and ask ourselves why people are so enthusiastic about the movie? or are they just enamored by it's background story and history of having been banned by people who were stupid enough to be offended by it?perhaps it is an anti-clerical agenda that appeals to them. hating the western religions of catholicism and christianity is one of the few remaining socially acceptable bastions of intolerance -- just today it was revealed that the bbc routinely skews their broadcasts with anti christian & anti western sentiment in the furtherance of political correctness. you can say anything you want about the bible, pedopheliac priests, the institutionalized cruelty of the church, and how much white men and their inhuman religions suck the dimpled skin off a golf ball ... but say one negative thing about non-westernized religions, and you are toast. this movie was tailor made for such a sentiment, with a wrinkly old dried up priest who has an entirely unwholesome on screen relationship with two pretty 14 year old french boys complete with inappropriate touching, fawning, fondling, fumbling, groping, and patting of the backsides. ewww.and then there is the horse couplings, photographed in such fetishistic closeup detail that portions of the film could be used as visual aids for a biology class on animal husbandry. yes i understand the thematic relevance of the imagery -- large animal phallus's with a wealth of reproductive fluids just waiting to be unleashed like fire extinguishers -- but if i wanted to watch horses, you know, do it, i would like go live on a farm. having their genitals in my face is about as entertaining as watching someone use a bathroom.is this movie just a sort of artsy diversion for social deviants? probably, though i will grant the artistic execution of most of it, filmed in a kind of arty euro detail that even has a dappled forest pond right out of a monet painting, complete with a spanning arched bridge. and the ending (which even i managed to be surprised by) does sort of wrap it all up into a neat if distasteful package. but you have to remember that there are certain things that cannot be deconstructed for their design elements and many artists are guilty for exploiting them in their work to lend a sort of gravitas that would not have been achieved without it. that isn't fair, and even clint eastwood has fallen prey to the urge with his new movie about iwo jima. whether or not his film is any good stands as a separate consideration from whether or not that battle was a noble cause fought by men who were heroes. the problem is that most people will not be able to separate out the two aspects of the movie and will be lining up to give it oscars because of it's noble message -- not because it is a particularly good or original movie.while it may seem like an odd parallel, i see one with the beast: how can anyone not see the basic beauty of nature in the sight of two horses mating? and who cannot see the logical culmination of the repressed sexuality from fairy tales in the film's explosive set-piece where beauty and the beast finally do the nasty? somehow i managed to miss both points, and am delighted that i have seen this film so that i can trash it as being what it really is: 25 minutes or so of eye opening over the top adult fairy tale imagery surrounded by 70 minutes of skull drainingly boring artsy-fartsy euro trash dreck about some guy getting a haircut, and a great ending. it's art for sure, but it sucks hard.3/10\n",
            "\n",
            "this is an excellent movie. there were several parts to the movie i liked. this movie is very funny! visit the ernest fun club web site at www.ernestfunclub.com there are several movies such as the following: ernest goes to camp, ernest saves christmas, ernest goes to jail, ernest in the army, ernest goes to school, ernest rides again slam dunk ernest etc. i highly recommend these for family movies. all star jim varney again try visiting www.ernestfunclub.com which is the best ernest movie? in my opinion there are actually 2 ernest goes to camp and ernest goes to jail. so if you have never seen ernest p. worrell its time to go and see him. you will find him quite satisfactory \"no what i mean\"?\n",
            "\n",
            "a super comedy series from the 1990s (two series were made in total) that suffered in the uk ratings due to poor scheduling. when you are up against established comedies like 'minder', even the best new comedies are going to struggle to get noticed.luckily, i caught the series from episode one and followed it avidly. i mentioned it to friends and family at the time, but everyone seemed to have been watching something else. very, very frustrating.anyway, i loved both series and never forgot it.then i looked it up on the internet and found that an ultra-fan was trying to get both series released 'on his own'.well, both series are now available on dvd.http://www.replaydvd.co.uk/joking_apart_s1.htm\n",
            "\n",
            "this film may be great, but it is a complete ripoff of bill forsythe's comfort and joy. c&j is one of the sweetest films i've ever seen without becoming diabetic.it's ok if you do like it, but realize that everything in this film is a direct rip-off.the original is http://us.imdb.com/title/tt0087072 i can recommend almost anything by forsythe - local hero, gregory's girl, that sinking feeling. i better go rent some tonight. local has a young peter capaldi, and an old burt lancaster.unfortunately he's given up film-making after some really crappy hollywood treatment. sad.\n",
            "\n",
            "\"i remember waiting to be born...\" \"vision quest that was the american west.\" \"we went to a psychic...\" \"i'm sure their first reaction is that she's cuckoo\" \"...the place is haunted...\" \"i think there's another dimension right here.\" an artist (marta becket) and her husband many decades ago left the hustle and bustle and culture of new york and moved to a god-forsaken town with a population of 10 in death valley. there, they renovated a theater--painting it is a very home-spun/folk art manner. and, once finished, she bega putting on dancing performances for practically no one. in many ways, it's highly reminiscent of the werner herzog film fitzcarraldo or field of dreams--though amargosa is a documentary of a real person--not a mythical crazy man like klaus kinski or kevin costner. her husband eventually leaves--much of it apparently because of the lifestyle she chose. so, today she lives on with her ten cats and a sanctuary for burros eventually along with her new male companion, tom.what you think about this documentary depends on your perspectives. if you are into new age ideas and open to these sensibilities, then you'll more likely appreciate the film. her talking about how she remembers her birth, ghosts, vision quests and psychics frankly made the psychology teacher in me cringe and this would definitely be the case for many people. in addition, her burro sanctuary and trying to preserve horses in the desert will most likely appeal to peta and many other animal lovers, though with my background in environmental concerns and biology, i see the burros and horses as a blight that would destroy the native plants and animals. so on two different accounts, i tend to think quite the opposite of marta--who is more of a \"feeler\" and \"sensing\" individual. depending on how you feel about all this will definitely color your opinions--and i am pretty sure most people will either think she's a genius or a nut! you'll just have to guess what i think.now despite all this, the film is interesting and marta's life is definitely not dull--particularly since in recent years, people have actually begun taking trips to the desert to see her perform. there is a definite following for her and her unusual little world. while i would not be nearly as positive as most reviews, i also can't be as negative as the one review, as there is definite merit to this odd documentary. i like films about unusual people and marta certainly is unusual! i also appreciate her love of her art and happy life--that is a rare gift. i teach psychology at an arts school and it sure would be interesting to show this to the staff--where i am pretty sure we'd get a strong positive and negative reaction to the film--probably depending on whether the teachers taught the arts classes or core curriculum! it sure would be interesting.by the way, and i am not trying to be sarcastic, but when marta's husband was having affairs, with whom did this occur?! after all, they lived in the middle of no where and i was left wondering where he'd find partners.by the way, if you'd like to see her perform and/or stay at her hotel, it can be found at www.amargosaoperahouse.com/ . the site is in english, french and german and hotel rates are pretty reasonable as are ticket prices.\n",
            "\n",
            "this move is bad on so many levels i don't even know where to start. ok - the good points - peebles is beautiful as a dirty outlaw in black leather. some of the landscape photography was stunning. that's about it. oh, and it was a nice touch having the buffalo head above the bar door in freemanville, i figure it was a nod to the buffalo soldiers. the movie starts sort of ok but the characters are so flat, so comic book, so 'much', the bad guys are just over the top bad, i choke trying to describe them further. the spanish-cuban-american war was 1895-1898 with america being involved only in april to august of '98. i think the movie said it took place in 1893 (i could be wrong but i don't want to look at it again to check). a big part of this movie hinged on the kkk killing jessie's daddy. well boys, the original kkk started in 1865 and was destroyed by president andrew johnson in 1871. the klan wasn't even around during the time period of this movie. of course the nasty bas**rds got busy again in 1915 and we know the rest of that. but for the purpose of the movie it is historically incorrect and that was a major part of the plot. i think i could make myself crazy going into it a lot more so here a few jabs and i'm done. i didn't know that boyz2men and other bands like that got their inspiration from new orleans street singers from the 1890's. i also didn't know that fetish necklaces were all the rage for sioux women in the 1890's...but then i was surprised to see a bar singer doing jazz while wearing acrylic 1\" nails... we just about died laughing and i like a cheesy western more than most people do. such a waste of talent and money - this really had the chance to show a part of american history that isn't well known. http://www.coax.net/people/lwf/bkcwboy2.htm for some more information. this could have been so good but it was just....bad from 1-10 this gets a 1 instead of a zero because mario looks good in his hat and there was an appaloosa horse in the film.\n",
            "\n",
            "robin hood; men in tights is worth watching, i recently watched it because i've just become a cary elwes fan, and this is one of of his lead-roles. some moments really made me crack up so hard! i didn't expect them you know, it was so funny, even the 2nd time around you'd still fall off your chair the cast is great, of course especially robin of locksley himself,cary, but blinkin and the sheriff and little john (don't let the name fool you, it's veryy big! lol) and everyone else!there were some moments of course, the film tried to make a comedic scene out of but you don't necessarily laugh at it,.... but ok.this is the second time cary elwes and patrick stewart appeared in a film together by the way, they both worked on \"lady jane\" in 1986, and it was fun to see them, 7 years later, older, awwww.it's definitely worth watching, quite hilarious indeed!\n",
            "\n",
            "based on the excellent novel, watchers by dean koontz, is this extremely awful motion picture that probably shouldn't be viewed by anyone. not since \"the running man\" have i seen a book butchered so far beyond recognition. the difference, however, is that \"the running man\" film was still enjoyable as an amusing action film laden down a million catch phrases. this film nope, nothing remotely amusing. in fact, if you love the book, as i do, you'll hate this bastardization even more.**warning**contains spoilers** rightio, i'm basically going to tell you the story here, almost in it's entirety. why? because you, dear reader, do not also need to suffer through this abominationit's okay for me, because i enjoy watching crap. because i like complaining about sh*tty things. now, on to the nasty: this film revolves around a boy and his mother running away from the government and a mutant-monkey-creature-soldier which escaped from a destroyed government genetics lab with a super-smart golden retriever which the \"hero\" calls \"furface.\" groan trust me, in the novel, this story rocked. i'll get to that later. anyway, the hero is none other that dreamy boy-child corey haim. oh, i'm not kidding. our hero runs around, crackly voice and all, trying to convince his mom to help save this dog from the \"evil government\" which birthed him and made him genetically ultra-smart. the monkey-creature, retardedly referred to as an \"oxcom\" (god help us) is also a genetic-stew of a creature built to be the ultimate fighter on battlefields of the future. michael ironside (total recall, starship troopersalways plays a badass) is also in this film, and no, i couldn't figure out how anyone convinced him this would be a good idea. he plays a government agent with the nso hunting the dog and creature. oh yeah, here's some spoilerama: he's also a creation from the government, and the same lab, and lo and behold spends most of the movie being a prick and killing peopleand all that killing is supposed to be done by the monkey-soldier. instead of a rockin' kick-ass, creepy horror film, we have a rectal hemorrhage of a teenybopper horror flick. the dog's intelligence is discovered all-too-conveniently, and believed easier than we believe we can see clouds by looking outside. breakdown!!change from book to film:--lead character (travis) turned from man to boy-child.--man's love interest in book (nora), is now his motherand all her depth and character growth is completely gone.--lem johnson, black man, is now white mr. ironside. this matters as the character's strength was built on his heritage in the book.--relationship between two authority figures completely ignored, lem now kills the guy who was originally his best friend.--one principle character in the book is now totally absent, the \"immortal\" that hunted the heroes--maybe this is supposed to be ironside, but then why is he someone else?--dog never receives deserving name of \"einstein\" in the movie.--no part of the book took place in a high schoolat least nothing that had strong bearing on the plot.--takes place over a matter of days, rather months like the bookunrealistic pacing.--corey haim's girlfriend in the movie appeared in no more than two chapters in the book--and they never met in the book.--character of lem johnson is no longer cool-headed; instead, he's a total asshole that bullies his way through people.--hero travis was part of delta force (military segment specializing in hunting terrorists), instead, his dad, who is never seen in the film, was part of that group.--perceived intelligence in the monster now totally absent.--subplots involving soviets and the mob completely gutted out of the story.--these are just the most obnoxious changes, and the one's i could remember off hand (and a day later).the good:--eventually, after 90-odd minutes of pain and mental anguish, the movie ended.didn't hurt it, didn't help it:--michael ironsideusually, i like him.--the dog is still fairly likable.--wacky \"totally 80's\" title screen.the bad:--okay, the writing for one is extremely awful.--the direction is so half-assed that anyone watching the film will feel superior to everyone involved in it.--the acting is crappy and weak, especially from corey haim.--loose, weak, watered down story.--the monster looks just pathetic, that is, when we are actually allowed to see the bloody thing. its head is gigantically over-sized, the yellow eyes that were so much a part of the thing in the book are seen for no more than two seconds. instead of a lean, powerful, fast, intelligent killing machine, we have some jackass in a puke-ugly monkey suit forced upon us.--absolutely no character development.--even the violence and gore are done poorly, for f*ck sakes, this is supposed to be a horror film!! usually violence is at least done well!the ugly:--the idea that dean koontz whored out his brilliant novel to become this filthy f*cking piece of sh*t brings me dangerously close to vomiting all over myself and anyone near me. there are movies worse than this (headache-inducing as that idea may seem), but so far, only \"alien vs predator,\" at least to me, is a bigger travesty and more painful disappointment. memorable scene: watching the end credits start.acting: 3/10 story: 4/10 (the novel was really good, this is just terrible) atmosphere: 5/10 cinematography: 4/10 character development: 1/10 special effects/make-up: 4/10 nudity/sexuality: 0/10 violence/gore: 4/10 music: 5/10 direction: 3/10cheesiness: 7/10 crappiness: 9/10overall: 3/10i would recommend that no one watch this movie ever, except for a few extreme die-hard horror fansand only if you haven't read the novel. instead, i would recommend that anyone interested in this avoid it entirely and buy/check/borrow the book.www.residenthazard.com\n",
            "\n",
            "call me stupid, but i absolutely loved the 2001 horror movie, valentine. it was so well-made, well-written, well-acted, well-directed, etc! everything about it was wonderful! there were parts that were relatively routine (lily's death), very funny (www.bleed-me-dry.com), completely horrifying and creepy (paige's death), and just plain heartbreaking (the first scene). i think the entire cast did a great job, especially the three leads: david boreanaz, denise richards (both of whom i met, and got autographs from, during the filming of this movie - very nice people!), and marley shelton.i am very sick of people calling this movie \"another scream clone\". this movie is, in no way, a scream clone. in fact, this film runs rings around scream. it actually makes sense! scream was also not the only movie to feature a masked killer in it. excuse me, but it looks like scream was also a clone too (ahem..., friday the 13th, halloween, and many other scary movies also featured masked killers). i also think that the novelty of the cupid-masked killer is brilliant. it's so strange to see a sweet, cupid face doing all of these horrible things. another novelty (the nose bleeding) makes way for a fantastic ending! the ending gives me chills every time i see it!!!!! so, even if you didn't like it the first time, watch valentine again and give it another chance!ps- keep an eye out for my new website (www.love-hurts.org)! coming soon...\n",
            "\n",
            "according to the article at http://blog.ifeng.com/article/2737487.html, one of the actors in the film, carina lau, was forced to appear in this movie for free. she was the victim of an infamous kidnapping shortly before this movie was made, and later photos of her in distress were published in a magazine, which has since been forced to shut down and its publisher sent to jail. the actress denies she was assaulted but there was a movie leaked on net that allegedly showed her being gang-raped. (the hong kong press, out of respect for her, has mostly refused to report on the incident, but google will turn up a few articles about it.)\n",
            "\n",
            "i don't normally write reviews, but for this film i had to. i'm shocked at the acting talent in this move going to waste... the script was appalling... the editing awful... and the plot very thin. you spend the first half of the movie wondering who is talking to who and what on earth they are doing. the latter half of the movie slows down slightly, but has no depth or feeling. the only saving grace is the nice, but still limited cgi, and the location being london. i gave 3 stars for that, and the fact the actors still tried to do a good job with the drivel they were given. if you fancy losing a couple of hours of your life with mediocre popcorn disaster movie entertainment, by all means, this is the movie for you. but i would recommend doing something else with your time instead, like watching the real archive footage online! :) http://www.weatherpaparazzi.com/flooding.asp\n",
            "\n",
            "serge farnel made a very precise critics of this film in the revue \"the rwandese night\" (www.lanuitrwandaise.net)a critics which shows how france was behind all the situation undergone by the united nations in rwanda.the un soldiers were in a dangerous situation while the french soldiers were warmly welcomed by the genocide forces.the day before, ten un soldiers had been killed by the genocide forces.that is why the un soldiers decided to protect their own lives by driving behind the french trucks.by doing so, they gave up the tutsi which is unforgivable of course.but we must keep in mind that the french soldiers organized this situation.\n",
            "\n",
            "inarguably one of the most interesting filmmakers of the last 50 years, werner herzog has been pushing the boundaries of cinema perhaps more so than any other commercial filmmaker. i've been acquainted with herzog for a few decades now and i've never not been impressed by both the man and his work. last year i went to see rescue dawn and was somewhat surprised at how relatively mainstream the film was, yet couldn't help but imagine herzog taking his actors and crew into the actual jungle to not only make the film, but to live it. no other filmmaker is as crazed about the purity of the film-making process and the subsequent lore from such productions as fitzcarraldo has been forged into cinematic legend.today i sat down to fata morgana, a 1969 herzog film that could be described as an allegorical filmic postcard. without researching the actual locations, i'm assuming it was shot somewhere in africa, both coastal and desert, a region that could have once been the cradle of infant man, infant civilization, infant life on earth. it is these origins, the biblical notion of the garden of eden and the apocalypse that herzog is concerned with, as is voiced by the narration dispensed throughout the 79 minute run time.watching fm i couldn't help but feel i was a passenger on a profound journey. in the opening sequence, the title is translated as \"mirage\" and herzog juxtaposes this translation with multiple repetitions of commercial jets landing on an airstrip. these images are perverted, their 3-dimensionality crushed flat by a long lens, piling layers of exhaust, heat waves and light aberrations all on top of one another. the effect left me to conclude: things are not as they seem.fm is divided into 3 very distinct chapters: 1) creation, 2) paradise and 3) the golden age. chapter one, opens with countless, languid images, where bleak, barren landscapes scroll by, dead animals rot, broken shells of crashed airplanes and abandoned cars slowly disintegrate in the desert sun. the people populating this inhospitable landscape are ragged, unsmiling and apparent prisoners of the desert. the narration talks of a time before life, a time where the canvas of earth was blank and all that existed were the heavens. while the narration hearkens to a simpler, purer era, a portrait of a young boy holding a fox-like animal by its throat evokes a chilling depiction of man's cruel, ruthless attempt to enforce a dominion over nature.in the next chapter we are introduced to more of the same, yet the images and people are more animated and seem infused with a modicum of life and vitality. we listen to a goggled biologist talk about the difficultly a monitor lizard has hunting for prey in such a lifeless environment. as he holds the squirming monitor, its tongue flicking at flies, he also describes how difficult it to capture these creatures in the searing 140 degree heat. the parallel is duly noted and herzog continues to explore this concept through repeated, candid portraits of individuals battered by the sun, the desert and the laborious efforts required to exist in this harsh realm. he also pushes forward the theme that if not in control, man asserts his control over his environment and not always in the most pleasant of ways.the last chapter takes us out of the desert's blast furnace and into the more familiar herzog territory populated by eccentrics and absurd behavior. no one seems to have a more effective symbiotic relationship with the oddballs of the world than herzog -- possibly this is where he feels most at home. much like errol morris, herzog chooses to place his camera in as seemingly objective a position as he can before he lets the film roll. the subsequent flirtation herzog has with his subject is the result of him being able to continue shooting well beyond the point when most directors would have yelled cut. as morris does, this extended roll pushes past the \"on\" moment the subjects feel obliged to offer and through their discomfort of being pushed into overtime, their facade gives way to something real. the most humorous portrait in this chapter is of the 2 person band playing an odd, polka-like song that herzog recycles throughout this chapter. the drummer of the band wears the same goggles as the biologist, as does another guy doing a magic trick, begging the question: what's with the goggles? they definitely add some levity to the film, but one has to wonder if they hold any deeper meaning or significance, or is this just another example of herzog's playfullness.the narration aside, herzog utilizes folk and blues music as the experimental documentary's soundtrack. leonard cohen grabs the most screen time, two of his beautifully melancholic songs \"so long marianne\" and \"suzanne.\" perfectly accompany the scrolling landscapes, adding to the convincing feel that we are truly along for the ride. by the end of the journey, herzog comes back to one of the many shots that recur throughout the film: the distant framing of a lone vehicle traversing the endless desert engulfed by a water mirage that fills the horizon. despite the overall bleakness of fm, the crescendo of the film and the mirage motif leave you with a hopeful spirit, belief that against all odds, life will persevere and possibly even flourish.having finished writing this post, i referenced fm to discover that herzog shot it in saharan cameroon only weeks after a bloody coup. true to his legend, herzog and his crew were arrested, beaten and imprisoned. while imprisoned, herzog fell ill with schistosomiasis, a blood parasite. it's truly hard not to love such a hypnotic and austere film as fata morgana; knowing the filmmaker was willing to die to get it made only makes you respect it all the more.http://eattheblinds.blogspot.com/\n",
            "\n",
            "currently on metoo's new schedule at 4 pm on weekdays, right after \"maverick\" and right before \"wild, wild west\" (followed by \"star trek\").don't know if i ever actually saw an episode of it when it was originally on, but i'm really captivated by it. offbeat, unusual, surreal stories set in a mythical west. kind of the \"naked city\" of westerns.and the guest stars are there: dan duryea, lyle bettger, brian donlevy, macdonald carey, rick jason (as a treacherous mexican), a young dick van patten, jack lord, noah berry, jr. (as a colorful mexican), martha hyer, marguerite chapman, even ann robinson (\"war of the worlds\"), gloria talbott (\"i married a monster from outer space\")it ran for eight seasons, over 200 episodes, from january, 1959, to december, 1965.eric fleming is quite remarkable as trail boss gil favor, the most stolid man that's ever lived, with the code of honor of a samurai, and just the right balance between toughness and open-handedness. i would vote for him for president any day. (p.s. he had a very interesting biography: http://www.imdb.com/name/nm0281661/ )and a young clint eastwood is quite striking as his impulsive right hand, \"rowdy\" yates. also, veteran western actor and country music figure (the immortal \"one-eyed, one-horned, flying purple people eater\") sheb wooley is there as seasoned scout pete nolan. and paul brinegar makes the most cantankerous character of a cook you could ask for as \"wishbone\".and then there's that great theme song, performed by the immortal frankie laine. (between that and the \"maverick\" theme, i've got western theme songs running through my head all day.)i look forward to every episode; i'm collecting the whole set. a good time (not to mention a moo-ving experience) is always guaranteed, as one waits to see if the boys will get their difficulties straightened out before the commercial.\"rollin', rollin', rollin' . . . \"\n",
            "\n",
            "the mere fact that i still think of the movie a decade later is what really speaks volumes about the film. to me this substantiates grand canyon as a film that will touch you in one way or another. i truly believe that before the movie crash there was grand canyon. the major difference between the two films in my opinion is the timing of their release. i'm not going to argue which one is better, but i will contend to the idea that they share the same message. i'd love to hear from those that have an opinion on this subject. i will start a commentary which you can find at http://www.myspace.com/62229249. you may also find me there to post any other topics about movies that we may share, because i have a true love for film.\n",
            "\n",
            "ridiculous. this movie is actually a vehicle for the ramtha school of enlightenment. if you are wondering who the *bleep* ramtha is: \"ramtha is a 35,000 year-old spirit-warrior who appeared in j.z. knight's kitchen in tacoma, washington in 1977. knight claims that she is ramtha's channel. she also owns the copyright to ramtha and conducts sessions in which she pretends to go into a trance and speaks hollywood's version of elizabethan english in a guttural, husky voice. she has thousands of followers and has made millions of dollars performing as ramtha at seminars ($1,000 a crack) and at her ramtha school of enlightenment, and from the sales of tapes, books, and accessories (clark and gallo 1993). she must have hypnotic powers. searching for self-fulfillment, otherwise normal people obey her command to spend hours blindfolded in a cold, muddy, doorless maze.\" john wheeler, one of america's finest theoretical physicists, would roll his eyes about this movie. he has in the recent past criticized parapsychologists for their misuse and misinterpretations of quantum theory. this movie does the same thing as those fools.there is a great review of this movie at skeptico. i recommend anyone considering watching this movie read it first before contributing to a cult's coffers.http://skeptico.blogs.com/skeptico/2005/04/what_the_bleep_.html i noticed one reviewer here at imdb say to take this movie with a grain of salt. it will take enough salt to kill a horse to wade through the garbage-thinking of this movie.\n",
            "\n",
            "i fell in love with this silent action drama. kurt russell and only kurt russell could have played this so well. raised from childhood to know nothing but war and fighting, todd (kurt russell) is dumped on a planet after being made obsolete by genetically engineered soldiers.the stage is set and another classic icon of action movies was born - soldier. not rambo, not schwarzenegger, not bruce willis, not mel gibson, not jason statham - kurt russell owns this role and made it entirely his - original, daring, and all too human. i miss the fact that sequels were never made.10/10-ld_________my faith: http://www.angelfire.com/ny5/jbc33/\n",
            "\n",
            "the priest, into profound love and suffering showed not the result of love, but the process of love and salvation has high-souled beauty of human(or vampire?). http://plaza.rakuten.co.jp/confuoco/diary/200911290000/and the love of femme fatale is not notorious, but lovely in taking the responsible death as a vampire. she did not keep falling deep into the paradise lost, but decided to leave human alone. fragile, but lovely femme fatale! this movie made me think about suffering between human and vampire, that far beyond priest, and salvation. also i thought about love. adam was not so responsible for eve's but this adam(priest), sacrificial and responsible to pick eve up from the paradise lost, vampire's world. another symphonic poem of adam & eve, paradise lost.\n",
            "\n",
            "i had watched this film from ralph bakshi (wizards, hey good lookin'), one night ago on www.afrovideo.org, and i didn't see anything racial (i am not stupid), i do admit the character designs are a bit crude and unaccpectable today, but i think it's a satire and a very,very urban retelling of the old uncle remus stories that the black american culture, created right down to the main characters and the blatant nod to \"the tar baby\" and \"the briar patch.\" these aren't bigoted stories, mind you, but cultural icons created by black americans, and me being a white woman read and love those stories. and i also found it an interesting time-capsule view on the black culture in harlem, new york in the 70's.well to get to the nitty-gritty of this film: this film is a live-action/animated film, which begins in live-action with a fellow named sampson (barry white) and the preacherman (charles gordone) rush to help their friend, randy (philip michael thomas) escape from prison, but are stopped by a roadblock and wind up in a shootout with the police. while waiting for them, randy unwillingly listens to fellow escapee pappy (scatman crothers), as he begins to tell randy the animated story of brother rabbit, a young newcomer to the big city who quickly rises from obscurity to rule over all of harlem; you know, to me rabbit,bear and fox are animal versions of randy,sampson and the preacherman. an abstract juxtaposition of stylized animation and live action footage, the film is a graphic and condemnatory satire of stereotypes prevalent in the 70s  racial, ethnic, and otherwise.so anyway, it is another good bakshi movie; and should we sweep films like this under the rug? pretend they never exist? hmmm...i think that would be a shame; i think we should watch these films entacted, and learn about what goes on back then, just how far we come since then.\n",
            "\n",
            "the 63 year reign of queen victoria is perhaps one of the most documented and popularly known historical reigns in british history. on the one hand, her story lacks the theatrics of earlier royals thanks to a change in social climate and attitudes, and on the other her story is one that perpetuates because it is notably human. taking on the earlier years of her life where the budding romance between herself and the german prince albert was taking forefront, director jean-marc vallée who has only until recently remained in the unbeknownst shadows of the industry here takes victoria's story and captures that human element so vital to her legacy. it's a story that feels extremely humble considering its exuberant background, and yet that's partly what gives it a distinct edge here that separates it from the usual fare.taking a very direct and focused approach that centres in on a brief five or so year period between her ascension and marriage to albert, the young victoria does what so little period pieces of this nature offer. instead of attempting a sprawling encapsulation of such a figure's entire life, vallée instead opts to show one of the lesser known intricacies of victoria's early years which are easily overlooked in favour of the more publicly known accolades. the result is a feature that may disgruntle historians thanks to its relatively flippant regards to facts and the like, yet never to let document get in the way of extracting a compelling story, writer julian fellowes sticks to his guns and delivers a slightly romanticised yet convincing portrayal. vallée takes this and runs, making sure to fully capitalise on those elements with enough restraint to maintain integrity in regards to both the history involved and the viewer watching.a major part in the joy of watching the young victoria play out however simply lies in the production values granted here that bring early 1800's regal britain to life with a vigorous realism so rarely achieved quite so strikingly by genre films. everything from the costume designs, sets, hair styles, lighting and photography accentuates the grandiose background inherent to victoria's story without ever over-encumbering it. indeed, while watching vallée's interpretation come to life here it is very hard not to be sucked in solely through the aesthetics that permeates the visual element; and then there's the film's score also which works tremendously to further the very elegant yet personal tones that dominate fellowes' script. entwining the works of schubert and strauss into victoria and albert's story not only works as a point of reference for the characters to play with, but also melds to the work with an elegance and refrain that echoes composer ilan eshkeri's original work just as well.yet for all the poignant compositions, lush backdrops and immaculate costumes that punctuate every scene, the single most important factor hereand indeed to most period dramasare the performances of the cast and how they help bring the world they exist in to life. thankfully the young victoria is blessed with an equally immaculate ensemble of thespians both young and old that do a fantastic job of doing just that. between the sweet, budding romance of victoria (emily blunt) and albert (rupert friend) and the somewhat antagonistic struggles of her advisors and the like (spearheaded by a terrific mark strong and paul bettany), the conflicts and warmth so prevalent to fellowe's screenplay are conveyed perfectly here by all involved which helps keep the movie from being a plastic \"nice to look at but dim underneath\" affair so common with these outings.in the end, it's hard to fault a work such as the young victoria. it's got a perfectly touching and human sense of affection within its perfectly paced romance, plus some historical significance that plays as an intriguing source of interest for those in the audience keen on such details. of course, it may not take the cinematic world by storm and there lacks a certain significance to its overall presence that stops it from ever becoming more than just a poignantly restrained romantic period drama; yet in a sense this is what makes it enjoyable. vallée never seems to be striving for grandeur, nor does he seem content at making a run-of-the-mill escapist piece for aficionados. somewhere within this gray middle-ground lies the young victoria, sure to cater to genre fans and those a little more disillusioned by the usual productions; beautiful, memorable but most of all, human.- a review by jamie robert ward (http://www.invocus.net)\n",
            "\n",
            "airwolf the movie, a variation on the original 2 part pilot, yet the movie although shorter, does contain extra footage unseen in the 2 hour pilot the pilot is much more of a pilot than the movie where as a pilot movie is normally the same (2 parter combined) but the movie is actually a different edit with extras here and cuts there.worth a look, even if you have the season 1 dvd set, i'd still pick up a copy of the \"movie\" it's still in some shops like virgin, woolworths and the likes of mixed media stores, although it generally needs ordering, but it saves needing to buy online (as many of us still don't do or trust online shopping) but if you look around airwolfs in storesairwolf was truly 1 of the 80's most under rated shows.a full size airwolf is currently being re-built for a helicopter museum :) info and work in progress pictures are over at http://airwolf.org also with airwolf mods for flashpoint and flight sim games it seams she's finally here to stay :)\n",
            "\n",
            "awwww....yes, it is heartwarming and all that some unlucky family gets adopted by abc/sears and has their home \"renovated.\" that's where the humanistic appeal ends. i liked it early in its run, but now this show has become disgustingly excessive.ten needy families could be given relatively luxurious homes with lots of goodies for every one family that each episode of this show splurges on. the people at habitat for humanity must be shaking their heads in disbelief. for example, is it necessary for a healthy sixteen year old boy to have a jacuzzi in his bedroom, or have his bed tricked-out with \"low rider\" hydraulics? does the mom really need her dilapidated, non-running and rusted out old pick-up truck restored and \"pimped\" by some of the best customizers in california? a new one would have done the job quite nicely, and probably for a third of the price. do people really need a sixty-five inch plasma screen in every room of the house? and then there's the issue of who pays the increased property taxes and utility bills. even after the zaniacs at \"makeover\" leave, somebody still has earn a living. i doubt the friendly folks down at social services will see the humor in all of this largess.this show is nothing more than a ratings grabber for abc, and a tacit commercial for its sponsors.\n",
            "\n",
            "years ago a movie going friend and i went to see a horror film that we thought would be good because it starred john cassavetes. for the uninitiated, john cassavettes was an actor, screen writer and director (married to actress gena rowlands), nominated for oscars three times, who wrote and directed a variety of good low-budget films using his income as an actor to keep himself afloat. up until seeing the incubus, we did not understand that john cassavetes income was made from any movie that was offered to him. had we known what the film was about before seeing it we may have avoided altogether. but we did not walk out. at the time, my friend and i jokingly indicated it was the worst movie ever made. now frankly, this is not true. i have seen many poorly made films on friday nights on cinemax (did i just say that out loud?) that are far worse than the incubus. almost any movie starring brian bosworth is by definition a worse movie than the incubus. certainly santa claus conquers the martians is a worse movie than the incubus. however, i have since consistently used the incubus as a threshold below which i do not want to fall. when talking to this friend about a movie i may have seen i will always remark that it was better (or worse) than the incubus.http://thevillagevideot.blogspot.com/\n",
            "\n",
            "since this show was changed from tss (the screen savers) to aots (attack of the show)it has gone down hill. tss with yoshi and kevin rose alex... etc. made the show awesome, then they got fired from tss for an unknown reason. when the show switched to aots, it became less about computers, and more about gaming and magazines. it also promoted bands that nobody had heard of, or cared about. finally i couldn't watch it anymore once kevin rose left. he kept it interesting, but he went off to do his own thing, which is good. kevin rose now has several online pod casts, and shows, etc on the rev 3 network. check it out. rev3.com i think, you can get to it by going to www.systm.org. if you want a real tech show rather than aots, then go watch kevin roses shows or listen to the twit podcast.j<\n",
            "\n",
            "i wouldn't be so sure to accept the dna tests as irrefutable evidence against anna anderson. first, read peter kurth's book on which this film is based. anna anderson knew things that only the real grand duchess anastasia could possibly have known (forensic evidence in anna's favor aside). second, compare the pictures of anastasia and anna anderson. anyone can see that they are one-and-the-same person. third, visit peter kurth's website (url below) where you can read detailed information about the dna tests, as well as why franziska schanzkowska and anna anderson are not the same person (scroll down to the link, \"anna-anastasia notes on franziska schanzkowska\"). even schanzkowska's relatives believed that their sister and anna anderson were not the same person.i for one will always believe that hih anastasia nicolevna romanova and anna anderson were indeed the same person; i will never be swayed to the contrary .www.peterkurth.com\n",
            "\n",
            "i've just visited russian forum of our tv-channel that had showed this film. well... 99 per cent of active russian audience is disappointed. we wanted to see more true facts of our space achievements in this film. but authors had in mind something else... :( we are big and beautiful country with intelligent people living here. we are proud of all our space dreams, real achievements on the one hand in this field and in science on the other hand. so i'd like to ask authors: where is our lunohod? and where, the hell our mir station? ah? i'm quite sure, that lunohod events took place much earlier armstrong's \"walk on moon\". and to comment numerous technical and science mistakes - i really have no time and enough space here! se our constructive critics in russian forum on www.1tv.ru\n",
            "\n",
            "archbishop desmond tutu, who is seldom a favorite of mine, said that everyone should see this film as it is something that can help heal the world....it is one of the most poignant movies i have seen and delivers on tutu's comments.... i have read many comments and while they range from good to average to comments on the choice of actors... the fact is that it deals with one of the most extra-ordinary events in our world. the truth and reconciliation commission.... for the first time a country has opted to air it's horrific history, to find a way forward and to create a way for people to heal...while the movie starts out with the white policeman being offered a chance to absolve himself for brutal crimes and the black guy is trying to ensure that he does not get away with it, it delves into the humanity of the people and the enormous need for healing that we all need....definitely a thumbs up..... to everyone involved.... once again, i am proud to be a south african.....an interesting comment can be found here: http://www.biz-community.com/article/196/97/5223.html\n",
            "\n",
            "i've watched it plenty of times and i'm planning on buying the full feature. i love all of jason steele's comedy. it's very different and unique and is very enjoyable. i love indie films and this one is just great. the plot is strange but very funny. this short film is about a talking spatula named edward. the order of the events are a bit jumbled, making this film very interesting to watch. at first you see edward fighting the spoons, but then the focus changes to earlier in his life. this is a silly movie, but of course, it's still great. i highly recommend that you watch this film at www.spatulamadness.com or www.filmcow.com. it's very funny. the humour may not match everybody's taste but watch anyway. it'll only take 16 minutes of your time, and it's free. go watch spatula madness!\n",
            "\n",
            "already his first claim, that desires are always artificial, is totally fallacious.when a jehovah witness reject gets his own documentary on movies  or anything for that matter - it's time for anyone to get their own. although far, far more intelligent than, say, paris hilton (i know, not too difficult) zizek's mouth spews just as much baloney as hers, just a different kind. he combines the worst from both his professional worlds: psychoanalysis and philosophy. both fields are notorious for conveniently offering the expert b*lls***osopher plenty of leeway to create unprovable theories, to rant without a beginning or end, and to connect concepts almost randomly, in the process misusing the english language by creating a semantic jumble only a mother can love. example: there are three main marx brothers hence what a \"great\" idea to connect them with three levels of human consciousness, the id, the ego and the super-ego. i'm kind of surprised he didn't play a clip from \"snowhite\" and make an analogy between the seven dwarfs and the seven levels of gahannah (moslem hell). it's like the premise of schumacher's \"the number 23\": play with numbers long enough, and you can come up with any kind of cockamamie theory you want, even linking ancient greeks with princess di's death.however, there is an entertainment element to tpgtc: watching a raving lunatic sweat like a hog while uttering delusional chants masked as intellectual analysis can be quite a lot of fun. why watch \"cuckoo's nest\" or any other madhouse drama when you can have zizek for more than 2 hours? it's like watching an amusing train wreck. admittedly, he is almost funny on one or two occasions.i have always been mystified by people who desperately try to elevate movie-making into an exalted intellectual social science. giving idiotic movies like \"birds\" this much thought, hence this much credit, probably has its fat creator laughing in his grave. the raw truth is that the vast majority of movies have zero intellectual value, and the few ones that do have some intelligence don't require a shrink-turned-philosopher to draw one a map to understand them  unless one is a complete idiot. zizek sees layers and layers of meaning in the most banal movies. hallucinogenic drugs must be rather popular and cheap in slovenia these days...when zizek showed the bathtub hole in the \"psycho\" shower scene, i thought he was going to say something about galactic black holes; how they drain the life out of stars just as the bathtub hole sucks in janet leigh's blood. or perhaps he could have said how the hole represents leigh's vagina, with the blood flowing into it instead of out (as in menstruation), this representing some kind of \"clever (zizekian) irony\". speaking of which, the real irony is that if hitchcock had really put that much thought into every scene (and the script), his movies wouldn't have been the illogical, far-fetched crap that they often are. the point of these bathtub hole analogies was to show just how easy it is to improvise about \"hidden, deep meanings\". and when you add zizek's fanciful terminology from philosophy and psychology, layering these terms on top of these analogies like wedding cake decorations, you get a rambling jumble that can instantly impress the uneducated - i.e. the easily impressionable and the gullible.zizek utters a number of (unintentionally) funny things here, one of the most absurd ideas being when he associates anthony perkins's cleaning of the bloodied bathroom with \"the satisfaction of work, of a job well done\". don't laugh... neither hitchcock nor the writer of \"psycho\" could have ever even vaguely entertained this notion that perkins might be enjoying a job well done - the cleaning of a blood-stained toilet - while they were conceiving/directing that scene. talk about putting words into one's (dead) mouth, but in the context of misinterpreting what the director had to \"say\".i like zizek's initial thoughts on tarkovsky's terrific \"solaris\", but then he has to ruin a rare good impression by dragging in \"anti-feminism\" and other nonsense into his theory.zizek's attitude towards logic is that of a dog toward its plastic bone. \"i just want to play with it all day!\" logic has its rules, and is not supposed to be raped - at least not publicly - by the likes of him. he seems to regard logic, proof, common-sense, and reason as enemies or mere throwaway toys; concepts to be either avoided, twisted to fit the end-goal, or simply annihilated. zizek is the lsd-tripped hippie, and all his favorite movies are his own personal \"2001\"s.the fact that zizek over-focuses on two of the most overrated directors - and ones whose films often lack intelligence, if anything - such as hitchcock and lynch, only further diminishes his already low credibility. i was surprised de palma didn't feature more prominently; that's another lame director who writes inept scripts. zizek has a field day with lynch's incomprehensible \"lost highway\". there are just as many interpretations of that movie as there are people who watched it.zizek's comment that the viewer readily accepts von trier's laughable, \"ground-breaking\" physical set-up in \"dogville\" made me snicker. however, zizek doesn't only make up stuff as he goes along, he also indulges heavily in the \"bleedin' obvious\". like all \"social scientists\" (an oxymoron), he wraps his very trite \"observations\" into articulate (if full of spitting) and sometimes complex blankets of language. after all, sociology functions in precisely the same way: it makes us believe we are hearing something new when in fact it's what we already all know, but told in an eloquent way - which fools the more unobservant listener.i was half-expecting for men in white suits to suddenly appear out of nowhere and strap him up in a loonie-suit...slavoj zizek: soon as a stalker in a kid's park near you.http://rateyourmusic.com/list/fedor8/150_worst_cases_of_nepotism/\n",
            "\n",
            "i have yet to see a film with nolte in it that i did not like. however, this being said, he's made a lot of films and i've seen just a few. in my minds eye i am keeping the images of his performance here and the one in \"the thin red line\". nolte has a a full range of acting talents. when it's necessary to shout he roars like a wounded lion. his best moments are the ones i treasure in actors: when he just emotes through facial, hand and body gestures, without saying anything. having come to the conclusion that our present generation of actors, by and large, have no appreciation of what an actor can do without speaking, having no conscious appreciation of the mastery of keaton and chaplin, this generation of actors relies far too much on the mechanical wizardry of computers. of course it is also just a sign of the times we live in. had chaplin lived in our times....who knows, he just might as well have become an aficionado of cgi tools.i have not read the vonnegut novel from which this film comes to the screen. however, the plot is not so far fetched or convoluted that we cannot follow the path laid, even with all its surprises. of course on the outset it appears preposterous. however, it is also not impossible.consider these for starters: a spy at the heart of the third reich: he extraordinary life of fritz kolbe, america's most important spy in world war ii by delattre and prichard (look at amazon for more details). consider: history undercover: piercing the reich: american spies inside nazi germany dvd (i saw this here: http://store.aetv.com/html/product/index.jhtml?id=75054) seems to be a history channel production.so, is the story ridiculous? far fetched yes, impossible, no. back to the plot. nolte's character is recruited and accepts an impossibly dangerous mission and unfortunately the script does not give us an adequate reason why he accepts. was it a type of passivity, that he got sucked into this role as it says because it was the best story he had ever written and he got to play the part? that's a hard thing to imagine any of us would grasp. but, it was an unusual time and people did extraordinary things.the acting throughout the film by the entire cast is excellent and as people have pointed out alan arkin, always fantastic, is very good in a small role.i was really shocked by the ending of the film (no - i won't spoil it) and it made me feel terrible about the choice. did this person feel that the road was finally over and that he had spoken all that was necessary and that any more would be chapters added to a life already filled with many burnt pages? hard to say but it really jolts.nolte gives one of the finest performances you can expect....the premises of the film make you wonder about a lot of things. it's very entertaining and provoking. what great movies should be. a bit long but worth it. by the way, the movie music has selections from one of the best living composers: arvo part.\n",
            "\n",
            "walt disney's \"the rookie\" is based on the story of jim morris, a former minor league picher who made one of the most amazing comebacks in sports history, ending an almost 10 year retirement and making his major league debut in 1999 at the age of 35.the film opens with a brief synopsis of morris' childhood, which included a series of re-locations - his father was a military man. and even when his family settled for good in football crazed texas, morris' passion for baseball remained strong.the childhood segment then jumps ahead about 23 years to the adult morris (played by dennis quaid) who is now a baseball coach and chemistry teacher at big lake high school (in real life it was reagan county high school in big lake, texas). it is mentioned that he attempted a career as a baseball player but that it didn't work out.morris's team is struggling and he lectures them about giving up on their dreams. they turn the table on him, telling him that he should try out for a major league team. at several times when he pitches to them in practice, they express amazement at the speed with which he throws. morris seems unconvinced but agrees to a deal with his players in which if they win district, he will try out for a major league team.big lake does win district and, adhering to his end of the deal, morris attends a tampa bay devil rays try out. phenomenally, he throws 98 miles an hour - faster than he threw during his minor league career and an outstanding speed even for a major league pitcher. after another try out with the team, morris is offered a contract with the devil rays.this leaves him with a tough decision - stay in his comfortable life or once again pursue his major league dream by going through the minor league grind of making little money and spending months at a time away from home. and the decision is even more agonizing than during his first minor league stint because he now has a wife and three children.morris signs with the devil rays, begins at the aa level and moves up quickly to the aaa level, one level below major league baseball. but as the season winds down, the chances of him getting \"called up\" grow increasingly slim.for the most part, i love this movie. there are lots of great performances and likable characters and it's easy to find yourself really pulling for morris. also, the movie does a great job portraying professional baseball at both the major and minor league levels. and most of all, it teaches the timeless message of holding tight to your dreams even when they seem distant and almost impossible to achieve.still, the movie has some flaws. while generally accurate, it exaggerates and even fabricates a few things. check out http://espn.go.com/page2/s/closer/020410.html for some examples. also, except for one scene in which he prays with his players, the movie completely ignores morris' christian faith. but considering disney's left wing zeal, that's not surprising.presumably, a lot of the exaggerations/fabrications were done to make the story more dramatic. yet the 20 minute documentary on morris that is included on the dvd features some information that makes his story more dramatic but is excluded from the movie.for example, from birth until his family settled in texas for good when he was 12, morris re-located 14 times. and his initial minor league career ended after four surgeries through which he lost half of the muscle in his left (pitching) shoulder, thus making his throwing 98 mph even more inexplicable.to fully appreciate and understand the story of jim morris, it's good to not only watch \"the rookie\" but to watch the dvd's documentary, check out the aforementioned link to the movie's inaccuracies and probably also to read morris' biography, also titled \"the rookie.\" i haven't read the book but i hope to one of these days.but overall, \"the rookie\" is a very good portrayal of a miraculous story and is a powerful testament to the power of dreams and the triumph of the common man. 8/10\n",
            "\n",
            "this, unfortunately, is a little-known film.....i say \"unfortunately\", because it ranks up there with the \"classics\" of the american silent screen!it's about a legend of a \"phantom chariot\" that travells all over the world, picking up the souls of those who have died. the legend says tha the last person to die on new year's eve is condemned to drive the chariot for the next whole year.it brings to mind the sequence of the \"ghost of future yet to come\" in dicken's famous \"christmas carol\".the double-exposure effects of the ghosts (esp. when they interact with the \"live\" people) are excellent! if you love silent films, you must see this; it will \"blow you away\"!norm vogelnorm's old movie heaven http://www.nvogel.com/film/film.html\n",
            "\n",
            "if you read the plot summary for \"mad max,\" you've just ruined the first 1 hour and 10 minutes of the film. you've also found out that \"mad max\" takes place in post-apocalyptic australia, which will be helpful because otherwise you won't have any idea what's going on. the film, made in 1979, tries really hard to be stanley kubrick's \"a clockwork orange\" (1971) only that film, in all its strangeness, actually makes sense and leaves an impact. this film does neither and ends up being a car/bike stunt-filled romp that crashes like every vehicle in the film does.the first thing wrong with \"mad max\" is that it tries to sell itself as a revenge tale when no vigilante appears to take revenge until the final 20 minutes. if the first hour were condensed to 20-30 minutes and then the final 20 added on and then another hour added after that, \"mad max would be a cool action film with a great vigilante protagonist. instead, mel gibson has to wait around and act like a sissy for 2/3 of the film and then have a sudden epiphany to seek revenge. i've yet to watch the sequel \"road warrior\" and i have to admit i'm excited for it only because i want to know what he does next. this first film was mostly a waste of time.george miller does some great action stuff here, but his over-the-top symbolism is absurd and the unbearable cheesy reaction sequences every time a character discovers something horrifying like a burnt hand or what have you completely ruins those moments. its a terribly cliché b-movie technique.there is absolutely no thematic value or subtle critique of society in this film no matter what you might think. a great action sci-fi movie at least makes a point, but the gratuitous violence done by random, weird bikers doesn't say anything of value. even the villain toecutter feels modeled off alex of \"clockwork\" only uglier and completely unimposing. the pg violence just does not allow the violence of this gang to settle in and get a reaction from the viewer, it just cheeses it up if anything.i'll give credit for the amount of stuff the film crew blew up and crashed into things and miller does a great job making you feel the intensity of the collisions. everything else is mediocre at best and then after an hour of mediocrity, you get something good and the film ends 20 minutes later. i'm just crossing my fingers \"road warrior\" will fulfill the expectations of where this film ends, otherwise that's more time wasted. ~steven cvisit my site at http://moviemusereviews.blogspot.com\n",
            "\n",
            "red eye is a good little thriller to watch on a saturday night. intense acting, great villain and unexpected action.some might not want to see this movie because it goes for a very short 85 min's and 88% of the movie is on a plane and just talking. don't worry they pull it off very well with the smart and witty dialog.a pg-13 movie seems to be new grounds for director wes craven. but surely enough he has fit as much violence as he possibly can into this thriller.this movies strongest point is its cast. this film needed good actors to deliver the dialog and thrills. if they didn't have those actors the film would have been lost and boring. we had rachel mcadams from mean girls and wedding crashers. cillian murphy from batman begins and 28 days later. rounding off this cast is brian cox from x-men 2.the pacing in this film was great. just when your thinking its going to get boring they throw a twist at you. luckily this isn't a long movie and doesn't feel like it either. much better then the other flight movie flight plan.here is my flight plan comment: http://www.imdb.com/title/tt0408790/usercomments-578i recommend. not too long and not too shabby.8/10\n",
            "\n",
            "very simply, they are all the syndicated episodes and not the original uncut/unedited nbc episodes. it is not the complete first season, all eps are edited to conform to 21:00 for syndication meaning jokes are cut, an extra commercial fade is included, all of the harvey korman intros are not here...very poorly done! shame on a series i've been waiting for....booooooooooooooooo! if you're a true die hard mama fan, don't buy this and go to http://www2.warnerbros.com/web/main/help/whv/customer_service.jsp and send them comments on why we're unhappy on this butcher job to a classic sitcom!\n",
            "\n",
            "check out the two octogenarians who review leatherheads. these guys are old-school hollywood and a hit on youtube. they always give an insightful and fun review. they have movie comparisons that are really interesting and they have a banter back and forth that is endlessly entertaining. they know movies, collectively they have been in the biz for practically a century. lorenzo is a well-known screenwriter and marcia is a famous producer. all of their insight on movies always leaves you with something to think about. see what they think about clooney's latest...http://www.youtube.com/watch?v=2-w7evbears\n",
            "\n",
            "zombi 3 has an interesting history in it's making. firstly, it is a sequel to fulci's hit zombi 2, with zombi 2 itself being of course a marketing ploy to trick people into thinking it was a sequel to george a. romero's dawn of the dead aka zombi. confusing enough? basically, none of the films have anything to do with one another, but who cares when they make money. i guess fulci himself starting to not care about the production about half way through zombi 3 when he decided to walk out. bruno mattei was brought on board to help pad the film with additional scenes to lengthen the running time.zombi 3's plot is your typical zombie fare. scientists develop a serum on an island in the philippines, terrorists steal it unleashing a plague, and zombie run amok. the scientists want to create an antidote, while the military is set on mowing down everyone without prejudice. there are also brief inserts of a radio dj preaching about how we treat the planet. overall, i actually liked this film. i heard horrible things, but i find the goofy dialogue quite enjoyable. the film seems to be an attempt at raising awareness about pollution, corrupted military, man playing god, etc. i get the feeling this was at one point a serious film, but it veered off in a weird direction, presumably when mattei came on board.besides ripping off other zombie flicks, this was very reminiscent of romero's the crazies. you hear the radio dj breaking the good news with, \"when you see the men in white suits & gas masks, run to them for help.\" this is of course played to the images of the men in white gunning down zombies. later, they straight up steal a scene from crazies in which one of the regular, uncontaminated people is killed by mistake.the gore factor is pretty good in this one with zombie hordes around every corner. how is it cool? let me count the ways1. zombie birth 2. flying zombie head 3. zombie birds. 4. zombie with no legs swimming in a pool. my favorite zombie was the machete-wielding maniac at the gas station. he was bad ass and nearly tore down the entire building trying to kill a girl.favorite quote  when a sergeant insists on cremating a zombie, the scientists asks, \"don't you think that once the ash is in the air, it will fall to the ground, and contaminate everything?\" to which the sargeant boldly replies, \"now you're talking science fiction.\" he also continues to mention the \"science fiction\" told by the scientists even at the end when everyone dies.extras: gallery, trailers, and interviews, most notably the one with mattei where he insists he directed 40% of the scenes, yet cannot recall which ones or any other significant details.bottom line: a must see for zombie and fulci fans.rating: 7/10molly celaschi www.horroryearbook.com myspace.com/horroryearbook\n",
            "\n",
            "i have lost count of how many reviews i've written on slaughter high. i've read a lot of bad ones and i will say right now this is a fantastic movie. simon scuddamore made his fame in a short time for his well known suicide, and even though this was his only film, he is what made the movie so great. at first i did not know anything about simon until i read a review about his suicide. then i found out due to the current webpage at www.imdb.com he was born in 1957, in dayton, ohio. simon may have played the most pathetic character known to man, but his real life self certainly had their strenghths and weaknesses. he did a good acting job, who can disagree? i always wondered how he felt showing himself naked in a movie. must have been pretty embarrassing to say the least. i first saw this movie when i was 12 in the sixth grade. i agree with some pointers like the girl would not take a bath after somebody was murdered, and that high schools do not have bath tubs! i think caroline munro who was 36 at the time was the only other star that had any dignified acting talent, and unfortunately for simon's death he made no future films. the reason(s) for his suicide are a mystery, and hopefully will be discovered in the near future. doing the math on his webpage it tells you he was 29 years old when he made slaughter high. he looked like a teenager. i give this film two thumbs up, the best horror film made. probably because of their horrible acting the others didn't make fame in the movie business. -jacob young\n",
            "\n",
            "the great news is that this film is now available on dvd from http://treasureflix.com for all those who wish to own it as well as on video.this is good news as it is one of my favourite films!i watched this film for the first time in the 80s and it is compulsory holiday viewing. living in the small market town called tewkesbury, picturesque and with its own traditions,of reenactments,and traditions we are also a cosy tight community. we are now also faced with large housing developments which threaten to destroy the community and you can see why i love this film first of all-and most important, there are lashings of snow!!!! then there is the lovely legend of the christmas tree and also the christian denouement as all the community cough up the money to help the destitute farmer save his farm and stay in the community. the evil developers-only after the money are sent packing as the whole town pledge their money to help protect what they have , which is very special. i love the way the whole community send their message to santa via the post office which is misunderstood by the hero . he and his daughter have a long journey to make after the death of the wife and mother of the family. (there is a likely candidate for this)-even a sleigh ride and most heartwarming of all is that the taxi driver, whose engine is broken is mysteriously given a new one on christmas morning and no-one had engineered it! there is a lovely moment where denver sings a lullaby and an exciting search. great gentle film for everything christmas is really about.\n",
            "\n",
            "i saw once no man's land (1987) - imdb link http://us.imdb.com/title?0093638 - and found it ok. the film is about a guy who steals only porsches. gone in sixty seconds comes 13 years after and adds nothing to it. in fact, it has a lot of scenes that are worthless. and the ending is very, very bad.the sphinx has a magnetic screen presence that should have been better used...\n",
            "\n",
            "'the fox and the child' is the new film by french director luc jacquet, who brought us the oscar-winning documentary 'march of the penguins.' it focuses around a young girl (wonderfully played by bertille noël-bruneau) and her blooming friendship with a fox.there are some truly mesmerizing moments here; badgers mucking about, a lynx chasing the fox through a snow-littered forest; one scene in particular when the fox is being tormented by a pack of wolves is quite intense and even frightening at times. however, there's simply not quite enough of them.beautifully shot; the cinematography is dazzling. the bubbly kind of look of the film is wonderful. it's undeniably a very lush production.the english version is narrated by kate winslet, but what little dialogue there already is has been very poorly dubbed. the score is also far too fluffy, or at least it is for my liking; and the screenplay, while subtle, seemingly jumps from one scenario to another, ultimately leaving me almost baffled.while there's a nice moral at the heart of the film, and the rather quiet performance from noël-bruneau is quite lovely, the real star is the fox. those captivating moments focusing solely around our furry little friend are tremendous. however, again, there's simply not nearly enough of them.- to keep up to date with all the latest in film, including reviews, news, discussions and more, be sure to visit www.mybluray.com.au\n",
            "\n",
            "and i absolutely adore isabelle blais!!! she was so cute in this movie, and far different from her role in \"quebec-montreal\" where she was more like a man-eater. i think she should have been nominated for a jutra. i mean, syvlie moreau was good, but isabelle was far superior, imo. pelletier has done fine work for his first time out, and i noticed he snuck in a couple of his buddies from rock et belles oreilles, guy a. lepage & andre ducharme. it was fun to see them in this, i didn't know they were going to appear.i don't think i've seen a romantic comedy from quebec that i didn't like, and this one is as good as any i've had the pleasure to see. and if you're in the states and wondering how you can get a copy of the dvd, www.archambault.ca delivered it to me in less than a week.\n",
            "\n",
            "to answer the question of a previous reviewer who asked the name of the u.s. official mentioned in \"lumumba\", the name of the character is \"mr. carlucci.\" frank carlucci is reported as having been at that time second secretary at the u.s. embassy in the congo. subsequently, among other assignments, he was appointed u.s. ambassador to portugal, deputy director of the central intelligence agency, secretary of defense, and is now the chairman of the carlyle group. it's hardly surprising that carlucci's biographical sketch on his www.carlylegroup.com web site fails to credit his service in the belgian congo. if his name was deliberately censored from the hbo version of \"lumumba\" it may have been to avoid the possibility of hbo's being sued in u.s. courts. carlucci's name, however, is clearly mentioned in the theatre version of \"lumumba\" that i saw recently. in the event, i expect that he would deny any involvement in lumumba's murder.others have commented on the evenhandedness with which the film \"lumumba\" treats the parties concerned: lumumba-supporters, other congolese, even belgians. a somewhat more sinister view emerges, i think, from the bbc documentary entitled \"who killed lumumba?\", based on the book \"the murder of lumumba\" by belgian historian ludo de witte. when examined closely, these films demonstrate that the fate of lumumba and the history of the congo is not just a matter of black and white. only lumumba's murderers believe that.\n",
            "\n",
            "anything park chan-wook creates is guaranteed to be unique, brilliant, and very twisted at a minimum. well, anything that isn't i'm a cyborg at least. park's newest film titled thirst is a vampire romance-erotic-thriller-dark comedy-drama  yes, that is a lot of adjectives  inspired by the 19th century french novel by emile zola titled therese raquin. park creates a uniquely korean, and uniquely park, vision of the vampire mythos and asks the audience to explore the dilemma of a catholic priest discovering himself having a thirst for blood and the moral and spiritual crisis that would develop. park delivers on the elements you would hope but definitely falls short of masterpiece quality like oldboy or even that of lady vengeance. heavily bloated with a narrative that often loses itself much less the audience, thirst desperately needed another trip through the cutting room. it crawls when it should be running but luckily brings it back home before losing the audience completely. as negative as it may sound the positives definitely outweigh the negatives and another volume has without a doubt been added to the dark and twisted zeitgeist of park chan-wook film.check out the rest of our review at www.thefilmstage.com\n",
            "\n",
            "credited by variety to be one of the greatest documentaries to ever come out of canada. al pacino, roger ebert, neil simon, matt dillon as well as a constant slew of celebs make this film a canadian classic. the film is really best described as \"roger & me\" meets \"the player\". watch as kenny hotz and spenny pitch their script to the big boys of hollywood. called the only american film to ever come out of canada, this film opened the toronto film festival in 1997, winner of the 'best indie film award toronto'. europe premier was at the prestigious hof film fest in germany. u.s.a. premier u.s. comedy festival aspen 1999. more information available at www.kennyhotz.com\n",
            "\n",
            "i will admit that i'm only a college student at this present time, an english major at that. at the time i saw this film i was a high school student--i want to say junior year but it may have been senior, hard to remember. my experience with quantum physics goes pretty much to my honors physics course, an interest in quantum mechanics that has led me to read up on the subject in a number of books on the theoretical aspects of the field as well as any article i can find in discover and the like. i'm not a phd by any means.that said...this movie is simply terrible. it's designed to appeal to the scientific mind of the average new age guru who desperately wants to believe in how special everybody is. my mother is such a person and ever since she's seen this movie she's tried to get all her friends to see it and bought a copy of the film. i attempted to point out the various flaws and problems i'd seen with the films logic and science--and they are numerous--and she dismissed my claims because \"oh, so a high school student knows more than all those people with phds.\" in this case, apparently so.leaving behind the fact that earning a phd doesn't necessarily require that a person be correct or, in fact, intelligent. leaving behind the fact that my basic understanding of physics is enough to debunk half the film. leaving that behind, the film makers completely manipulated their interviews with at least one of the participants to make it appear that he supported their beliefs when, in fact, he completely opposed them.i could go on and on but i think intuitor did a really good job of debunking the film so feel free to read that if you care to do so.http://www.intuitor.com/moviephysics/bleep.html\n",
            "\n",
            "i have read the book a couple of times and this movie doesn't follow exactly as it should. i could let this slide, it is after all a movie. however i have serious issues with the setting of the movie. nobody has seemed to mention that this movie and the book it is based on are based in actual events that happened in nebraska. i live in nebraska. i grew up in the town that this movie is supposed to be based on. first of all, the \"small\" town that is talked about as the setting, is the third largest city in the state. with a population of around 50,000. grand island is the largest city between lincoln and denver. second the scenery for the movie is wrong. grand island is in the platte river valley. which is very flat with very few trees. i tried watching this movie, but it made me mad to see my hometown being treated so bad. this was a real event. large sections of the city were wiped out. in the book they talk about riding bikes from mormon island to fonner park. i guess you could if you don't mind a 15 mile ride each way. for anyone who wants to know what really happened go here http://www.theindependent.com/twisters/\n",
            "\n",
            "this is the story of a news investigator who hates his job - which prove why actors - even as weak as tom cruise and denzel washington - are on the big screen and your neighbors are not!i'll say this though - the better moments show some basis for being really funny (not just wacky), to keep trying, maybe taking some classes, and using the time to keep learning how to make a good movie. (\"dude, where's my car\" and the \"scary movie\" sequence have it all over this ... college attempt.)the lighting wasn't; the production wasn't; and the script had moments (the conversation from space - very nice try unconvincingly executed). (this reminded me of \"dark star\" - which is about being \"lost in space\" - but this movie is just lost.)the talent was the bartender (he said 'dog' so annoyingly that i knew he had to be acting... wasn't he? ... now that's acting!), the mark hammond guy, and marty. i guess i gave the movie a point for each one of them... 3/10.-ld______________________________________________my faith: http://www.angelfire.com/ny5/jbc33/\n",
            "\n",
            "www.petitiononline.com/19784444/petition.html an excellent tv series that should be captured on dvd. this was a show i rarely missed. i found a petition to bring it back on dvd. i recall one show where this obese lady wore a pair of glasses that let her food talk to her. needless to say she could not eat her friends so she starved to death. another episode had an accountant visiting an underground sewer & subway security branch. the accountant wanted to shut down the funding for the project. as it turns out the security branch was underfunded to fight the cannibalistic creatures that lived in the dark. www.petitiononline.com/19784444/petition.html\n",
            "\n",
            "a vehemently cynical, sarcastic and intense film, mocking and imitating the style of pulp fiction and stylized gangster films, thursday is an entertaining, off-putting and hilarious thrill-ride. an amazingly eclectic mix of over-the-top characters and bizarrely entertaining situations, this day-in-the-life of a gunman trying to go straight proves to be a worthy addition to the series of films that attempts to mimic the genius of tarantino's dark-humored masterpiece pulp fiction.nick (aaron eckhardt) stops by casey's (thomas jane) house to catch up on old times. casey was a former gunman for drug dealers who has since reformed, become an architect, married a successful businesswoman (paula marshall), and is now contemplating adopting a child. nick, who still has ties to the gangster underworld, leaves a briefcase full of drugs at casey's house while he borrows his car to run a few errands a.k.a. unfinished business. disgusted and angered by the introduction of drugs into his home, casey flushes them all down the kitchen sink. that's when, one at a time, nick's double-crossed accomplices, rapping rastafarian drug messengers, and crooked cops all come a-knocking for the unsuspecting casey, who is about to have one unbelievable thursday.the film opens with a hilarious sequence in a gas station in which nick is looking for the best deal for a cup of coffee. after pondering which size cup to get, a fiasco breaks out with the cashier when he demands a free snackie cake and uses a $50 bill to pay. resulting in comically brilliant bloodshed, the situation goes from bad to worse when a cop intervenes and is caught in the most unusual of circumstances. this opening segment establishes the perfect mood for the rest of the film, which never takes itself too seriously and includes outrageous characters that seem self-aware of their own existence in this nonsensical gangster flick.the film is broken into segments based on various events and times during the course of one day. this effect is much like pulp fiction, which is a similarly given chapters, although thursday doesn't mess with chronological order except for the occasional flashback. also like tarantino, music magnificently introduces each scene and each character. oddly humorous creatures, such as the jamaican hit-man pizza delivery guy that raps over the phone and shares his hashish, and paulina porizkova's narcissistic dallas, who attempts to rape casey, add humor to each event regardless of how horrifying and unnerving some of the coincidences are. when mickey rourke's calmly spine-chilling crooked cop kasarov is introduced, the careful staging and intricate setup is fully assembled, and casey's sticky situation becomes even more daring and laudable.definitely a wannabe pulp fiction, with plenty of violence, witty dialogue and extremely creepy antagonists, thursday does some things right, but other attempts at homage may be going just far enough as to suggest rip-off. a flashback sequence that shows casey shooting up baddies and sporting a hairstyle that exactly matches john travolta's do in pulp fiction is easily one step too far.- mike massie, www.moviepulse.net\n",
            "\n",
            "i'll dispense with the obvious review of factual inaccuracies. they are too numerous to name. a much shorter list would be what they got right. 1. dude named noah. 2. ark with animals on it. if you want a much more accurate portrayal of noah's ark and the destruction of sodom, go rent \"the bible\" (1966). it depicts the story of creation through abraham attempting to sacrifice his son isaac. it's a much better movie, and it may be that the abomination called \"noah's ark\" (1999) drove you to seek just such a film. http://www.imdb.com/title/tt0060164/i really couldn't stomach watching the whole movie. from reading other comments, i can see that even the atheists found it grossly inaccurate. as a christian, it was intolerable to me. possibly the worst movie ever made. no real point to this movie either, except maybe to showcase their sub-par computer animation.was it a complete waste? maybe not. god can use evil to work good. romans 8:28 says, [28] and we know that all things work together for good to them that love god, to them who are the called according to his purpose.genesis 50 says, [20] but as for you, ye thought evil against me; but god meant it unto good, to bring to pass, as it is this day, to save much people alive.in the second example, joseph's brothers meant to kill him, but god turned their evil into a very great good. he may have done the same thing with this movie.people were so astonished by its lack of biblical foundation, that they probably broke out the dusty old bible and read the story for themselves. to find out about lot and sodom, they would have to go the whole way up to genesis 19 before god destroys sodom and gomorrah. by then, they have read almost half of genesis, so they might want to finish. the next book is exodus, which the movie \"the ten commandments\" was based on (and much more accurately). if they have seen that movie, then exodus becomes an easy read. so now they have read at least two whole books of the bible, just because they watched a pathetic movie about noah's ark. i'm sure this actually happened to someone out there.god works in mysterious ways.\n",
            "\n",
            "did uwe boll seriously just rip off the basic idea and dialogue from se7en?! why is it so fekking difficult for this douchebag to be original?! he even mentioned in an interview with gametrailers that he chooses stuff like games to make into movies because the characters, plots, backstories and so on are already there and ready for him to screw with.guess it isn't too much of a stretch for him to rip off another movie entirely...i mean, seriously, what the hell...? here's something i made in uwe's 'honor'...http://zuucka.deviantart.com/art/uwe-boll-is-a-douchebag-70369862\n",
            "\n",
            "being a huge fan of conte d'ete ( http://www.imdb.com/title/tt0115940/ ) i was expecting to be wowed by another french beach romance with a lot of honesty, realism, and humor. same director, same actress- what could go wrong? unfortunately, pauline a la plange is a huge disappointment. it's very slow and talkative which would be fine if the dialog conveyed insights into the characters, was meaningful, or original. but it comes across as a typical soap opera alternating between irrelevant pillow talk and jealous accusations. the only thing that saves this movie from being a complete disaster is a small amount of character development or at least \"character change\" with regards to pauline. the source material is standard fare (sexual awakening during a beach vacation) but it could have been a decent film nevertheless if any of the characters were sufficiently interesting. unfortunately that's not the case. event though there are other shortcomings with rohmer's season cycle, most of his later films are definitely leagues above this one.\n",
            "\n",
            "hayao miyazaki has captured the imagination of audiences young and old across the globe, and his most recent cinematic work of art is \"ponyo,\" a children's fairytale borrowing on story elements from the little mermaid. of course like other miyazaki classics such as \"spirited away\" and his last film, \"howl's moving castle,\" \"ponyo\" is full of a creativity that can only be truly appreciated by adults, but this it is distinctly more a children's story than those recent efforts. it's a magical story best described as beautiful and lovable, aiming for charm instead of conflict.\"ponyo\" is the story of a bug-eyed childish-looking fish of the same name, the daughter of an undersea sorcerer, who longs to escape the sea and become a little girl. when she does, she quickly befriends a young boy named sosuke. in the process she gains a strong magic and unknowingly throws the world out of balance between land and sea, and a giant storm drowns most of the cliff-top town where sosuke lives with his mother, and it threatens to end the world.like \"howl's moving castle,\" walt disney picked up \"ponyo\" for an american release and dubbed it over with an impressive selection of western voices, even choosing homegrown products in the youngest siblings of disney band the jonas brothers (frankie jonas) and miley cyrus (younger sister noah) to voice sosuke and ponyo, respectively. also voicing characters are liam neeson (fujimoto, ponyo's father), tina fey (lisa, sosuke's mother), matt damon (sosuke's father), cate blanchett (ponyo's sea goddess mother) and a trio of hilarious elderly women are played by betty white, cloris leachman and lily tomlin. the effort is definitely there to make this film appeal to american audiences and disney is getting close.but voices are of little significance in a miyazaki film, which is all about visual creativity. a fan of transformations and animating liquid and fluid motion, creating a fairytale taking place partly underwater must've been a joy for miyazaki to work with and maybe even his entire motivation for choosing this story. among the highlights are droplets of water that fujimoto sends after ponyo that move like living waves, as well as a variety of other magnificent sea creatures and breathtaking storm scenes make \"ponyo\" as awing as any other miyazaki film.as a children's story, however, \"ponyo\" concentrates its efforts on being adorable. the discovery of true friendship and love between sosuke and ponyo is heart-warming, even if noah cyrus shouting childishly when ponyo excitedly embraces human life can get a bit annoying. but as delightful as many of the imaginative elements and loving relationships are, there's very little antagonism or danger. past miyazaki films have clear villains, but the conflict in \"ponyo\" actually shrinks as the story goes along. sosuke believes he's lost his mother at one point and in the background is the idea of the world going out of whack and that humans should be ashamed of polluting the sea, but \"ponyo\" is mostly tension free. most glaringly, its climax is uneventful despite how overall likable all the characters are.\"ponyo\" will surely satisfy miyazaki's fans in every way with its imagination, and newcomers will still be smitten by his simple yet visually ambitious storytelling, but this is distinctly more of a children's movie, best for families and others who love fantasy regardless of its form or target audience. it's not quite what you'd expect from miyazaki considering his recent work, but it's sure to be remembered as another of his beloved stories. ~steven cvisit my site at http://moviemusereviews.blogspot.com\n",
            "\n",
            "this 1947 film stars and was directed and written by orson welles (with a funky irish accent) and also stars the gorgeous rita hayworth with less appealing short blonde hair. so, i've hung out with orson before in touch of evil and citizen kane and the third man etc. but this was my first rita hayworth interaction. our first meeting went well, she does a superb job playing the frightened/cagey elsa, married to a crippled millionaire lawyer. mike (welles) and elsa fall for each other. he wants to run away with her, she doesn't know if she can live without the things money can buy. elsa, her husband, and his partner bicker and bite, just like the sharks mike describes attacking each other and his foretelling proves just too true. several twists and turns follow in this murder mystery as we come to the climax in the fun house. (think the ending shootout in the man with the golden gun, which borrowed heavily from this scene). i wasn't sure who the murderer was until the end.this movie is like shrimp in garlic and lemon. the dish centers on the sea, it is subtle, sour, and pungent, all to great effect. these might not be the best, fresh shrimp, but good quality frozen shrimp from costco. the flavorful sauce adds to the naturalness of the pink shrimp as you fill up on a healthy, but filling alternative to more mundane, common fare. 7/10 http://blog.myspace.com/locoformovies\n",
            "\n",
            "this movie is honestly one of the greatest movies of all time...if you suffer from insomnia. it is a fool-proof way to guarantee hours of sleep at a time. as the movie slowly progresses, the audience slips into a state of unconsciousness and gradually loses sight of any sort of plot that the movie might actually contain. this effect is surely created due to the lack of sweet action/sweet babes.also, mr. eisenstein was obviously unable to master the art of montage. a prime example of this is the scene on the odessa steps. for no apparent reason, an event that in real life would have taken a matter of seconds is transformed into a seven minute nightmare for any sane viewer. this editing flaw tarnishes any sort of realism in the entire film. honestly, i've seen more realistic editing watching cartoons.some individuals who have commented on this title have hailed battleship potemkin as: \"one of the greatest movies of all time\" and, \"truly a masterpiece\". well i'm writing this comment to persuade readers to avoid watching this film at all costs. my best guess is that my fellow potemkin critics simply wrote the wrong words in their summaries. surely what they meant to say was: \"one of the greatest snooze-fests of all time\" and, \"truly an epic fail\".in conclusion, don't waste your time. if you are interested in watching a movie of far superior quality, go to www.youtube.com and watch a halo 3 montage. if i played the movie \"battleship potemkin\" in a game of slayer on guardian, i would shoot it in the face with my sniper rifle and then teabag its dead body. peace!\n",
            "\n",
            "there is only one word to define the whole movie, that is: awful. how \"mostly martha\" was remade is awful. the title of the movie is awful. the actors are awful. and the idea of combining good cooking and usa is awful. if you have seen \"bella martha\", well that is the original title and it means \"beautiful martha\", this one is a punch in the stomach. the acting of ms.jones is so poor and unnatural that even jessica alba, considered one of the worst actresses (http://www.razzies.com/history/05nomactr.asp) would have done better. not to mention the cook, who would better play a different role. and the little girl... not worth mentioning. bella martha was a very nice movie, an authentic one... why was it remade? there was a story.... here they took it out. there is no story... what shall it represent? in one way also this movie was perfect. you know when all ingredients fit together? well this is the case here. a perfect crap....\n",
            "\n",
            "who will love my children has changed my heart, it made me cry all the way through, the most i cried with was when the family had to say goodbye to the baby, i cried the most with that, and each time a child was adopted, i cried when they had to say goodbye to their mother, it was sad for them to lose their mother, i felt sorry for the kid with epilepsy, i was glad he was adopted by the same family as one of his brothers. to me that boy i thought was the special one because he was going in a home. i feel that i am special because i am in a world with aspergers syndrome and sometimes when i feel down, i sometimes like to cry. i really enjoyed this movie, 10 out of 10. a true story, very good. another movie that would bring tears to your eyes i think would haver to be tuesday's with morrie (http://www.imdb.com/title/tt0207805)\n",
            "\n",
            "i am watching the series back to back as fast as possible. i am attempting to watch all things star trek. this is month 3 and i am now on season 3 of tng and i have already gone thru ds9 in its entirety. star trek is the greatest television phenomenon ever achieved.\"shades of grey\" is the first recap episode in the tng series. having just watched the shows, these clips were fresh in my mind, but i noticed how a couple of them were re-shot because the film looked better. season 1 always seemed real dark and ugly to me - and the actors looked silly, like they didn't fit in their own skins.the show is essentially just made of up a greatest hits of the happiest and saddest moments in riker's life on the enterprise up until this point. the data and riker scene in the holo-deck is a classic moment of new friendship. my other favorite is when the 2nd officer on the klingon ship challenges riker's authority as first officer and riker beat the living crap out of that klingon. then the admiral kicks his a$$ but good. this entire episode is a heck of a reminder that a lot of crazy, great things have happened already in a mere 2 seasons with 5 more to go and a handful of movies! at this point in the series they are really starting to develop the emotions that tie riker to deanna troi as imzadi. up until this point they have mentioned the fact, but they have yet to exploit it. let the record show that the st wiki - memory alpha claims that imzadi means \"first\" and denotes that she has had intimate relations with riker and also remains deeply close on an emotional one. this episode further proves there will be a tense romantic interest in each other for a long time to come.here is the article: http://memory-alpha.org/en/wiki/imzadi by this point in the series, production value is up to speed and star trek tng is settling into the sci-fi behemoth it was destined to become. watching this again as an adult i see now what great actors the star trek universe provides. they really need to make a new st show set after all the current shows. a ds9 movie would have been nice too.\n",
            "\n",
            "(48 out of 278 people found this comment useful, and counting...)people are such suckers for image and looks - as much as for the intellectually hollow \"idealism\" that lurks behind communism. che's charisma and looks have as much to do with his iconic stature as the misinformation that has been spread by leftist propaganda (such as this movie) about him.i don't know what's worse: being captured by one of che's murder-squads or having to sit through 4 hours of this typically soderberghian garbage. the question isn't why this pet-project was made but what took them so long. by \"them\" i'm referring, of course, to left-wing hollywood and its \"secret\" love of marxist tyrants (lenin, castro... take your pick). i am fascinated that it took decades for one of tinseltown's least talented liberal directors to finally take on such an irresistibly biased propaganda project. where was oliver stone all these years? robert redford? tim robbins? warren beatty? alan pakula? george clooney? barbra streisand even? it's a mystery. all these overrated \"artists\" have often indulging themselves in similar, politically one-sided projects, yet somehow che guevara, who is arguably the most popular and well-known communist, hasn't been a film topic of theirs yet.\"guerrilla\" has all the hallmarks of an american truth-bending story of an epic scale; there is as much factual detail to be found here as in other similar hollywood big-budget political fairy-tale bios such as \"malcolm x\" or \"gandhi\", i.e. almost none. the movie stars del toro as the famous argentinian revolutionary. nevertheless, however controversial and criminal this man's actions may have been, one thing nobody could take away from him: he was an intelligent manipulator who came from a rich family - which is why del toro fits the bill only visually. del toro may be an interesting, charismatic actor and he may resemble guevara physically, but he exudes no intellectual qualities whatsoever, hence he makes guevara come off as too primitive. casting such mediocrities as bratt, philips and franka incompetente only underlines the director's lack of sound judgment.the movie is to the most part extremely slow (no surprise there), and visually uninteresting. even a director as brilliant as kubrick would have carefully considered releasing a movie that goes beyond the 3-hour mark, so it's quite telling that this soderbergh, who has only made one or two solid movies and early on in his career, would think that his oceanic grandness was up to the task. if you think the film's length indicates that a bulk of che's life has been shown here - then think again. soderbergh focuses on che's last phase, and a lot of the movie is tedious jungle nonsense, full of guevara's alleged idealism. (psychopaths don't have ideals.) i do wonder what kind of a mind this highly esteemed director has to have to actually choose to ignore some of che's earlier life. did he actually consider it too uninteresting? a massacre of 600 people holds no interest for the viewer, huh? amazing. some much better directors than this over-praised charlatan would have easily fit not one but two complete biographies into a 4-hour movie.soderbergh, in a sense, becomes an accomplice by never addressing the negative, dark side - which is more than 90% - of guevara. by spreading this kind of historical inaccuracy, consciously ignoring the ugly truth (god forbid he should taint the holy image of che), soderbergh proves himself not a humanist - a fake image which most hollywood and pop music personalities struggle very hard all their careers to uphold - but the opposite: that he cares only about ideas, never about the people on whom these ideas are tested (like on guinea pigs). soderbergh and the like are elitists of the worst kind; such people often have a latent contempt for the \"proleteriat\" (what a stupid term) they're supposedly siding with.half of all students around the world wear che's image on their red and orange shirts, but without ever knowing why. he has become an iconic figure for clueless, uninformed, very often young people, who think that by having this man's face on their chest that somehow makes them appear \"edgy\", intellectual, hip or interesting. in reality, wearing a che shirt only underlines one's overall shallowness and total disinterest in self-education. (wouldn't you want to find out more about a person before you start advertising his/her face to the world?) wearing che's by-now cliché image has become as common as having a bart simpson coffee cup. all those \"che-wearers\" probably know more about marge's blue hair than they'll ever read up on about fidel castro's dead ally.after everything that'd been done in the name of marx, one would think that these mongrel \"ideals\" would be finally laid to rest. it seems mankind will never learn. stalin, mao, kim il, pol pot, castro, milosevic, ceausescu, the iron curtain, a hundred million dead, more than a billion ruined physically and/or mentally through this system... so none of that matters, huh? the fact that del toro won a cannes award should only surprise those who are absolutely clueless as to how cannes and other european festivals work - and vote. hint: sean penn headed a jury not long ago.for my music-related rants, go to: http://rateyourmusic.com/collection/fedor8/\n",
            "\n",
            "this film is the greatest ninja film ever made in my opinion and if you haven't seen it then its worth watching. i would rate this film a 10/10 if you want to see more then check out http://uk.geocities.com/ninja3thedomination the opening sequence where the evil ninja is killing everyone in his way is excellent his character is the best. he then has to possesses ayoung woman who finds him dying. she then has to take revenge on the cops that killed him which means there's more killing and action. but only a ninja can destroy a ninja so she and her boyfriend who is also one of her targets enlist the help of yamad(sho kosugi) to release the evil ninjas spirit and destroy him.\n",
            "\n",
            "yeah, i know my title sucks. i couldn't think of any other title. x] ice is a brilliant first season episode. very interesting idea and good acting as well. the whole worm-looking-thing was really creepy in my opinion. i've never been a fan of insects, so all the insect episodes are creepy to me. x] anyway, lets go on to the good and bad things about this episode,the good: the parasite thing. awesome!scully finally trusting mulder. awww... it was a good idea to put another parasite in the ear. though if someone told me they had to put that thing in my ear... i think the whole cabin would be dead.the bad: how did the dog stay alive for so long?how didn't huffman get those black spots? or maybe she did, but no-one saw it...conclusion: very good episode, especially for season 1. 8/10\n",
            "\n",
            "this movie is based on the true story of christopher boyce and his friend daunton lee. this fascinating story takes place around the time of the whitlam dismissal, in which during his time as a clerk for trw, christopher was privy to classified correspondence which admitted the cia's involvement in australian political and union circles. the movie shows several scenes involving gough whitlam (transmitted over us tv), where events take place which confirm the classified documents that christopher had read previously. the removal of gough whitlam was an organized cia coup. elsewhere in the film, it was mentioned that most people have no idea about the level of deception that goes on, ultimately to ensure that the us is used as a vehicle to promote certain policies at the behest of everyone else. in the current age, nothing has changed.christopher's life was profoundly affected, read shocked, by his knowledge of what and how the cia shapes foreign democracies, including the democracies of allied nations to the united states. christopher reacted, probably not in the best way at the time, by selling top secret information to the soviet union with daunton lee acting as his exchange. eventually christopher and daunton were captured and convicted of treason.on 23rd may 1982, whilst serving time in us prison, christopher boyce agreed to a one and only interview with ray martin of 60 minutes australia because it was the australian connection that profoundly affected him. it caused a furore in the australian media for about a week, then it went hushed.i liked the movie's symbolism of the falcon, and in it chris was called the falcon, and daunton the snowman (drug connection), but in reality the title \"falcon\" was not something that was used by chris.christopher boyce: criminal or man of conscience? you decide.resources: http://www.playitforwardoz.com/boyce.html\n",
            "\n",
            "i work at a nuclear power plant, so i am getting a kick out of these replies.seriously, i do. go to http://en.wikipedia.org/wiki/palisades_nuclear_generating_station and you can see where i work.i could not think of a safer industry to work in. we are required by procedures to report events as minor as paper cuts. any issue identified as being a potential concern with respect to nuclear, radiological, or industrial safety is immediately reported in the corrective action process.bottom line is that nuclear plants in the us operate with safety in the front of their mind.\n",
            "\n",
            "i was pleasantly surprised by the film. let's face it; the premise doesn't sound particularly appealing when having to hand over money for a the night's flick, but it had an easygoing nature that wins one over. there were no moments that i found uproarious, and i doubt any that i'll remember the next day, but this doesn't fail as a nice diversion. what i found funny was watching it here in peking with my chinese girlfriend who never understands anything i like. i told her there was a plot- three guys have to bring back some weed to london. hardly satisfying for her. there is no mugging going on here for the camera which i'd been expecting after reading a number of the comments. i do take exception however to comparisons with withnail and i; not in the same league, and i doubt was it intended to. www.imperialflags.blogspot.com\n",
            "\n",
            "the box is one of the strangest movies i have ever seen. to explain my experience, let me use this word picture: imagine that you have been binging on pixie sticks and paint fumes for the last month while watching nothing but twilight zone reruns. the resulting coma lands you in a hospital, where the nurse seems to get a kick out of shooting adrenalin into your iv. the dream that you have while in the coma will be something like this movie.summary: a man shows up at the door of a couple. he gives them a box with a button on it. press the button, they will get a million dollars in cash and a person they don't know will die. i'll try not to spoil anything, but from there things devolve into a plot so intertwined and complex and purely original that it will make you question your sanity. but hey, most of us have been sane for a while now, and change is good.pros: amazing storyline, overall good acting, not a slow moment once it gets going. it asks questions of human morality that are rarely, if ever asked in popular culture. this movie is deep, it has meaning. its not summer blockbuster special effects fluff (not that there's anything wrong with that); this movie had a relatively low budget and it showed in some places. but i think it is perhaps that very thing that makes me like it so much.cons: the first twenty minutes, before it gets going, are really quite slow. at the end of the movie, you will be so confused that you just have to sit down and think for a good half hour. i can guarantee that this movie will not get rave reviews from your peers or most critics; it is far too strange and there aren't explosions every three seconds. in fact there are no explosions of any kind in this movie (besides your brain popping from trying to understand exactly what the heck just happened). personally i don't think this is a bad thing, but many will.rating: easily a 9/10. i have never had an experience like watching this movie. the only reason i can't give it a 10/10 is that it is just too wrapped up in itself. there are several large things left unexplained at the end that are still bugging me as i sit here writing this. but overall, this is the best experience i have had in a movie theater in quite a long time. but be warned, you will not like this movie if you can't sit back, turn on your suspension of disbelief to about 150%, and prepare your brain to do some impressive acrobatics.visit www.thestuffblag.com for more reviews\n",
            "\n",
            "written and acted by sincere amateurs, produced by some exploitation monger, this is dull and hard to watch.not the worst movie ever, but at least schlock like _plan 9 from outer space_ usually had a real actor or two. i'd recommend _a thief in the night_ only to hardcore ironists and hardcore dispensationalists. i'm neither.don't believe me? watch it for free (albeit sourced from poor vhs) here: http://www.archive.org/details/thief-in-the-nightrelevant links added mostly to reach imdb's 10-line minimum: http://en.wikipedia.org/wiki/dispensationalism http://www.dvdtalk.com/reviews/3199/thief-in-the-night-se-a/\n",
            "\n",
            "if you've never experienced the thing that is zasu pitts, here is a zasu zinger! in 1933 mae questel caricatured pitt's voice for the character olive oyl for the fleischer studios animated cartoon version of the comic strip popeye. zasu (pronounced zay-sue) does her best \"olive oyl\" impersonation walking around whining and ringing her hands or attaching herself to the policeman's laynard. i kept waiting for her to say \"ohhh myyyy\", but instead it's \"something always happens to somebody.\" the first time i saw this film i loved zasu and found her character really funny. i've since seen her in other films where she does this same whining, uptight, fragile-flower routine. so, upon watching this film again i started getting a little annoyed with the constant whining and near hysteria over a piece of dust. but, there are some funny comedy bits here, and it's also a mystery movie as well. it's an interesting mix of mystery and comedy that actually works. the mystery plot holds together well through the camp of zasu pitts and james gleason who plays arthur crimmer the policeman. the haunted house is fun with many a secret passage and even a skeleton in the attic! well worth the watch. read more public domain movie reviews at: http://pdmoviereview.blogspot.com/\n",
            "\n",
            "while many unfortunately passed on, the ballroom scene is still very much alive and carrying on their legacy. some are still very much alive and quite well, octavia is more radiant and beautiful than ever, willi ninja is very accomplished and gives a great deal of support to the gay community as a whole, pepper labeija just passed on last year of natural cause, may she rest in peace. after anji's passing carmen became the mother of the house of xtravaganza (she was in the beach scene) and she is looking more and more lovely as well. some balls have categories dedicated to those who have passed, may they all rest in peace. there is currently another project underway known as \"how do i look?\", you can check out the website at www.howdoilooknyc.org.\n",
            "\n",
            "gingko bed is a strange movie. it's very convoluted, as if it had a lot of ideas but lacked the ability to bring them all into one coherent story. instead, we get various plotlines that diverges into their own separate little movies. oh sure, they eventually meet up in the end, but it all seems rather...superfluous. of note is the girlfriend and her troubles at the hospital. was this...interesting? then there were the \"we are spirits, thus we have no physicality\" elements, which leads to the same problem that people had with ghost, namely: if the characters have no physicality (i.e. no corporeal form) and they can phase through walls and what not, how exactly do they keep from falling through the floor, or float up the ceiling for that matter?gingko bed was highly touted as a new breed of south korean film. there's plenty of special effects, but the movie itself is hollow and its faux melodrama will only \"touch\" those who are easy to, well, touch to begin with. 4 out of 10(go to www.nixflix.com for a more detailed review of this movie and reviews of other foreign films)\n",
            "\n",
            "here italy (i write from venice). why cancelated? the abc should have given it a chance to build an audience. the cast (w/hope davis, campbell scott, erika christensen, zoe saldana, jay hernandez and bridget moynahan) is one of the best i've seen in recent. we need more shows like this that makes viewers feel like they are intelligent individuals not mindless drones. i hope that abc will reconsider its decision or another station will pick it up. please sign online petition to abc: http://www.petitiononline.com/gh1215/petition.html please sign online petition to abc: http://www.petitiononline.com/gh1215/petition.html\n",
            "\n",
            "this series has recently been unearthed and excerpts can be seen, at least within britain, via http://www.screenonline.org.uk/tv/id/527213/index.html presumably there is some hope that the series may eventually become available more widely. the problem is that this series was followed by the series the wars of the roses that had a similarly stellar cast and which has been available to cable tv, or at least crowding the market. the two series are quite different in dramaturgy; the wars consolidates the plays through extensive rewriting and shifting of scenes; an age of kings follows shakespeare more closely. both series benefit from integral casting.\n",
            "\n",
            "this is the best and most original show seen in years. the more i watch it the more i fall in love with it. the cast is excellent, the writing is great. i personally like every character. however, there is a favorite character for everyone as there is a good mix of personalities and backgrounds just like in real life. i believe abc has done a disservice to the writers, actors and to the potential audience of this show, to cancel so quickly and not advertise it enough nor give it a real chance to gain a following. there are so few shows i watch anymore as most tv is awful . this show in my opinion was right up there with my favorites greys anatomy and brothers and sisters. in fact i think the same audience for brothers and sisters would love this show if they even knew about it. why is it always the loser shows that get so much extra time and the winning shows with great potential always get dumped right away. i am so sick of reality shows i do not watch any of them. it was so refreshing to have a new idea for a show and then to hire excellent actors, this show had so much promise. the recent episode was the best one yet as everyone has started to really get into their parts and make the show so real. please watch this show on abc's video and let abc know you wish to have this show back. please sign the online petition to abc: http://www.petitiononline.com/gh1215/petition.html\n",
            "\n",
            "anyone who has studied any physics or cognitive science will walk out disgusted after 40 min., as my wife and i did. the ignorant masses might be entertained by the hand-waiving arguments and the absurd \"conclusions\" drawn (without even an attempt at a logical reason) from real science. i'm offended by such nonsense presented under the guise of \"science\". i can only conclude that the writers picked up a quantum physics book, didn't understand a word of it, then watched the matrix about a thousand times, and proceeded to write this movie.for example, the washington dc crime experiment was done by the transcendental meditation program. a brief search will reveal the science of their methods. (http://www.freedomofmind.com/resourcecenter/groups/t/tm/dissenter.htm)save your money.\n",
            "\n",
            "amazing. that's what you'd say if you sat through this film. simply, incredibly, amazing. it's actually so amazing that anyone was stupid enough to dump money into making this monstrosity that you simply can't believe what you're seeing. that, my friends, is what is truly scary about this film. somebody thought it was a good idea to make it. well, here's another amazingly original story: high school student (occasionally seemed like collegego figure) has whore for a mom, lives in a trailer park, and is an \"artist\" who is ridiculed for his \"being all different.\" well, of course, this poor ridiculed boy is eventually killed and, here's the original part, his soul inhabits a scarecrow (beneath which, he is killed by his slutty mama's latest john). then he goes around with the standard killing off of all the people that done hurt him. awww.here's the breakdown:the good:--amazingly funny movieeven if that's not what the clearly drunk filmmakers wanted.--this and the sequel on one disk in the wal-mart $5.00 binso it's only a little overpriced.didn't hurt it, didn't help:--the violence and gore are kind of sub-standard. one person is stabbed with a corncob.--sounds like they put some effort into the musicbut it doesn't really fit the movieand isn't all that good.the bad:--terrible, terrible acting.--another slasher let-down with sexy womennone of them removing clothing. when did that cease being a staple of low-brow slashers??--ridiculous story.--the scarecrow vomits up one-liners that would make freddy krueger and arnold swartzenegger blush.--standard underlying love story goes nowhere, and is poorly done.--some of the people killed seem like they were chosen at randomyou never really know who anybody is and then they're killed. and you only assume that they must've had it coming.the ugly:--extremely average slasher fare, just with a murdering scarecrow instead of well, all that other crap.--nowhere near as interesting as freddy krueger, jason voorhees, pinhead, chucky, or even angela from the \"sleepaway camp\" seriesall of which are better than this atrocity.--the absolute worst dialogue i have ever heard in my life. the script is laden with a level of retardedness that i never imagined could exist. i'm serious hereit's a full step beyond terrible. don't get me wrong, though, it's funny as hellbut i've never heard more asinine bantereven in \"slumber party massacre iii.\" this film makes \"jason x\" look like shakespeare.--the man who kills the boy that becomes the scarecrow: worst wig ever. dialogue to match.memorable scene:--the one where elementary-school youths spew out their own witty dialogue: \"hey, let's go find small animals to torture. huh huh.\"acting: 3/10 story: 3/10 atmosphere: 2/10 cinematography: 1/10 character development: 2/10 special effects/make-up: 5/10 nudity/sexuality: 1/10 (no nudity, mom's a whore, girls wear no bras) violence/gore: 5/10 (low quality, mediocre amount) dialogue: 0/10 (extremely ridiculous, blatant, over-the-top and painfully funnyso bad it's good. my first rating for dialogue in any film!) music: 5/10 direction: 2/10cheesiness: 10/10 crappiness: 9/10overall: 3/10another one for just people like me who enjoy watching pure crap. or slasher-film completists. this is not a good movie, at all. laughable dialogue and characters keep it from being truly boring.www.residenthazard.com\n",
            "\n",
            "don't watch this serbian documentary and serbian propaganda look out for this documentary and you will see facts and truth http://imdb.com/title/tt0283181/the death of yugoslavia documentary series (of five episodes) is a painstakingly compiled and researched account of the extended mass-bloodshed which marked the end of the old federal yugoslavia and spanned almost the entire first half of the 1990's. it includes a huge wealth of news footage and interviews with involved parties both \"yugoslav\" and otherwise. the only real \"improvement\" which could be made to this amazing achievement would be the inclusion of later developments in the balkans since the program was made. this was indeed done in the late 1990's for a repeat showing on bbc television, but the addition of some even more recent events would help to complete this admirably detailed and fulsome piece of work. perhaps another whole episode might be warranted? the very succinct title of this documentary was made all the more appropriate by the eventual abandonment of the term \"yugoslavia\" by the now-named federal republic of serbia and montenegro - a much belated and formal admission of that which occurred years before.not fiction like in \"yugoslavia: the avoidable war (1999)\"\n",
            "\n",
            "i swore i would never allow myself to devolve into to the bogus authority figures of the sixties who told me things were better in the \"good old days\"  the current australian prime minister is a sordid example of just such a mind set.but i switched over to \"a decade under the influence\" because i found watching the much-heralded \"sneakers\" documentary on the other channel such a dispiriting experience. i found the values expressed by the \"sneakers\" interviewees too ugly to accept as reasonable. so materialistic! so devoid of any sense of outrage at a society that can countenance killing someone to steal his very ugly shoes! so lacking in any worthwhile purpose that they can report without distaste the exploitation an audience by haranguing them to hold those shoes above their heads to lock in a sponsorship deal for themselves with a company of cobblers was just too much to continue watching.\"a decade under the influence\" depicted a completely different response to the fruit of stupidity, corruption and concupiscence in high (and low) places.i have noted the change in film-making that accompanied the exposure of america's disastrous foreign policy debacles in vietnam and so many less reported places in my www.peterhenderson.com.au website. \"a decade under the influence\" documents the precise moment at which that change took place.before the seventies, the armed forces were depicted in american films as an invincible fighting force comprised of decent human beings who transmogrified into conquering heroes on the battlefield. after the seventies they are generally portrayed as a dispirited rabble misled by a bunch of bureaucrat clowns in the pentagon before the seventies, the fbi agent and the honest cop tended to be depicted as your friend and protector. after the seventies, the fbi agents were all incompetent and the best a cop could aspire to was to ignore their foolishness and his superior's corruption and uphold justice in his own idiosyncratic manner.before the seventies, the archetypical american \"little guy\", the \"average joe\", the jimmy stewart type would face down the problems encountered and thereby gain some insight into underlying wisdom of his elected leaders and justice of the \"american way\". after the seventies, kevin costner usurps that role, but now he is the voice of one crying out in the wilderness for evil to be exposed, or accepting his lot and making out the best he can.and now those \"old time religion\" mindsets have been stripped of any honesty and righteousness and portrayed (with a certain amount of justification) as sanctimonious bigotry and self-serving hypocrisy.\"a decade under the influence\" tells it like it was. \"a decade under the influence\" tells it like it is now. it depicts the redemption of the american film industry from the hands of the artistically, morally and intellectually bankrupt studio moguls. it shows the storming of the hollywood bastille by the independent film makers who promised to get a disillusioned and tired audience back into the cinemas. the fact that their failures were numerous, and at times disastrous, merely underlines the greatness of their achievement. an achievement reflected in the adventurous and questioning attitudes of the big box office stars such as clooney, daman, affleck etc and the directors and producers who provide the vehicles for their talent.\n",
            "\n",
            "i think that most people would agree with me if i were to say that the movie alien pretty much set the bar for atmosphere. i've seen quite a few movies match that bar but none have ever exceeded alien's eerie tunnels and darkened halls. the cave is a film that tries very hard to reset the bar. i believe the trailer even mentioned something about being as scary as alien yet not once throughout the movie did i ever feel even the slightest bit scared, or thrilled for that matter.so now that we got the ball of negativity rolling i might as well explain why the cave's main hook (the atmosphere in case you weren't paying attention) fizzled into a waste of my time. i'll say right now that most of the sets were gorgeous and nicely lit but what we hear and what we know is there tend to ruin what we see. the music for one is terrible. we either get corny rock music or over exaggerated haunted house music. okay maybe that's pushing it a bit but i couldn't bear it. the many underwater scenes were bad enough (it's a well-known fact that underwater scenes are always boring as hell) i didn't need rock music blaring in my ears while they were simply swimming through a cave. this actually produced a lot of unintentional laughter that was then amplified by the following watercraft crash scene.anyway as i already mentioned, it wasn't just the music that killed the atmosphere, heck no. the creatures hiding amongst the darkness are supposed to invoke horror. i'm supposed to be worried that they are going to appear and merely a glimpse of them is supposed to make my blood turn cold. the cave does wisely take a page from the alien handbook by not showing the entire creature for very long and leading up to the reveal with only glimpses but it just doesn't work because the creatures are so lame. i guess it would be rude to spoil the specifics but they are basically the aliens with wings.i guess you get the point by now. atmosphere ruined. yet i know plenty of people who will still see a movie if it's exciting. i'd like to say that about the cave but i'd be lying. this movie is slow to get to the action and once we get there we sort of wonder when the thing is going to finally call it a day. we've seen all this done better before with the exception of a few neat scenes (the guy impaled on stalactites, the eel and the rapids) so you really don't get any thrills from watching people running from uninspired alien knockoffs in endless tunnels.ah but no the pain doesn't end there. we must also take the characters and acting into account. well i can't remember a single line of dialogue other than \"run!\" and the only character's name i can remember is jack but that's only because it's placed in almost every other line near the end of the movie. perhaps the actors were capable but the script didn't allow them to do anything other then run and argue. they had almost no background and whenever somebody died they simply shrugged it off. it's pretty sad when you consider that the cgi eel puts on the best performance in the film.speaking of cgi; there's plenty of it, most of which is terrible. i do commend them on using suits (at least i think they were suits) but nothing truly meshes with the environment and as a result most of the effects end up looking pretty hokey.so i guess to wrap it up, the cave is bad and has very little going for it. had the film been a scifi channel premiere movie or low budget direct to video release i might have a bit more love for it but this film was a theatrical release. with more wit and talent this might have been a frighteningly fun movie but as it stands this film is about as scary as going into the basement and that's not very good.my review from frider waves: http://friderwaves.com/index.php?page=cave\n",
            "\n",
            "if you read my review of syfy's \"dinoshark\", you know that i can appreciate the low-budget schlock that these made-for-television movies can provide. they're stupid...they're silly...but they're still pretty fun in a \"so bad, it's good\" kind of way. so, still smacking with guilt for liking (and recommending) the undeniably hokey \"dinoshark\", i sat down to watch \"hammerhead: shark frenzy\", a syfy original movie about a half-man, half-hammerhead monster terrorizing people on an island. with the syfy channel's sure-fire recipe for creating b-movie creature features and a cast that includes william forsythe and hunter tylo, how could it possibly go wrong? well, to my surprise, it actually misses the mark...not by much, but enough to make me not recommend it. why? well, first of all, its titular monster, the dreaded hammerhead-human hybrid, takes a backseat to a bunch of faux-military thugs who really become the movie's primary villain. though the hammerhead does rack up the body count, he (or it or whatever you call the thing) only arrives just before someone is going to be munched upon and leaves directly after. the rest of the movie is filler, pitting our heroes against the aforementioned soldiers. that, to me, is just not as compelling as watching a walking hammerhead eat people! please read the full review on my blog: www.horrormoviejournal.blogspot.com\n",
            "\n",
            "this movie contains the worst acting performance of all time. spilsbury lacks energy to say the least. energy is what clayton moore gave us in spades. i never felt once in this movie that spilsbury was anxious for anything. revenge, love, justice? not in this guy's portrayal.there is also no chemistry between tonto and lr. if the plot did not force them to be friends, you don't get the impression they want to hang out with each other. plus, the sidekick has the more interesting personality. ewww.the dialogue is predictable and boring.the narration is stunningly bad and if you are familiar with the dukes of hazzard you can picture what this is like. i cannot believe the director would agree to this. it insulted me as a viewer by explaining every plot line i just witnessed.hey, at least the horses and locations looked good, maybe that is what happens when you hire a cinematographer to be your director.rating-2 you may be able to watch this one for laughs or to demonstrate to an alien what a bad movie is.\n",
            "\n",
            "trite and unoriginal. it's like someone watched immortal beloved and amadeus and decided to mix them together and, in the process, steal other formulaic plot parts from other movies to make another one. as with most historical movies nowadays, there are some inaccuracies as history is manipulated to better suit the story, which is understandable for the most part. for example, during the remaining days of beethoven's life, it was necessary for other people to write down what they needed to say in order for him to understand them. that, of course, would have been a nuisance to have to show on screen. the script, although filled with some quotable lines, doesn't quite capture the feel of that time period and, coupled with some bad acting, seems rather contemporary. diane kruger is nice enough to look at but she still has lots to improve on her craft. ed harris doesn't work for me as beethoven and i mostly blame gary oldman for that. overall, not a very good interpretation of the musical maestro's life. better just find yourself a copy of immortal beloved.http://iwascalledclementine.multiply.com/reviews\n",
            "\n",
            "trick or treat, quickie review this zany romp of a film revolves around the 80's culture of heavy metal and horror movies--two things which i love dearly. so, as you can imagine, this movie appealed to me pretty easily. plus, for no apparent reason, ozzy osbourne plays a preacher.this film is about an unpopular high school youth who, like all us losers, ended up drenched in a world of \"evil\" heavy metal. his favorite metaldude dies and, of course, is miraculously resurrected--by playing his latest unreleased album backwards. this allows the corpsified singer to go around killing people with demons and sh*t helping out.okay, it's pretty cheesy at times, but you know what? it's got a surprising number of good qualities. decent acting (including gene simmons as a radio dj), pretty good special effects, very brief nudity, decent atmosphere... all in all, it's actually a decent horror film. but what really sucks is the music. ironic, huh? well, this \"uber-evil\" metal guy is one of the most obnoxious, high-pitched, wailing, motley crue rejects on the planet--and the \"metal\" is little more than putrid 80's pop/hair metal. he hits all the cliché's here, from prancing around like a gay fairy, to looking mean, to screaming \"rock and roll!!!\" in a pitch high enough to make king diamond retch. aside from that atrocious musical representation, it's actually pretty good. 7/10www.residenthazard.com\n",
            "\n",
            "this is absolutely the best 80s cartoon ever, maybe the best cartoon of all time. it had everything action, adventure, thrill, and much more...i can't imagine how hard it was for ruby-spears company to make this great cartoon, there has been spent a lot of money for this masterpiece of work and it was worth it, for example just the beaming down scenes were hard because i wouldn't call the 1980s for a great technology year with computers like now in the world we live in so the beaming down scenes were excellent!the cartoons will never be the same as they were before, that is why i hope that they all will be released on dvd specially the centurions as it's my favorite. i have the whole complete set of 65 episodes on dvd-r but it's not the same because if they were released on dvd the people in the world would be able to buy it and see the dvd's in almost every store which means a lot to the fans. my good friend ted made this petition to either get the show back on tv or better on dvd, that is if we get many requests to get them back on dvd.so please help us by signing the petition at http://www.petitiononline.com/6600f/petition.html\n",
            "\n",
            "if you liked the richard chamberlain version of the bourne identity then you will like this too...aiden quinn does this one brilliantly, you can't help but wonder if he is really out there...i reckon he and the other main cast members probably had nightmares for weeks after doing this movie as it's so intense. when i first saw it i was just flicking channels on the remote late one evening..& i got hooked within minutes. look up www.answers.com for ilich ramírez sánchez who is the character that \"carlos the jackal\" is based on for both... i remember reading about ilich ramírez sánchez's arrest in the paper in 1997. it was front page for weeks, through the trial after his arrest.\n",
            "\n",
            "\"scientists at a remote lab experiment on (insert scaly creature here) and create out of control monsters. in the meantime a crack military team/the scientist's daughter/bank robbers find their way to the remote place and are menaced by the giant critters. one by one they're eaten, all during an \"exciting\" race to not be blown up by the forces who initially created the monsters...\" the sad thing is that this sounds like about a dozen movies which have appeared on the sci-fi channel. i have to wonder just what is going on? sure... i like bimbos and hollywood-hunk wannabes be eaten by cgi critters as much as the next person... but where's the plot or originality? granted, there are times when sci-fi channel shines. battlestar galactica, if a bit dark, can be very good. writers have continued to pump life into the various stargate offerings, and the latest bbc import of doctor who is surprisingly good.even in the various \"giant animal\" movies on sci-fi, the animation seems to be getting better all the time. compare the kommodo in this film to the rather clunky version in the first giant kommodo film on sci-fi.but goodness... how about a different plot? maybe some -different- giant critter? on a whim, i started searching around the internet. among the litter i found a few interesting stories which might appeal to sf fans and out of work russian cgi animators at once. i offer http://www.macrophile.com/~arilin/archive/metamorphosis-day to the network with a suggestion that they contact the author for the story rights. (the story contains violent images generally on a par with those of various sci-fi channel offerings).the story has subplot, ethical and moral comment on the nature of humanity and ends not on one of those horrible \"did they really kill all the monsters???\" moments, but rather leaves you guessing completely and in an entirely different mindset.which is generally what science-fiction is supposed to do, no?\n",
            "\n"
          ]
        }
      ]
    },
    {
      "cell_type": "code",
      "source": [
        "def removeURLs(text):\n",
        "    pattern='https?:\\S+|www\\.\\S+'\n",
        "    return re.sub(pattern, '',text)"
      ],
      "metadata": {
        "id": "JR3gndWP86DA"
      },
      "execution_count": 26,
      "outputs": []
    },
    {
      "cell_type": "code",
      "source": [
        "df['review']=df['review'].apply(removeURLs)"
      ],
      "metadata": {
        "id": "xPoXJ0iH9NLE"
      },
      "execution_count": 29,
      "outputs": []
    },
    {
      "cell_type": "code",
      "source": [
        "tmp=df[df['review'].str.contains(pattern)]['review']\n",
        "for st in tmp:\n",
        "    print(st,end='\\n\\n')"
      ],
      "metadata": {
        "id": "VkrRbYJ89h8s"
      },
      "execution_count": 30,
      "outputs": []
    },
    {
      "cell_type": "markdown",
      "source": [
        "## Remove Punctuation"
      ],
      "metadata": {
        "id": "WWMU3L6THK7J"
      }
    },
    {
      "cell_type": "code",
      "source": [
        "import string,time"
      ],
      "metadata": {
        "id": "DZDFKpitHJcI"
      },
      "execution_count": 31,
      "outputs": []
    },
    {
      "cell_type": "code",
      "source": [
        "exclude = string.punctuation\n",
        "exclude"
      ],
      "metadata": {
        "colab": {
          "base_uri": "https://localhost:8080/",
          "height": 35
        },
        "id": "KKyPr8rIHbJh",
        "outputId": "cb5a48ff-7b40-40ab-c37c-36bf77c2ac0b"
      },
      "execution_count": 35,
      "outputs": [
        {
          "output_type": "execute_result",
          "data": {
            "text/plain": [
              "'!\"#$%&\\'()*+,-./:;<=>?@[\\\\]^_`{|}~'"
            ],
            "application/vnd.google.colaboratory.intrinsic+json": {
              "type": "string"
            }
          },
          "metadata": {},
          "execution_count": 35
        }
      ]
    },
    {
      "cell_type": "code",
      "source": [
        "def remove_punc(text):\n",
        "  for c in exclude:\n",
        "     text=text.replace(c,'')\n",
        "  return text\n",
        "t1=time.time()\n",
        "remove_punc('hello, world!++++++,ok bos.wwljf .')\n",
        "t2=time.time()\n",
        "print((t2-t1)*50000)"
      ],
      "metadata": {
        "colab": {
          "base_uri": "https://localhost:8080/"
        },
        "id": "IbnVFxkXHtiC",
        "outputId": "3c95036d-b4be-4df5-ac6f-cd29496f78c4"
      },
      "execution_count": 47,
      "outputs": [
        {
          "output_type": "stream",
          "name": "stdout",
          "text": [
            "6.735324859619141\n"
          ]
        }
      ]
    },
    {
      "cell_type": "markdown",
      "source": [
        "this is not efficient for a big dataset. There is another way which is faster than the previous one"
      ],
      "metadata": {
        "id": "_LMefrLwIy2K"
      }
    },
    {
      "cell_type": "markdown",
      "source": [],
      "metadata": {
        "id": "CDLwZiuUJAqD"
      }
    },
    {
      "cell_type": "code",
      "source": [
        "def remove_punc1(text):\n",
        "  return text.translate(str.maketrans('','',exclude))\n",
        "t1=time.time()\n",
        "remove_punc1('hello, world!++++++,ok bos.wwljf .')\n",
        "t2=time.time()\n",
        "print((t2-t1)*50000)"
      ],
      "metadata": {
        "colab": {
          "base_uri": "https://localhost:8080/"
        },
        "id": "XXoKcx9SI4gs",
        "outputId": "6c029972-f8f2-4ac4-ebc3-cfec9dd1e586"
      },
      "execution_count": 48,
      "outputs": [
        {
          "output_type": "stream",
          "name": "stdout",
          "text": [
            "5.519390106201172\n"
          ]
        }
      ]
    },
    {
      "cell_type": "code",
      "source": [
        "t1=time.time()\n",
        "df['review'].apply(remove_punc1)\n",
        "t2=time.time()\n",
        "print(t2-t1)"
      ],
      "metadata": {
        "colab": {
          "base_uri": "https://localhost:8080/"
        },
        "id": "UKSqZveSKKZW",
        "outputId": "c0ee7911-e1ba-46d7-a1a3-121fb6739d8e"
      },
      "execution_count": 54,
      "outputs": [
        {
          "output_type": "stream",
          "name": "stdout",
          "text": [
            "1.2471754550933838\n"
          ]
        }
      ]
    },
    {
      "cell_type": "code",
      "source": [
        "t1=time.time()\n",
        "df['review'].apply(remove_punc)\n",
        "t2=time.time()\n",
        "print(t2-t1)"
      ],
      "metadata": {
        "colab": {
          "base_uri": "https://localhost:8080/"
        },
        "id": "Ou2-7jMAKqHe",
        "outputId": "9e2111ee-1ffe-41ed-d910-d796c4582b63"
      },
      "execution_count": 55,
      "outputs": [
        {
          "output_type": "stream",
          "name": "stdout",
          "text": [
            "1.8608641624450684\n"
          ]
        }
      ]
    },
    {
      "cell_type": "code",
      "source": [
        "df['review']=df['review'].apply(remove_punc)"
      ],
      "metadata": {
        "id": "18TK6OYTKxf5"
      },
      "execution_count": 56,
      "outputs": []
    },
    {
      "cell_type": "markdown",
      "source": [
        "# Spelling Correction\n",
        "beacuse of spelling mistake our model may treat same word as two different word. that may create our model more complex. As a result, the performance may be reduced"
      ],
      "metadata": {
        "id": "N9tWFewlHKFe"
      }
    },
    {
      "cell_type": "code",
      "source": [
        "from textblob import TextBlob"
      ],
      "metadata": {
        "id": "nBhk7cQfLlSz"
      },
      "execution_count": 57,
      "outputs": []
    },
    {
      "cell_type": "code",
      "source": [
        "import textblob\n",
        "incorrectText=\"here I am learning English. hier I m lerning English\"\n",
        "textBlb = TextBlob(incorrectText)\n",
        "textBlb.correct().string"
      ],
      "metadata": {
        "colab": {
          "base_uri": "https://localhost:8080/",
          "height": 35
        },
        "id": "3Hc-wSWBL1P9",
        "outputId": "e497c68f-999f-40cf-f170-e48a3e36f589"
      },
      "execution_count": 63,
      "outputs": [
        {
          "output_type": "execute_result",
          "data": {
            "text/plain": [
              "'here I am learning English. her I m leaning English'"
            ],
            "application/vnd.google.colaboratory.intrinsic+json": {
              "type": "string"
            }
          },
          "metadata": {},
          "execution_count": 63
        }
      ]
    },
    {
      "cell_type": "markdown",
      "source": [
        "## Removing Stop words\n",
        "**stop words** a,the, are, an,"
      ],
      "metadata": {
        "id": "cSyVpZgvNrCp"
      }
    },
    {
      "cell_type": "code",
      "source": [
        "import nltk\n",
        "nltk.download('stopwords')"
      ],
      "metadata": {
        "colab": {
          "base_uri": "https://localhost:8080/"
        },
        "id": "aUV6f3VGN1zO",
        "outputId": "78144dfc-82e3-426b-c65e-5834178ed8a0"
      },
      "execution_count": 68,
      "outputs": [
        {
          "output_type": "stream",
          "name": "stderr",
          "text": [
            "[nltk_data] Downloading package stopwords to /root/nltk_data...\n",
            "[nltk_data]   Unzipping corpora/stopwords.zip.\n"
          ]
        },
        {
          "output_type": "execute_result",
          "data": {
            "text/plain": [
              "True"
            ]
          },
          "metadata": {},
          "execution_count": 68
        }
      ]
    },
    {
      "cell_type": "code",
      "source": [
        "from nltk.corpus import stopwords"
      ],
      "metadata": {
        "id": "KqHZB-YFODsZ"
      },
      "execution_count": 71,
      "outputs": []
    },
    {
      "cell_type": "code",
      "source": [
        "len(list(stopwords.words(\"german\"))),len(list(stopwords.words(\"english\"))),len(list(stopwords.words(\"spanish\")))"
      ],
      "metadata": {
        "colab": {
          "base_uri": "https://localhost:8080/"
        },
        "id": "P1v_YP5KO6aZ",
        "outputId": "32948b86-6358-45eb-b65f-b9022eeafd6d"
      },
      "execution_count": 76,
      "outputs": [
        {
          "output_type": "execute_result",
          "data": {
            "text/plain": [
              "(232, 179, 313)"
            ]
          },
          "metadata": {},
          "execution_count": 76
        }
      ]
    },
    {
      "cell_type": "code",
      "source": [
        "def remove_stopwords(text):\n",
        "  stopWords=list(stopwords.words('english'))\n",
        "  newText=[]\n",
        "  for word in text.split():\n",
        "     if word not in stopWords:\n",
        "        newText.append(word)\n",
        "  return ' '.join(newText)\n",
        "print(remove_stopwords(\"my name is Rana. I do not like to go to work\"))\n",
        ""
      ],
      "metadata": {
        "colab": {
          "base_uri": "https://localhost:8080/"
        },
        "id": "oquVLY7VPm7-",
        "outputId": "9c53dc08-7358-43a9-ab5f-16ee4213109c"
      },
      "execution_count": 80,
      "outputs": [
        {
          "output_type": "stream",
          "name": "stdout",
          "text": [
            "name Rana. I like go work\n"
          ]
        }
      ]
    },
    {
      "cell_type": "code",
      "source": [
        "df['review']=df['review'].apply(remove_stopwords)\n",
        "df.head(4)"
      ],
      "metadata": {
        "colab": {
          "base_uri": "https://localhost:8080/",
          "height": 175
        },
        "id": "lNutmMpYRuES",
        "outputId": "ef8fae07-e8e7-4b3e-c00a-83e5d711b8cf"
      },
      "execution_count": 81,
      "outputs": [
        {
          "output_type": "execute_result",
          "data": {
            "text/plain": [
              "                                              review sentiment\n",
              "0  one reviewers mentioned watching 1 oz episode ...  positive\n",
              "1  wonderful little production filming technique ...  positive\n",
              "2  thought wonderful way spend time hot summer we...  positive\n",
              "3  basically theres family little boy jake thinks...  negative"
            ],
            "text/html": [
              "\n",
              "  <div id=\"df-e540a951-82d5-49e8-9048-c6ea2b80c71c\" class=\"colab-df-container\">\n",
              "    <div>\n",
              "<style scoped>\n",
              "    .dataframe tbody tr th:only-of-type {\n",
              "        vertical-align: middle;\n",
              "    }\n",
              "\n",
              "    .dataframe tbody tr th {\n",
              "        vertical-align: top;\n",
              "    }\n",
              "\n",
              "    .dataframe thead th {\n",
              "        text-align: right;\n",
              "    }\n",
              "</style>\n",
              "<table border=\"1\" class=\"dataframe\">\n",
              "  <thead>\n",
              "    <tr style=\"text-align: right;\">\n",
              "      <th></th>\n",
              "      <th>review</th>\n",
              "      <th>sentiment</th>\n",
              "    </tr>\n",
              "  </thead>\n",
              "  <tbody>\n",
              "    <tr>\n",
              "      <th>0</th>\n",
              "      <td>one reviewers mentioned watching 1 oz episode ...</td>\n",
              "      <td>positive</td>\n",
              "    </tr>\n",
              "    <tr>\n",
              "      <th>1</th>\n",
              "      <td>wonderful little production filming technique ...</td>\n",
              "      <td>positive</td>\n",
              "    </tr>\n",
              "    <tr>\n",
              "      <th>2</th>\n",
              "      <td>thought wonderful way spend time hot summer we...</td>\n",
              "      <td>positive</td>\n",
              "    </tr>\n",
              "    <tr>\n",
              "      <th>3</th>\n",
              "      <td>basically theres family little boy jake thinks...</td>\n",
              "      <td>negative</td>\n",
              "    </tr>\n",
              "  </tbody>\n",
              "</table>\n",
              "</div>\n",
              "    <div class=\"colab-df-buttons\">\n",
              "\n",
              "  <div class=\"colab-df-container\">\n",
              "    <button class=\"colab-df-convert\" onclick=\"convertToInteractive('df-e540a951-82d5-49e8-9048-c6ea2b80c71c')\"\n",
              "            title=\"Convert this dataframe to an interactive table.\"\n",
              "            style=\"display:none;\">\n",
              "\n",
              "  <svg xmlns=\"http://www.w3.org/2000/svg\" height=\"24px\" viewBox=\"0 -960 960 960\">\n",
              "    <path d=\"M120-120v-720h720v720H120Zm60-500h600v-160H180v160Zm220 220h160v-160H400v160Zm0 220h160v-160H400v160ZM180-400h160v-160H180v160Zm440 0h160v-160H620v160ZM180-180h160v-160H180v160Zm440 0h160v-160H620v160Z\"/>\n",
              "  </svg>\n",
              "    </button>\n",
              "\n",
              "  <style>\n",
              "    .colab-df-container {\n",
              "      display:flex;\n",
              "      gap: 12px;\n",
              "    }\n",
              "\n",
              "    .colab-df-convert {\n",
              "      background-color: #E8F0FE;\n",
              "      border: none;\n",
              "      border-radius: 50%;\n",
              "      cursor: pointer;\n",
              "      display: none;\n",
              "      fill: #1967D2;\n",
              "      height: 32px;\n",
              "      padding: 0 0 0 0;\n",
              "      width: 32px;\n",
              "    }\n",
              "\n",
              "    .colab-df-convert:hover {\n",
              "      background-color: #E2EBFA;\n",
              "      box-shadow: 0px 1px 2px rgba(60, 64, 67, 0.3), 0px 1px 3px 1px rgba(60, 64, 67, 0.15);\n",
              "      fill: #174EA6;\n",
              "    }\n",
              "\n",
              "    .colab-df-buttons div {\n",
              "      margin-bottom: 4px;\n",
              "    }\n",
              "\n",
              "    [theme=dark] .colab-df-convert {\n",
              "      background-color: #3B4455;\n",
              "      fill: #D2E3FC;\n",
              "    }\n",
              "\n",
              "    [theme=dark] .colab-df-convert:hover {\n",
              "      background-color: #434B5C;\n",
              "      box-shadow: 0px 1px 3px 1px rgba(0, 0, 0, 0.15);\n",
              "      filter: drop-shadow(0px 1px 2px rgba(0, 0, 0, 0.3));\n",
              "      fill: #FFFFFF;\n",
              "    }\n",
              "  </style>\n",
              "\n",
              "    <script>\n",
              "      const buttonEl =\n",
              "        document.querySelector('#df-e540a951-82d5-49e8-9048-c6ea2b80c71c button.colab-df-convert');\n",
              "      buttonEl.style.display =\n",
              "        google.colab.kernel.accessAllowed ? 'block' : 'none';\n",
              "\n",
              "      async function convertToInteractive(key) {\n",
              "        const element = document.querySelector('#df-e540a951-82d5-49e8-9048-c6ea2b80c71c');\n",
              "        const dataTable =\n",
              "          await google.colab.kernel.invokeFunction('convertToInteractive',\n",
              "                                                    [key], {});\n",
              "        if (!dataTable) return;\n",
              "\n",
              "        const docLinkHtml = 'Like what you see? Visit the ' +\n",
              "          '<a target=\"_blank\" href=https://colab.research.google.com/notebooks/data_table.ipynb>data table notebook</a>'\n",
              "          + ' to learn more about interactive tables.';\n",
              "        element.innerHTML = '';\n",
              "        dataTable['output_type'] = 'display_data';\n",
              "        await google.colab.output.renderOutput(dataTable, element);\n",
              "        const docLink = document.createElement('div');\n",
              "        docLink.innerHTML = docLinkHtml;\n",
              "        element.appendChild(docLink);\n",
              "      }\n",
              "    </script>\n",
              "  </div>\n",
              "\n",
              "\n",
              "<div id=\"df-1c9429dd-7f6b-41f9-8d8a-a48d0d8d7360\">\n",
              "  <button class=\"colab-df-quickchart\" onclick=\"quickchart('df-1c9429dd-7f6b-41f9-8d8a-a48d0d8d7360')\"\n",
              "            title=\"Suggest charts.\"\n",
              "            style=\"display:none;\">\n",
              "\n",
              "<svg xmlns=\"http://www.w3.org/2000/svg\" height=\"24px\"viewBox=\"0 0 24 24\"\n",
              "     width=\"24px\">\n",
              "    <g>\n",
              "        <path d=\"M19 3H5c-1.1 0-2 .9-2 2v14c0 1.1.9 2 2 2h14c1.1 0 2-.9 2-2V5c0-1.1-.9-2-2-2zM9 17H7v-7h2v7zm4 0h-2V7h2v10zm4 0h-2v-4h2v4z\"/>\n",
              "    </g>\n",
              "</svg>\n",
              "  </button>\n",
              "\n",
              "<style>\n",
              "  .colab-df-quickchart {\n",
              "      --bg-color: #E8F0FE;\n",
              "      --fill-color: #1967D2;\n",
              "      --hover-bg-color: #E2EBFA;\n",
              "      --hover-fill-color: #174EA6;\n",
              "      --disabled-fill-color: #AAA;\n",
              "      --disabled-bg-color: #DDD;\n",
              "  }\n",
              "\n",
              "  [theme=dark] .colab-df-quickchart {\n",
              "      --bg-color: #3B4455;\n",
              "      --fill-color: #D2E3FC;\n",
              "      --hover-bg-color: #434B5C;\n",
              "      --hover-fill-color: #FFFFFF;\n",
              "      --disabled-bg-color: #3B4455;\n",
              "      --disabled-fill-color: #666;\n",
              "  }\n",
              "\n",
              "  .colab-df-quickchart {\n",
              "    background-color: var(--bg-color);\n",
              "    border: none;\n",
              "    border-radius: 50%;\n",
              "    cursor: pointer;\n",
              "    display: none;\n",
              "    fill: var(--fill-color);\n",
              "    height: 32px;\n",
              "    padding: 0;\n",
              "    width: 32px;\n",
              "  }\n",
              "\n",
              "  .colab-df-quickchart:hover {\n",
              "    background-color: var(--hover-bg-color);\n",
              "    box-shadow: 0 1px 2px rgba(60, 64, 67, 0.3), 0 1px 3px 1px rgba(60, 64, 67, 0.15);\n",
              "    fill: var(--button-hover-fill-color);\n",
              "  }\n",
              "\n",
              "  .colab-df-quickchart-complete:disabled,\n",
              "  .colab-df-quickchart-complete:disabled:hover {\n",
              "    background-color: var(--disabled-bg-color);\n",
              "    fill: var(--disabled-fill-color);\n",
              "    box-shadow: none;\n",
              "  }\n",
              "\n",
              "  .colab-df-spinner {\n",
              "    border: 2px solid var(--fill-color);\n",
              "    border-color: transparent;\n",
              "    border-bottom-color: var(--fill-color);\n",
              "    animation:\n",
              "      spin 1s steps(1) infinite;\n",
              "  }\n",
              "\n",
              "  @keyframes spin {\n",
              "    0% {\n",
              "      border-color: transparent;\n",
              "      border-bottom-color: var(--fill-color);\n",
              "      border-left-color: var(--fill-color);\n",
              "    }\n",
              "    20% {\n",
              "      border-color: transparent;\n",
              "      border-left-color: var(--fill-color);\n",
              "      border-top-color: var(--fill-color);\n",
              "    }\n",
              "    30% {\n",
              "      border-color: transparent;\n",
              "      border-left-color: var(--fill-color);\n",
              "      border-top-color: var(--fill-color);\n",
              "      border-right-color: var(--fill-color);\n",
              "    }\n",
              "    40% {\n",
              "      border-color: transparent;\n",
              "      border-right-color: var(--fill-color);\n",
              "      border-top-color: var(--fill-color);\n",
              "    }\n",
              "    60% {\n",
              "      border-color: transparent;\n",
              "      border-right-color: var(--fill-color);\n",
              "    }\n",
              "    80% {\n",
              "      border-color: transparent;\n",
              "      border-right-color: var(--fill-color);\n",
              "      border-bottom-color: var(--fill-color);\n",
              "    }\n",
              "    90% {\n",
              "      border-color: transparent;\n",
              "      border-bottom-color: var(--fill-color);\n",
              "    }\n",
              "  }\n",
              "</style>\n",
              "\n",
              "  <script>\n",
              "    async function quickchart(key) {\n",
              "      const quickchartButtonEl =\n",
              "        document.querySelector('#' + key + ' button');\n",
              "      quickchartButtonEl.disabled = true;  // To prevent multiple clicks.\n",
              "      quickchartButtonEl.classList.add('colab-df-spinner');\n",
              "      try {\n",
              "        const charts = await google.colab.kernel.invokeFunction(\n",
              "            'suggestCharts', [key], {});\n",
              "      } catch (error) {\n",
              "        console.error('Error during call to suggestCharts:', error);\n",
              "      }\n",
              "      quickchartButtonEl.classList.remove('colab-df-spinner');\n",
              "      quickchartButtonEl.classList.add('colab-df-quickchart-complete');\n",
              "    }\n",
              "    (() => {\n",
              "      let quickchartButtonEl =\n",
              "        document.querySelector('#df-1c9429dd-7f6b-41f9-8d8a-a48d0d8d7360 button');\n",
              "      quickchartButtonEl.style.display =\n",
              "        google.colab.kernel.accessAllowed ? 'block' : 'none';\n",
              "    })();\n",
              "  </script>\n",
              "</div>\n",
              "    </div>\n",
              "  </div>\n"
            ]
          },
          "metadata": {},
          "execution_count": 81
        }
      ]
    },
    {
      "cell_type": "markdown",
      "source": [
        "# Handling Emojis\n",
        "+ remove\n",
        "+ replace"
      ],
      "metadata": {
        "id": "mBKediH_SPcO"
      }
    },
    {
      "cell_type": "markdown",
      "source": [
        "# using u-code"
      ],
      "metadata": {
        "id": "uHAYEjxYTU1w"
      }
    },
    {
      "cell_type": "code",
      "source": [
        "text = u'This is a smiley face \\U0001f602\\U0001F680'\n",
        "print(text) # with emoji\n",
        "\n",
        "def deEmojify(text):\n",
        "    regrex_pattern = re.compile(pattern = \"[\"\n",
        "        u\"\\U0001F600-\\U0001F64F\"  # emoticons\n",
        "        u\"\\U0001F300-\\U0001F5FF\"  # symbols & pictographs\n",
        "        u\"\\U0001F680-\\U0001F6FF\"  # transport & map symbols\n",
        "        u\"\\U0001F1E0-\\U0001F1FF\"  # flags (iOS)\n",
        "                           \"]+\", flags = re.UNICODE)\n",
        "    return regrex_pattern.sub(r'',text)\n",
        "\n",
        "print(deEmojify(text))"
      ],
      "metadata": {
        "colab": {
          "base_uri": "https://localhost:8080/"
        },
        "id": "yafrvTdlSNKX",
        "outputId": "215f4420-8ae8-4f2d-8c7d-2424840dc9c3"
      },
      "execution_count": 83,
      "outputs": [
        {
          "output_type": "stream",
          "name": "stdout",
          "text": [
            "This is a smiley face 😂🚀\n",
            "This is a smiley face \n"
          ]
        }
      ]
    },
    {
      "cell_type": "markdown",
      "source": [
        "# using **emoji** module from python to replace emoji with it's meaning"
      ],
      "metadata": {
        "id": "Jenn5VYMTcIx"
      }
    },
    {
      "cell_type": "code",
      "source": [
        "!pip install emoji\n",
        "import emoji\n"
      ],
      "metadata": {
        "colab": {
          "base_uri": "https://localhost:8080/"
        },
        "id": "VNx9F47vTkcm",
        "outputId": "1ec1c5f3-d9e3-4405-8d1d-a0359d54f028"
      },
      "execution_count": 85,
      "outputs": [
        {
          "output_type": "stream",
          "name": "stdout",
          "text": [
            "Collecting emoji\n",
            "  Downloading emoji-2.8.0-py2.py3-none-any.whl (358 kB)\n",
            "\u001b[2K     \u001b[90m━━━━━━━━━━━━━━━━━━━━━━━━━━━━━━━━━━━━━━━\u001b[0m \u001b[32m358.9/358.9 kB\u001b[0m \u001b[31m4.2 MB/s\u001b[0m eta \u001b[36m0:00:00\u001b[0m\n",
            "\u001b[?25hInstalling collected packages: emoji\n",
            "Successfully installed emoji-2.8.0\n"
          ]
        }
      ]
    },
    {
      "cell_type": "code",
      "source": [
        "print(\"python is :❤️\")\n",
        "print(emoji.demojize(\"python is :❤️\"))"
      ],
      "metadata": {
        "colab": {
          "base_uri": "https://localhost:8080/"
        },
        "id": "6Ao9l65xUIPu",
        "outputId": "a489db87-01e9-49f4-ba9f-79cf1f8b8020"
      },
      "execution_count": 86,
      "outputs": [
        {
          "output_type": "stream",
          "name": "stdout",
          "text": [
            "python is :❤️\n",
            "python is ::red_heart:\n"
          ]
        }
      ]
    },
    {
      "cell_type": "markdown",
      "source": [
        "## Tokenization\n",
        "+ this is a processs of breaking the text doc into smaller parts(words, sentence). mostly wods tokenization is used.\n"
      ],
      "metadata": {
        "id": "5HR3gBFXTjQe"
      }
    },
    {
      "cell_type": "markdown",
      "source": [
        "## why Tokenization\n",
        "+ Text Segmentation\n",
        "+ Feature Extraction\n",
        "+ Text Cleaning\n",
        "+ Stop Word Removal\n",
        "+ Text Normalization\n",
        "+ Machine Learning Input\n"
      ],
      "metadata": {
        "id": "HZ7TVHHoVdbw"
      }
    },
    {
      "cell_type": "markdown",
      "source": [
        "# Tokenization using ```split()``` method\n",
        "\n",
        "\n",
        "\n"
      ],
      "metadata": {
        "id": "QM4nQzPgX4sv"
      }
    },
    {
      "cell_type": "code",
      "source": [
        "\"Hello world\".split() # word level"
      ],
      "metadata": {
        "colab": {
          "base_uri": "https://localhost:8080/"
        },
        "id": "xZ8LWZdxYGop",
        "outputId": "adc501bc-fa2b-4a69-f69f-b6ee62278322"
      },
      "execution_count": 89,
      "outputs": [
        {
          "output_type": "execute_result",
          "data": {
            "text/plain": [
              "['Hello', 'world']"
            ]
          },
          "metadata": {},
          "execution_count": 89
        }
      ]
    },
    {
      "cell_type": "code",
      "source": [
        "\"I learn python. today is Friday\".split('.')"
      ],
      "metadata": {
        "colab": {
          "base_uri": "https://localhost:8080/"
        },
        "id": "L7MgSao6YRC5",
        "outputId": "cb0b16b1-e84d-497b-bcf5-818024d8eb55"
      },
      "execution_count": 88,
      "outputs": [
        {
          "output_type": "execute_result",
          "data": {
            "text/plain": [
              "['I learn python', ' today is Friday']"
            ]
          },
          "metadata": {},
          "execution_count": 88
        }
      ]
    },
    {
      "cell_type": "markdown",
      "source": [
        "## Problems with ```split()``` method"
      ],
      "metadata": {
        "id": "YimA6OnwYhtK"
      }
    },
    {
      "cell_type": "code",
      "source": [
        "\"Hello world!\".split() # couldn't remove '!'"
      ],
      "metadata": {
        "colab": {
          "base_uri": "https://localhost:8080/"
        },
        "id": "CZ8Z7rNSXV4y",
        "outputId": "a3e78dc1-ea0a-40b0-afb4-1f53d83e7c5d"
      },
      "execution_count": 90,
      "outputs": [
        {
          "output_type": "execute_result",
          "data": {
            "text/plain": [
              "['Hello', 'world!']"
            ]
          },
          "metadata": {},
          "execution_count": 90
        }
      ]
    },
    {
      "cell_type": "code",
      "source": [
        "\"What do you learn? I learn python\".split('.')# couldn't split"
      ],
      "metadata": {
        "colab": {
          "base_uri": "https://localhost:8080/"
        },
        "id": "18H-cJwJY6lg",
        "outputId": "955c2738-b8f7-46cd-ee89-528e4a9c4f7b"
      },
      "execution_count": 91,
      "outputs": [
        {
          "output_type": "execute_result",
          "data": {
            "text/plain": [
              "['What do you learn? I learn python']"
            ]
          },
          "metadata": {},
          "execution_count": 91
        }
      ]
    },
    {
      "cell_type": "markdown",
      "source": [
        "# Using Regular Expression"
      ],
      "metadata": {
        "id": "_IFBDHFDZQs1"
      }
    },
    {
      "cell_type": "code",
      "source": [
        "re.findall('[\\w]+','I am going to kill you!')"
      ],
      "metadata": {
        "colab": {
          "base_uri": "https://localhost:8080/"
        },
        "id": "dTDc7w7eZUED",
        "outputId": "2775214b-16ad-4db9-d737-bdbffdd78ade"
      },
      "execution_count": 95,
      "outputs": [
        {
          "output_type": "execute_result",
          "data": {
            "text/plain": [
              "['I', 'am', 'going', 'to', 'kill', 'you']"
            ]
          },
          "metadata": {},
          "execution_count": 95
        }
      ]
    },
    {
      "cell_type": "code",
      "source": [
        "re.compile('[.,?!\\']').split(\"are you sure?no!okay let us talk,chill\")"
      ],
      "metadata": {
        "colab": {
          "base_uri": "https://localhost:8080/"
        },
        "id": "WdLuF7kmZ7pQ",
        "outputId": "1b23da36-619b-4b91-be70-c32a9d6e3ba8"
      },
      "execution_count": 99,
      "outputs": [
        {
          "output_type": "execute_result",
          "data": {
            "text/plain": [
              "['are you sure', 'no', 'okay let us talk', 'chill']"
            ]
          },
          "metadata": {},
          "execution_count": 99
        }
      ]
    },
    {
      "cell_type": "markdown",
      "source": [
        "# Using ``` NLTK``` libray"
      ],
      "metadata": {
        "id": "d31Lme07bTkt"
      }
    },
    {
      "cell_type": "code",
      "source": [
        "import nltk\n",
        "nltk.download('punkt')\n",
        ""
      ],
      "metadata": {
        "colab": {
          "base_uri": "https://localhost:8080/"
        },
        "id": "MxUpJnAQb0lE",
        "outputId": "bcfe9883-f39f-4957-870b-e741816ac5b4"
      },
      "execution_count": 102,
      "outputs": [
        {
          "output_type": "stream",
          "name": "stderr",
          "text": [
            "[nltk_data] Downloading package punkt to /root/nltk_data...\n",
            "[nltk_data]   Unzipping tokenizers/punkt.zip.\n"
          ]
        },
        {
          "output_type": "execute_result",
          "data": {
            "text/plain": [
              "True"
            ]
          },
          "metadata": {},
          "execution_count": 102
        }
      ]
    },
    {
      "cell_type": "code",
      "source": [
        "from nltk.tokenize import word_tokenize,sent_tokenize"
      ],
      "metadata": {
        "id": "BZ0ko53TbSGS"
      },
      "execution_count": 103,
      "outputs": []
    },
    {
      "cell_type": "code",
      "source": [
        "word_tokenize(\"I am going to kill you!\")"
      ],
      "metadata": {
        "colab": {
          "base_uri": "https://localhost:8080/"
        },
        "id": "pfhGHVHTblGA",
        "outputId": "da61a767-1d57-4602-86ac-1ecaee65853c"
      },
      "execution_count": 104,
      "outputs": [
        {
          "output_type": "execute_result",
          "data": {
            "text/plain": [
              "['I', 'am', 'going', 'to', 'kill', 'you', '!']"
            ]
          },
          "metadata": {},
          "execution_count": 104
        }
      ]
    },
    {
      "cell_type": "code",
      "source": [
        "sent_tokenize(\"are you sure? no! okay let us talk, chill\")"
      ],
      "metadata": {
        "colab": {
          "base_uri": "https://localhost:8080/"
        },
        "id": "h9OaUh8icHO9",
        "outputId": "d6ee32eb-8371-487a-bc17-afc0ade31835"
      },
      "execution_count": 106,
      "outputs": [
        {
          "output_type": "execute_result",
          "data": {
            "text/plain": [
              "['are you sure?', 'no!', 'okay let us talk, chill']"
            ]
          },
          "metadata": {},
          "execution_count": 106
        }
      ]
    },
    {
      "cell_type": "code",
      "source": [
        "word_tokenize(\"this costs $10.8\")"
      ],
      "metadata": {
        "colab": {
          "base_uri": "https://localhost:8080/"
        },
        "id": "pZijKiMNcci_",
        "outputId": "baa2b8d7-8b9d-4be8-8364-61454933bb10"
      },
      "execution_count": 108,
      "outputs": [
        {
          "output_type": "execute_result",
          "data": {
            "text/plain": [
              "['this', 'costs', '$', '10.8']"
            ]
          },
          "metadata": {},
          "execution_count": 108
        }
      ]
    },
    {
      "cell_type": "code",
      "source": [
        "word_tokenize(\"I have a PhD in A.I\")"
      ],
      "metadata": {
        "colab": {
          "base_uri": "https://localhost:8080/"
        },
        "id": "0ggvxePFcrqo",
        "outputId": "5115fcdb-ede5-4d4a-cfe5-0760baaaabac"
      },
      "execution_count": 109,
      "outputs": [
        {
          "output_type": "execute_result",
          "data": {
            "text/plain": [
              "['I', 'have', 'a', 'PhD', 'in', 'A.I']"
            ]
          },
          "metadata": {},
          "execution_count": 109
        }
      ]
    },
    {
      "cell_type": "markdown",
      "source": [
        "## Using ```Spacy``` libray.\n",
        "this is the best approach"
      ],
      "metadata": {
        "id": "sS6OSynqdD-2"
      }
    },
    {
      "cell_type": "code",
      "source": [
        "import spacy\n",
        "nlp=spacy.load(\"en_core_web_sm\")"
      ],
      "metadata": {
        "id": "BCBCOVNsdMZY"
      },
      "execution_count": 111,
      "outputs": []
    },
    {
      "cell_type": "code",
      "source": [
        "doc=nlp('I have a Ph.d in A.I from U.S.A! jewelbutex12@gmail.com')\n",
        "for token in doc:\n",
        "  print(token)"
      ],
      "metadata": {
        "colab": {
          "base_uri": "https://localhost:8080/"
        },
        "id": "QXviX_n7dc5T",
        "outputId": "5c657e8f-1286-445b-e3e9-7f5a07163fe8"
      },
      "execution_count": 116,
      "outputs": [
        {
          "output_type": "stream",
          "name": "stdout",
          "text": [
            "I\n",
            "have\n",
            "a\n",
            "Ph.d\n",
            "in\n",
            "A.I\n",
            "from\n",
            "U.S.A\n",
            "!\n",
            "jewelbutex12@gmail.com\n"
          ]
        }
      ]
    },
    {
      "cell_type": "markdown",
      "source": [
        "# Inflection\n",
        "In grammer, inflection is the modification of a word to express different grammatical categories such as tense, case, voice, aspect, number, gender, mode."
      ],
      "metadata": {
        "id": "be0uRq0nevDA"
      }
    },
    {
      "cell_type": "markdown",
      "source": [
        "# Stemming\n",
        "this is the process of reducing inflection in words to their root forms such as mapping a group of words to the same stem even if the stem itself is not a valid word in the language."
      ],
      "metadata": {
        "id": "bDKbDsyqf-xO"
      }
    },
    {
      "cell_type": "markdown",
      "source": [
        "# stemming using ```NLTK``` library"
      ],
      "metadata": {
        "id": "zi2zfkiMgnow"
      }
    },
    {
      "cell_type": "code",
      "source": [
        "from nltk.stem.porter import PorterStemmer"
      ],
      "metadata": {
        "id": "WFSfpDP7guuf"
      },
      "execution_count": 117,
      "outputs": []
    },
    {
      "cell_type": "code",
      "source": [
        "ps= PorterStemmer()\n",
        "def stem_word(text):\n",
        "   return ' '.join([ps.stem(word) for word in text.split()])"
      ],
      "metadata": {
        "id": "C1_B1JZZeuqa"
      },
      "execution_count": 118,
      "outputs": []
    },
    {
      "cell_type": "code",
      "source": [
        "stem_word('walk walking walked walks')"
      ],
      "metadata": {
        "colab": {
          "base_uri": "https://localhost:8080/",
          "height": 35
        },
        "id": "yBmPjWNRhI9n",
        "outputId": "bcdd4762-43fa-423d-ee5d-f8d10acc1a27"
      },
      "execution_count": 119,
      "outputs": [
        {
          "output_type": "execute_result",
          "data": {
            "text/plain": [
              "'walk walk walk walk'"
            ],
            "application/vnd.google.colaboratory.intrinsic+json": {
              "type": "string"
            }
          },
          "metadata": {},
          "execution_count": 119
        }
      ]
    },
    {
      "cell_type": "code",
      "source": [
        "ps.stem(\"probably\") # not a english word. problem of stemming"
      ],
      "metadata": {
        "colab": {
          "base_uri": "https://localhost:8080/",
          "height": 35
        },
        "id": "lhMjf1T0htHs",
        "outputId": "e3d30bea-5c9c-48b8-aa58-641e84bcacc1"
      },
      "execution_count": 120,
      "outputs": [
        {
          "output_type": "execute_result",
          "data": {
            "text/plain": [
              "'probabl'"
            ],
            "application/vnd.google.colaboratory.intrinsic+json": {
              "type": "string"
            }
          },
          "metadata": {},
          "execution_count": 120
        }
      ]
    },
    {
      "cell_type": "markdown",
      "source": [
        "# Lemmatization\n",
        "unlike Stemming, reduces the inflected words properly ensuring that the root word belongs to the language. In Lemmatization root word is called **Lemma**. A lemma is the canonical form, dictionary form or citation form of a set of words."
      ],
      "metadata": {
        "id": "inxWF3IYix4E"
      }
    },
    {
      "cell_type": "code",
      "source": [
        "from nltk.stem import WordNetLemmatizer\n",
        "nltk.download('wordnet')\n",
        "wordnet_lemma=WordNetLemmatizer()"
      ],
      "metadata": {
        "colab": {
          "base_uri": "https://localhost:8080/"
        },
        "id": "IsJJTFvviwVj",
        "outputId": "7d6f8675-5aeb-496f-8a6a-512dd8630d4e"
      },
      "execution_count": 123,
      "outputs": [
        {
          "output_type": "stream",
          "name": "stderr",
          "text": [
            "[nltk_data] Downloading package wordnet to /root/nltk_data...\n"
          ]
        }
      ]
    },
    {
      "cell_type": "code",
      "source": [
        "wordnet_lemma.lemmatize(\"walked\",pos='v')"
      ],
      "metadata": {
        "colab": {
          "base_uri": "https://localhost:8080/",
          "height": 35
        },
        "id": "B3BY09lykI_C",
        "outputId": "4ef04eb8-8ea9-4fce-bcef-c0168c9f83c5"
      },
      "execution_count": 130,
      "outputs": [
        {
          "output_type": "execute_result",
          "data": {
            "text/plain": [
              "'walk'"
            ],
            "application/vnd.google.colaboratory.intrinsic+json": {
              "type": "string"
            }
          },
          "metadata": {},
          "execution_count": 130
        }
      ]
    },
    {
      "cell_type": "markdown",
      "source": [
        "# Some more example of Stemming"
      ],
      "metadata": {
        "id": "wXVZnmq-nPKk"
      }
    },
    {
      "cell_type": "code",
      "source": [
        "example_words = [\"program\",\"programming\",\"programer\",\"programs\",\"programmed\"]\n",
        "print(\"{0:20}{1:20}\".format(\"--word--\",\"--stem--\"))\n",
        "for word in example_words:\n",
        "    print(\"{0:20}{1:20}\".format(word,ps.stem(word)))\n"
      ],
      "metadata": {
        "colab": {
          "base_uri": "https://localhost:8080/"
        },
        "id": "CESephhElI7u",
        "outputId": "aa4112d2-fa9e-483b-df33-003934e96608"
      },
      "execution_count": 132,
      "outputs": [
        {
          "output_type": "stream",
          "name": "stdout",
          "text": [
            "--word--            --stem--            \n",
            "program             program             \n",
            "programming         program             \n",
            "programer           program             \n",
            "programs            program             \n",
            "programmed          program             \n"
          ]
        }
      ]
    },
    {
      "cell_type": "code",
      "source": [
        "example_sentence = \"Python programmers often tend like programming in python because it's like english. We call people who program in python pythonistas.\"\n",
        "# Remove punctuation\n",
        "example_sentence_no_punct=example_sentence.translate(str.maketrans('','',string.punctuation))\n",
        "# create tokens\n",
        "word_tokens= word_tokenize(example_sentence_no_punct)\n",
        "word_tokens\n"
      ],
      "metadata": {
        "colab": {
          "base_uri": "https://localhost:8080/"
        },
        "id": "ci2kpUPBmJFd",
        "outputId": "6af61f14-7a3c-4aee-80f5-b0b68438a708"
      },
      "execution_count": 133,
      "outputs": [
        {
          "output_type": "execute_result",
          "data": {
            "text/plain": [
              "['Python',\n",
              " 'programmers',\n",
              " 'often',\n",
              " 'tend',\n",
              " 'like',\n",
              " 'programming',\n",
              " 'in',\n",
              " 'python',\n",
              " 'because',\n",
              " 'its',\n",
              " 'like',\n",
              " 'english',\n",
              " 'We',\n",
              " 'call',\n",
              " 'people',\n",
              " 'who',\n",
              " 'program',\n",
              " 'in',\n",
              " 'python',\n",
              " 'pythonistas']"
            ]
          },
          "metadata": {},
          "execution_count": 133
        }
      ]
    },
    {
      "cell_type": "code",
      "source": [
        "print(\"{0:20}{1:20}\".format(\"--word--\",\"--stem--\"))\n",
        "for word in word_tokens:\n",
        "    print(\"{0:20}{1:20}\".format(word,ps.stem(word)))"
      ],
      "metadata": {
        "colab": {
          "base_uri": "https://localhost:8080/"
        },
        "id": "IblffKFwm61R",
        "outputId": "22367186-7c12-4b82-a05d-3314eac6bb50"
      },
      "execution_count": 138,
      "outputs": [
        {
          "output_type": "stream",
          "name": "stdout",
          "text": [
            "--word--            --stem--            \n",
            "Python              python              \n",
            "programmers         programm            \n",
            "often               often               \n",
            "tend                tend                \n",
            "like                like                \n",
            "programming         program             \n",
            "in                  in                  \n",
            "python              python              \n",
            "because             becaus              \n",
            "its                 it                  \n",
            "like                like                \n",
            "english             english             \n",
            "We                  we                  \n",
            "call                call                \n",
            "people              peopl               \n",
            "who                 who                 \n",
            "program             program             \n",
            "in                  in                  \n",
            "python              python              \n",
            "pythonistas         pythonista          \n"
          ]
        }
      ]
    },
    {
      "cell_type": "markdown",
      "source": [
        "# Some more Example of Lemmatization"
      ],
      "metadata": {
        "id": "FZc2mbJAnT4L"
      }
    },
    {
      "cell_type": "code",
      "source": [
        "from nltk.stem import WordNetLemmatizer\n",
        "wnl=WordNetLemmatizer()\n"
      ],
      "metadata": {
        "id": "XtH1AQNinXoe"
      },
      "execution_count": 135,
      "outputs": []
    },
    {
      "cell_type": "code",
      "source": [
        "print(\"{0:20}{1:20}\".format(\"--word--\",\"--stem--\"))\n",
        "for word in example_words:\n",
        "    print(\"{0:20}{1:20}\".format(word,wnl.lemmatize(word,pos='v')))"
      ],
      "metadata": {
        "colab": {
          "base_uri": "https://localhost:8080/"
        },
        "id": "avx7lYt_n6Ub",
        "outputId": "cc978990-8bdd-4774-bb7f-1607a51fdb4d"
      },
      "execution_count": 137,
      "outputs": [
        {
          "output_type": "stream",
          "name": "stdout",
          "text": [
            "--word--            --stem--            \n",
            "program             program             \n",
            "programming         program             \n",
            "programer           programer           \n",
            "programs            program             \n",
            "programmed          program             \n"
          ]
        }
      ]
    },
    {
      "cell_type": "code",
      "source": [
        "print(\"{0:20}{1:20}\".format(\"--word--\",\"--stem--\"))\n",
        "for word in word_tokens:\n",
        "    print(\"{0:20}{1:20}\".format(word,wnl.lemmatize(word,pos='v')))"
      ],
      "metadata": {
        "colab": {
          "base_uri": "https://localhost:8080/"
        },
        "id": "874XnuiFoNoF",
        "outputId": "afb2baae-492d-4e8c-a1f8-2c18fc90a2b4"
      },
      "execution_count": 139,
      "outputs": [
        {
          "output_type": "stream",
          "name": "stdout",
          "text": [
            "--word--            --stem--            \n",
            "Python              Python              \n",
            "programmers         programmers         \n",
            "often               often               \n",
            "tend                tend                \n",
            "like                like                \n",
            "programming         program             \n",
            "in                  in                  \n",
            "python              python              \n",
            "because             because             \n",
            "its                 its                 \n",
            "like                like                \n",
            "english             english             \n",
            "We                  We                  \n",
            "call                call                \n",
            "people              people              \n",
            "who                 who                 \n",
            "program             program             \n",
            "in                  in                  \n",
            "python              python              \n",
            "pythonistas         pythonistas         \n"
          ]
        }
      ]
    }
  ]
}