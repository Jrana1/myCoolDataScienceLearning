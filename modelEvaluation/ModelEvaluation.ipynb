{
 "cells": [
  {
   "cell_type": "markdown",
   "id": "539ce169",
   "metadata": {},
   "source": [
    "<h1 style=\"color:blue;text-align:center\">Model Evaluation</h1>"
   ]
  },
  {
   "cell_type": "markdown",
   "id": "90e38767",
   "metadata": {},
   "source": [
    "# Learning Objectives\n",
    "  + Model Evaluation\n",
    "  + Over-fitting, Unter-fitting mand Model Selection\n",
    "  + Ridge Regression\n",
    "  + Grid Search\n",
    "  + Question\n",
    "    + How can we be certain our model works in the real world and performs optimally?"
   ]
  },
  {
   "cell_type": "markdown",
   "id": "3b2f22cc",
   "metadata": {},
   "source": [
    "## Model Evaluation\n",
    "   + it tells us how our model performs in real world.\n",
    "   + In-Sample evaluation tells us how well our model will fit the data used to train it.\n",
    "   + problem?\n",
    "     + it does not tell us how well the trained model can be used to predict new data.\n",
    "   + Sulution?\n",
    "     + In-sample data or training data.\n",
    "     + Out-of-sample evaluation or test set\n",
    "   "
   ]
  },
  {
   "cell_type": "markdown",
   "id": "fceba7b0",
   "metadata": {},
   "source": [
    "## Training/Testing Sets\n",
    " + Split dataset into:\n",
    "     + Trainging set(70%)\n",
    "     + Testing set(30%)\n",
    " + Build and train the model with a training set.\n",
    " + Use testing set to assess the performance of a predictive model"
   ]
  },
  {
   "cell_type": "markdown",
   "id": "33dce443",
   "metadata": {},
   "source": [
    "## Function <code style=\"color:red\">train_test_split()</code>\n",
    "+ split data into random train and test subset"
   ]
  },
  {
   "cell_type": "code",
   "execution_count": null,
   "id": "40a5c4ec",
   "metadata": {},
   "outputs": [],
   "source": [
    "from sklearn.model_selection import train_test_split\n",
    "x_train,x_test,y_train,y_test = train_test_split(x_data,y_data,test_size=0.3,random_state=0)"
   ]
  },
  {
   "cell_type": "markdown",
   "id": "b895f7e8",
   "metadata": {},
   "source": [
    "+ **x_data**: featurs or independent variables\n",
    "+ **y_data**: dataset target variable\n",
    "+ **x_train, y_train**: parts of available data as training set\n",
    "+ **x_test, y_test**: parts of available data as testing set\n",
    "+ **test_size**: percentage of data for testing(here 70% data will be used model training and 30% for testing)\n",
    "+ **random_state**: number generator used for random sampling"
   ]
  },
  {
   "cell_type": "markdown",
   "id": "82e355d7",
   "metadata": {},
   "source": [
    "## Generalization Performance\n",
    "+ Generalization error is measure of how well our data does at predicting perviously unseen data.\n",
    "+ The error we obtain using our testing data is an approximation of this error."
   ]
  },
  {
   "cell_type": "markdown",
   "id": "d4768a01",
   "metadata": {},
   "source": [
    "## Cross Validation\n",
    "+ Most common out-of-sample evaluation metrics\n",
    "+ More effective use of data(each observation is used for both training and testing)"
   ]
  },
  {
   "cell_type": "markdown",
   "id": "541931fe",
   "metadata": {},
   "source": [
    "<h2> first partition</h2>\n",
    "<div style=\"display: flex;\">\n",
    "          <div style=\"padding: 10px; border: 1px solid black; background-color: yellow;\">training</div>\n",
    "          <div style=\"padding: 10px; border: 1px solid black; background-color: yellow;\">training</div>\n",
    "          <div style=\"padding: 10px; border: 1px solid black; background-color: yellow;\">training</div>\n",
    "          <div style=\"padding: 10px; border: 1px solid black; background-color: blue;\">testing</div>\n",
    "</div>\n",
    "<h2> second partition</h2>\n",
    "<div style=\"display: flex;\">\n",
    "          <div style=\"padding: 10px; border: 1px solid black; background-color: yellow;\">training</div>\n",
    "          <div style=\"padding: 10px; border: 1px solid black; background-color: yellow;\">training</div>\n",
    "          <div style=\"padding: 10px; border: 1px solid black; background-color: blue;\">testing</div>\n",
    "          <div style=\"padding: 10px; border: 1px solid black; background-color: yellow;\">training</div>\n",
    "</div>\n",
    "....</br>\n",
    "<h2> last partition</h2>\n",
    "<div style=\"display: flex;\">\n",
    "          <div style=\"padding: 10px; border: 1px solid black; background-color: blue;\">testing</div>\n",
    "          <div style=\"padding: 10px; border: 1px solid black; background-color: yellow;\">training</div>\n",
    "          <div style=\"padding: 10px; border: 1px solid black; background-color: yellow;\">training</div>\n",
    "          <div style=\"padding: 10px; border: 1px solid black; background-color: yellow;\">training</div>\n",
    "</div>\n",
    "**each block is called fold**"
   ]
  },
  {
   "cell_type": "markdown",
   "id": "4641dd76",
   "metadata": {},
   "source": [
    "## Function <code style=\"color:red\">cross_val_score()</code> \n",
    "+ this function is used to apply **cross-validation**"
   ]
  },
  {
   "cell_type": "code",
   "execution_count": null,
   "id": "1516de8a",
   "metadata": {},
   "outputs": [],
   "source": [
    "from sklearn.model_selection import cross_val_score\n",
    "scores = cross_val_score(lr,x_data,y_data,cv=3)\n",
    "np.mean(scores)"
   ]
  },
  {
   "cell_type": "markdown",
   "id": "a0ea4844",
   "metadata": {},
   "source": [
    "+ lr is an object of **Linear Regresson**\n",
    "+ cv=3 means 3 partition of equals folds\n",
    "+ the function returns an array of scores, one for each partition that was choosen as the testing set.\n",
    "+ we can avarage the result together to estimate **out-of-sample R-squared**  using the mean function in **Numpy**"
   ]
  },
  {
   "cell_type": "markdown",
   "id": "3d12d23d",
   "metadata": {},
   "source": [
    "## for each partition -> model -> $R^2=\\left(1-\\frac{\\text{MSE of regression line}}{\\text{MSE of } \\overline{y}}\\right)$ ->mean(scores)"
   ]
  },
  {
   "cell_type": "markdown",
   "id": "cf08ba7d",
   "metadata": {},
   "source": [
    "## Function <code style='color:red'>cross_val_predict()</code>\n",
    "+ what if we want to know the actual predicted values supplied by our model before the **R-squared** vales are calculated.\n",
    "+ this function returns the prediction that was obtained for each element when it was in the test set.\n",
    "+ it has similar interface to <code style=\"color:red\">cross_val_score()</code>"
   ]
  },
  {
   "cell_type": "code",
   "execution_count": null,
   "id": "f882d60b",
   "metadata": {},
   "outputs": [],
   "source": [
    "from sklearn.model_selection import cross_val_score\n",
    "yhat = cross_val_score(lr2e, x_data, y_data, cv=3) # here the output is a prediction"
   ]
  },
  {
   "cell_type": "markdown",
   "id": "c3aac4b7",
   "metadata": {},
   "source": [
    "## Overfit, Underfit & Balanced fit"
   ]
  },
  {
   "cell_type": "markdown",
   "id": "f89bfaf0",
   "metadata": {},
   "source": [
    "![](https://miro.medium.com/v2/resize:fit:1400/1*9hPX9pAO3jqLrzt0IE3JzA.png)\n",
    "![](https://miro.medium.com/v2/resize:fit:1192/1*JzqZ0OtLqKFzsAVWYP-DBg.png)"
   ]
  },
  {
   "cell_type": "markdown",
   "id": "85f60138",
   "metadata": {},
   "source": [
    "![](s3.png)"
   ]
  },
  {
   "cell_type": "markdown",
   "id": "ea090180",
   "metadata": {},
   "source": [
    "![](s4.png)"
   ]
  },
  {
   "cell_type": "markdown",
   "id": "3d7d0237",
   "metadata": {},
   "source": [
    "![](s5.png)"
   ]
  },
  {
   "cell_type": "markdown",
   "id": "f75f8f29",
   "metadata": {},
   "source": [
    "![](s6.png)"
   ]
  },
  {
   "cell_type": "markdown",
   "id": "7cc2b4e1",
   "metadata": {},
   "source": [
    "![](s7.png)"
   ]
  },
  {
   "cell_type": "markdown",
   "id": "ca86a82c",
   "metadata": {},
   "source": [
    "# Ridge Regression\n",
    "+ to prevent over-fitting"
   ]
  }
 ],
 "metadata": {
  "kernelspec": {
   "display_name": "Python 3 (ipykernel)",
   "language": "python",
   "name": "python3"
  },
  "language_info": {
   "codemirror_mode": {
    "name": "ipython",
    "version": 3
   },
   "file_extension": ".py",
   "mimetype": "text/x-python",
   "name": "python",
   "nbconvert_exporter": "python",
   "pygments_lexer": "ipython3",
   "version": "3.9.13"
  }
 },
 "nbformat": 4,
 "nbformat_minor": 5
}
